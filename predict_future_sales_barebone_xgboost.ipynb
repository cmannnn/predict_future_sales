{
  "nbformat": 4,
  "nbformat_minor": 0,
  "metadata": {
    "accelerator": "TPU",
    "colab": {
      "name": "predict_future_sales_barebone_xgboost.ipynb",
      "provenance": [],
      "collapsed_sections": [
        "U4SoFslGfRpJ",
        "YTz2gMkTrh2Y",
        "MchAi0wABchP"
      ],
      "include_colab_link": true
    },
    "kernelspec": {
      "name": "python391jvsc74a57bd0aca4ec7676092e448685212da83fc4172b298b558ddb6a4fc8a06801c652cdd4",
      "display_name": "Python 3.9.1 64-bit"
    },
    "language_info": {
      "codemirror_mode": {
        "name": "ipython",
        "version": 3
      },
      "file_extension": ".py",
      "mimetype": "text/x-python",
      "name": "python",
      "nbconvert_exporter": "python",
      "pygments_lexer": "ipython3",
      "version": "3.9.1"
    },
    "toc-autonumbering": true
  },
  "cells": [
    {
      "cell_type": "markdown",
      "metadata": {
        "id": "view-in-github",
        "colab_type": "text"
      },
      "source": [
        "<a href=\"https://colab.research.google.com/github/cmannnn/predict_future_sales/blob/barebone_xgboost/predict_future_sales_barebone_xgboost.ipynb\" target=\"_parent\"><img src=\"https://colab.research.google.com/assets/colab-badge.svg\" alt=\"Open In Colab\"/></a>"
      ]
    },
    {
      "cell_type": "markdown",
      "metadata": {
        "id": "U4SoFslGfRpJ"
      },
      "source": [
        "# Predict Future Sales"
      ]
    },
    {
      "cell_type": "markdown",
      "metadata": {
        "id": "j-UxcjnUffCN"
      },
      "source": [
        "# Imports and uploads"
      ]
    },
    {
      "cell_type": "code",
      "metadata": {
        "id": "XTSLNlmdd5lX"
      },
      "source": [
        "# imports\n",
        "import os\n",
        "\n",
        "import gc\n",
        "\n",
        "import time\n",
        "\n",
        "import datetime as dt\n",
        "\n",
        "import pandas as pd\n",
        "import matplotlib.pyplot as plt\n",
        "import numpy as np\n",
        "import seaborn as sns\n",
        "#import tensorflow as tf\n",
        "\n",
        "\n",
        "#import specific sklearn packages\n",
        "from sklearn.model_selection import train_test_split\n",
        "from sklearn.model_selection import TimeSeriesSplit\n",
        "from sklearn.model_selection import StratifiedKFold\n",
        "from sklearn.model_selection import RandomizedSearchCV\n",
        "\n",
        "#encoders, tested several of them\n",
        "from sklearn.preprocessing import OrdinalEncoder # remove later, don't use this\n",
        "from sklearn.preprocessing import LabelEncoder # remove later, don't use this\n",
        "from sklearn.preprocessing import OneHotEncoder # probably don't use this, instead use pd.get_dummies\n",
        "from sklearn.feature_extraction import FeatureHasher\n",
        "\n",
        "from sklearn.preprocessing import MinMaxScaler\n",
        "from sklearn.preprocessing import StandardScaler\n",
        "\n",
        "from sklearn.feature_selection import VarianceThreshold\n",
        "\n",
        "from sklearn.metrics import classification_report\n",
        "from sklearn.metrics import confusion_matrix\n",
        "\n",
        "from sklearn.pipeline import make_pipeline\n",
        "\n",
        "\n",
        "from sklearn.cluster import KMeans\n",
        "\n",
        "from sklearn.linear_model import LogisticRegression\n",
        "\n",
        "from sklearn import linear_model\n",
        "\n",
        "from sklearn.ensemble import AdaBoostRegressor\n",
        "from sklearn.ensemble import RandomForestRegressor\n",
        "\n",
        "from xgboost import XGBRegressor\n",
        "from xgboost import plot_importance\n",
        "\n",
        "\n",
        "# root path for running on Google Colab\n",
        "root_path = 'drive/MyDrive/Camp Jupyter/predict_future_sales_data/kaggle_data/'"
      ],
      "execution_count": null,
      "outputs": []
    },
    {
      "cell_type": "code",
      "metadata": {
        "colab": {
          "base_uri": "https://localhost:8080/"
        },
        "id": "kxWdzhV0bi3i",
        "outputId": "8a2387af-8b69-4b3a-ae54-175a22e15186"
      },
      "source": [
        "# Google Colab mount - don't run this when running locally\n",
        "from google.colab import drive\n",
        "drive.mount('/content/drive')"
      ],
      "execution_count": null,
      "outputs": [
        {
          "output_type": "stream",
          "text": [
            "Mounted at /content/drive\n"
          ],
          "name": "stdout"
        }
      ]
    },
    {
      "cell_type": "markdown",
      "metadata": {
        "id": "4mY4s3UubFhz"
      },
      "source": [
        "# Importing All Predict Sales Data"
      ]
    },
    {
      "cell_type": "code",
      "metadata": {
        "id": "CwqnebRuocPf"
      },
      "source": [
        "#importing all the data frames\n",
        "\n",
        "\n",
        "\n",
        "# root path for running locally\n",
        "# sumeet root_path\n",
        "#root_path='./'\n",
        "# chris root_path\n",
        "#root_path = '/Users/cman/Desktop/商务/datasets/predict_future_sales/'\n",
        "\n",
        "itemcats_df = pd.read_csv(root_path+\"item_categories.csv\", encoding= 'unicode_escape') #Item Categories\n",
        "items_df = pd.read_csv(root_path+\"items.csv\", encoding= 'unicode_escape') # Items\n",
        "salestrain_df = pd.read_csv(root_path+\"sales_train.csv\", encoding= 'unicode_escape') #Sales Data - Training\n",
        "salestrain_df.date = pd.to_datetime(salestrain_df.date)\n",
        "shops_df = pd.read_csv(root_path+\"shops.csv\", encoding= 'unicode_escape') # Shops\n",
        "usd_rus_df = pd.read_csv(root_path+'USD-RUS.csv')\n",
        "usd_rus_df.Date = pd.to_datetime(usd_rus_df.Date)\n",
        "\n",
        "# sample submission dataframe\n",
        "sample_df = pd.read_csv(root_path+'sample_submission.csv')\n",
        "\n",
        "# test data frame\n",
        "test_df = pd.read_csv(root_path+'test.csv')"
      ],
      "execution_count": null,
      "outputs": []
    },
    {
      "cell_type": "code",
      "metadata": {
        "id": "jtjsH1gxArmn"
      },
      "source": [
        "# combining training dataframes into master training set\n",
        "salestrain_df_combined = salestrain_df.merge(items_df, on = 'item_id')\n",
        "salestrain_df_combined = salestrain_df_combined.merge(itemcats_df, on = 'item_category_id')\n",
        "salestrain_df_combined = salestrain_df_combined.merge(shops_df, on = 'shop_id')\n",
        "\n",
        "# adding features for separating date\n",
        "salestrain_df_combined['year'] = salestrain_df_combined.date.dt.year\n",
        "salestrain_df_combined['month'] = salestrain_df_combined.date.dt.month\n",
        "salestrain_df_combined['day'] = salestrain_df_combined.date.dt.day\n",
        "\n",
        "# adding revenue column\n",
        "salestrain_df_combined['revenue'] = salestrain_df_combined.item_price * salestrain_df_combined.item_cnt_day\n",
        "\n",
        "# adding a random feature\n",
        "salestrain_df_combined['Random'] = salestrain_df_combined.apply(lambda x: np.random.randint(100),axis = 'columns')\n",
        "\n",
        "# creating a new feature: 'month-year'\n",
        "salestrain_df_combined['month-year'] = salestrain_df_combined['date'].apply(lambda x: str(x.month) + '-' + str(x.year) if x.month >= 10 else '0' + str(x.month) + '-' + str(x.year)) "
      ],
      "execution_count": null,
      "outputs": []
    },
    {
      "cell_type": "markdown",
      "metadata": {
        "id": "WfIJHpr9fJRC"
      },
      "source": [
        "##Merging USD - RUS currency conversion to salestrain_df_combined"
      ]
    },
    {
      "cell_type": "code",
      "metadata": {
        "id": "BCTzhjvHMPpm"
      },
      "source": [
        "# merging exchange rate data to master dataframe\n",
        "salestrain_df_combined = salestrain_df_combined.merge(usd_rus_df[['Date','Open']], left_on = 'date', right_on = 'Date')"
      ],
      "execution_count": null,
      "outputs": []
    },
    {
      "cell_type": "code",
      "metadata": {
        "id": "lThqfMt7MgO4"
      },
      "source": [
        "# dropping the duplicated date col from \n",
        "salestrain_df_combined.drop(['Date'], axis = 'columns', inplace = True)"
      ],
      "execution_count": null,
      "outputs": []
    },
    {
      "cell_type": "code",
      "metadata": {
        "id": "Win4oHjtOmQA"
      },
      "source": [
        "# renaming the 'Open' col to 'USD_RUS' from the USD RUS conversion dataframe\n",
        "salestrain_df_combined.rename({'Open':'USD_RUS'}, axis = 'columns', inplace = True)"
      ],
      "execution_count": null,
      "outputs": []
    },
    {
      "cell_type": "code",
      "metadata": {
        "id": "vZBSL0cBM35Z"
      },
      "source": [
        "# caltulating the price based on the conversion rate\n",
        "salestrain_df_combined['USD_Price'] = salestrain_df_combined['item_price'] / salestrain_df_combined['USD_RUS']"
      ],
      "execution_count": null,
      "outputs": []
    },
    {
      "cell_type": "code",
      "metadata": {
        "colab": {
          "base_uri": "https://localhost:8080/",
          "height": 210
        },
        "id": "lnXOb0_hEDGg",
        "outputId": "ff8ccf1c-a25e-491d-cb4b-9f94a183c7df"
      },
      "source": [
        "# checking the df head\n",
        "salestrain_df_combined.head(3)"
      ],
      "execution_count": null,
      "outputs": [
        {
          "output_type": "execute_result",
          "data": {
            "text/html": [
              "<div>\n",
              "<style scoped>\n",
              "    .dataframe tbody tr th:only-of-type {\n",
              "        vertical-align: middle;\n",
              "    }\n",
              "\n",
              "    .dataframe tbody tr th {\n",
              "        vertical-align: top;\n",
              "    }\n",
              "\n",
              "    .dataframe thead th {\n",
              "        text-align: right;\n",
              "    }\n",
              "</style>\n",
              "<table border=\"1\" class=\"dataframe\">\n",
              "  <thead>\n",
              "    <tr style=\"text-align: right;\">\n",
              "      <th></th>\n",
              "      <th>date</th>\n",
              "      <th>date_block_num</th>\n",
              "      <th>shop_id</th>\n",
              "      <th>item_id</th>\n",
              "      <th>item_price</th>\n",
              "      <th>item_cnt_day</th>\n",
              "      <th>item_name</th>\n",
              "      <th>item_category_id</th>\n",
              "      <th>item_category_name</th>\n",
              "      <th>shop_name</th>\n",
              "      <th>year</th>\n",
              "      <th>month</th>\n",
              "      <th>day</th>\n",
              "      <th>revenue</th>\n",
              "      <th>Random</th>\n",
              "      <th>month-year</th>\n",
              "      <th>USD_RUS</th>\n",
              "      <th>USD_Price</th>\n",
              "    </tr>\n",
              "  </thead>\n",
              "  <tbody>\n",
              "    <tr>\n",
              "      <th>0</th>\n",
              "      <td>2013-02-01</td>\n",
              "      <td>0</td>\n",
              "      <td>59</td>\n",
              "      <td>22154</td>\n",
              "      <td>999.00</td>\n",
              "      <td>1.0</td>\n",
              "      <td>Scene 2012 (BD)</td>\n",
              "      <td>37</td>\n",
              "      <td>Movie - Blu-Ray</td>\n",
              "      <td>Yaroslavl shopping center \"Altair\"</td>\n",
              "      <td>2013</td>\n",
              "      <td>2</td>\n",
              "      <td>1</td>\n",
              "      <td>999.00</td>\n",
              "      <td>51</td>\n",
              "      <td>02-2013</td>\n",
              "      <td>29.9816</td>\n",
              "      <td>33.320437</td>\n",
              "    </tr>\n",
              "    <tr>\n",
              "      <th>1</th>\n",
              "      <td>2013-02-01</td>\n",
              "      <td>0</td>\n",
              "      <td>59</td>\n",
              "      <td>17482</td>\n",
              "      <td>599.38</td>\n",
              "      <td>1.0</td>\n",
              "      <td>PROMETEY (BD)</td>\n",
              "      <td>37</td>\n",
              "      <td>Movie - Blu-Ray</td>\n",
              "      <td>Yaroslavl shopping center \"Altair\"</td>\n",
              "      <td>2013</td>\n",
              "      <td>2</td>\n",
              "      <td>1</td>\n",
              "      <td>599.38</td>\n",
              "      <td>51</td>\n",
              "      <td>02-2013</td>\n",
              "      <td>29.9816</td>\n",
              "      <td>19.991595</td>\n",
              "    </tr>\n",
              "    <tr>\n",
              "      <th>2</th>\n",
              "      <td>2013-02-01</td>\n",
              "      <td>0</td>\n",
              "      <td>59</td>\n",
              "      <td>16626</td>\n",
              "      <td>312.03</td>\n",
              "      <td>1.0</td>\n",
              "      <td>OPINION (BD)</td>\n",
              "      <td>37</td>\n",
              "      <td>Movie - Blu-Ray</td>\n",
              "      <td>Yaroslavl shopping center \"Altair\"</td>\n",
              "      <td>2013</td>\n",
              "      <td>2</td>\n",
              "      <td>1</td>\n",
              "      <td>312.03</td>\n",
              "      <td>30</td>\n",
              "      <td>02-2013</td>\n",
              "      <td>29.9816</td>\n",
              "      <td>10.407383</td>\n",
              "    </tr>\n",
              "  </tbody>\n",
              "</table>\n",
              "</div>"
            ],
            "text/plain": [
              "        date  date_block_num  shop_id  ...  month-year  USD_RUS  USD_Price\n",
              "0 2013-02-01               0       59  ...     02-2013  29.9816  33.320437\n",
              "1 2013-02-01               0       59  ...     02-2013  29.9816  19.991595\n",
              "2 2013-02-01               0       59  ...     02-2013  29.9816  10.407383\n",
              "\n",
              "[3 rows x 18 columns]"
            ]
          },
          "metadata": {
            "tags": []
          },
          "execution_count": 9
        }
      ]
    },
    {
      "cell_type": "markdown",
      "metadata": {
        "id": "V4QbrLayW_vO"
      },
      "source": [
        "## Remove Outliers above 600 sales per day"
      ]
    },
    {
      "cell_type": "code",
      "metadata": {
        "scrolled": true,
        "id": "smU5Iq29W_vO"
      },
      "source": [
        "for i in range(0,22):\n",
        "    print(i,len(salestrain_df_combined[salestrain_df_combined['item_cnt_day']> i * 100]))"
      ],
      "execution_count": null,
      "outputs": []
    },
    {
      "cell_type": "code",
      "metadata": {
        "id": "-Ov9C21rW_vP"
      },
      "source": [
        "#salestrain_df_combined = salestrain_df_combined[salestrain_df_combined['item_cnt_day'] <= 600]"
      ],
      "execution_count": null,
      "outputs": []
    },
    {
      "cell_type": "code",
      "metadata": {
        "id": "O5KRmzaatiqT"
      },
      "source": [
        "# creating 'month_id' col to enumerate month col\n",
        "salestrain_df_combined['month_id'] = (salestrain_df_combined['year'] - 2014) * 12 + salestrain_df_combined['month']"
      ],
      "execution_count": null,
      "outputs": []
    },
    {
      "cell_type": "markdown",
      "metadata": {
        "id": "I9_tqfMeS4mF"
      },
      "source": [
        "# Lagging Features"
      ]
    },
    {
      "cell_type": "markdown",
      "metadata": {
        "id": "epudGsi3S9Ww"
      },
      "source": [
        "*   Item Sales Lag (1, 2, 3, 6 , 12 months)\n",
        "*   Combination of Items and Shops\n",
        "*   Shop Sales Lag\n",
        "*   Shop-Category Lag"
      ]
    },
    {
      "cell_type": "markdown",
      "metadata": {
        "id": "hjnIPzoX91P_"
      },
      "source": [
        "## creating store_id + item_id based lag features"
      ]
    },
    {
      "cell_type": "code",
      "metadata": {
        "colab": {
          "base_uri": "https://localhost:8080/"
        },
        "id": "HL129Iut-ght",
        "outputId": "f1e456c7-e55d-483e-ac44-4a64795c8290"
      },
      "source": [
        "# checking col data types\n",
        "salestrain_df_combined.dtypes"
      ],
      "execution_count": null,
      "outputs": [
        {
          "output_type": "execute_result",
          "data": {
            "text/plain": [
              "date                  datetime64[ns]\n",
              "date_block_num                 int64\n",
              "shop_id                        int64\n",
              "item_id                        int64\n",
              "item_price                   float64\n",
              "item_cnt_day                 float64\n",
              "item_name                     object\n",
              "item_category_id               int64\n",
              "item_category_name            object\n",
              "shop_name                     object\n",
              "year                           int64\n",
              "month                          int64\n",
              "day                            int64\n",
              "revenue                      float64\n",
              "Random                         int64\n",
              "month-year                    object\n",
              "USD_RUS                      float64\n",
              "USD_Price                    float64\n",
              "month_id                       int64\n",
              "dtype: object"
            ]
          },
          "metadata": {
            "tags": []
          },
          "execution_count": 17
        }
      ]
    },
    {
      "cell_type": "code",
      "metadata": {
        "colab": {
          "base_uri": "https://localhost:8080/",
          "height": 1000
        },
        "id": "DtZoaCXz-mqf",
        "outputId": "456b29b8-2f15-46dd-d5cb-6f4084d1b490"
      },
      "source": [
        "# changing data types to save space\n",
        "salestrain_df_combined.astype({'date_block_num': 'int16', 'shop_id':'int16', 'item_id':'int16', 'item_price':'float16', 'item_cnt_day':'float16', \n",
        "                              'item_category_id':'int16', 'year':'int16', 'month':'int16', 'day':'int16', 'revenue':'float16', 'Random':'int16', \n",
        "                              'USD_RUS':'float16', 'USD_Price':'float16', 'month_id':'int16'})"
      ],
      "execution_count": null,
      "outputs": [
        {
          "output_type": "execute_result",
          "data": {
            "text/html": [
              "<div>\n",
              "<style scoped>\n",
              "    .dataframe tbody tr th:only-of-type {\n",
              "        vertical-align: middle;\n",
              "    }\n",
              "\n",
              "    .dataframe tbody tr th {\n",
              "        vertical-align: top;\n",
              "    }\n",
              "\n",
              "    .dataframe thead th {\n",
              "        text-align: right;\n",
              "    }\n",
              "</style>\n",
              "<table border=\"1\" class=\"dataframe\">\n",
              "  <thead>\n",
              "    <tr style=\"text-align: right;\">\n",
              "      <th></th>\n",
              "      <th>date</th>\n",
              "      <th>date_block_num</th>\n",
              "      <th>shop_id</th>\n",
              "      <th>item_id</th>\n",
              "      <th>item_price</th>\n",
              "      <th>item_cnt_day</th>\n",
              "      <th>item_name</th>\n",
              "      <th>item_category_id</th>\n",
              "      <th>item_category_name</th>\n",
              "      <th>shop_name</th>\n",
              "      <th>year</th>\n",
              "      <th>month</th>\n",
              "      <th>day</th>\n",
              "      <th>revenue</th>\n",
              "      <th>Random</th>\n",
              "      <th>month-year</th>\n",
              "      <th>USD_RUS</th>\n",
              "      <th>USD_Price</th>\n",
              "      <th>month_id</th>\n",
              "    </tr>\n",
              "  </thead>\n",
              "  <tbody>\n",
              "    <tr>\n",
              "      <th>0</th>\n",
              "      <td>2013-02-01</td>\n",
              "      <td>0</td>\n",
              "      <td>59</td>\n",
              "      <td>22154</td>\n",
              "      <td>999.0</td>\n",
              "      <td>1.0</td>\n",
              "      <td>Scene 2012 (BD)</td>\n",
              "      <td>37</td>\n",
              "      <td>Movie - Blu-Ray</td>\n",
              "      <td>Yaroslavl shopping center \"Altair\"</td>\n",
              "      <td>2013</td>\n",
              "      <td>2</td>\n",
              "      <td>1</td>\n",
              "      <td>999.0</td>\n",
              "      <td>51</td>\n",
              "      <td>02-2013</td>\n",
              "      <td>29.984375</td>\n",
              "      <td>33.312500</td>\n",
              "      <td>-10</td>\n",
              "    </tr>\n",
              "    <tr>\n",
              "      <th>1</th>\n",
              "      <td>2013-02-01</td>\n",
              "      <td>0</td>\n",
              "      <td>59</td>\n",
              "      <td>17482</td>\n",
              "      <td>599.5</td>\n",
              "      <td>1.0</td>\n",
              "      <td>PROMETEY (BD)</td>\n",
              "      <td>37</td>\n",
              "      <td>Movie - Blu-Ray</td>\n",
              "      <td>Yaroslavl shopping center \"Altair\"</td>\n",
              "      <td>2013</td>\n",
              "      <td>2</td>\n",
              "      <td>1</td>\n",
              "      <td>599.5</td>\n",
              "      <td>51</td>\n",
              "      <td>02-2013</td>\n",
              "      <td>29.984375</td>\n",
              "      <td>19.984375</td>\n",
              "      <td>-10</td>\n",
              "    </tr>\n",
              "    <tr>\n",
              "      <th>2</th>\n",
              "      <td>2013-02-01</td>\n",
              "      <td>0</td>\n",
              "      <td>59</td>\n",
              "      <td>16626</td>\n",
              "      <td>312.0</td>\n",
              "      <td>1.0</td>\n",
              "      <td>OPINION (BD)</td>\n",
              "      <td>37</td>\n",
              "      <td>Movie - Blu-Ray</td>\n",
              "      <td>Yaroslavl shopping center \"Altair\"</td>\n",
              "      <td>2013</td>\n",
              "      <td>2</td>\n",
              "      <td>1</td>\n",
              "      <td>312.0</td>\n",
              "      <td>30</td>\n",
              "      <td>02-2013</td>\n",
              "      <td>29.984375</td>\n",
              "      <td>10.406250</td>\n",
              "      <td>-10</td>\n",
              "    </tr>\n",
              "    <tr>\n",
              "      <th>3</th>\n",
              "      <td>2013-02-01</td>\n",
              "      <td>0</td>\n",
              "      <td>59</td>\n",
              "      <td>17491</td>\n",
              "      <td>199.0</td>\n",
              "      <td>1.0</td>\n",
              "      <td>PROFESSIONAL (BD)</td>\n",
              "      <td>37</td>\n",
              "      <td>Movie - Blu-Ray</td>\n",
              "      <td>Yaroslavl shopping center \"Altair\"</td>\n",
              "      <td>2013</td>\n",
              "      <td>2</td>\n",
              "      <td>1</td>\n",
              "      <td>199.0</td>\n",
              "      <td>11</td>\n",
              "      <td>02-2013</td>\n",
              "      <td>29.984375</td>\n",
              "      <td>6.636719</td>\n",
              "      <td>-10</td>\n",
              "    </tr>\n",
              "    <tr>\n",
              "      <th>4</th>\n",
              "      <td>2013-02-01</td>\n",
              "      <td>0</td>\n",
              "      <td>59</td>\n",
              "      <td>8714</td>\n",
              "      <td>199.0</td>\n",
              "      <td>1.0</td>\n",
              "      <td>NO COMPROMISES (BD)</td>\n",
              "      <td>37</td>\n",
              "      <td>Movie - Blu-Ray</td>\n",
              "      <td>Yaroslavl shopping center \"Altair\"</td>\n",
              "      <td>2013</td>\n",
              "      <td>2</td>\n",
              "      <td>1</td>\n",
              "      <td>199.0</td>\n",
              "      <td>79</td>\n",
              "      <td>02-2013</td>\n",
              "      <td>29.984375</td>\n",
              "      <td>6.636719</td>\n",
              "      <td>-10</td>\n",
              "    </tr>\n",
              "    <tr>\n",
              "      <th>...</th>\n",
              "      <td>...</td>\n",
              "      <td>...</td>\n",
              "      <td>...</td>\n",
              "      <td>...</td>\n",
              "      <td>...</td>\n",
              "      <td>...</td>\n",
              "      <td>...</td>\n",
              "      <td>...</td>\n",
              "      <td>...</td>\n",
              "      <td>...</td>\n",
              "      <td>...</td>\n",
              "      <td>...</td>\n",
              "      <td>...</td>\n",
              "      <td>...</td>\n",
              "      <td>...</td>\n",
              "      <td>...</td>\n",
              "      <td>...</td>\n",
              "      <td>...</td>\n",
              "      <td>...</td>\n",
              "    </tr>\n",
              "    <tr>\n",
              "      <th>1927068</th>\n",
              "      <td>2013-01-01</td>\n",
              "      <td>0</td>\n",
              "      <td>14</td>\n",
              "      <td>16203</td>\n",
              "      <td>599.0</td>\n",
              "      <td>1.0</td>\n",
              "      <td>Board game Russkiy Preferans, art. 1969</td>\n",
              "      <td>64</td>\n",
              "      <td>Gifts - Board Games</td>\n",
              "      <td>Kazan shopping mall of \"Parkhouse\" II of</td>\n",
              "      <td>2013</td>\n",
              "      <td>1</td>\n",
              "      <td>1</td>\n",
              "      <td>599.0</td>\n",
              "      <td>3</td>\n",
              "      <td>01-2013</td>\n",
              "      <td>30.500000</td>\n",
              "      <td>19.640625</td>\n",
              "      <td>-11</td>\n",
              "    </tr>\n",
              "    <tr>\n",
              "      <th>1927069</th>\n",
              "      <td>2013-01-01</td>\n",
              "      <td>0</td>\n",
              "      <td>14</td>\n",
              "      <td>15438</td>\n",
              "      <td>599.0</td>\n",
              "      <td>1.0</td>\n",
              "      <td>Toy Sojuzmultfilm Pooh music</td>\n",
              "      <td>63</td>\n",
              "      <td>Gifts - Soft Toys</td>\n",
              "      <td>Kazan shopping mall of \"Parkhouse\" II of</td>\n",
              "      <td>2013</td>\n",
              "      <td>1</td>\n",
              "      <td>1</td>\n",
              "      <td>599.0</td>\n",
              "      <td>91</td>\n",
              "      <td>01-2013</td>\n",
              "      <td>30.500000</td>\n",
              "      <td>19.640625</td>\n",
              "      <td>-11</td>\n",
              "    </tr>\n",
              "    <tr>\n",
              "      <th>1927070</th>\n",
              "      <td>2013-01-01</td>\n",
              "      <td>0</td>\n",
              "      <td>14</td>\n",
              "      <td>9362</td>\n",
              "      <td>299.0</td>\n",
              "      <td>1.0</td>\n",
              "      <td>Keychain Sochi 2014 White bear with scarf 12cm</td>\n",
              "      <td>70</td>\n",
              "      <td>Gifts - Souvenirs (weighed in)</td>\n",
              "      <td>Kazan shopping mall of \"Parkhouse\" II of</td>\n",
              "      <td>2013</td>\n",
              "      <td>1</td>\n",
              "      <td>1</td>\n",
              "      <td>299.0</td>\n",
              "      <td>33</td>\n",
              "      <td>01-2013</td>\n",
              "      <td>30.500000</td>\n",
              "      <td>9.804688</td>\n",
              "      <td>-11</td>\n",
              "    </tr>\n",
              "    <tr>\n",
              "      <th>1927071</th>\n",
              "      <td>2013-01-01</td>\n",
              "      <td>0</td>\n",
              "      <td>14</td>\n",
              "      <td>22088</td>\n",
              "      <td>79.0</td>\n",
              "      <td>2.0</td>\n",
              "      <td>Battery DURACELL LR06-BC2</td>\n",
              "      <td>83</td>\n",
              "      <td>batteries</td>\n",
              "      <td>Kazan shopping mall of \"Parkhouse\" II of</td>\n",
              "      <td>2013</td>\n",
              "      <td>1</td>\n",
              "      <td>1</td>\n",
              "      <td>158.0</td>\n",
              "      <td>4</td>\n",
              "      <td>01-2013</td>\n",
              "      <td>30.500000</td>\n",
              "      <td>2.589844</td>\n",
              "      <td>-11</td>\n",
              "    </tr>\n",
              "    <tr>\n",
              "      <th>1927072</th>\n",
              "      <td>2013-01-01</td>\n",
              "      <td>0</td>\n",
              "      <td>14</td>\n",
              "      <td>20384</td>\n",
              "      <td>1599.0</td>\n",
              "      <td>1.0</td>\n",
              "      <td>Figurine Assassin's Creed III Connor The Hunte...</td>\n",
              "      <td>72</td>\n",
              "      <td>Gifts - Figures</td>\n",
              "      <td>Kazan shopping mall of \"Parkhouse\" II of</td>\n",
              "      <td>2013</td>\n",
              "      <td>1</td>\n",
              "      <td>1</td>\n",
              "      <td>1599.0</td>\n",
              "      <td>6</td>\n",
              "      <td>01-2013</td>\n",
              "      <td>30.500000</td>\n",
              "      <td>52.437500</td>\n",
              "      <td>-11</td>\n",
              "    </tr>\n",
              "  </tbody>\n",
              "</table>\n",
              "<p>1927073 rows × 19 columns</p>\n",
              "</div>"
            ],
            "text/plain": [
              "              date  date_block_num  shop_id  ...    USD_RUS  USD_Price  month_id\n",
              "0       2013-02-01               0       59  ...  29.984375  33.312500       -10\n",
              "1       2013-02-01               0       59  ...  29.984375  19.984375       -10\n",
              "2       2013-02-01               0       59  ...  29.984375  10.406250       -10\n",
              "3       2013-02-01               0       59  ...  29.984375   6.636719       -10\n",
              "4       2013-02-01               0       59  ...  29.984375   6.636719       -10\n",
              "...            ...             ...      ...  ...        ...        ...       ...\n",
              "1927068 2013-01-01               0       14  ...  30.500000  19.640625       -11\n",
              "1927069 2013-01-01               0       14  ...  30.500000  19.640625       -11\n",
              "1927070 2013-01-01               0       14  ...  30.500000   9.804688       -11\n",
              "1927071 2013-01-01               0       14  ...  30.500000   2.589844       -11\n",
              "1927072 2013-01-01               0       14  ...  30.500000  52.437500       -11\n",
              "\n",
              "[1927073 rows x 19 columns]"
            ]
          },
          "metadata": {
            "tags": []
          },
          "execution_count": 18
        }
      ]
    },
    {
      "cell_type": "code",
      "metadata": {
        "colab": {
          "base_uri": "https://localhost:8080/",
          "height": 343
        },
        "id": "32b_0b0Tbi4b",
        "outputId": "cfdaed04-7dcf-4a22-c947-ef24b0b1085f"
      },
      "source": [
        "#group_bys = ['item_id', 'shop_id']\n",
        "#target_column='item_cnt_day'\n",
        "\n",
        "#Make a list of columns we want to keep from the df\n",
        "#group_by_cols = group_bys.copy()\n",
        "#group_by_cols.append('year')\n",
        "#group_by_cols.append('month')\n",
        "#group_by_cols.append('month_id')\n",
        "#group_by_cols.append(target_column)\n",
        "\n",
        "#Make a dataframe with just the columns we need\n",
        "#tmp_df=salestrain_df_combined[group_by_cols]\n",
        "\n",
        "#Sort by group_by_vars, then month and year\n",
        "#tmp_df.sort_values(by = group_by_cols, inplace = True)\n",
        "\n",
        "#shop_id = 1\n",
        "#print(shop_id)\n",
        "\n",
        "#ssid\n",
        "#ssid = tmp_df[tmp_df['shop_id'] == shop_id]\n",
        "\n",
        "# pivot individual ssid\n",
        "#ssid = ssid.pivot_table(index = group_bys, columns = 'month_id', values = target_column, aggfunc = np.sum)\n",
        "\n",
        "#ssid.head()"
      ],
      "execution_count": null,
      "outputs": [
        {
          "output_type": "stream",
          "text": [
            "1\n"
          ],
          "name": "stdout"
        },
        {
          "output_type": "stream",
          "text": [
            "/usr/local/lib/python3.7/dist-packages/ipykernel_launcher.py:15: SettingWithCopyWarning: \n",
            "A value is trying to be set on a copy of a slice from a DataFrame\n",
            "\n",
            "See the caveats in the documentation: https://pandas.pydata.org/pandas-docs/stable/user_guide/indexing.html#returning-a-view-versus-a-copy\n",
            "  from ipykernel import kernelapp as app\n"
          ],
          "name": "stderr"
        },
        {
          "output_type": "execute_result",
          "data": {
            "text/html": [
              "<div>\n",
              "<style scoped>\n",
              "    .dataframe tbody tr th:only-of-type {\n",
              "        vertical-align: middle;\n",
              "    }\n",
              "\n",
              "    .dataframe tbody tr th {\n",
              "        vertical-align: top;\n",
              "    }\n",
              "\n",
              "    .dataframe thead th {\n",
              "        text-align: right;\n",
              "    }\n",
              "</style>\n",
              "<table border=\"1\" class=\"dataframe\">\n",
              "  <thead>\n",
              "    <tr style=\"text-align: right;\">\n",
              "      <th></th>\n",
              "      <th>month_id</th>\n",
              "      <th>-11</th>\n",
              "      <th>-10</th>\n",
              "      <th>-9</th>\n",
              "      <th>-8</th>\n",
              "      <th>-7</th>\n",
              "      <th>-5</th>\n",
              "      <th>-4</th>\n",
              "      <th>-3</th>\n",
              "      <th>-2</th>\n",
              "      <th>-1</th>\n",
              "      <th>0</th>\n",
              "    </tr>\n",
              "    <tr>\n",
              "      <th>item_id</th>\n",
              "      <th>shop_id</th>\n",
              "      <th></th>\n",
              "      <th></th>\n",
              "      <th></th>\n",
              "      <th></th>\n",
              "      <th></th>\n",
              "      <th></th>\n",
              "      <th></th>\n",
              "      <th></th>\n",
              "      <th></th>\n",
              "      <th></th>\n",
              "      <th></th>\n",
              "    </tr>\n",
              "  </thead>\n",
              "  <tbody>\n",
              "    <tr>\n",
              "      <th>30</th>\n",
              "      <th>1</th>\n",
              "      <td>NaN</td>\n",
              "      <td>6.0</td>\n",
              "      <td>NaN</td>\n",
              "      <td>NaN</td>\n",
              "      <td>NaN</td>\n",
              "      <td>NaN</td>\n",
              "      <td>NaN</td>\n",
              "      <td>NaN</td>\n",
              "      <td>NaN</td>\n",
              "      <td>NaN</td>\n",
              "      <td>NaN</td>\n",
              "    </tr>\n",
              "    <tr>\n",
              "      <th>31</th>\n",
              "      <th>1</th>\n",
              "      <td>NaN</td>\n",
              "      <td>2.0</td>\n",
              "      <td>NaN</td>\n",
              "      <td>NaN</td>\n",
              "      <td>NaN</td>\n",
              "      <td>NaN</td>\n",
              "      <td>NaN</td>\n",
              "      <td>NaN</td>\n",
              "      <td>NaN</td>\n",
              "      <td>NaN</td>\n",
              "      <td>NaN</td>\n",
              "    </tr>\n",
              "    <tr>\n",
              "      <th>32</th>\n",
              "      <th>1</th>\n",
              "      <td>2.0</td>\n",
              "      <td>NaN</td>\n",
              "      <td>NaN</td>\n",
              "      <td>1.0</td>\n",
              "      <td>2.0</td>\n",
              "      <td>NaN</td>\n",
              "      <td>NaN</td>\n",
              "      <td>NaN</td>\n",
              "      <td>NaN</td>\n",
              "      <td>1.0</td>\n",
              "      <td>NaN</td>\n",
              "    </tr>\n",
              "    <tr>\n",
              "      <th>33</th>\n",
              "      <th>1</th>\n",
              "      <td>NaN</td>\n",
              "      <td>1.0</td>\n",
              "      <td>NaN</td>\n",
              "      <td>NaN</td>\n",
              "      <td>NaN</td>\n",
              "      <td>NaN</td>\n",
              "      <td>NaN</td>\n",
              "      <td>NaN</td>\n",
              "      <td>NaN</td>\n",
              "      <td>NaN</td>\n",
              "      <td>NaN</td>\n",
              "    </tr>\n",
              "    <tr>\n",
              "      <th>95</th>\n",
              "      <th>1</th>\n",
              "      <td>1.0</td>\n",
              "      <td>NaN</td>\n",
              "      <td>NaN</td>\n",
              "      <td>NaN</td>\n",
              "      <td>NaN</td>\n",
              "      <td>NaN</td>\n",
              "      <td>NaN</td>\n",
              "      <td>NaN</td>\n",
              "      <td>NaN</td>\n",
              "      <td>NaN</td>\n",
              "      <td>NaN</td>\n",
              "    </tr>\n",
              "  </tbody>\n",
              "</table>\n",
              "</div>"
            ],
            "text/plain": [
              "month_id         -11  -10  -9   -8   -7   -5   -4   -3   -2   -1    0 \n",
              "item_id shop_id                                                       \n",
              "30      1        NaN  6.0  NaN  NaN  NaN  NaN  NaN  NaN  NaN  NaN  NaN\n",
              "31      1        NaN  2.0  NaN  NaN  NaN  NaN  NaN  NaN  NaN  NaN  NaN\n",
              "32      1        2.0  NaN  NaN  1.0  2.0  NaN  NaN  NaN  NaN  1.0  NaN\n",
              "33      1        NaN  1.0  NaN  NaN  NaN  NaN  NaN  NaN  NaN  NaN  NaN\n",
              "95      1        1.0  NaN  NaN  NaN  NaN  NaN  NaN  NaN  NaN  NaN  NaN"
            ]
          },
          "metadata": {
            "tags": []
          },
          "execution_count": 20
        }
      ]
    },
    {
      "cell_type": "code",
      "metadata": {
        "id": "RzVjPrZ0rgMd"
      },
      "source": [
        "# function that takes group_by defined cols to pivot by month (1-12) \n",
        "def make_lag_features(df = salestrain_df_combined, target_column = 'item_cnt_day', group_bys = ['item_id', 'shop_id']):\n",
        "  master_df = pd.DataFrame()\n",
        "\n",
        "  #Make a list of columns we want to keep from the df\n",
        "  group_by_cols = group_bys.copy()\n",
        "  group_by_cols.append('year')\n",
        "  group_by_cols.append('month')\n",
        "  group_by_cols.append('month_id')\n",
        "  group_by_cols.append(target_column)\n",
        "\n",
        "  #Make a dataframe with just the columns we need\n",
        "  tmp_df = df[group_by_cols]\n",
        "\n",
        "  #Sort by group_by_vars, then month and year\n",
        "  tmp_df.sort_values(by = group_by_cols, inplace = True)\n",
        "\n",
        "  # main shop_id pivot loop \n",
        "  for shop_id in tmp_df.shop_id.unique():\n",
        "\n",
        "    # printing shop_ids that are getting split\n",
        "    print(f'SHOP IDS: {shop_id}')\n",
        "\n",
        "    # creating ssid\n",
        "    ssid = tmp_df[tmp_df['shop_id'] == shop_id]\n",
        "\n",
        "    # pivot tabling \n",
        "    ssid = ssid.pivot_table(index = group_bys, columns = 'month_id', values = target_column, aggfunc = np.sum)\n",
        "    ssid = ssid.reindex(pd.MultiIndex.from_product(ssid.index.levels, names = ssid.index.names))\n",
        "\n",
        "    # Fill NAs with zeros\n",
        "    ssid.fillna(0, inplace = True)\n",
        "\n",
        "    # stacking the multilevel's x2 and resetting the index\n",
        "    ssid = ssid.stack().reset_index()\n",
        "\n",
        "    # renaming the calculated column to 'item_cnt_month_shop_id'\n",
        "    lag_feature_name = 'By_'\n",
        "\n",
        "    # Build the target column name\n",
        "    for item in group_bys:\n",
        "      lag_feature_name = lag_feature_name + item + '-'\n",
        "\n",
        "    lag_feature_name = lag_feature_name[:-1]\n",
        "\n",
        "    # Rename the '0' column with the name of the group_bys\n",
        "    ssid.rename({0:lag_feature_name}, inplace = True, axis = 1)\n",
        "\n",
        "    # looping through number dictionary to add 1-12 month lags to columns\n",
        "    for i in np.arange(1,12+1):\n",
        "      ssid[lag_feature_name + '_' + str(i) + '_month_ago'] = ssid[lag_feature_name].shift(i)\n",
        "\n",
        "    # removing year 2013 because there are NaN values in lagged columns \n",
        "    ssid = ssid.loc[tmp_df['month_id'] > 0]\n",
        "\n",
        "    # concating the individual ssid's into new DataFrame\n",
        "    master_df = pd.concat([master_df,ssid])\n",
        "\n",
        "  return master_df"
      ],
      "execution_count": null,
      "outputs": []
    },
    {
      "cell_type": "code",
      "metadata": {
        "id": "lSvZlRLNvUEx"
      },
      "source": [
        "#plt.figure(figsize = (20, 10))\n",
        "\n",
        "#sns.boxplot(x = make_lag_features()['By_item_id-shop_id'])\n",
        "\n",
        "#sns.boxplot(x = shop_id_month_stack['item_price'], ax = ax2)\n",
        "\n",
        "#sns.boxplot(x = shop_id_month_stack['USD_Price'], ax = ax3)\n",
        "\n",
        "#sns.boxplot(x = shop_id_month_stack['revenue'], ax = ax4)\n",
        "\n",
        "#plt.tight_layout()"
      ],
      "execution_count": null,
      "outputs": []
    },
    {
      "cell_type": "markdown",
      "metadata": {
        "id": "UBUd_O89opu9"
      },
      "source": [
        "# quick XGBoost"
      ]
    },
    {
      "cell_type": "code",
      "metadata": {
        "id": "tBYw084l2gW_",
        "colab": {
          "base_uri": "https://localhost:8080/"
        },
        "outputId": "f217b3dc-900f-4fa9-9e87-7c09b56b10f6"
      },
      "source": [
        "# removing 'year' and 'month' unecessary columns and assigning function to shop_id_month_stack\n",
        "shop_id_month_stack = make_lag_features()[['item_id', 'shop_id', 'month_id', 'By_item_id-shop_id',\n",
        "       'By_item_id-shop_id_1_month_ago', 'By_item_id-shop_id_2_month_ago',\n",
        "       'By_item_id-shop_id_3_month_ago', 'By_item_id-shop_id_4_month_ago',\n",
        "       'By_item_id-shop_id_5_month_ago', 'By_item_id-shop_id_6_month_ago',\n",
        "       'By_item_id-shop_id_7_month_ago', 'By_item_id-shop_id_8_month_ago',\n",
        "       'By_item_id-shop_id_9_month_ago', 'By_item_id-shop_id_10_month_ago',\n",
        "       'By_item_id-shop_id_11_month_ago', 'By_item_id-shop_id_12_month_ago']]"
      ],
      "execution_count": null,
      "outputs": [
        {
          "output_type": "stream",
          "text": [
            "/usr/local/lib/python3.7/dist-packages/ipykernel_launcher.py:15: SettingWithCopyWarning: \n",
            "A value is trying to be set on a copy of a slice from a DataFrame\n",
            "\n",
            "See the caveats in the documentation: https://pandas.pydata.org/pandas-docs/stable/user_guide/indexing.html#returning-a-view-versus-a-copy\n",
            "  from ipykernel import kernelapp as app\n"
          ],
          "name": "stderr"
        },
        {
          "output_type": "stream",
          "text": [
            "54\n",
            "55\n",
            "44\n",
            "25\n",
            "31\n",
            "2\n",
            "3\n",
            "4\n",
            "5\n",
            "7\n",
            "12\n",
            "14\n",
            "15\n",
            "16\n",
            "18\n",
            "19\n",
            "21\n",
            "24\n",
            "26\n",
            "27\n",
            "28\n",
            "29\n",
            "32\n",
            "45\n",
            "6\n",
            "22\n",
            "30\n",
            "35\n",
            "37\n",
            "38\n",
            "42\n",
            "43\n",
            "46\n",
            "47\n",
            "50\n",
            "51\n",
            "53\n",
            "56\n",
            "59\n",
            "0\n",
            "1\n",
            "8\n",
            "10\n",
            "13\n",
            "23\n",
            "41\n",
            "48\n",
            "52\n",
            "57\n",
            "58\n",
            "17\n",
            "34\n",
            "39\n",
            "49\n",
            "33\n",
            "36\n",
            "11\n",
            "40\n",
            "9\n",
            "20\n"
          ],
          "name": "stdout"
        }
      ]
    },
    {
      "cell_type": "code",
      "metadata": {
        "id": "ni9OS93P4--F",
        "colab": {
          "base_uri": "https://localhost:8080/",
          "height": 241
        },
        "outputId": "0821864b-4ebc-4c83-9b2d-31c4f2cd8743"
      },
      "source": [
        "# checking the df head\n",
        "shop_id_month_stack.head()"
      ],
      "execution_count": null,
      "outputs": [
        {
          "output_type": "execute_result",
          "data": {
            "text/html": [
              "<div>\n",
              "<style scoped>\n",
              "    .dataframe tbody tr th:only-of-type {\n",
              "        vertical-align: middle;\n",
              "    }\n",
              "\n",
              "    .dataframe tbody tr th {\n",
              "        vertical-align: top;\n",
              "    }\n",
              "\n",
              "    .dataframe thead th {\n",
              "        text-align: right;\n",
              "    }\n",
              "</style>\n",
              "<table border=\"1\" class=\"dataframe\">\n",
              "  <thead>\n",
              "    <tr style=\"text-align: right;\">\n",
              "      <th></th>\n",
              "      <th>item_id</th>\n",
              "      <th>shop_id</th>\n",
              "      <th>month_id</th>\n",
              "      <th>By_item_id-shop_id</th>\n",
              "      <th>By_item_id-shop_id_1_month_ago</th>\n",
              "      <th>By_item_id-shop_id_2_month_ago</th>\n",
              "      <th>By_item_id-shop_id_3_month_ago</th>\n",
              "      <th>By_item_id-shop_id_4_month_ago</th>\n",
              "      <th>By_item_id-shop_id_5_month_ago</th>\n",
              "      <th>By_item_id-shop_id_6_month_ago</th>\n",
              "      <th>By_item_id-shop_id_7_month_ago</th>\n",
              "      <th>By_item_id-shop_id_8_month_ago</th>\n",
              "      <th>By_item_id-shop_id_9_month_ago</th>\n",
              "      <th>By_item_id-shop_id_10_month_ago</th>\n",
              "      <th>By_item_id-shop_id_11_month_ago</th>\n",
              "      <th>By_item_id-shop_id_12_month_ago</th>\n",
              "    </tr>\n",
              "  </thead>\n",
              "  <tbody>\n",
              "    <tr>\n",
              "      <th>19418</th>\n",
              "      <td>1525</td>\n",
              "      <td>54</td>\n",
              "      <td>3</td>\n",
              "      <td>0.0</td>\n",
              "      <td>0.0</td>\n",
              "      <td>0.0</td>\n",
              "      <td>0.0</td>\n",
              "      <td>0.0</td>\n",
              "      <td>1.0</td>\n",
              "      <td>0.0</td>\n",
              "      <td>0.0</td>\n",
              "      <td>0.0</td>\n",
              "      <td>0.0</td>\n",
              "      <td>0.0</td>\n",
              "      <td>0.0</td>\n",
              "      <td>0.0</td>\n",
              "    </tr>\n",
              "    <tr>\n",
              "      <th>19419</th>\n",
              "      <td>1525</td>\n",
              "      <td>54</td>\n",
              "      <td>4</td>\n",
              "      <td>0.0</td>\n",
              "      <td>0.0</td>\n",
              "      <td>0.0</td>\n",
              "      <td>0.0</td>\n",
              "      <td>0.0</td>\n",
              "      <td>0.0</td>\n",
              "      <td>1.0</td>\n",
              "      <td>0.0</td>\n",
              "      <td>0.0</td>\n",
              "      <td>0.0</td>\n",
              "      <td>0.0</td>\n",
              "      <td>0.0</td>\n",
              "      <td>0.0</td>\n",
              "    </tr>\n",
              "    <tr>\n",
              "      <th>19420</th>\n",
              "      <td>1525</td>\n",
              "      <td>54</td>\n",
              "      <td>5</td>\n",
              "      <td>0.0</td>\n",
              "      <td>0.0</td>\n",
              "      <td>0.0</td>\n",
              "      <td>0.0</td>\n",
              "      <td>0.0</td>\n",
              "      <td>0.0</td>\n",
              "      <td>0.0</td>\n",
              "      <td>1.0</td>\n",
              "      <td>0.0</td>\n",
              "      <td>0.0</td>\n",
              "      <td>0.0</td>\n",
              "      <td>0.0</td>\n",
              "      <td>0.0</td>\n",
              "    </tr>\n",
              "    <tr>\n",
              "      <th>19421</th>\n",
              "      <td>1525</td>\n",
              "      <td>54</td>\n",
              "      <td>6</td>\n",
              "      <td>0.0</td>\n",
              "      <td>0.0</td>\n",
              "      <td>0.0</td>\n",
              "      <td>0.0</td>\n",
              "      <td>0.0</td>\n",
              "      <td>0.0</td>\n",
              "      <td>0.0</td>\n",
              "      <td>0.0</td>\n",
              "      <td>1.0</td>\n",
              "      <td>0.0</td>\n",
              "      <td>0.0</td>\n",
              "      <td>0.0</td>\n",
              "      <td>0.0</td>\n",
              "    </tr>\n",
              "    <tr>\n",
              "      <th>19422</th>\n",
              "      <td>1525</td>\n",
              "      <td>54</td>\n",
              "      <td>7</td>\n",
              "      <td>0.0</td>\n",
              "      <td>0.0</td>\n",
              "      <td>0.0</td>\n",
              "      <td>0.0</td>\n",
              "      <td>0.0</td>\n",
              "      <td>0.0</td>\n",
              "      <td>0.0</td>\n",
              "      <td>0.0</td>\n",
              "      <td>0.0</td>\n",
              "      <td>1.0</td>\n",
              "      <td>0.0</td>\n",
              "      <td>0.0</td>\n",
              "      <td>0.0</td>\n",
              "    </tr>\n",
              "  </tbody>\n",
              "</table>\n",
              "</div>"
            ],
            "text/plain": [
              "       item_id  ...  By_item_id-shop_id_12_month_ago\n",
              "19418     1525  ...                              0.0\n",
              "19419     1525  ...                              0.0\n",
              "19420     1525  ...                              0.0\n",
              "19421     1525  ...                              0.0\n",
              "19422     1525  ...                              0.0\n",
              "\n",
              "[5 rows x 16 columns]"
            ]
          },
          "metadata": {
            "tags": []
          },
          "execution_count": 26
        }
      ]
    },
    {
      "cell_type": "markdown",
      "metadata": {
        "id": "w2Jgwd5z_ceW"
      },
      "source": [
        "## You can use this cell to reload the entire training dataset instead of running the notebook above"
      ]
    },
    {
      "cell_type": "code",
      "metadata": {
        "id": "eOTcx5Uoo0Jn"
      },
      "source": [
        "# saving dataframe in case runtime error causes problems\n",
        "# shop_id_month_stack.to_csv(root_path+'full_dataframe.csv')"
      ],
      "execution_count": null,
      "outputs": []
    },
    {
      "cell_type": "code",
      "metadata": {
        "id": "3jqD5a7I5Nog"
      },
      "source": [
        "#shop_id_month_stack = pd.read_csv(root_path+'full_dataframe.csv')"
      ],
      "execution_count": null,
      "outputs": []
    },
    {
      "cell_type": "code",
      "metadata": {
        "id": "ykRI6bPrQ11x"
      },
      "source": [
        "# setting training set\n",
        "X_train = shop_id_month_stack.loc[shop_id_month_stack['month_id'] < 24]\n",
        "X_train = X_train.drop(['By_item_id-shop_id'], axis = 1)\n",
        "y_train = shop_id_month_stack.loc[shop_id_month_stack['month_id'] < 24]['By_item_id-shop_id']\n",
        "\n",
        "# setting testing set\n",
        "X_val = shop_id_month_stack.loc[shop_id_month_stack['month_id'] == 24]\n",
        "X_val = X_val.drop(['By_item_id-shop_id'], axis = 1)\n",
        "y_val = shop_id_month_stack.loc[shop_id_month_stack['month_id'] == 24]['By_item_id-shop_id']"
      ],
      "execution_count": null,
      "outputs": []
    },
    {
      "cell_type": "code",
      "metadata": {
        "id": "drFa5e59bwFQ",
        "colab": {
          "base_uri": "https://localhost:8080/",
          "height": 241
        },
        "outputId": "5aa0927d-a4d5-4521-9915-ce0366e9f786"
      },
      "source": [
        "# checking X_train head\n",
        "X_train.head()"
      ],
      "execution_count": null,
      "outputs": [
        {
          "output_type": "execute_result",
          "data": {
            "text/html": [
              "<div>\n",
              "<style scoped>\n",
              "    .dataframe tbody tr th:only-of-type {\n",
              "        vertical-align: middle;\n",
              "    }\n",
              "\n",
              "    .dataframe tbody tr th {\n",
              "        vertical-align: top;\n",
              "    }\n",
              "\n",
              "    .dataframe thead th {\n",
              "        text-align: right;\n",
              "    }\n",
              "</style>\n",
              "<table border=\"1\" class=\"dataframe\">\n",
              "  <thead>\n",
              "    <tr style=\"text-align: right;\">\n",
              "      <th></th>\n",
              "      <th>item_id</th>\n",
              "      <th>shop_id</th>\n",
              "      <th>month_id</th>\n",
              "      <th>By_item_id-shop_id_1_month_ago</th>\n",
              "      <th>By_item_id-shop_id_2_month_ago</th>\n",
              "      <th>By_item_id-shop_id_3_month_ago</th>\n",
              "      <th>By_item_id-shop_id_4_month_ago</th>\n",
              "      <th>By_item_id-shop_id_5_month_ago</th>\n",
              "      <th>By_item_id-shop_id_6_month_ago</th>\n",
              "      <th>By_item_id-shop_id_7_month_ago</th>\n",
              "      <th>By_item_id-shop_id_8_month_ago</th>\n",
              "      <th>By_item_id-shop_id_9_month_ago</th>\n",
              "      <th>By_item_id-shop_id_10_month_ago</th>\n",
              "      <th>By_item_id-shop_id_11_month_ago</th>\n",
              "      <th>By_item_id-shop_id_12_month_ago</th>\n",
              "    </tr>\n",
              "  </thead>\n",
              "  <tbody>\n",
              "    <tr>\n",
              "      <th>19418</th>\n",
              "      <td>1525</td>\n",
              "      <td>54</td>\n",
              "      <td>3</td>\n",
              "      <td>0.0</td>\n",
              "      <td>0.0</td>\n",
              "      <td>0.0</td>\n",
              "      <td>0.0</td>\n",
              "      <td>1.0</td>\n",
              "      <td>0.0</td>\n",
              "      <td>0.0</td>\n",
              "      <td>0.0</td>\n",
              "      <td>0.0</td>\n",
              "      <td>0.0</td>\n",
              "      <td>0.0</td>\n",
              "      <td>0.0</td>\n",
              "    </tr>\n",
              "    <tr>\n",
              "      <th>19419</th>\n",
              "      <td>1525</td>\n",
              "      <td>54</td>\n",
              "      <td>4</td>\n",
              "      <td>0.0</td>\n",
              "      <td>0.0</td>\n",
              "      <td>0.0</td>\n",
              "      <td>0.0</td>\n",
              "      <td>0.0</td>\n",
              "      <td>1.0</td>\n",
              "      <td>0.0</td>\n",
              "      <td>0.0</td>\n",
              "      <td>0.0</td>\n",
              "      <td>0.0</td>\n",
              "      <td>0.0</td>\n",
              "      <td>0.0</td>\n",
              "    </tr>\n",
              "    <tr>\n",
              "      <th>19420</th>\n",
              "      <td>1525</td>\n",
              "      <td>54</td>\n",
              "      <td>5</td>\n",
              "      <td>0.0</td>\n",
              "      <td>0.0</td>\n",
              "      <td>0.0</td>\n",
              "      <td>0.0</td>\n",
              "      <td>0.0</td>\n",
              "      <td>0.0</td>\n",
              "      <td>1.0</td>\n",
              "      <td>0.0</td>\n",
              "      <td>0.0</td>\n",
              "      <td>0.0</td>\n",
              "      <td>0.0</td>\n",
              "      <td>0.0</td>\n",
              "    </tr>\n",
              "    <tr>\n",
              "      <th>19421</th>\n",
              "      <td>1525</td>\n",
              "      <td>54</td>\n",
              "      <td>6</td>\n",
              "      <td>0.0</td>\n",
              "      <td>0.0</td>\n",
              "      <td>0.0</td>\n",
              "      <td>0.0</td>\n",
              "      <td>0.0</td>\n",
              "      <td>0.0</td>\n",
              "      <td>0.0</td>\n",
              "      <td>1.0</td>\n",
              "      <td>0.0</td>\n",
              "      <td>0.0</td>\n",
              "      <td>0.0</td>\n",
              "      <td>0.0</td>\n",
              "    </tr>\n",
              "    <tr>\n",
              "      <th>19422</th>\n",
              "      <td>1525</td>\n",
              "      <td>54</td>\n",
              "      <td>7</td>\n",
              "      <td>0.0</td>\n",
              "      <td>0.0</td>\n",
              "      <td>0.0</td>\n",
              "      <td>0.0</td>\n",
              "      <td>0.0</td>\n",
              "      <td>0.0</td>\n",
              "      <td>0.0</td>\n",
              "      <td>0.0</td>\n",
              "      <td>1.0</td>\n",
              "      <td>0.0</td>\n",
              "      <td>0.0</td>\n",
              "      <td>0.0</td>\n",
              "    </tr>\n",
              "  </tbody>\n",
              "</table>\n",
              "</div>"
            ],
            "text/plain": [
              "       item_id  ...  By_item_id-shop_id_12_month_ago\n",
              "19418     1525  ...                              0.0\n",
              "19419     1525  ...                              0.0\n",
              "19420     1525  ...                              0.0\n",
              "19421     1525  ...                              0.0\n",
              "19422     1525  ...                              0.0\n",
              "\n",
              "[5 rows x 15 columns]"
            ]
          },
          "metadata": {
            "tags": []
          },
          "execution_count": 30
        }
      ]
    },
    {
      "cell_type": "code",
      "metadata": {
        "id": "0CRQIwcfbi4k"
      },
      "source": [
        "# getting order of X_train cols for XGBoost\n",
        "train_col_order = X_train.columns"
      ],
      "execution_count": null,
      "outputs": []
    },
    {
      "cell_type": "code",
      "metadata": {
        "colab": {
          "base_uri": "https://localhost:8080/",
          "height": 241
        },
        "id": "Hr-phA04qFSe",
        "outputId": "caaec0b1-ebfc-46db-9e0f-5a5b8bfc8b7b"
      },
      "source": [
        "# checking X_val head\n",
        "X_val.head()"
      ],
      "execution_count": null,
      "outputs": [
        {
          "output_type": "execute_result",
          "data": {
            "text/html": [
              "<div>\n",
              "<style scoped>\n",
              "    .dataframe tbody tr th:only-of-type {\n",
              "        vertical-align: middle;\n",
              "    }\n",
              "\n",
              "    .dataframe tbody tr th {\n",
              "        vertical-align: top;\n",
              "    }\n",
              "\n",
              "    .dataframe thead th {\n",
              "        text-align: right;\n",
              "    }\n",
              "</style>\n",
              "<table border=\"1\" class=\"dataframe\">\n",
              "  <thead>\n",
              "    <tr style=\"text-align: right;\">\n",
              "      <th></th>\n",
              "      <th>item_id</th>\n",
              "      <th>shop_id</th>\n",
              "      <th>month_id</th>\n",
              "      <th>By_item_id-shop_id_1_month_ago</th>\n",
              "      <th>By_item_id-shop_id_2_month_ago</th>\n",
              "      <th>By_item_id-shop_id_3_month_ago</th>\n",
              "      <th>By_item_id-shop_id_4_month_ago</th>\n",
              "      <th>By_item_id-shop_id_5_month_ago</th>\n",
              "      <th>By_item_id-shop_id_6_month_ago</th>\n",
              "      <th>By_item_id-shop_id_7_month_ago</th>\n",
              "      <th>By_item_id-shop_id_8_month_ago</th>\n",
              "      <th>By_item_id-shop_id_9_month_ago</th>\n",
              "      <th>By_item_id-shop_id_10_month_ago</th>\n",
              "      <th>By_item_id-shop_id_11_month_ago</th>\n",
              "      <th>By_item_id-shop_id_12_month_ago</th>\n",
              "    </tr>\n",
              "  </thead>\n",
              "  <tbody>\n",
              "    <tr>\n",
              "      <th>19439</th>\n",
              "      <td>1525</td>\n",
              "      <td>54</td>\n",
              "      <td>24</td>\n",
              "      <td>0.0</td>\n",
              "      <td>0.0</td>\n",
              "      <td>0.0</td>\n",
              "      <td>0.0</td>\n",
              "      <td>0.0</td>\n",
              "      <td>0.0</td>\n",
              "      <td>0.0</td>\n",
              "      <td>0.0</td>\n",
              "      <td>0.0</td>\n",
              "      <td>0.0</td>\n",
              "      <td>0.0</td>\n",
              "      <td>0.0</td>\n",
              "    </tr>\n",
              "    <tr>\n",
              "      <th>19475</th>\n",
              "      <td>1527</td>\n",
              "      <td>54</td>\n",
              "      <td>24</td>\n",
              "      <td>0.0</td>\n",
              "      <td>0.0</td>\n",
              "      <td>0.0</td>\n",
              "      <td>0.0</td>\n",
              "      <td>0.0</td>\n",
              "      <td>0.0</td>\n",
              "      <td>0.0</td>\n",
              "      <td>0.0</td>\n",
              "      <td>0.0</td>\n",
              "      <td>0.0</td>\n",
              "      <td>0.0</td>\n",
              "      <td>0.0</td>\n",
              "    </tr>\n",
              "    <tr>\n",
              "      <th>19511</th>\n",
              "      <td>1528</td>\n",
              "      <td>54</td>\n",
              "      <td>24</td>\n",
              "      <td>0.0</td>\n",
              "      <td>0.0</td>\n",
              "      <td>0.0</td>\n",
              "      <td>0.0</td>\n",
              "      <td>0.0</td>\n",
              "      <td>0.0</td>\n",
              "      <td>0.0</td>\n",
              "      <td>0.0</td>\n",
              "      <td>0.0</td>\n",
              "      <td>0.0</td>\n",
              "      <td>0.0</td>\n",
              "      <td>0.0</td>\n",
              "    </tr>\n",
              "    <tr>\n",
              "      <th>19547</th>\n",
              "      <td>1530</td>\n",
              "      <td>54</td>\n",
              "      <td>24</td>\n",
              "      <td>0.0</td>\n",
              "      <td>0.0</td>\n",
              "      <td>0.0</td>\n",
              "      <td>0.0</td>\n",
              "      <td>0.0</td>\n",
              "      <td>0.0</td>\n",
              "      <td>0.0</td>\n",
              "      <td>0.0</td>\n",
              "      <td>0.0</td>\n",
              "      <td>0.0</td>\n",
              "      <td>0.0</td>\n",
              "      <td>0.0</td>\n",
              "    </tr>\n",
              "    <tr>\n",
              "      <th>19583</th>\n",
              "      <td>1531</td>\n",
              "      <td>54</td>\n",
              "      <td>24</td>\n",
              "      <td>0.0</td>\n",
              "      <td>0.0</td>\n",
              "      <td>0.0</td>\n",
              "      <td>0.0</td>\n",
              "      <td>0.0</td>\n",
              "      <td>0.0</td>\n",
              "      <td>0.0</td>\n",
              "      <td>0.0</td>\n",
              "      <td>0.0</td>\n",
              "      <td>0.0</td>\n",
              "      <td>0.0</td>\n",
              "      <td>0.0</td>\n",
              "    </tr>\n",
              "  </tbody>\n",
              "</table>\n",
              "</div>"
            ],
            "text/plain": [
              "       item_id  ...  By_item_id-shop_id_12_month_ago\n",
              "19439     1525  ...                              0.0\n",
              "19475     1527  ...                              0.0\n",
              "19511     1528  ...                              0.0\n",
              "19547     1530  ...                              0.0\n",
              "19583     1531  ...                              0.0\n",
              "\n",
              "[5 rows x 15 columns]"
            ]
          },
          "metadata": {
            "tags": []
          },
          "execution_count": 33
        }
      ]
    },
    {
      "cell_type": "code",
      "metadata": {
        "id": "JloGyCWFUdrz",
        "colab": {
          "base_uri": "https://localhost:8080/"
        },
        "outputId": "8f43e675-9534-44bd-f645-704ec80bf4b5"
      },
      "source": [
        "# setting timer\n",
        "ts = time.time()\n",
        "\n",
        "# XGBoost model\n",
        "model = XGBRegressor(\n",
        "    max_depth = 10,\n",
        "    n_estimators = 2000,\n",
        "    min_child_weight = 300, \n",
        "    colsample_bytree = 0.8, \n",
        "    subsample = 0.8, \n",
        "    eta = 0.5,    \n",
        "    seed = 42)\n",
        "\n",
        "# fitting the model to data\n",
        "model.fit(\n",
        "    X_train, \n",
        "    y_train, \n",
        "    eval_metric = \"rmse\", \n",
        "    eval_set = [(X_train, y_train), (X_val, y_val)], \n",
        "    verbose = True, \n",
        "    early_stopping_rounds = 10)\n",
        "\n",
        "print(f'The model took: {time.time() - ts} seconds')"
      ],
      "execution_count": null,
      "outputs": [
        {
          "output_type": "stream",
          "text": [
            "[15:14:11] WARNING: /workspace/src/objective/regression_obj.cu:152: reg:linear is now deprecated in favor of reg:squarederror.\n",
            "[0]\tvalidation_0-rmse:2.218\tvalidation_1-rmse:0.755046\n",
            "Multiple eval metrics have been passed: 'validation_1-rmse' will be used for early stopping.\n",
            "\n",
            "Will train until validation_1-rmse hasn't improved in 10 rounds.\n",
            "[1]\tvalidation_0-rmse:2.17489\tvalidation_1-rmse:0.719325\n",
            "[2]\tvalidation_0-rmse:2.14225\tvalidation_1-rmse:0.678026\n",
            "[3]\tvalidation_0-rmse:2.10719\tvalidation_1-rmse:0.650127\n",
            "[4]\tvalidation_0-rmse:2.07896\tvalidation_1-rmse:0.627242\n",
            "[5]\tvalidation_0-rmse:2.05777\tvalidation_1-rmse:0.612401\n",
            "[6]\tvalidation_0-rmse:2.04089\tvalidation_1-rmse:0.592088\n",
            "[7]\tvalidation_0-rmse:2.02291\tvalidation_1-rmse:0.580122\n",
            "[8]\tvalidation_0-rmse:2.00859\tvalidation_1-rmse:0.57545\n",
            "[9]\tvalidation_0-rmse:1.99447\tvalidation_1-rmse:0.559455\n",
            "[10]\tvalidation_0-rmse:1.98222\tvalidation_1-rmse:0.551714\n",
            "[11]\tvalidation_0-rmse:1.97039\tvalidation_1-rmse:0.545397\n",
            "[12]\tvalidation_0-rmse:1.95976\tvalidation_1-rmse:0.54124\n",
            "[13]\tvalidation_0-rmse:1.95081\tvalidation_1-rmse:0.541399\n",
            "[14]\tvalidation_0-rmse:1.942\tvalidation_1-rmse:0.543513\n",
            "[15]\tvalidation_0-rmse:1.93565\tvalidation_1-rmse:0.5399\n",
            "[16]\tvalidation_0-rmse:1.9299\tvalidation_1-rmse:0.534332\n",
            "[17]\tvalidation_0-rmse:1.92552\tvalidation_1-rmse:0.538258\n",
            "[18]\tvalidation_0-rmse:1.92031\tvalidation_1-rmse:0.542933\n",
            "[19]\tvalidation_0-rmse:1.91555\tvalidation_1-rmse:0.549212\n",
            "[20]\tvalidation_0-rmse:1.91044\tvalidation_1-rmse:0.546714\n",
            "[21]\tvalidation_0-rmse:1.90683\tvalidation_1-rmse:0.550954\n",
            "[22]\tvalidation_0-rmse:1.90367\tvalidation_1-rmse:0.554605\n",
            "[23]\tvalidation_0-rmse:1.90022\tvalidation_1-rmse:0.559118\n",
            "[24]\tvalidation_0-rmse:1.89757\tvalidation_1-rmse:0.562141\n",
            "[25]\tvalidation_0-rmse:1.89499\tvalidation_1-rmse:0.566644\n",
            "[26]\tvalidation_0-rmse:1.89201\tvalidation_1-rmse:0.563767\n",
            "Stopping. Best iteration:\n",
            "[16]\tvalidation_0-rmse:1.9299\tvalidation_1-rmse:0.534332\n",
            "\n",
            "The model took: 265.6881549358368 seconds\n"
          ],
          "name": "stdout"
        }
      ]
    },
    {
      "cell_type": "code",
      "metadata": {
        "id": "Pr1R2uS-Rnxc"
      },
      "source": [
        "# saving model as pickle file\n",
        "#import pickle\n",
        "\n",
        "#xgboost_pickle = 'xgboost_pickle.pkl'\n",
        "#with open(xgboost_pickle, 'wb') as file:\n",
        "#  pickle.dump(model, file)"
      ],
      "execution_count": null,
      "outputs": []
    },
    {
      "cell_type": "markdown",
      "metadata": {
        "id": "dQdMsmNVXSn5"
      },
      "source": [
        "## Matching output to test_df for submission"
      ]
    },
    {
      "cell_type": "code",
      "metadata": {
        "id": "O1oiZLwyW_v2",
        "colab": {
          "base_uri": "https://localhost:8080/"
        },
        "outputId": "8403379c-debd-43b4-d367-08ee5ca2480f"
      },
      "source": [
        "# checking length of test_df\n",
        "print(f'Submission must contain {len(test_df} rows')"
      ],
      "execution_count": null,
      "outputs": [
        {
          "output_type": "execute_result",
          "data": {
            "text/plain": [
              "214200"
            ]
          },
          "metadata": {
            "tags": []
          },
          "execution_count": 44
        }
      ]
    },
    {
      "cell_type": "code",
      "metadata": {
        "id": "x6f6meyVW_v2"
      },
      "source": [
        "# grabbing only the 24th month data from pivoted train data\n",
        "shop_id_month_stack_last_month = shop_id_month_stack[shop_id_month_stack['month_id'] == 24]\n",
        "\n",
        "# merging the test_df with the 24th month pivoted train data\n",
        "test_df_merged = pd.merge(test_df, shop_id_month_stack_last_month, how = 'left', on = ['item_id', 'shop_id'])\n",
        "\n",
        "# filling all NaN's with 0\n",
        "test_df_merged.fillna(0, inplace = True)"
      ],
      "execution_count": null,
      "outputs": []
    },
    {
      "cell_type": "code",
      "metadata": {
        "id": "pIiqZ5MVW_v3",
        "colab": {
          "base_uri": "https://localhost:8080/",
          "height": 86
        },
        "outputId": "cf59c32f-fb32-403d-f7f9-c976821a3d6e"
      },
      "source": [
        "# This item is NOT in the train dataframe, but it IS in the test_df, so the result should be an empty DF\n",
        "shop_id_month_stack_last_month[shop_id_month_stack_last_month['item_id'] == 5320]"
      ],
      "execution_count": null,
      "outputs": [
        {
          "output_type": "execute_result",
          "data": {
            "text/html": [
              "<div>\n",
              "<style scoped>\n",
              "    .dataframe tbody tr th:only-of-type {\n",
              "        vertical-align: middle;\n",
              "    }\n",
              "\n",
              "    .dataframe tbody tr th {\n",
              "        vertical-align: top;\n",
              "    }\n",
              "\n",
              "    .dataframe thead th {\n",
              "        text-align: right;\n",
              "    }\n",
              "</style>\n",
              "<table border=\"1\" class=\"dataframe\">\n",
              "  <thead>\n",
              "    <tr style=\"text-align: right;\">\n",
              "      <th></th>\n",
              "      <th>item_id</th>\n",
              "      <th>shop_id</th>\n",
              "      <th>month_id</th>\n",
              "      <th>By_item_id-shop_id</th>\n",
              "      <th>By_item_id-shop_id_1_month_ago</th>\n",
              "      <th>By_item_id-shop_id_2_month_ago</th>\n",
              "      <th>By_item_id-shop_id_3_month_ago</th>\n",
              "      <th>By_item_id-shop_id_4_month_ago</th>\n",
              "      <th>By_item_id-shop_id_5_month_ago</th>\n",
              "      <th>By_item_id-shop_id_6_month_ago</th>\n",
              "      <th>By_item_id-shop_id_7_month_ago</th>\n",
              "      <th>By_item_id-shop_id_8_month_ago</th>\n",
              "      <th>By_item_id-shop_id_9_month_ago</th>\n",
              "      <th>By_item_id-shop_id_10_month_ago</th>\n",
              "      <th>By_item_id-shop_id_11_month_ago</th>\n",
              "      <th>By_item_id-shop_id_12_month_ago</th>\n",
              "    </tr>\n",
              "  </thead>\n",
              "  <tbody>\n",
              "  </tbody>\n",
              "</table>\n",
              "</div>"
            ],
            "text/plain": [
              "Empty DataFrame\n",
              "Columns: [item_id, shop_id, month_id, By_item_id-shop_id, By_item_id-shop_id_1_month_ago, By_item_id-shop_id_2_month_ago, By_item_id-shop_id_3_month_ago, By_item_id-shop_id_4_month_ago, By_item_id-shop_id_5_month_ago, By_item_id-shop_id_6_month_ago, By_item_id-shop_id_7_month_ago, By_item_id-shop_id_8_month_ago, By_item_id-shop_id_9_month_ago, By_item_id-shop_id_10_month_ago, By_item_id-shop_id_11_month_ago, By_item_id-shop_id_12_month_ago]\n",
              "Index: []"
            ]
          },
          "metadata": {
            "tags": []
          },
          "execution_count": 47
        }
      ]
    },
    {
      "cell_type": "code",
      "metadata": {
        "id": "WevOqhBXW9Wn"
      },
      "source": [
        "# creating a copy of the test_df_merged\n",
        "test_df_clean = test_df_merged.copy()\n",
        "\n",
        "# for loop to drop un-needed columns for submission\n",
        "for col_name in ['Unnamed: 0', 'ID', 'item_cnt_month_shop_id', 'By_item_id-shop_id']:\n",
        "    try:\n",
        "        test_df_clean = test_df_clean.drop(col_name, axis = 1)\n",
        "    except:\n",
        "        pass\n",
        "\n",
        "# setting the order of the test_df_clean for XGBoost\n",
        "test_df_clean = test_df_clean[train_col_order]"
      ],
      "execution_count": null,
      "outputs": []
    },
    {
      "cell_type": "code",
      "metadata": {
        "id": "Uhg0PfhfW_v3",
        "colab": {
          "base_uri": "https://localhost:8080/",
          "height": 241
        },
        "outputId": "1e7afbe2-624f-436e-bb87-c34432f7a041"
      },
      "source": [
        "#checking test_df_clean head\n",
        "test_df_clean.head()"
      ],
      "execution_count": null,
      "outputs": [
        {
          "output_type": "execute_result",
          "data": {
            "text/html": [
              "<div>\n",
              "<style scoped>\n",
              "    .dataframe tbody tr th:only-of-type {\n",
              "        vertical-align: middle;\n",
              "    }\n",
              "\n",
              "    .dataframe tbody tr th {\n",
              "        vertical-align: top;\n",
              "    }\n",
              "\n",
              "    .dataframe thead th {\n",
              "        text-align: right;\n",
              "    }\n",
              "</style>\n",
              "<table border=\"1\" class=\"dataframe\">\n",
              "  <thead>\n",
              "    <tr style=\"text-align: right;\">\n",
              "      <th></th>\n",
              "      <th>shop_id</th>\n",
              "      <th>item_id</th>\n",
              "      <th>month_id</th>\n",
              "      <th>By_item_id-shop_id_1_month_ago</th>\n",
              "      <th>By_item_id-shop_id_2_month_ago</th>\n",
              "      <th>By_item_id-shop_id_3_month_ago</th>\n",
              "      <th>By_item_id-shop_id_4_month_ago</th>\n",
              "      <th>By_item_id-shop_id_5_month_ago</th>\n",
              "      <th>By_item_id-shop_id_6_month_ago</th>\n",
              "      <th>By_item_id-shop_id_7_month_ago</th>\n",
              "      <th>By_item_id-shop_id_8_month_ago</th>\n",
              "      <th>By_item_id-shop_id_9_month_ago</th>\n",
              "      <th>By_item_id-shop_id_10_month_ago</th>\n",
              "      <th>By_item_id-shop_id_11_month_ago</th>\n",
              "      <th>By_item_id-shop_id_12_month_ago</th>\n",
              "    </tr>\n",
              "  </thead>\n",
              "  <tbody>\n",
              "    <tr>\n",
              "      <th>0</th>\n",
              "      <td>5</td>\n",
              "      <td>5037</td>\n",
              "      <td>0.0</td>\n",
              "      <td>0.0</td>\n",
              "      <td>0.0</td>\n",
              "      <td>0.0</td>\n",
              "      <td>0.0</td>\n",
              "      <td>0.0</td>\n",
              "      <td>0.0</td>\n",
              "      <td>0.0</td>\n",
              "      <td>0.0</td>\n",
              "      <td>0.0</td>\n",
              "      <td>0.0</td>\n",
              "      <td>0.0</td>\n",
              "      <td>0.0</td>\n",
              "    </tr>\n",
              "    <tr>\n",
              "      <th>1</th>\n",
              "      <td>5</td>\n",
              "      <td>5320</td>\n",
              "      <td>0.0</td>\n",
              "      <td>0.0</td>\n",
              "      <td>0.0</td>\n",
              "      <td>0.0</td>\n",
              "      <td>0.0</td>\n",
              "      <td>0.0</td>\n",
              "      <td>0.0</td>\n",
              "      <td>0.0</td>\n",
              "      <td>0.0</td>\n",
              "      <td>0.0</td>\n",
              "      <td>0.0</td>\n",
              "      <td>0.0</td>\n",
              "      <td>0.0</td>\n",
              "    </tr>\n",
              "    <tr>\n",
              "      <th>2</th>\n",
              "      <td>5</td>\n",
              "      <td>5233</td>\n",
              "      <td>0.0</td>\n",
              "      <td>0.0</td>\n",
              "      <td>0.0</td>\n",
              "      <td>0.0</td>\n",
              "      <td>0.0</td>\n",
              "      <td>0.0</td>\n",
              "      <td>0.0</td>\n",
              "      <td>0.0</td>\n",
              "      <td>0.0</td>\n",
              "      <td>0.0</td>\n",
              "      <td>0.0</td>\n",
              "      <td>0.0</td>\n",
              "      <td>0.0</td>\n",
              "    </tr>\n",
              "    <tr>\n",
              "      <th>3</th>\n",
              "      <td>5</td>\n",
              "      <td>5232</td>\n",
              "      <td>0.0</td>\n",
              "      <td>0.0</td>\n",
              "      <td>0.0</td>\n",
              "      <td>0.0</td>\n",
              "      <td>0.0</td>\n",
              "      <td>0.0</td>\n",
              "      <td>0.0</td>\n",
              "      <td>0.0</td>\n",
              "      <td>0.0</td>\n",
              "      <td>0.0</td>\n",
              "      <td>0.0</td>\n",
              "      <td>0.0</td>\n",
              "      <td>0.0</td>\n",
              "    </tr>\n",
              "    <tr>\n",
              "      <th>4</th>\n",
              "      <td>5</td>\n",
              "      <td>5268</td>\n",
              "      <td>0.0</td>\n",
              "      <td>0.0</td>\n",
              "      <td>0.0</td>\n",
              "      <td>0.0</td>\n",
              "      <td>0.0</td>\n",
              "      <td>0.0</td>\n",
              "      <td>0.0</td>\n",
              "      <td>0.0</td>\n",
              "      <td>0.0</td>\n",
              "      <td>0.0</td>\n",
              "      <td>0.0</td>\n",
              "      <td>0.0</td>\n",
              "      <td>0.0</td>\n",
              "    </tr>\n",
              "  </tbody>\n",
              "</table>\n",
              "</div>"
            ],
            "text/plain": [
              "   shop_id  ...  By_item_id-shop_id_12_month_ago\n",
              "0        5  ...                              0.0\n",
              "1        5  ...                              0.0\n",
              "2        5  ...                              0.0\n",
              "3        5  ...                              0.0\n",
              "4        5  ...                              0.0\n",
              "\n",
              "[5 rows x 15 columns]"
            ]
          },
          "metadata": {
            "tags": []
          },
          "execution_count": 49
        }
      ]
    },
    {
      "cell_type": "code",
      "metadata": {
        "id": "87EzJUCxW_v6",
        "colab": {
          "base_uri": "https://localhost:8080/"
        },
        "outputId": "ec9c9b84-f5a1-467d-9700-005bde987dea"
      },
      "source": [
        "# checking to see if length of pivoted dataframe equals length of test_df\n",
        "if len(test_df_clean) == len(test_df):\n",
        "  print('length of test and pivoted dataframe match!')\n",
        "else:\n",
        "  print('length of test and pivoted dataframe don/'t match')"
      ],
      "execution_count": null,
      "outputs": [
        {
          "output_type": "execute_result",
          "data": {
            "text/plain": [
              "214200"
            ]
          },
          "metadata": {
            "tags": []
          },
          "execution_count": 52
        }
      ]
    },
    {
      "cell_type": "code",
      "metadata": {
        "id": "nPN0b5PRW_v7"
      },
      "source": [
        "# grabbing only 25th month for submission\n",
        "test_df_clean['month_id'] = 25"
      ],
      "execution_count": null,
      "outputs": []
    },
    {
      "cell_type": "code",
      "metadata": {
        "id": "Vqr0vmUBW_v8"
      },
      "source": [
        "# predicting X_val \n",
        "y_pred_test = model.predict(test_df_clean)\n",
        "#.clip(0, 20)"
      ],
      "execution_count": null,
      "outputs": []
    },
    {
      "cell_type": "code",
      "metadata": {
        "id": "itej3NOKW_v-"
      },
      "source": [
        "# creating copy of test_df_clean_for_submission\n",
        "test_df_clean_for_submission = test_df_clean.copy()\n",
        "\n",
        "# ordering dataframe by ID col\n",
        "test_df_clean_for_submission['ID'] = np.arange(0,214200)\n",
        "\n",
        "# inserting prediction into the item_cnt_month col\n",
        "test_df_clean_for_submission['item_cnt_month'] = y_pred_test\n",
        "\n",
        "# checking test_df_clean_for_submission head\n",
        "test_df_clean_for_submission.head()"
      ],
      "execution_count": null,
      "outputs": []
    },
    {
      "cell_type": "code",
      "metadata": {
        "id": "W63Dil4UW_v_"
      },
      "source": [
        "# trimming submission dataframe to just 'ID' and 'item_cnt_month' cols \n",
        "submission_df = test_df_clean_for_submission[['ID','item_cnt_month']]"
      ],
      "execution_count": null,
      "outputs": []
    },
    {
      "cell_type": "code",
      "metadata": {
        "id": "1xqfbOEtW_wA",
        "colab": {
          "base_uri": "https://localhost:8080/",
          "height": 204
        },
        "outputId": "16edebab-7782-40de-8cec-fa483c9ee783"
      },
      "source": [
        "# checking submission_df\n",
        "submission_df.head()"
      ],
      "execution_count": null,
      "outputs": [
        {
          "output_type": "execute_result",
          "data": {
            "text/html": [
              "<div>\n",
              "<style scoped>\n",
              "    .dataframe tbody tr th:only-of-type {\n",
              "        vertical-align: middle;\n",
              "    }\n",
              "\n",
              "    .dataframe tbody tr th {\n",
              "        vertical-align: top;\n",
              "    }\n",
              "\n",
              "    .dataframe thead th {\n",
              "        text-align: right;\n",
              "    }\n",
              "</style>\n",
              "<table border=\"1\" class=\"dataframe\">\n",
              "  <thead>\n",
              "    <tr style=\"text-align: right;\">\n",
              "      <th></th>\n",
              "      <th>ID</th>\n",
              "      <th>item_cnt_month</th>\n",
              "    </tr>\n",
              "  </thead>\n",
              "  <tbody>\n",
              "    <tr>\n",
              "      <th>0</th>\n",
              "      <td>0</td>\n",
              "      <td>0.112635</td>\n",
              "    </tr>\n",
              "    <tr>\n",
              "      <th>1</th>\n",
              "      <td>1</td>\n",
              "      <td>0.110691</td>\n",
              "    </tr>\n",
              "    <tr>\n",
              "      <th>2</th>\n",
              "      <td>2</td>\n",
              "      <td>0.112635</td>\n",
              "    </tr>\n",
              "    <tr>\n",
              "      <th>3</th>\n",
              "      <td>3</td>\n",
              "      <td>0.112635</td>\n",
              "    </tr>\n",
              "    <tr>\n",
              "      <th>4</th>\n",
              "      <td>4</td>\n",
              "      <td>0.112635</td>\n",
              "    </tr>\n",
              "  </tbody>\n",
              "</table>\n",
              "</div>"
            ],
            "text/plain": [
              "   ID  item_cnt_month\n",
              "0   0        0.112635\n",
              "1   1        0.110691\n",
              "2   2        0.112635\n",
              "3   3        0.112635\n",
              "4   4        0.112635"
            ]
          },
          "metadata": {
            "tags": []
          },
          "execution_count": 70
        }
      ]
    },
    {
      "cell_type": "code",
      "metadata": {
        "id": "AL6B-3x8pQvg",
        "colab": {
          "base_uri": "https://localhost:8080/",
          "height": 637
        },
        "outputId": "4060992c-302e-4f77-a3ee-bf9d91671e7e"
      },
      "source": [
        "# creating function to plot features\n",
        "def plot_features(booster, figsize):    \n",
        "    fig, ax = plt.subplots(1, 1, figsize = figsize)\n",
        "    return plot_importance(booster = booster, ax = ax)\n",
        "\n",
        "plot_features(model, (20,10))\n",
        "\n",
        "#plt.savefig('drive/MyDrive/Camp Jupyter/predict_future_sales_data/xgboost.png')"
      ],
      "execution_count": null,
      "outputs": [
        {
          "output_type": "execute_result",
          "data": {
            "text/plain": [
              "<matplotlib.axes._subplots.AxesSubplot at 0x7f8e24610810>"
            ]
          },
          "metadata": {
            "tags": []
          },
          "execution_count": 36
        },
        {
          "output_type": "display_data",
          "data": {
            "image/png": "[encoded data removed]",
            "text/plain": [
              "<Figure size 1440x720 with 1 Axes>"
            ]
          },
          "metadata": {
            "tags": [],
            "needs_background": "light"
          }
        }
      ]
    },
    {
      "cell_type": "code",
      "metadata": {
        "colab": {
          "base_uri": "https://localhost:8080/",
          "height": 625
        },
        "id": "mimciIKwpTww",
        "outputId": "694a6ca2-8c02-408b-d3b9-b459f4d92a16"
      },
      "source": [
        "# scatterplot predictions and actual\n",
        "plt.figure(figsize = (20, 10))\n",
        "plt.scatter(x = y_pred_test, y = y_val, c = 'r', alpha = 0.4)\n",
        "#plt.xlim(0, 5)\n",
        "#plt.ylim(-0.5, 20)\n",
        "plt.title('Actual vs. predictions scatterplot')\n",
        "#plt.savefig('drive/MyDrive/Camp Jupyter/predict_future_sales_data/xgboost_scatter.png')"
      ],
      "execution_count": null,
      "outputs": [
        {
          "output_type": "execute_result",
          "data": {
            "text/plain": [
              "Text(0.5, 1.0, 'Actual vs. predictions scatterplot')"
            ]
          },
          "metadata": {
            "tags": []
          },
          "execution_count": 40
        },
        {
          "output_type": "display_data",
          "data": {
            "image/png": "[encoded data removed]",
            "text/plain": [
              "<Figure size 1440x720 with 1 Axes>"
            ]
          },
          "metadata": {
            "tags": [],
            "needs_background": "light"
          }
        }
      ]
    },
    {
      "cell_type": "code",
      "metadata": {
        "id": "HAaHxJZMW_wC"
      },
      "source": [
        "# save submission to upload to Kaggle -- update date in file path!\n",
        "submission_df.to_csv('sample_2021-0501.csv', index = False)"
      ],
      "execution_count": null,
      "outputs": []
    }
  ]
}