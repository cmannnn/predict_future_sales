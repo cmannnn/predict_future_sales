{
  "nbformat": 4,
  "nbformat_minor": 0,
  "metadata": {
    "accelerator": "GPU",
    "colab": {
      "name": "predict_future_sales_barebone_xgboost.ipynb",
      "provenance": [],
      "collapsed_sections": [
        "U4SoFslGfRpJ",
        "uHVIBl7Xcv4E",
        "ZkxytbOZL-jn",
        "bOxMQcL9dMuu",
        "MchAi0wABchP"
      ],
      "include_colab_link": true
    },
    "kernelspec": {
      "display_name": "Python 3",
      "language": "python",
      "name": "python3"
    },
    "language_info": {
      "codemirror_mode": {
        "name": "ipython",
        "version": 3
      },
      "file_extension": ".py",
      "mimetype": "text/x-python",
      "name": "python",
      "nbconvert_exporter": "python",
      "pygments_lexer": "ipython3",
      "version": "3.9.1"
    },
    "toc-autonumbering": true
  },
  "cells": [
    {
      "cell_type": "markdown",
      "metadata": {
        "id": "view-in-github",
        "colab_type": "text"
      },
      "source": [
        "<a href=\"https://colab.research.google.com/github/cmannnn/predict_future_sales/blob/barebone_xgboost/predict_future_sales_barebone_xgboost.ipynb\" target=\"_parent\"><img src=\"https://colab.research.google.com/assets/colab-badge.svg\" alt=\"Open In Colab\"/></a>"
      ]
    },
    {
      "cell_type": "markdown",
      "metadata": {
        "id": "U4SoFslGfRpJ"
      },
      "source": [
        "# Predict Future Sales"
      ]
    },
    {
      "cell_type": "markdown",
      "metadata": {
        "id": "j-UxcjnUffCN"
      },
      "source": [
        "# Imports and uploads"
      ]
    },
    {
      "cell_type": "code",
      "metadata": {
        "id": "XTSLNlmdd5lX",
        "colab": {
          "base_uri": "https://localhost:8080/"
        },
        "outputId": "b4e846f0-177b-4cf1-e85d-ba3ecc8540b7"
      },
      "source": [
        "# imports\n",
        "import os\n",
        "\n",
        "import time\n",
        "\n",
        "import datetime as dt\n",
        "\n",
        "import pandas as pd\n",
        "import matplotlib.pyplot as plt\n",
        "import numpy as np\n",
        "import seaborn as sns\n",
        "#import tensorflow as tf\n",
        "\n",
        "\n",
        "#import specific sklearn packages\n",
        "from sklearn.model_selection import train_test_split\n",
        "from sklearn.model_selection import TimeSeriesSplit\n",
        "from sklearn.model_selection import StratifiedKFold\n",
        "from sklearn.model_selection import RandomizedSearchCV\n",
        "\n",
        "#encoders, tested several of them\n",
        "from sklearn.preprocessing import OrdinalEncoder # remove later, don't use this\n",
        "from sklearn.preprocessing import LabelEncoder # remove later, don't use this\n",
        "from sklearn.preprocessing import OneHotEncoder # probably don't use this, instead use pd.get_dummies\n",
        "from sklearn.feature_extraction import FeatureHasher\n",
        "\n",
        "from sklearn.preprocessing import MinMaxScaler\n",
        "from sklearn.preprocessing import StandardScaler\n",
        "\n",
        "from sklearn.feature_selection import VarianceThreshold\n",
        "\n",
        "from sklearn.metrics import classification_report\n",
        "from sklearn.metrics import confusion_matrix\n",
        "\n",
        "from sklearn.pipeline import make_pipeline\n",
        "\n",
        "\n",
        "from sklearn.cluster import KMeans\n",
        "\n",
        "from sklearn.linear_model import LogisticRegression\n",
        "\n",
        "from sklearn import linear_model\n",
        "\n",
        "from sklearn.ensemble import AdaBoostRegressor\n",
        "from sklearn.ensemble import RandomForestRegressor\n",
        "\n",
        "from xgboost import XGBRegressor\n",
        "from xgboost import plot_importance\n",
        "\n",
        "# Google Colab mount\n",
        "from google.colab import drive\n",
        "drive.mount('/content/drive')"
      ],
      "execution_count": 3,
      "outputs": [
        {
          "output_type": "stream",
          "text": [
            "Drive already mounted at /content/drive; to attempt to forcibly remount, call drive.mount(\"/content/drive\", force_remount=True).\n"
          ],
          "name": "stdout"
        }
      ]
    },
    {
      "cell_type": "markdown",
      "metadata": {
        "id": "4mY4s3UubFhz"
      },
      "source": [
        "# Importing All Predict Sales Data"
      ]
    },
    {
      "cell_type": "code",
      "metadata": {
        "id": "CwqnebRuocPf"
      },
      "source": [
        "#importing all the data frames\n",
        "\n",
        "# root path for running on Google Colab\n",
        "root_path = 'drive/MyDrive/Camp Jupyter/predict_future_sales_data/kaggle_data/'\n",
        "\n",
        "# root path for running locally\n",
        "#root_path='./'\n",
        "itemcats_df = pd.read_csv(root_path+\"item_categories.csv\", encoding= 'unicode_escape') #Item Categories\n",
        "items_df = pd.read_csv(root_path+\"items.csv\", encoding= 'unicode_escape') # Items\n",
        "salestrain_df = pd.read_csv(root_path+\"sales_train.csv\", encoding= 'unicode_escape') #Sales Data - Training\n",
        "salestrain_df.date = pd.to_datetime(salestrain_df.date)\n",
        "shops_df = pd.read_csv(root_path+\"shops.csv\", encoding= 'unicode_escape') # Shops\n",
        "usd_rus_df = pd.read_csv('drive/MyDrive/Camp Jupyter/predict_future_sales_data/additional_data/USD-RUS.csv')\n",
        "usd_rus_df.Date = pd.to_datetime(usd_rus_df.Date)\n",
        "\n",
        "# sample submission dataframe\n",
        "sample_df = pd.read_csv(root_path+'sample_submission.csv')\n",
        "\n",
        "# test data frame\n",
        "test_df = pd.read_csv(root_path+'test.csv')"
      ],
      "execution_count": 16,
      "outputs": []
    },
    {
      "cell_type": "code",
      "metadata": {
        "id": "jtjsH1gxArmn"
      },
      "source": [
        "# combining training dataframes into master training set\n",
        "salestrain_df_combined = salestrain_df.merge(items_df, on = 'item_id')\n",
        "salestrain_df_combined = salestrain_df_combined.merge(itemcats_df, on = 'item_category_id')\n",
        "salestrain_df_combined = salestrain_df_combined.merge(shops_df, on = 'shop_id')\n",
        "\n",
        "# adding features for separating date\n",
        "salestrain_df_combined['year'] = salestrain_df_combined.date.dt.year\n",
        "salestrain_df_combined['month'] = salestrain_df_combined.date.dt.month\n",
        "salestrain_df_combined['day'] = salestrain_df_combined.date.dt.day\n",
        "\n",
        "# adding revenue column\n",
        "salestrain_df_combined['revenue'] = salestrain_df_combined.item_price * salestrain_df_combined.item_cnt_day\n",
        "\n",
        "# adding a random feature\n",
        "salestrain_df_combined['Random'] = salestrain_df_combined.apply(lambda x: np.random.randint(100),axis = 'columns')\n",
        "\n",
        "# creating a new feature: 'month-year'\n",
        "salestrain_df_combined['month-year'] = salestrain_df_combined['date'].apply(lambda x: str(x.month) + '-' + str(x.year) if x.month >= 10 else '0' + str(x.month) + '-' + str(x.year)) "
      ],
      "execution_count": 17,
      "outputs": []
    },
    {
      "cell_type": "markdown",
      "metadata": {
        "id": "WfIJHpr9fJRC"
      },
      "source": [
        "##Merging USD - RUS currency conversion to salestrain_df_combined"
      ]
    },
    {
      "cell_type": "code",
      "metadata": {
        "id": "BCTzhjvHMPpm"
      },
      "source": [
        "# merging exchange rate data to master dataframe\n",
        "salestrain_df_combined = salestrain_df_combined.merge(usd_rus_df[['Date','Open']], left_on = 'date', right_on = 'Date')"
      ],
      "execution_count": 18,
      "outputs": []
    },
    {
      "cell_type": "code",
      "metadata": {
        "id": "lThqfMt7MgO4"
      },
      "source": [
        "# dropping the duplicated date col from \n",
        "salestrain_df_combined.drop(['Date'], axis = 'columns', inplace = True)"
      ],
      "execution_count": 22,
      "outputs": []
    },
    {
      "cell_type": "code",
      "metadata": {
        "id": "Win4oHjtOmQA"
      },
      "source": [
        "# renaming the 'Open' col to 'USD_RUS' from the USD RUS conversion dataframe\n",
        "salestrain_df_combined.rename({'Open':'USD_RUS'}, axis = 'columns', inplace = True)"
      ],
      "execution_count": 23,
      "outputs": []
    },
    {
      "cell_type": "code",
      "metadata": {
        "id": "vZBSL0cBM35Z"
      },
      "source": [
        "# caltulating the price based on the conversion rate\n",
        "salestrain_df_combined['USD_Price'] = salestrain_df_combined['item_price'] / salestrain_df_combined['USD_RUS']"
      ],
      "execution_count": 24,
      "outputs": []
    },
    {
      "cell_type": "code",
      "metadata": {
        "colab": {
          "base_uri": "https://localhost:8080/",
          "height": 315
        },
        "id": "lnXOb0_hEDGg",
        "outputId": "eaaa85cf-17af-4dc6-e3a5-d1a7480249b4"
      },
      "source": [
        "salestrain_df_combined.head(3)"
      ],
      "execution_count": 26,
      "outputs": [
        {
          "output_type": "execute_result",
          "data": {
            "text/html": [
              "<div>\n",
              "<style scoped>\n",
              "    .dataframe tbody tr th:only-of-type {\n",
              "        vertical-align: middle;\n",
              "    }\n",
              "\n",
              "    .dataframe tbody tr th {\n",
              "        vertical-align: top;\n",
              "    }\n",
              "\n",
              "    .dataframe thead th {\n",
              "        text-align: right;\n",
              "    }\n",
              "</style>\n",
              "<table border=\"1\" class=\"dataframe\">\n",
              "  <thead>\n",
              "    <tr style=\"text-align: right;\">\n",
              "      <th></th>\n",
              "      <th>date</th>\n",
              "      <th>date_block_num</th>\n",
              "      <th>shop_id</th>\n",
              "      <th>item_id</th>\n",
              "      <th>item_price</th>\n",
              "      <th>item_cnt_day</th>\n",
              "      <th>item_name</th>\n",
              "      <th>item_category_id</th>\n",
              "      <th>item_category_name</th>\n",
              "      <th>shop_name</th>\n",
              "      <th>year</th>\n",
              "      <th>month</th>\n",
              "      <th>day</th>\n",
              "      <th>USD_RUS</th>\n",
              "      <th>USD_Price</th>\n",
              "    </tr>\n",
              "  </thead>\n",
              "  <tbody>\n",
              "    <tr>\n",
              "      <th>0</th>\n",
              "      <td>2013-02-01</td>\n",
              "      <td>0</td>\n",
              "      <td>59</td>\n",
              "      <td>22154</td>\n",
              "      <td>999.00</td>\n",
              "      <td>1.0</td>\n",
              "      <td>Scene 2012 (BD)</td>\n",
              "      <td>37</td>\n",
              "      <td>Movie - Blu-Ray</td>\n",
              "      <td>Yaroslavl shopping center \"Altair\"</td>\n",
              "      <td>2013</td>\n",
              "      <td>2</td>\n",
              "      <td>1</td>\n",
              "      <td>29.9816</td>\n",
              "      <td>33.320437</td>\n",
              "    </tr>\n",
              "    <tr>\n",
              "      <th>1</th>\n",
              "      <td>2013-02-01</td>\n",
              "      <td>0</td>\n",
              "      <td>59</td>\n",
              "      <td>17482</td>\n",
              "      <td>599.38</td>\n",
              "      <td>1.0</td>\n",
              "      <td>PROMETEY (BD)</td>\n",
              "      <td>37</td>\n",
              "      <td>Movie - Blu-Ray</td>\n",
              "      <td>Yaroslavl shopping center \"Altair\"</td>\n",
              "      <td>2013</td>\n",
              "      <td>2</td>\n",
              "      <td>1</td>\n",
              "      <td>29.9816</td>\n",
              "      <td>19.991595</td>\n",
              "    </tr>\n",
              "    <tr>\n",
              "      <th>2</th>\n",
              "      <td>2013-02-01</td>\n",
              "      <td>0</td>\n",
              "      <td>59</td>\n",
              "      <td>16626</td>\n",
              "      <td>312.03</td>\n",
              "      <td>1.0</td>\n",
              "      <td>OPINION (BD)</td>\n",
              "      <td>37</td>\n",
              "      <td>Movie - Blu-Ray</td>\n",
              "      <td>Yaroslavl shopping center \"Altair\"</td>\n",
              "      <td>2013</td>\n",
              "      <td>2</td>\n",
              "      <td>1</td>\n",
              "      <td>29.9816</td>\n",
              "      <td>10.407383</td>\n",
              "    </tr>\n",
              "  </tbody>\n",
              "</table>\n",
              "</div>"
            ],
            "text/plain": [
              "        date  date_block_num  shop_id  item_id  ...  month  day  USD_RUS  USD_Price\n",
              "0 2013-02-01               0       59    22154  ...      2    1  29.9816  33.320437\n",
              "1 2013-02-01               0       59    17482  ...      2    1  29.9816  19.991595\n",
              "2 2013-02-01               0       59    16626  ...      2    1  29.9816  10.407383\n",
              "\n",
              "[3 rows x 15 columns]"
            ]
          },
          "metadata": {
            "tags": []
          },
          "execution_count": 26
        }
      ]
    },
    {
      "cell_type": "markdown",
      "metadata": {
        "id": "V4QbrLayW_vO"
      },
      "source": [
        "## Remove Outliers above 600 sales per day"
      ]
    },
    {
      "cell_type": "code",
      "metadata": {
        "id": "yRiMoEPlW_vN",
        "outputId": "f1631089-abc4-43d2-da16-eacf1a123964"
      },
      "source": [
        "salestrain_df_combined['item_cnt_day'].max()"
      ],
      "execution_count": null,
      "outputs": [
        {
          "output_type": "execute_result",
          "data": {
            "text/plain": [
              "2169.0"
            ]
          },
          "metadata": {
            "tags": []
          },
          "execution_count": 131
        }
      ]
    },
    {
      "cell_type": "code",
      "metadata": {
        "scrolled": true,
        "id": "smU5Iq29W_vO",
        "outputId": "a1ae256f-5918-4662-d2fe-eb778a1eb82b"
      },
      "source": [
        "for i in range(0,22):\n",
        "    print(i,len(salestrain_df_combined[salestrain_df_combined['item_cnt_day']>i*100]))"
      ],
      "execution_count": null,
      "outputs": [
        {
          "output_type": "stream",
          "text": [
            "0 2928493\n",
            "1 138\n",
            "2 38\n",
            "3 23\n",
            "4 19\n",
            "5 12\n",
            "6 5\n",
            "7 2\n",
            "8 2\n",
            "9 2\n",
            "10 1\n",
            "11 1\n",
            "12 1\n",
            "13 1\n",
            "14 1\n",
            "15 1\n",
            "16 1\n",
            "17 1\n",
            "18 1\n",
            "19 1\n",
            "20 1\n",
            "21 1\n"
          ],
          "name": "stdout"
        }
      ]
    },
    {
      "cell_type": "code",
      "metadata": {
        "id": "ZB5i_DW9W_vO",
        "outputId": "af07121d-ad61-4194-de32-d09d845aacb7"
      },
      "source": [
        "len(salestrain_df_combined)"
      ],
      "execution_count": null,
      "outputs": [
        {
          "output_type": "execute_result",
          "data": {
            "text/plain": [
              "2935849"
            ]
          },
          "metadata": {
            "tags": []
          },
          "execution_count": 135
        }
      ]
    },
    {
      "cell_type": "code",
      "metadata": {
        "id": "-Ov9C21rW_vP"
      },
      "source": [
        "salestrain_df_combined=salestrain_df_combined[salestrain_df_combined['item_cnt_day']<=600]"
      ],
      "execution_count": null,
      "outputs": []
    },
    {
      "cell_type": "code",
      "metadata": {
        "id": "mzMjpI75W_vP",
        "outputId": "649f3478-d6dc-4a7a-964f-d05acf84c114"
      },
      "source": [
        "len(salestrain_df_combined)"
      ],
      "execution_count": null,
      "outputs": [
        {
          "output_type": "execute_result",
          "data": {
            "text/plain": [
              "2935844"
            ]
          },
          "metadata": {
            "tags": []
          },
          "execution_count": 137
        }
      ]
    },
    {
      "cell_type": "code",
      "metadata": {
        "id": "Jb35jpUOW_vQ"
      },
      "source": [
        ""
      ],
      "execution_count": null,
      "outputs": []
    },
    {
      "cell_type": "code",
      "metadata": {
        "id": "aIA96xGX7Gls"
      },
      "source": [
        ""
      ],
      "execution_count": null,
      "outputs": []
    },
    {
      "cell_type": "code",
      "metadata": {
        "colab": {
          "base_uri": "https://localhost:8080/",
          "height": 504
        },
        "id": "B1WU5S71hADX",
        "outputId": "b33e922a-1388-4b2f-c11d-17c58305d9c9"
      },
      "source": [
        "salestrain_df_combined.head()"
      ],
      "execution_count": null,
      "outputs": [
        {
          "output_type": "execute_result",
          "data": {
            "text/html": [
              "<div>\n",
              "<style scoped>\n",
              "    .dataframe tbody tr th:only-of-type {\n",
              "        vertical-align: middle;\n",
              "    }\n",
              "\n",
              "    .dataframe tbody tr th {\n",
              "        vertical-align: top;\n",
              "    }\n",
              "\n",
              "    .dataframe thead th {\n",
              "        text-align: right;\n",
              "    }\n",
              "</style>\n",
              "<table border=\"1\" class=\"dataframe\">\n",
              "  <thead>\n",
              "    <tr style=\"text-align: right;\">\n",
              "      <th></th>\n",
              "      <th>date</th>\n",
              "      <th>date_block_num</th>\n",
              "      <th>shop_id</th>\n",
              "      <th>item_id</th>\n",
              "      <th>item_price</th>\n",
              "      <th>item_cnt_day</th>\n",
              "      <th>item_name</th>\n",
              "      <th>item_category_id</th>\n",
              "      <th>item_category_name</th>\n",
              "      <th>shop_name</th>\n",
              "      <th>year</th>\n",
              "      <th>month</th>\n",
              "      <th>day</th>\n",
              "      <th>month-year</th>\n",
              "    </tr>\n",
              "  </thead>\n",
              "  <tbody>\n",
              "    <tr>\n",
              "      <th>0</th>\n",
              "      <td>2013-02-01</td>\n",
              "      <td>0</td>\n",
              "      <td>59</td>\n",
              "      <td>22154</td>\n",
              "      <td>999.0</td>\n",
              "      <td>1.0</td>\n",
              "      <td>Scene 2012 (BD)</td>\n",
              "      <td>37</td>\n",
              "      <td>Movie - Blu-Ray</td>\n",
              "      <td>Yaroslavl shopping center \"Altair\"</td>\n",
              "      <td>2013</td>\n",
              "      <td>2</td>\n",
              "      <td>1</td>\n",
              "      <td>02-2013</td>\n",
              "    </tr>\n",
              "    <tr>\n",
              "      <th>1</th>\n",
              "      <td>2013-04-26</td>\n",
              "      <td>3</td>\n",
              "      <td>59</td>\n",
              "      <td>944</td>\n",
              "      <td>150.0</td>\n",
              "      <td>1.0</td>\n",
              "      <td>2012 (BD)</td>\n",
              "      <td>37</td>\n",
              "      <td>Movie - Blu-Ray</td>\n",
              "      <td>Yaroslavl shopping center \"Altair\"</td>\n",
              "      <td>2013</td>\n",
              "      <td>4</td>\n",
              "      <td>26</td>\n",
              "      <td>04-2013</td>\n",
              "    </tr>\n",
              "    <tr>\n",
              "      <th>2</th>\n",
              "      <td>2013-06-26</td>\n",
              "      <td>5</td>\n",
              "      <td>59</td>\n",
              "      <td>944</td>\n",
              "      <td>199.5</td>\n",
              "      <td>1.0</td>\n",
              "      <td>2012 (BD)</td>\n",
              "      <td>37</td>\n",
              "      <td>Movie - Blu-Ray</td>\n",
              "      <td>Yaroslavl shopping center \"Altair\"</td>\n",
              "      <td>2013</td>\n",
              "      <td>6</td>\n",
              "      <td>26</td>\n",
              "      <td>06-2013</td>\n",
              "    </tr>\n",
              "    <tr>\n",
              "      <th>3</th>\n",
              "      <td>2013-07-20</td>\n",
              "      <td>6</td>\n",
              "      <td>59</td>\n",
              "      <td>944</td>\n",
              "      <td>199.5</td>\n",
              "      <td>1.0</td>\n",
              "      <td>2012 (BD)</td>\n",
              "      <td>37</td>\n",
              "      <td>Movie - Blu-Ray</td>\n",
              "      <td>Yaroslavl shopping center \"Altair\"</td>\n",
              "      <td>2013</td>\n",
              "      <td>7</td>\n",
              "      <td>20</td>\n",
              "      <td>07-2013</td>\n",
              "    </tr>\n",
              "    <tr>\n",
              "      <th>4</th>\n",
              "      <td>2013-09-14</td>\n",
              "      <td>8</td>\n",
              "      <td>59</td>\n",
              "      <td>944</td>\n",
              "      <td>299.0</td>\n",
              "      <td>2.0</td>\n",
              "      <td>2012 (BD)</td>\n",
              "      <td>37</td>\n",
              "      <td>Movie - Blu-Ray</td>\n",
              "      <td>Yaroslavl shopping center \"Altair\"</td>\n",
              "      <td>2013</td>\n",
              "      <td>9</td>\n",
              "      <td>14</td>\n",
              "      <td>09-2013</td>\n",
              "    </tr>\n",
              "  </tbody>\n",
              "</table>\n",
              "</div>"
            ],
            "text/plain": [
              "        date  date_block_num  shop_id  item_id  item_price  item_cnt_day  \\\n",
              "0 2013-02-01               0       59    22154       999.0           1.0   \n",
              "1 2013-04-26               3       59      944       150.0           1.0   \n",
              "2 2013-06-26               5       59      944       199.5           1.0   \n",
              "3 2013-07-20               6       59      944       199.5           1.0   \n",
              "4 2013-09-14               8       59      944       299.0           2.0   \n",
              "\n",
              "         item_name  item_category_id item_category_name  \\\n",
              "0  Scene 2012 (BD)                37    Movie - Blu-Ray   \n",
              "1        2012 (BD)                37    Movie - Blu-Ray   \n",
              "2        2012 (BD)                37    Movie - Blu-Ray   \n",
              "3        2012 (BD)                37    Movie - Blu-Ray   \n",
              "4        2012 (BD)                37    Movie - Blu-Ray   \n",
              "\n",
              "                            shop_name  year  month  day month-year  \n",
              "0  Yaroslavl shopping center \"Altair\"  2013      2    1    02-2013  \n",
              "1  Yaroslavl shopping center \"Altair\"  2013      4   26    04-2013  \n",
              "2  Yaroslavl shopping center \"Altair\"  2013      6   26    06-2013  \n",
              "3  Yaroslavl shopping center \"Altair\"  2013      7   20    07-2013  \n",
              "4  Yaroslavl shopping center \"Altair\"  2013      9   14    09-2013  "
            ]
          },
          "metadata": {
            "tags": []
          },
          "execution_count": 139
        }
      ]
    },
    {
      "cell_type": "code",
      "metadata": {
        "colab": {
          "base_uri": "https://localhost:8080/",
          "height": 504
        },
        "id": "XJwlqdjgVpU_",
        "outputId": "3124c1aa-3610-40fa-b9bd-edcf09c7b2da"
      },
      "source": [
        "salestrain_df_combined.head()"
      ],
      "execution_count": null,
      "outputs": [
        {
          "output_type": "execute_result",
          "data": {
            "text/html": [
              "<div>\n",
              "<style scoped>\n",
              "    .dataframe tbody tr th:only-of-type {\n",
              "        vertical-align: middle;\n",
              "    }\n",
              "\n",
              "    .dataframe tbody tr th {\n",
              "        vertical-align: top;\n",
              "    }\n",
              "\n",
              "    .dataframe thead th {\n",
              "        text-align: right;\n",
              "    }\n",
              "</style>\n",
              "<table border=\"1\" class=\"dataframe\">\n",
              "  <thead>\n",
              "    <tr style=\"text-align: right;\">\n",
              "      <th></th>\n",
              "      <th>date</th>\n",
              "      <th>date_block_num</th>\n",
              "      <th>shop_id</th>\n",
              "      <th>item_id</th>\n",
              "      <th>item_price</th>\n",
              "      <th>item_cnt_day</th>\n",
              "      <th>item_name</th>\n",
              "      <th>item_category_id</th>\n",
              "      <th>item_category_name</th>\n",
              "      <th>shop_name</th>\n",
              "      <th>year</th>\n",
              "      <th>month</th>\n",
              "      <th>day</th>\n",
              "      <th>month-year</th>\n",
              "      <th>Random</th>\n",
              "    </tr>\n",
              "  </thead>\n",
              "  <tbody>\n",
              "    <tr>\n",
              "      <th>0</th>\n",
              "      <td>2013-02-01</td>\n",
              "      <td>0</td>\n",
              "      <td>59</td>\n",
              "      <td>22154</td>\n",
              "      <td>999.0</td>\n",
              "      <td>1.0</td>\n",
              "      <td>Scene 2012 (BD)</td>\n",
              "      <td>37</td>\n",
              "      <td>Movie - Blu-Ray</td>\n",
              "      <td>Yaroslavl shopping center \"Altair\"</td>\n",
              "      <td>2013</td>\n",
              "      <td>2</td>\n",
              "      <td>1</td>\n",
              "      <td>02-2013</td>\n",
              "      <td>57</td>\n",
              "    </tr>\n",
              "    <tr>\n",
              "      <th>1</th>\n",
              "      <td>2013-04-26</td>\n",
              "      <td>3</td>\n",
              "      <td>59</td>\n",
              "      <td>944</td>\n",
              "      <td>150.0</td>\n",
              "      <td>1.0</td>\n",
              "      <td>2012 (BD)</td>\n",
              "      <td>37</td>\n",
              "      <td>Movie - Blu-Ray</td>\n",
              "      <td>Yaroslavl shopping center \"Altair\"</td>\n",
              "      <td>2013</td>\n",
              "      <td>4</td>\n",
              "      <td>26</td>\n",
              "      <td>04-2013</td>\n",
              "      <td>69</td>\n",
              "    </tr>\n",
              "    <tr>\n",
              "      <th>2</th>\n",
              "      <td>2013-06-26</td>\n",
              "      <td>5</td>\n",
              "      <td>59</td>\n",
              "      <td>944</td>\n",
              "      <td>199.5</td>\n",
              "      <td>1.0</td>\n",
              "      <td>2012 (BD)</td>\n",
              "      <td>37</td>\n",
              "      <td>Movie - Blu-Ray</td>\n",
              "      <td>Yaroslavl shopping center \"Altair\"</td>\n",
              "      <td>2013</td>\n",
              "      <td>6</td>\n",
              "      <td>26</td>\n",
              "      <td>06-2013</td>\n",
              "      <td>30</td>\n",
              "    </tr>\n",
              "    <tr>\n",
              "      <th>3</th>\n",
              "      <td>2013-07-20</td>\n",
              "      <td>6</td>\n",
              "      <td>59</td>\n",
              "      <td>944</td>\n",
              "      <td>199.5</td>\n",
              "      <td>1.0</td>\n",
              "      <td>2012 (BD)</td>\n",
              "      <td>37</td>\n",
              "      <td>Movie - Blu-Ray</td>\n",
              "      <td>Yaroslavl shopping center \"Altair\"</td>\n",
              "      <td>2013</td>\n",
              "      <td>7</td>\n",
              "      <td>20</td>\n",
              "      <td>07-2013</td>\n",
              "      <td>74</td>\n",
              "    </tr>\n",
              "    <tr>\n",
              "      <th>4</th>\n",
              "      <td>2013-09-14</td>\n",
              "      <td>8</td>\n",
              "      <td>59</td>\n",
              "      <td>944</td>\n",
              "      <td>299.0</td>\n",
              "      <td>2.0</td>\n",
              "      <td>2012 (BD)</td>\n",
              "      <td>37</td>\n",
              "      <td>Movie - Blu-Ray</td>\n",
              "      <td>Yaroslavl shopping center \"Altair\"</td>\n",
              "      <td>2013</td>\n",
              "      <td>9</td>\n",
              "      <td>14</td>\n",
              "      <td>09-2013</td>\n",
              "      <td>32</td>\n",
              "    </tr>\n",
              "  </tbody>\n",
              "</table>\n",
              "</div>"
            ],
            "text/plain": [
              "        date  date_block_num  shop_id  item_id  item_price  item_cnt_day  \\\n",
              "0 2013-02-01               0       59    22154       999.0           1.0   \n",
              "1 2013-04-26               3       59      944       150.0           1.0   \n",
              "2 2013-06-26               5       59      944       199.5           1.0   \n",
              "3 2013-07-20               6       59      944       199.5           1.0   \n",
              "4 2013-09-14               8       59      944       299.0           2.0   \n",
              "\n",
              "         item_name  item_category_id item_category_name  \\\n",
              "0  Scene 2012 (BD)                37    Movie - Blu-Ray   \n",
              "1        2012 (BD)                37    Movie - Blu-Ray   \n",
              "2        2012 (BD)                37    Movie - Blu-Ray   \n",
              "3        2012 (BD)                37    Movie - Blu-Ray   \n",
              "4        2012 (BD)                37    Movie - Blu-Ray   \n",
              "\n",
              "                            shop_name  year  month  day month-year  Random  \n",
              "0  Yaroslavl shopping center \"Altair\"  2013      2    1    02-2013      57  \n",
              "1  Yaroslavl shopping center \"Altair\"  2013      4   26    04-2013      69  \n",
              "2  Yaroslavl shopping center \"Altair\"  2013      6   26    06-2013      30  \n",
              "3  Yaroslavl shopping center \"Altair\"  2013      7   20    07-2013      74  \n",
              "4  Yaroslavl shopping center \"Altair\"  2013      9   14    09-2013      32  "
            ]
          },
          "metadata": {
            "tags": []
          },
          "execution_count": 141
        }
      ]
    },
    {
      "cell_type": "markdown",
      "metadata": {
        "id": "z1sd__vlUmpu"
      },
      "source": [
        "#creating pivot table on 'month' and 'year' columns\n",
        "item_sales_by_month = salestrain_df_combined.pivot_table(index = 'item_id', columns = ['month', 'year'], values = 'item_cnt_day', aggfunc = np.sum)"
      ]
    },
    {
      "cell_type": "markdown",
      "metadata": {
        "id": "MCoSUA4mWC2e"
      },
      "source": [
        "# filling in all null values with 0\n",
        "item_sales_by_month.fillna(0, inplace = True)"
      ]
    },
    {
      "cell_type": "markdown",
      "metadata": {
        "id": "XrdBx78mWJte",
        "outputId": "6ed9f6ea-bf58-4298-866f-56fece4f36a7"
      },
      "source": [
        "# checking head of the pivot table\n",
        "item_sales_by_month.head()"
      ]
    },
    {
      "cell_type": "markdown",
      "metadata": {
        "id": "UmGZir4Xkjxo"
      },
      "source": [
        "There were two sales of item id 1 in month 4 of year 2014"
      ]
    },
    {
      "cell_type": "markdown",
      "metadata": {
        "id": "n5tpWFvBWRde"
      },
      "source": [
        "# unstacking the pivot table above and resetting the index\n",
        "item_sales_by_month = item_sales_by_month.unstack().reset_index()"
      ]
    },
    {
      "cell_type": "markdown",
      "metadata": {
        "id": "eHGkHHI2YEro",
        "outputId": "5338d707-a7a4-47fd-8d9f-b6aa501a9f9a"
      },
      "source": [
        "# checking new df head - note strange 0 column\n",
        "item_sales_by_month.head()"
      ]
    },
    {
      "cell_type": "markdown",
      "metadata": {
        "id": "kF8zmS6lXHn4"
      },
      "source": [
        "# renaming strange 0 columm to 'Item_Sales_This_Month?' - need clarification on column name\n",
        "item_sales_by_month.rename({0:'Item_Sales_This_Month'}, axis = 'columns', inplace = True)"
      ]
    },
    {
      "cell_type": "markdown",
      "metadata": {
        "id": "JfKdRqYVWmjl"
      },
      "source": [
        "# sorting table by item_id then year then month\n",
        "item_sales_by_month.sort_values(by = ['item_id','year','month'], inplace = True)"
      ]
    },
    {
      "cell_type": "markdown",
      "metadata": {
        "id": "LO4V11DYXce-",
        "outputId": "19578bed-dae4-4ace-f5d7-62cc88014ac1"
      },
      "source": [
        "# checking modified df\n",
        "item_sales_by_month.head()"
      ]
    },
    {
      "cell_type": "markdown",
      "metadata": {
        "id": "DuVTXMnY7L3d",
        "outputId": "8bea8286-52c1-48ba-c73c-e1c89b24ada0"
      },
      "source": [
        "item_sales_by_month.item_id.nunique()"
      ]
    },
    {
      "cell_type": "markdown",
      "metadata": {
        "id": "cdk6j9rS7TGl",
        "outputId": "45d542d8-4d77-4870-9b91-1363599d2343"
      },
      "source": [
        "#Check to make sure we have 36*item_id number of rows - one for each month in 2015-2015\n",
        "len(item_sales_by_month)/21059"
      ]
    },
    {
      "cell_type": "markdown",
      "metadata": {
        "id": "DqZtEMMIZz6f"
      },
      "source": [
        "# creating new column lags for 1, 2, 3, 6, 12 months\n",
        "for i in [1, 2, 3, 6, 12]:\n",
        "  item_sales_by_month[str(i)+'_month_ago'] = item_sales_by_month['Item_Sales_This_Month'].shift(i)"
      ]
    },
    {
      "cell_type": "markdown",
      "metadata": {
        "id": "PPjOMkfdaLf2",
        "outputId": "99faa74c-f13b-43f3-8626-d61087fa62dd"
      },
      "source": [
        "# checking newly added lags on item id '22167' because it has a lot of sales and we can see values clearly\n",
        "item_sales_by_month[item_sales_by_month.item_id == 22167].head(13)"
      ]
    },
    {
      "cell_type": "markdown",
      "metadata": {
        "id": "TLFWRee3UnUG"
      },
      "source": [
        "item_sales_by_month = item_sales_by_month[item_sales_by_month['year'] > 2013]"
      ]
    },
    {
      "cell_type": "code",
      "metadata": {
        "id": "Q_t6rVQGU46J"
      },
      "source": [
        "#item_sales_by_month['month_id'] = item_sales_by_month.apply(lambda x: x.month + (x.year - 2013) * 12, axis=1)"
      ],
      "execution_count": null,
      "outputs": []
    },
    {
      "cell_type": "code",
      "metadata": {
        "id": "C4ieDa6cVrKm"
      },
      "source": [
        "#item_sales_by_month = item_sales_by_month[['1_month_ago', '2_month_ago', '3_month_ago','6_month_ago', '12_month_ago', 'month_id', 'month', 'year', 'item_id', 'Item_Sales_This_Month']].astype(int)"
      ],
      "execution_count": null,
      "outputs": []
    },
    {
      "cell_type": "code",
      "metadata": {
        "id": "efVcRaIoXdk5"
      },
      "source": [
        "#item_sales_by_month.head(10)"
      ],
      "execution_count": null,
      "outputs": []
    },
    {
      "cell_type": "markdown",
      "metadata": {
        "id": "I9_tqfMeS4mF"
      },
      "source": [
        "# Lagging Features"
      ]
    },
    {
      "cell_type": "markdown",
      "metadata": {
        "id": "epudGsi3S9Ww"
      },
      "source": [
        "*   Item Sales Lag (1, 2, 3, 6 , 12 months)\n",
        "*   Combination of Items and Shops\n",
        "*   Shop Sales Lag\n",
        "*   Shop-Category Lag"
      ]
    },
    {
      "cell_type": "markdown",
      "metadata": {
        "id": "onuC0l7t-IXh"
      },
      "source": [
        "## creating lag features based on date"
      ]
    },
    {
      "cell_type": "markdown",
      "metadata": {
        "id": "hjnIPzoX91P_"
      },
      "source": [
        "## creating store_id + item_id based lag features"
      ]
    },
    {
      "cell_type": "code",
      "metadata": {
        "colab": {
          "base_uri": "https://localhost:8080/",
          "height": 206
        },
        "id": "rdu5WZ3QA4Ni",
        "outputId": "d62a3ad6-e4ba-4441-b3be-3e73b1264946"
      },
      "source": [
        "salestrain_df.head()"
      ],
      "execution_count": null,
      "outputs": [
        {
          "output_type": "execute_result",
          "data": {
            "text/html": [
              "<div>\n",
              "<style scoped>\n",
              "    .dataframe tbody tr th:only-of-type {\n",
              "        vertical-align: middle;\n",
              "    }\n",
              "\n",
              "    .dataframe tbody tr th {\n",
              "        vertical-align: top;\n",
              "    }\n",
              "\n",
              "    .dataframe thead th {\n",
              "        text-align: right;\n",
              "    }\n",
              "</style>\n",
              "<table border=\"1\" class=\"dataframe\">\n",
              "  <thead>\n",
              "    <tr style=\"text-align: right;\">\n",
              "      <th></th>\n",
              "      <th>date</th>\n",
              "      <th>date_block_num</th>\n",
              "      <th>shop_id</th>\n",
              "      <th>item_id</th>\n",
              "      <th>item_price</th>\n",
              "      <th>item_cnt_day</th>\n",
              "    </tr>\n",
              "  </thead>\n",
              "  <tbody>\n",
              "    <tr>\n",
              "      <th>0</th>\n",
              "      <td>2013-02-01</td>\n",
              "      <td>0</td>\n",
              "      <td>59</td>\n",
              "      <td>22154</td>\n",
              "      <td>999.00</td>\n",
              "      <td>1.0</td>\n",
              "    </tr>\n",
              "    <tr>\n",
              "      <th>1</th>\n",
              "      <td>2013-03-01</td>\n",
              "      <td>0</td>\n",
              "      <td>25</td>\n",
              "      <td>2552</td>\n",
              "      <td>899.00</td>\n",
              "      <td>1.0</td>\n",
              "    </tr>\n",
              "    <tr>\n",
              "      <th>2</th>\n",
              "      <td>2013-05-01</td>\n",
              "      <td>0</td>\n",
              "      <td>25</td>\n",
              "      <td>2552</td>\n",
              "      <td>899.00</td>\n",
              "      <td>-1.0</td>\n",
              "    </tr>\n",
              "    <tr>\n",
              "      <th>3</th>\n",
              "      <td>2013-06-01</td>\n",
              "      <td>0</td>\n",
              "      <td>25</td>\n",
              "      <td>2554</td>\n",
              "      <td>1709.05</td>\n",
              "      <td>1.0</td>\n",
              "    </tr>\n",
              "    <tr>\n",
              "      <th>4</th>\n",
              "      <td>2013-01-15</td>\n",
              "      <td>0</td>\n",
              "      <td>25</td>\n",
              "      <td>2555</td>\n",
              "      <td>1099.00</td>\n",
              "      <td>1.0</td>\n",
              "    </tr>\n",
              "  </tbody>\n",
              "</table>\n",
              "</div>"
            ],
            "text/plain": [
              "        date  date_block_num  shop_id  item_id  item_price  item_cnt_day\n",
              "0 2013-02-01               0       59    22154      999.00           1.0\n",
              "1 2013-03-01               0       25     2552      899.00           1.0\n",
              "2 2013-05-01               0       25     2552      899.00          -1.0\n",
              "3 2013-06-01               0       25     2554     1709.05           1.0\n",
              "4 2013-01-15               0       25     2555     1099.00           1.0"
            ]
          },
          "metadata": {
            "tags": []
          },
          "execution_count": 155
        }
      ]
    },
    {
      "cell_type": "code",
      "metadata": {
        "id": "VY8Kplc3FC-L"
      },
      "source": [
        "# creating new dataframe with 'shop_id' 'item_id', 'month', 'year', 'item_cnt_day' as shop_id_by_month\n",
        "shop_id_by_month = salestrain_df_combined[['shop_id', 'item_id', 'month', 'year', 'item_cnt_day']]"
      ],
      "execution_count": null,
      "outputs": []
    },
    {
      "cell_type": "code",
      "metadata": {
        "colab": {
          "base_uri": "https://localhost:8080/",
          "height": 487
        },
        "id": "NZu_Fuu68t-V",
        "outputId": "f076a65a-ad90-44fa-e59b-55612cb41063"
      },
      "source": [
        "salestrain_df_combined.head()"
      ],
      "execution_count": null,
      "outputs": [
        {
          "output_type": "execute_result",
          "data": {
            "text/html": [
              "<div>\n",
              "<style scoped>\n",
              "    .dataframe tbody tr th:only-of-type {\n",
              "        vertical-align: middle;\n",
              "    }\n",
              "\n",
              "    .dataframe tbody tr th {\n",
              "        vertical-align: top;\n",
              "    }\n",
              "\n",
              "    .dataframe thead th {\n",
              "        text-align: right;\n",
              "    }\n",
              "</style>\n",
              "<table border=\"1\" class=\"dataframe\">\n",
              "  <thead>\n",
              "    <tr style=\"text-align: right;\">\n",
              "      <th></th>\n",
              "      <th>date</th>\n",
              "      <th>date_block_num</th>\n",
              "      <th>shop_id</th>\n",
              "      <th>item_id</th>\n",
              "      <th>item_price</th>\n",
              "      <th>item_cnt_day</th>\n",
              "      <th>item_name</th>\n",
              "      <th>item_category_id</th>\n",
              "      <th>item_category_name</th>\n",
              "      <th>shop_name</th>\n",
              "      <th>year</th>\n",
              "      <th>month</th>\n",
              "      <th>day</th>\n",
              "      <th>month-year</th>\n",
              "      <th>Random</th>\n",
              "    </tr>\n",
              "  </thead>\n",
              "  <tbody>\n",
              "    <tr>\n",
              "      <th>0</th>\n",
              "      <td>2013-02-01</td>\n",
              "      <td>0</td>\n",
              "      <td>59</td>\n",
              "      <td>22154</td>\n",
              "      <td>999.0</td>\n",
              "      <td>1.0</td>\n",
              "      <td>Scene 2012 (BD)</td>\n",
              "      <td>37</td>\n",
              "      <td>Movie - Blu-Ray</td>\n",
              "      <td>Yaroslavl shopping center \"Altair\"</td>\n",
              "      <td>2013</td>\n",
              "      <td>2</td>\n",
              "      <td>1</td>\n",
              "      <td>02-2013</td>\n",
              "      <td>57</td>\n",
              "    </tr>\n",
              "    <tr>\n",
              "      <th>1</th>\n",
              "      <td>2013-04-26</td>\n",
              "      <td>3</td>\n",
              "      <td>59</td>\n",
              "      <td>944</td>\n",
              "      <td>150.0</td>\n",
              "      <td>1.0</td>\n",
              "      <td>2012 (BD)</td>\n",
              "      <td>37</td>\n",
              "      <td>Movie - Blu-Ray</td>\n",
              "      <td>Yaroslavl shopping center \"Altair\"</td>\n",
              "      <td>2013</td>\n",
              "      <td>4</td>\n",
              "      <td>26</td>\n",
              "      <td>04-2013</td>\n",
              "      <td>69</td>\n",
              "    </tr>\n",
              "    <tr>\n",
              "      <th>2</th>\n",
              "      <td>2013-06-26</td>\n",
              "      <td>5</td>\n",
              "      <td>59</td>\n",
              "      <td>944</td>\n",
              "      <td>199.5</td>\n",
              "      <td>1.0</td>\n",
              "      <td>2012 (BD)</td>\n",
              "      <td>37</td>\n",
              "      <td>Movie - Blu-Ray</td>\n",
              "      <td>Yaroslavl shopping center \"Altair\"</td>\n",
              "      <td>2013</td>\n",
              "      <td>6</td>\n",
              "      <td>26</td>\n",
              "      <td>06-2013</td>\n",
              "      <td>30</td>\n",
              "    </tr>\n",
              "    <tr>\n",
              "      <th>3</th>\n",
              "      <td>2013-07-20</td>\n",
              "      <td>6</td>\n",
              "      <td>59</td>\n",
              "      <td>944</td>\n",
              "      <td>199.5</td>\n",
              "      <td>1.0</td>\n",
              "      <td>2012 (BD)</td>\n",
              "      <td>37</td>\n",
              "      <td>Movie - Blu-Ray</td>\n",
              "      <td>Yaroslavl shopping center \"Altair\"</td>\n",
              "      <td>2013</td>\n",
              "      <td>7</td>\n",
              "      <td>20</td>\n",
              "      <td>07-2013</td>\n",
              "      <td>74</td>\n",
              "    </tr>\n",
              "    <tr>\n",
              "      <th>4</th>\n",
              "      <td>2013-09-14</td>\n",
              "      <td>8</td>\n",
              "      <td>59</td>\n",
              "      <td>944</td>\n",
              "      <td>299.0</td>\n",
              "      <td>2.0</td>\n",
              "      <td>2012 (BD)</td>\n",
              "      <td>37</td>\n",
              "      <td>Movie - Blu-Ray</td>\n",
              "      <td>Yaroslavl shopping center \"Altair\"</td>\n",
              "      <td>2013</td>\n",
              "      <td>9</td>\n",
              "      <td>14</td>\n",
              "      <td>09-2013</td>\n",
              "      <td>32</td>\n",
              "    </tr>\n",
              "  </tbody>\n",
              "</table>\n",
              "</div>"
            ],
            "text/plain": [
              "        date  date_block_num  shop_id  item_id  item_price  item_cnt_day  \\\n",
              "0 2013-02-01               0       59    22154       999.0           1.0   \n",
              "1 2013-04-26               3       59      944       150.0           1.0   \n",
              "2 2013-06-26               5       59      944       199.5           1.0   \n",
              "3 2013-07-20               6       59      944       199.5           1.0   \n",
              "4 2013-09-14               8       59      944       299.0           2.0   \n",
              "\n",
              "         item_name  item_category_id item_category_name  \\\n",
              "0  Scene 2012 (BD)                37    Movie - Blu-Ray   \n",
              "1        2012 (BD)                37    Movie - Blu-Ray   \n",
              "2        2012 (BD)                37    Movie - Blu-Ray   \n",
              "3        2012 (BD)                37    Movie - Blu-Ray   \n",
              "4        2012 (BD)                37    Movie - Blu-Ray   \n",
              "\n",
              "                            shop_name  year  month  day month-year  Random  \n",
              "0  Yaroslavl shopping center \"Altair\"  2013      2    1    02-2013      57  \n",
              "1  Yaroslavl shopping center \"Altair\"  2013      4   26    04-2013      69  \n",
              "2  Yaroslavl shopping center \"Altair\"  2013      6   26    06-2013      30  \n",
              "3  Yaroslavl shopping center \"Altair\"  2013      7   20    07-2013      74  \n",
              "4  Yaroslavl shopping center \"Altair\"  2013      9   14    09-2013      32  "
            ]
          },
          "metadata": {
            "tags": []
          },
          "execution_count": 157
        }
      ]
    },
    {
      "cell_type": "code",
      "metadata": {
        "colab": {
          "base_uri": "https://localhost:8080/"
        },
        "id": "08C6vmyC9CDY",
        "outputId": "dd72299c-8ac3-4cfa-8467-89b46c0544ac"
      },
      "source": [
        "len(shop_id_by_month)"
      ],
      "execution_count": null,
      "outputs": [
        {
          "output_type": "execute_result",
          "data": {
            "text/plain": [
              "2935844"
            ]
          },
          "metadata": {
            "tags": []
          },
          "execution_count": 158
        }
      ]
    },
    {
      "cell_type": "code",
      "metadata": {
        "colab": {
          "base_uri": "https://localhost:8080/",
          "height": 206
        },
        "id": "ZRIqCK3J81T5",
        "outputId": "b781da1c-4af4-41be-a75c-909a8d8658f1"
      },
      "source": [
        "shop_id_by_month.head()"
      ],
      "execution_count": null,
      "outputs": [
        {
          "output_type": "execute_result",
          "data": {
            "text/html": [
              "<div>\n",
              "<style scoped>\n",
              "    .dataframe tbody tr th:only-of-type {\n",
              "        vertical-align: middle;\n",
              "    }\n",
              "\n",
              "    .dataframe tbody tr th {\n",
              "        vertical-align: top;\n",
              "    }\n",
              "\n",
              "    .dataframe thead th {\n",
              "        text-align: right;\n",
              "    }\n",
              "</style>\n",
              "<table border=\"1\" class=\"dataframe\">\n",
              "  <thead>\n",
              "    <tr style=\"text-align: right;\">\n",
              "      <th></th>\n",
              "      <th>shop_id</th>\n",
              "      <th>item_id</th>\n",
              "      <th>month</th>\n",
              "      <th>year</th>\n",
              "      <th>item_cnt_day</th>\n",
              "    </tr>\n",
              "  </thead>\n",
              "  <tbody>\n",
              "    <tr>\n",
              "      <th>0</th>\n",
              "      <td>59</td>\n",
              "      <td>22154</td>\n",
              "      <td>2</td>\n",
              "      <td>2013</td>\n",
              "      <td>1.0</td>\n",
              "    </tr>\n",
              "    <tr>\n",
              "      <th>1</th>\n",
              "      <td>59</td>\n",
              "      <td>944</td>\n",
              "      <td>4</td>\n",
              "      <td>2013</td>\n",
              "      <td>1.0</td>\n",
              "    </tr>\n",
              "    <tr>\n",
              "      <th>2</th>\n",
              "      <td>59</td>\n",
              "      <td>944</td>\n",
              "      <td>6</td>\n",
              "      <td>2013</td>\n",
              "      <td>1.0</td>\n",
              "    </tr>\n",
              "    <tr>\n",
              "      <th>3</th>\n",
              "      <td>59</td>\n",
              "      <td>944</td>\n",
              "      <td>7</td>\n",
              "      <td>2013</td>\n",
              "      <td>1.0</td>\n",
              "    </tr>\n",
              "    <tr>\n",
              "      <th>4</th>\n",
              "      <td>59</td>\n",
              "      <td>944</td>\n",
              "      <td>9</td>\n",
              "      <td>2013</td>\n",
              "      <td>2.0</td>\n",
              "    </tr>\n",
              "  </tbody>\n",
              "</table>\n",
              "</div>"
            ],
            "text/plain": [
              "   shop_id  item_id  month  year  item_cnt_day\n",
              "0       59    22154      2  2013           1.0\n",
              "1       59      944      4  2013           1.0\n",
              "2       59      944      6  2013           1.0\n",
              "3       59      944      7  2013           1.0\n",
              "4       59      944      9  2013           2.0"
            ]
          },
          "metadata": {
            "tags": []
          },
          "execution_count": 159
        }
      ]
    },
    {
      "cell_type": "code",
      "metadata": {
        "colab": {
          "base_uri": "https://localhost:8080/"
        },
        "id": "cFqwc4eoJnm6",
        "outputId": "96e34c8e-c588-4d09-ca6d-ae7d216aee1e"
      },
      "source": [
        "# sorting shop_id_by_month by 'item_id' then 'shop_id' then 'year' then 'month'\n",
        "shop_id_by_month.sort_values(by = ['item_id', 'shop_id', 'year', 'month'], inplace = True)"
      ],
      "execution_count": null,
      "outputs": [
        {
          "output_type": "stream",
          "text": [
            "<ipython-input-160-1c8a8ded119e>:2: SettingWithCopyWarning: \n",
            "A value is trying to be set on a copy of a slice from a DataFrame\n",
            "\n",
            "See the caveats in the documentation: https://pandas.pydata.org/pandas-docs/stable/user_guide/indexing.html#returning-a-view-versus-a-copy\n",
            "  shop_id_by_month.sort_values(by = ['item_id', 'shop_id', 'year', 'month'], inplace = True)\n"
          ],
          "name": "stderr"
        }
      ]
    },
    {
      "cell_type": "code",
      "metadata": {
        "colab": {
          "base_uri": "https://localhost:8080/",
          "height": 206
        },
        "id": "ylhyvcCvVho0",
        "outputId": "d78c6b0f-d674-459b-c7f5-69403d9979b0"
      },
      "source": [
        "# dataframe explaining for example item_id 0 was sold once at shop_id 54 in January 2014\n",
        "shop_id_by_month.head()"
      ],
      "execution_count": null,
      "outputs": [
        {
          "output_type": "execute_result",
          "data": {
            "text/html": [
              "<div>\n",
              "<style scoped>\n",
              "    .dataframe tbody tr th:only-of-type {\n",
              "        vertical-align: middle;\n",
              "    }\n",
              "\n",
              "    .dataframe tbody tr th {\n",
              "        vertical-align: top;\n",
              "    }\n",
              "\n",
              "    .dataframe thead th {\n",
              "        text-align: right;\n",
              "    }\n",
              "</style>\n",
              "<table border=\"1\" class=\"dataframe\">\n",
              "  <thead>\n",
              "    <tr style=\"text-align: right;\">\n",
              "      <th></th>\n",
              "      <th>shop_id</th>\n",
              "      <th>item_id</th>\n",
              "      <th>month</th>\n",
              "      <th>year</th>\n",
              "      <th>item_cnt_day</th>\n",
              "    </tr>\n",
              "  </thead>\n",
              "  <tbody>\n",
              "    <tr>\n",
              "      <th>916816</th>\n",
              "      <td>54</td>\n",
              "      <td>0</td>\n",
              "      <td>1</td>\n",
              "      <td>2014</td>\n",
              "      <td>1.0</td>\n",
              "    </tr>\n",
              "    <tr>\n",
              "      <th>2923871</th>\n",
              "      <td>55</td>\n",
              "      <td>1</td>\n",
              "      <td>2</td>\n",
              "      <td>2014</td>\n",
              "      <td>1.0</td>\n",
              "    </tr>\n",
              "    <tr>\n",
              "      <th>2923870</th>\n",
              "      <td>55</td>\n",
              "      <td>1</td>\n",
              "      <td>4</td>\n",
              "      <td>2014</td>\n",
              "      <td>1.0</td>\n",
              "    </tr>\n",
              "    <tr>\n",
              "      <th>2923873</th>\n",
              "      <td>55</td>\n",
              "      <td>1</td>\n",
              "      <td>4</td>\n",
              "      <td>2014</td>\n",
              "      <td>1.0</td>\n",
              "    </tr>\n",
              "    <tr>\n",
              "      <th>2923872</th>\n",
              "      <td>55</td>\n",
              "      <td>1</td>\n",
              "      <td>6</td>\n",
              "      <td>2014</td>\n",
              "      <td>1.0</td>\n",
              "    </tr>\n",
              "  </tbody>\n",
              "</table>\n",
              "</div>"
            ],
            "text/plain": [
              "         shop_id  item_id  month  year  item_cnt_day\n",
              "916816        54        0      1  2014           1.0\n",
              "2923871       55        1      2  2014           1.0\n",
              "2923870       55        1      4  2014           1.0\n",
              "2923873       55        1      4  2014           1.0\n",
              "2923872       55        1      6  2014           1.0"
            ]
          },
          "metadata": {
            "tags": []
          },
          "execution_count": 161
        }
      ]
    },
    {
      "cell_type": "code",
      "metadata": {
        "id": "LE1CgenkRyV-"
      },
      "source": [
        "# creating a pivot table calculating the number of sales per day\n",
        "shop_id_month_pivot = shop_id_by_month.pivot_table(index = ['item_id', 'shop_id'], columns = ['month', 'year'], values = 'item_cnt_day', aggfunc = np.sum)"
      ],
      "execution_count": null,
      "outputs": []
    },
    {
      "cell_type": "code",
      "metadata": {
        "id": "vftdn1EaZSdH"
      },
      "source": [
        "shop_id_month_pivot_2 = shop_id_month_pivot.reindex(pd.MultiIndex.from_product(shop_id_month_pivot.index.levels, names = shop_id_month_pivot.index.names))"
      ],
      "execution_count": null,
      "outputs": []
    },
    {
      "cell_type": "code",
      "metadata": {
        "id": "mKTaZB9YUA-D"
      },
      "source": [
        "# switching NaN values to zeros to keep\n",
        "shop_id_month_pivot_2.fillna(0, inplace = True)"
      ],
      "execution_count": null,
      "outputs": []
    },
    {
      "cell_type": "code",
      "metadata": {
        "colab": {
          "base_uri": "https://localhost:8080/",
          "height": 289
        },
        "id": "tFipE_zx34sa",
        "outputId": "6068e6b8-5161-4fe7-906b-78284c0a1de3"
      },
      "source": [
        "# taking a look at the pivot table head\n",
        "shop_id_month_pivot_2.head()"
      ],
      "execution_count": null,
      "outputs": [
        {
          "output_type": "execute_result",
          "data": {
            "text/html": [
              "<div>\n",
              "<style scoped>\n",
              "    .dataframe tbody tr th:only-of-type {\n",
              "        vertical-align: middle;\n",
              "    }\n",
              "\n",
              "    .dataframe tbody tr th {\n",
              "        vertical-align: top;\n",
              "    }\n",
              "\n",
              "    .dataframe thead tr th {\n",
              "        text-align: left;\n",
              "    }\n",
              "\n",
              "    .dataframe thead tr:last-of-type th {\n",
              "        text-align: right;\n",
              "    }\n",
              "</style>\n",
              "<table border=\"1\" class=\"dataframe\">\n",
              "  <thead>\n",
              "    <tr>\n",
              "      <th></th>\n",
              "      <th>month</th>\n",
              "      <th colspan=\"3\" halign=\"left\">1</th>\n",
              "      <th colspan=\"3\" halign=\"left\">2</th>\n",
              "      <th colspan=\"3\" halign=\"left\">3</th>\n",
              "      <th>4</th>\n",
              "      <th>...</th>\n",
              "      <th>9</th>\n",
              "      <th colspan=\"3\" halign=\"left\">10</th>\n",
              "      <th colspan=\"3\" halign=\"left\">11</th>\n",
              "      <th colspan=\"3\" halign=\"left\">12</th>\n",
              "    </tr>\n",
              "    <tr>\n",
              "      <th></th>\n",
              "      <th>year</th>\n",
              "      <th>2013</th>\n",
              "      <th>2014</th>\n",
              "      <th>2015</th>\n",
              "      <th>2013</th>\n",
              "      <th>2014</th>\n",
              "      <th>2015</th>\n",
              "      <th>2013</th>\n",
              "      <th>2014</th>\n",
              "      <th>2015</th>\n",
              "      <th>2013</th>\n",
              "      <th>...</th>\n",
              "      <th>2015</th>\n",
              "      <th>2013</th>\n",
              "      <th>2014</th>\n",
              "      <th>2015</th>\n",
              "      <th>2013</th>\n",
              "      <th>2014</th>\n",
              "      <th>2015</th>\n",
              "      <th>2013</th>\n",
              "      <th>2014</th>\n",
              "      <th>2015</th>\n",
              "    </tr>\n",
              "    <tr>\n",
              "      <th>item_id</th>\n",
              "      <th>shop_id</th>\n",
              "      <th></th>\n",
              "      <th></th>\n",
              "      <th></th>\n",
              "      <th></th>\n",
              "      <th></th>\n",
              "      <th></th>\n",
              "      <th></th>\n",
              "      <th></th>\n",
              "      <th></th>\n",
              "      <th></th>\n",
              "      <th></th>\n",
              "      <th></th>\n",
              "      <th></th>\n",
              "      <th></th>\n",
              "      <th></th>\n",
              "      <th></th>\n",
              "      <th></th>\n",
              "      <th></th>\n",
              "      <th></th>\n",
              "      <th></th>\n",
              "      <th></th>\n",
              "    </tr>\n",
              "  </thead>\n",
              "  <tbody>\n",
              "    <tr>\n",
              "      <th rowspan=\"5\" valign=\"top\">0</th>\n",
              "      <th>0</th>\n",
              "      <td>0.0</td>\n",
              "      <td>0.0</td>\n",
              "      <td>0.0</td>\n",
              "      <td>0.0</td>\n",
              "      <td>0.0</td>\n",
              "      <td>0.0</td>\n",
              "      <td>0.0</td>\n",
              "      <td>0.0</td>\n",
              "      <td>0.0</td>\n",
              "      <td>0.0</td>\n",
              "      <td>...</td>\n",
              "      <td>0.0</td>\n",
              "      <td>0.0</td>\n",
              "      <td>0.0</td>\n",
              "      <td>0.0</td>\n",
              "      <td>0.0</td>\n",
              "      <td>0.0</td>\n",
              "      <td>0.0</td>\n",
              "      <td>0.0</td>\n",
              "      <td>0.0</td>\n",
              "      <td>0.0</td>\n",
              "    </tr>\n",
              "    <tr>\n",
              "      <th>1</th>\n",
              "      <td>0.0</td>\n",
              "      <td>0.0</td>\n",
              "      <td>0.0</td>\n",
              "      <td>0.0</td>\n",
              "      <td>0.0</td>\n",
              "      <td>0.0</td>\n",
              "      <td>0.0</td>\n",
              "      <td>0.0</td>\n",
              "      <td>0.0</td>\n",
              "      <td>0.0</td>\n",
              "      <td>...</td>\n",
              "      <td>0.0</td>\n",
              "      <td>0.0</td>\n",
              "      <td>0.0</td>\n",
              "      <td>0.0</td>\n",
              "      <td>0.0</td>\n",
              "      <td>0.0</td>\n",
              "      <td>0.0</td>\n",
              "      <td>0.0</td>\n",
              "      <td>0.0</td>\n",
              "      <td>0.0</td>\n",
              "    </tr>\n",
              "    <tr>\n",
              "      <th>2</th>\n",
              "      <td>0.0</td>\n",
              "      <td>0.0</td>\n",
              "      <td>0.0</td>\n",
              "      <td>0.0</td>\n",
              "      <td>0.0</td>\n",
              "      <td>0.0</td>\n",
              "      <td>0.0</td>\n",
              "      <td>0.0</td>\n",
              "      <td>0.0</td>\n",
              "      <td>0.0</td>\n",
              "      <td>...</td>\n",
              "      <td>0.0</td>\n",
              "      <td>0.0</td>\n",
              "      <td>0.0</td>\n",
              "      <td>0.0</td>\n",
              "      <td>0.0</td>\n",
              "      <td>0.0</td>\n",
              "      <td>0.0</td>\n",
              "      <td>0.0</td>\n",
              "      <td>0.0</td>\n",
              "      <td>0.0</td>\n",
              "    </tr>\n",
              "    <tr>\n",
              "      <th>3</th>\n",
              "      <td>0.0</td>\n",
              "      <td>0.0</td>\n",
              "      <td>0.0</td>\n",
              "      <td>0.0</td>\n",
              "      <td>0.0</td>\n",
              "      <td>0.0</td>\n",
              "      <td>0.0</td>\n",
              "      <td>0.0</td>\n",
              "      <td>0.0</td>\n",
              "      <td>0.0</td>\n",
              "      <td>...</td>\n",
              "      <td>0.0</td>\n",
              "      <td>0.0</td>\n",
              "      <td>0.0</td>\n",
              "      <td>0.0</td>\n",
              "      <td>0.0</td>\n",
              "      <td>0.0</td>\n",
              "      <td>0.0</td>\n",
              "      <td>0.0</td>\n",
              "      <td>0.0</td>\n",
              "      <td>0.0</td>\n",
              "    </tr>\n",
              "    <tr>\n",
              "      <th>4</th>\n",
              "      <td>0.0</td>\n",
              "      <td>0.0</td>\n",
              "      <td>0.0</td>\n",
              "      <td>0.0</td>\n",
              "      <td>0.0</td>\n",
              "      <td>0.0</td>\n",
              "      <td>0.0</td>\n",
              "      <td>0.0</td>\n",
              "      <td>0.0</td>\n",
              "      <td>0.0</td>\n",
              "      <td>...</td>\n",
              "      <td>0.0</td>\n",
              "      <td>0.0</td>\n",
              "      <td>0.0</td>\n",
              "      <td>0.0</td>\n",
              "      <td>0.0</td>\n",
              "      <td>0.0</td>\n",
              "      <td>0.0</td>\n",
              "      <td>0.0</td>\n",
              "      <td>0.0</td>\n",
              "      <td>0.0</td>\n",
              "    </tr>\n",
              "  </tbody>\n",
              "</table>\n",
              "<p>5 rows × 36 columns</p>\n",
              "</div>"
            ],
            "text/plain": [
              "month             1              2              3              4   ...   9   \\\n",
              "year            2013 2014 2015 2013 2014 2015 2013 2014 2015 2013  ... 2015   \n",
              "item_id shop_id                                                    ...        \n",
              "0       0        0.0  0.0  0.0  0.0  0.0  0.0  0.0  0.0  0.0  0.0  ...  0.0   \n",
              "        1        0.0  0.0  0.0  0.0  0.0  0.0  0.0  0.0  0.0  0.0  ...  0.0   \n",
              "        2        0.0  0.0  0.0  0.0  0.0  0.0  0.0  0.0  0.0  0.0  ...  0.0   \n",
              "        3        0.0  0.0  0.0  0.0  0.0  0.0  0.0  0.0  0.0  0.0  ...  0.0   \n",
              "        4        0.0  0.0  0.0  0.0  0.0  0.0  0.0  0.0  0.0  0.0  ...  0.0   \n",
              "\n",
              "month             10             11             12            \n",
              "year            2013 2014 2015 2013 2014 2015 2013 2014 2015  \n",
              "item_id shop_id                                               \n",
              "0       0        0.0  0.0  0.0  0.0  0.0  0.0  0.0  0.0  0.0  \n",
              "        1        0.0  0.0  0.0  0.0  0.0  0.0  0.0  0.0  0.0  \n",
              "        2        0.0  0.0  0.0  0.0  0.0  0.0  0.0  0.0  0.0  \n",
              "        3        0.0  0.0  0.0  0.0  0.0  0.0  0.0  0.0  0.0  \n",
              "        4        0.0  0.0  0.0  0.0  0.0  0.0  0.0  0.0  0.0  \n",
              "\n",
              "[5 rows x 36 columns]"
            ]
          },
          "metadata": {
            "tags": []
          },
          "execution_count": 165
        }
      ]
    },
    {
      "cell_type": "code",
      "metadata": {
        "id": "8e9R-ON6Er4J"
      },
      "source": [
        "# stacking the multilevel's x2 and resetting the index\n",
        "shop_id_month_stack = shop_id_month_pivot_2.stack().stack().reset_index()"
      ],
      "execution_count": null,
      "outputs": []
    },
    {
      "cell_type": "code",
      "metadata": {
        "id": "f1D7ZxeRz0gb"
      },
      "source": [
        "# renaming the calculated column to 'item_cnt_month_shop_id'\n",
        "shop_id_month_stack.rename({0:'item_cnt_month_shop_id'}, inplace = True, axis = 1)"
      ],
      "execution_count": null,
      "outputs": []
    },
    {
      "cell_type": "code",
      "metadata": {
        "colab": {
          "base_uri": "https://localhost:8080/",
          "height": 677
        },
        "id": "k7vwtcNV5ZOu",
        "outputId": "c601d8af-a2a6-48a3-932d-fa097fa73fbf"
      },
      "source": [
        "# checking the new pivot table head\n",
        "shop_id_month_stack.head(20)"
      ],
      "execution_count": null,
      "outputs": [
        {
          "output_type": "execute_result",
          "data": {
            "text/html": [
              "<div>\n",
              "<style scoped>\n",
              "    .dataframe tbody tr th:only-of-type {\n",
              "        vertical-align: middle;\n",
              "    }\n",
              "\n",
              "    .dataframe tbody tr th {\n",
              "        vertical-align: top;\n",
              "    }\n",
              "\n",
              "    .dataframe thead th {\n",
              "        text-align: right;\n",
              "    }\n",
              "</style>\n",
              "<table border=\"1\" class=\"dataframe\">\n",
              "  <thead>\n",
              "    <tr style=\"text-align: right;\">\n",
              "      <th></th>\n",
              "      <th>item_id</th>\n",
              "      <th>shop_id</th>\n",
              "      <th>year</th>\n",
              "      <th>month</th>\n",
              "      <th>item_cnt_month_shop_id</th>\n",
              "    </tr>\n",
              "  </thead>\n",
              "  <tbody>\n",
              "    <tr>\n",
              "      <th>0</th>\n",
              "      <td>0</td>\n",
              "      <td>0</td>\n",
              "      <td>2013</td>\n",
              "      <td>1</td>\n",
              "      <td>0.0</td>\n",
              "    </tr>\n",
              "    <tr>\n",
              "      <th>1</th>\n",
              "      <td>0</td>\n",
              "      <td>0</td>\n",
              "      <td>2013</td>\n",
              "      <td>2</td>\n",
              "      <td>0.0</td>\n",
              "    </tr>\n",
              "    <tr>\n",
              "      <th>2</th>\n",
              "      <td>0</td>\n",
              "      <td>0</td>\n",
              "      <td>2013</td>\n",
              "      <td>3</td>\n",
              "      <td>0.0</td>\n",
              "    </tr>\n",
              "    <tr>\n",
              "      <th>3</th>\n",
              "      <td>0</td>\n",
              "      <td>0</td>\n",
              "      <td>2013</td>\n",
              "      <td>4</td>\n",
              "      <td>0.0</td>\n",
              "    </tr>\n",
              "    <tr>\n",
              "      <th>4</th>\n",
              "      <td>0</td>\n",
              "      <td>0</td>\n",
              "      <td>2013</td>\n",
              "      <td>5</td>\n",
              "      <td>0.0</td>\n",
              "    </tr>\n",
              "    <tr>\n",
              "      <th>5</th>\n",
              "      <td>0</td>\n",
              "      <td>0</td>\n",
              "      <td>2013</td>\n",
              "      <td>6</td>\n",
              "      <td>0.0</td>\n",
              "    </tr>\n",
              "    <tr>\n",
              "      <th>6</th>\n",
              "      <td>0</td>\n",
              "      <td>0</td>\n",
              "      <td>2013</td>\n",
              "      <td>7</td>\n",
              "      <td>0.0</td>\n",
              "    </tr>\n",
              "    <tr>\n",
              "      <th>7</th>\n",
              "      <td>0</td>\n",
              "      <td>0</td>\n",
              "      <td>2013</td>\n",
              "      <td>8</td>\n",
              "      <td>0.0</td>\n",
              "    </tr>\n",
              "    <tr>\n",
              "      <th>8</th>\n",
              "      <td>0</td>\n",
              "      <td>0</td>\n",
              "      <td>2013</td>\n",
              "      <td>9</td>\n",
              "      <td>0.0</td>\n",
              "    </tr>\n",
              "    <tr>\n",
              "      <th>9</th>\n",
              "      <td>0</td>\n",
              "      <td>0</td>\n",
              "      <td>2013</td>\n",
              "      <td>10</td>\n",
              "      <td>0.0</td>\n",
              "    </tr>\n",
              "    <tr>\n",
              "      <th>10</th>\n",
              "      <td>0</td>\n",
              "      <td>0</td>\n",
              "      <td>2013</td>\n",
              "      <td>11</td>\n",
              "      <td>0.0</td>\n",
              "    </tr>\n",
              "    <tr>\n",
              "      <th>11</th>\n",
              "      <td>0</td>\n",
              "      <td>0</td>\n",
              "      <td>2013</td>\n",
              "      <td>12</td>\n",
              "      <td>0.0</td>\n",
              "    </tr>\n",
              "    <tr>\n",
              "      <th>12</th>\n",
              "      <td>0</td>\n",
              "      <td>0</td>\n",
              "      <td>2014</td>\n",
              "      <td>1</td>\n",
              "      <td>0.0</td>\n",
              "    </tr>\n",
              "    <tr>\n",
              "      <th>13</th>\n",
              "      <td>0</td>\n",
              "      <td>0</td>\n",
              "      <td>2014</td>\n",
              "      <td>2</td>\n",
              "      <td>0.0</td>\n",
              "    </tr>\n",
              "    <tr>\n",
              "      <th>14</th>\n",
              "      <td>0</td>\n",
              "      <td>0</td>\n",
              "      <td>2014</td>\n",
              "      <td>3</td>\n",
              "      <td>0.0</td>\n",
              "    </tr>\n",
              "    <tr>\n",
              "      <th>15</th>\n",
              "      <td>0</td>\n",
              "      <td>0</td>\n",
              "      <td>2014</td>\n",
              "      <td>4</td>\n",
              "      <td>0.0</td>\n",
              "    </tr>\n",
              "    <tr>\n",
              "      <th>16</th>\n",
              "      <td>0</td>\n",
              "      <td>0</td>\n",
              "      <td>2014</td>\n",
              "      <td>5</td>\n",
              "      <td>0.0</td>\n",
              "    </tr>\n",
              "    <tr>\n",
              "      <th>17</th>\n",
              "      <td>0</td>\n",
              "      <td>0</td>\n",
              "      <td>2014</td>\n",
              "      <td>6</td>\n",
              "      <td>0.0</td>\n",
              "    </tr>\n",
              "    <tr>\n",
              "      <th>18</th>\n",
              "      <td>0</td>\n",
              "      <td>0</td>\n",
              "      <td>2014</td>\n",
              "      <td>7</td>\n",
              "      <td>0.0</td>\n",
              "    </tr>\n",
              "    <tr>\n",
              "      <th>19</th>\n",
              "      <td>0</td>\n",
              "      <td>0</td>\n",
              "      <td>2014</td>\n",
              "      <td>8</td>\n",
              "      <td>0.0</td>\n",
              "    </tr>\n",
              "  </tbody>\n",
              "</table>\n",
              "</div>"
            ],
            "text/plain": [
              "    item_id  shop_id  year  month  item_cnt_month_shop_id\n",
              "0         0        0  2013      1                     0.0\n",
              "1         0        0  2013      2                     0.0\n",
              "2         0        0  2013      3                     0.0\n",
              "3         0        0  2013      4                     0.0\n",
              "4         0        0  2013      5                     0.0\n",
              "5         0        0  2013      6                     0.0\n",
              "6         0        0  2013      7                     0.0\n",
              "7         0        0  2013      8                     0.0\n",
              "8         0        0  2013      9                     0.0\n",
              "9         0        0  2013     10                     0.0\n",
              "10        0        0  2013     11                     0.0\n",
              "11        0        0  2013     12                     0.0\n",
              "12        0        0  2014      1                     0.0\n",
              "13        0        0  2014      2                     0.0\n",
              "14        0        0  2014      3                     0.0\n",
              "15        0        0  2014      4                     0.0\n",
              "16        0        0  2014      5                     0.0\n",
              "17        0        0  2014      6                     0.0\n",
              "18        0        0  2014      7                     0.0\n",
              "19        0        0  2014      8                     0.0"
            ]
          },
          "metadata": {
            "tags": []
          },
          "execution_count": 168
        }
      ]
    },
    {
      "cell_type": "code",
      "metadata": {
        "id": "5l40RoADL-BV"
      },
      "source": [
        "# looping through number dictionary to add 1,2,3,6,12 month lags to columns\n",
        "for i in [1,2,3,6,12]:\n",
        "  shop_id_month_stack[str(i) + '_month_ago'] = shop_id_month_stack['item_cnt_month_shop_id'].shift(i)"
      ],
      "execution_count": null,
      "outputs": []
    },
    {
      "cell_type": "code",
      "metadata": {
        "id": "6J3XZ0oaoX-8"
      },
      "source": [
        "# removing year 2013 because there are NaN values in lagged columns \n",
        "shop_id_month_stack = shop_id_month_stack.loc[shop_id_month_stack['year'] > 2013]"
      ],
      "execution_count": null,
      "outputs": []
    },
    {
      "cell_type": "code",
      "metadata": {
        "colab": {
          "base_uri": "https://localhost:8080/",
          "height": 457
        },
        "id": "z_0vwUZ9ATEV",
        "outputId": "03314409-d06c-402c-e338-32f3d4bc9d1e"
      },
      "source": [
        "# checking new columns head\n",
        "shop_id_month_stack.head(13)"
      ],
      "execution_count": null,
      "outputs": [
        {
          "output_type": "execute_result",
          "data": {
            "text/html": [
              "<div>\n",
              "<style scoped>\n",
              "    .dataframe tbody tr th:only-of-type {\n",
              "        vertical-align: middle;\n",
              "    }\n",
              "\n",
              "    .dataframe tbody tr th {\n",
              "        vertical-align: top;\n",
              "    }\n",
              "\n",
              "    .dataframe thead th {\n",
              "        text-align: right;\n",
              "    }\n",
              "</style>\n",
              "<table border=\"1\" class=\"dataframe\">\n",
              "  <thead>\n",
              "    <tr style=\"text-align: right;\">\n",
              "      <th></th>\n",
              "      <th>item_id</th>\n",
              "      <th>shop_id</th>\n",
              "      <th>year</th>\n",
              "      <th>month</th>\n",
              "      <th>item_cnt_month_shop_id</th>\n",
              "      <th>1_month_ago</th>\n",
              "      <th>2_month_ago</th>\n",
              "      <th>3_month_ago</th>\n",
              "      <th>6_month_ago</th>\n",
              "      <th>12_month_ago</th>\n",
              "    </tr>\n",
              "  </thead>\n",
              "  <tbody>\n",
              "    <tr>\n",
              "      <th>12</th>\n",
              "      <td>0</td>\n",
              "      <td>0</td>\n",
              "      <td>2014</td>\n",
              "      <td>1</td>\n",
              "      <td>0.0</td>\n",
              "      <td>0.0</td>\n",
              "      <td>0.0</td>\n",
              "      <td>0.0</td>\n",
              "      <td>0.0</td>\n",
              "      <td>0.0</td>\n",
              "    </tr>\n",
              "    <tr>\n",
              "      <th>13</th>\n",
              "      <td>0</td>\n",
              "      <td>0</td>\n",
              "      <td>2014</td>\n",
              "      <td>2</td>\n",
              "      <td>0.0</td>\n",
              "      <td>0.0</td>\n",
              "      <td>0.0</td>\n",
              "      <td>0.0</td>\n",
              "      <td>0.0</td>\n",
              "      <td>0.0</td>\n",
              "    </tr>\n",
              "    <tr>\n",
              "      <th>14</th>\n",
              "      <td>0</td>\n",
              "      <td>0</td>\n",
              "      <td>2014</td>\n",
              "      <td>3</td>\n",
              "      <td>0.0</td>\n",
              "      <td>0.0</td>\n",
              "      <td>0.0</td>\n",
              "      <td>0.0</td>\n",
              "      <td>0.0</td>\n",
              "      <td>0.0</td>\n",
              "    </tr>\n",
              "    <tr>\n",
              "      <th>15</th>\n",
              "      <td>0</td>\n",
              "      <td>0</td>\n",
              "      <td>2014</td>\n",
              "      <td>4</td>\n",
              "      <td>0.0</td>\n",
              "      <td>0.0</td>\n",
              "      <td>0.0</td>\n",
              "      <td>0.0</td>\n",
              "      <td>0.0</td>\n",
              "      <td>0.0</td>\n",
              "    </tr>\n",
              "    <tr>\n",
              "      <th>16</th>\n",
              "      <td>0</td>\n",
              "      <td>0</td>\n",
              "      <td>2014</td>\n",
              "      <td>5</td>\n",
              "      <td>0.0</td>\n",
              "      <td>0.0</td>\n",
              "      <td>0.0</td>\n",
              "      <td>0.0</td>\n",
              "      <td>0.0</td>\n",
              "      <td>0.0</td>\n",
              "    </tr>\n",
              "    <tr>\n",
              "      <th>17</th>\n",
              "      <td>0</td>\n",
              "      <td>0</td>\n",
              "      <td>2014</td>\n",
              "      <td>6</td>\n",
              "      <td>0.0</td>\n",
              "      <td>0.0</td>\n",
              "      <td>0.0</td>\n",
              "      <td>0.0</td>\n",
              "      <td>0.0</td>\n",
              "      <td>0.0</td>\n",
              "    </tr>\n",
              "    <tr>\n",
              "      <th>18</th>\n",
              "      <td>0</td>\n",
              "      <td>0</td>\n",
              "      <td>2014</td>\n",
              "      <td>7</td>\n",
              "      <td>0.0</td>\n",
              "      <td>0.0</td>\n",
              "      <td>0.0</td>\n",
              "      <td>0.0</td>\n",
              "      <td>0.0</td>\n",
              "      <td>0.0</td>\n",
              "    </tr>\n",
              "    <tr>\n",
              "      <th>19</th>\n",
              "      <td>0</td>\n",
              "      <td>0</td>\n",
              "      <td>2014</td>\n",
              "      <td>8</td>\n",
              "      <td>0.0</td>\n",
              "      <td>0.0</td>\n",
              "      <td>0.0</td>\n",
              "      <td>0.0</td>\n",
              "      <td>0.0</td>\n",
              "      <td>0.0</td>\n",
              "    </tr>\n",
              "    <tr>\n",
              "      <th>20</th>\n",
              "      <td>0</td>\n",
              "      <td>0</td>\n",
              "      <td>2014</td>\n",
              "      <td>9</td>\n",
              "      <td>0.0</td>\n",
              "      <td>0.0</td>\n",
              "      <td>0.0</td>\n",
              "      <td>0.0</td>\n",
              "      <td>0.0</td>\n",
              "      <td>0.0</td>\n",
              "    </tr>\n",
              "    <tr>\n",
              "      <th>21</th>\n",
              "      <td>0</td>\n",
              "      <td>0</td>\n",
              "      <td>2014</td>\n",
              "      <td>10</td>\n",
              "      <td>0.0</td>\n",
              "      <td>0.0</td>\n",
              "      <td>0.0</td>\n",
              "      <td>0.0</td>\n",
              "      <td>0.0</td>\n",
              "      <td>0.0</td>\n",
              "    </tr>\n",
              "    <tr>\n",
              "      <th>22</th>\n",
              "      <td>0</td>\n",
              "      <td>0</td>\n",
              "      <td>2014</td>\n",
              "      <td>11</td>\n",
              "      <td>0.0</td>\n",
              "      <td>0.0</td>\n",
              "      <td>0.0</td>\n",
              "      <td>0.0</td>\n",
              "      <td>0.0</td>\n",
              "      <td>0.0</td>\n",
              "    </tr>\n",
              "    <tr>\n",
              "      <th>23</th>\n",
              "      <td>0</td>\n",
              "      <td>0</td>\n",
              "      <td>2014</td>\n",
              "      <td>12</td>\n",
              "      <td>0.0</td>\n",
              "      <td>0.0</td>\n",
              "      <td>0.0</td>\n",
              "      <td>0.0</td>\n",
              "      <td>0.0</td>\n",
              "      <td>0.0</td>\n",
              "    </tr>\n",
              "    <tr>\n",
              "      <th>24</th>\n",
              "      <td>0</td>\n",
              "      <td>0</td>\n",
              "      <td>2015</td>\n",
              "      <td>1</td>\n",
              "      <td>0.0</td>\n",
              "      <td>0.0</td>\n",
              "      <td>0.0</td>\n",
              "      <td>0.0</td>\n",
              "      <td>0.0</td>\n",
              "      <td>0.0</td>\n",
              "    </tr>\n",
              "  </tbody>\n",
              "</table>\n",
              "</div>"
            ],
            "text/plain": [
              "    item_id  shop_id  year  month  item_cnt_month_shop_id  1_month_ago  \\\n",
              "12        0        0  2014      1                     0.0          0.0   \n",
              "13        0        0  2014      2                     0.0          0.0   \n",
              "14        0        0  2014      3                     0.0          0.0   \n",
              "15        0        0  2014      4                     0.0          0.0   \n",
              "16        0        0  2014      5                     0.0          0.0   \n",
              "17        0        0  2014      6                     0.0          0.0   \n",
              "18        0        0  2014      7                     0.0          0.0   \n",
              "19        0        0  2014      8                     0.0          0.0   \n",
              "20        0        0  2014      9                     0.0          0.0   \n",
              "21        0        0  2014     10                     0.0          0.0   \n",
              "22        0        0  2014     11                     0.0          0.0   \n",
              "23        0        0  2014     12                     0.0          0.0   \n",
              "24        0        0  2015      1                     0.0          0.0   \n",
              "\n",
              "    2_month_ago  3_month_ago  6_month_ago  12_month_ago  \n",
              "12          0.0          0.0          0.0           0.0  \n",
              "13          0.0          0.0          0.0           0.0  \n",
              "14          0.0          0.0          0.0           0.0  \n",
              "15          0.0          0.0          0.0           0.0  \n",
              "16          0.0          0.0          0.0           0.0  \n",
              "17          0.0          0.0          0.0           0.0  \n",
              "18          0.0          0.0          0.0           0.0  \n",
              "19          0.0          0.0          0.0           0.0  \n",
              "20          0.0          0.0          0.0           0.0  \n",
              "21          0.0          0.0          0.0           0.0  \n",
              "22          0.0          0.0          0.0           0.0  \n",
              "23          0.0          0.0          0.0           0.0  \n",
              "24          0.0          0.0          0.0           0.0  "
            ]
          },
          "metadata": {
            "tags": []
          },
          "execution_count": 171
        }
      ]
    },
    {
      "cell_type": "code",
      "metadata": {
        "colab": {
          "base_uri": "https://localhost:8080/",
          "height": 457
        },
        "id": "rCyL72FhodF3",
        "outputId": "9b4e0c01-a32c-48da-81ee-43125252dcac"
      },
      "source": [
        "# checking one active items head\n",
        "shop_id_month_stack[shop_id_month_stack.item_id == 22167].head(13)"
      ],
      "execution_count": null,
      "outputs": [
        {
          "output_type": "execute_result",
          "data": {
            "text/html": [
              "<div>\n",
              "<style scoped>\n",
              "    .dataframe tbody tr th:only-of-type {\n",
              "        vertical-align: middle;\n",
              "    }\n",
              "\n",
              "    .dataframe tbody tr th {\n",
              "        vertical-align: top;\n",
              "    }\n",
              "\n",
              "    .dataframe thead th {\n",
              "        text-align: right;\n",
              "    }\n",
              "</style>\n",
              "<table border=\"1\" class=\"dataframe\">\n",
              "  <thead>\n",
              "    <tr style=\"text-align: right;\">\n",
              "      <th></th>\n",
              "      <th>item_id</th>\n",
              "      <th>shop_id</th>\n",
              "      <th>year</th>\n",
              "      <th>month</th>\n",
              "      <th>item_cnt_month_shop_id</th>\n",
              "      <th>1_month_ago</th>\n",
              "      <th>2_month_ago</th>\n",
              "      <th>3_month_ago</th>\n",
              "      <th>6_month_ago</th>\n",
              "      <th>12_month_ago</th>\n",
              "    </tr>\n",
              "  </thead>\n",
              "  <tbody>\n",
              "    <tr>\n",
              "      <th>47096652</th>\n",
              "      <td>22167</td>\n",
              "      <td>0</td>\n",
              "      <td>2014</td>\n",
              "      <td>1</td>\n",
              "      <td>0.0</td>\n",
              "      <td>0.0</td>\n",
              "      <td>0.0</td>\n",
              "      <td>0.0</td>\n",
              "      <td>0.0</td>\n",
              "      <td>0.0</td>\n",
              "    </tr>\n",
              "    <tr>\n",
              "      <th>47096653</th>\n",
              "      <td>22167</td>\n",
              "      <td>0</td>\n",
              "      <td>2014</td>\n",
              "      <td>2</td>\n",
              "      <td>0.0</td>\n",
              "      <td>0.0</td>\n",
              "      <td>0.0</td>\n",
              "      <td>0.0</td>\n",
              "      <td>0.0</td>\n",
              "      <td>0.0</td>\n",
              "    </tr>\n",
              "    <tr>\n",
              "      <th>47096654</th>\n",
              "      <td>22167</td>\n",
              "      <td>0</td>\n",
              "      <td>2014</td>\n",
              "      <td>3</td>\n",
              "      <td>0.0</td>\n",
              "      <td>0.0</td>\n",
              "      <td>0.0</td>\n",
              "      <td>0.0</td>\n",
              "      <td>0.0</td>\n",
              "      <td>0.0</td>\n",
              "    </tr>\n",
              "    <tr>\n",
              "      <th>47096655</th>\n",
              "      <td>22167</td>\n",
              "      <td>0</td>\n",
              "      <td>2014</td>\n",
              "      <td>4</td>\n",
              "      <td>0.0</td>\n",
              "      <td>0.0</td>\n",
              "      <td>0.0</td>\n",
              "      <td>0.0</td>\n",
              "      <td>0.0</td>\n",
              "      <td>0.0</td>\n",
              "    </tr>\n",
              "    <tr>\n",
              "      <th>47096656</th>\n",
              "      <td>22167</td>\n",
              "      <td>0</td>\n",
              "      <td>2014</td>\n",
              "      <td>5</td>\n",
              "      <td>0.0</td>\n",
              "      <td>0.0</td>\n",
              "      <td>0.0</td>\n",
              "      <td>0.0</td>\n",
              "      <td>0.0</td>\n",
              "      <td>0.0</td>\n",
              "    </tr>\n",
              "    <tr>\n",
              "      <th>47096657</th>\n",
              "      <td>22167</td>\n",
              "      <td>0</td>\n",
              "      <td>2014</td>\n",
              "      <td>6</td>\n",
              "      <td>0.0</td>\n",
              "      <td>0.0</td>\n",
              "      <td>0.0</td>\n",
              "      <td>0.0</td>\n",
              "      <td>0.0</td>\n",
              "      <td>0.0</td>\n",
              "    </tr>\n",
              "    <tr>\n",
              "      <th>47096658</th>\n",
              "      <td>22167</td>\n",
              "      <td>0</td>\n",
              "      <td>2014</td>\n",
              "      <td>7</td>\n",
              "      <td>0.0</td>\n",
              "      <td>0.0</td>\n",
              "      <td>0.0</td>\n",
              "      <td>0.0</td>\n",
              "      <td>0.0</td>\n",
              "      <td>0.0</td>\n",
              "    </tr>\n",
              "    <tr>\n",
              "      <th>47096659</th>\n",
              "      <td>22167</td>\n",
              "      <td>0</td>\n",
              "      <td>2014</td>\n",
              "      <td>8</td>\n",
              "      <td>0.0</td>\n",
              "      <td>0.0</td>\n",
              "      <td>0.0</td>\n",
              "      <td>0.0</td>\n",
              "      <td>0.0</td>\n",
              "      <td>0.0</td>\n",
              "    </tr>\n",
              "    <tr>\n",
              "      <th>47096660</th>\n",
              "      <td>22167</td>\n",
              "      <td>0</td>\n",
              "      <td>2014</td>\n",
              "      <td>9</td>\n",
              "      <td>0.0</td>\n",
              "      <td>0.0</td>\n",
              "      <td>0.0</td>\n",
              "      <td>0.0</td>\n",
              "      <td>0.0</td>\n",
              "      <td>0.0</td>\n",
              "    </tr>\n",
              "    <tr>\n",
              "      <th>47096661</th>\n",
              "      <td>22167</td>\n",
              "      <td>0</td>\n",
              "      <td>2014</td>\n",
              "      <td>10</td>\n",
              "      <td>0.0</td>\n",
              "      <td>0.0</td>\n",
              "      <td>0.0</td>\n",
              "      <td>0.0</td>\n",
              "      <td>0.0</td>\n",
              "      <td>0.0</td>\n",
              "    </tr>\n",
              "    <tr>\n",
              "      <th>47096662</th>\n",
              "      <td>22167</td>\n",
              "      <td>0</td>\n",
              "      <td>2014</td>\n",
              "      <td>11</td>\n",
              "      <td>0.0</td>\n",
              "      <td>0.0</td>\n",
              "      <td>0.0</td>\n",
              "      <td>0.0</td>\n",
              "      <td>0.0</td>\n",
              "      <td>0.0</td>\n",
              "    </tr>\n",
              "    <tr>\n",
              "      <th>47096663</th>\n",
              "      <td>22167</td>\n",
              "      <td>0</td>\n",
              "      <td>2014</td>\n",
              "      <td>12</td>\n",
              "      <td>0.0</td>\n",
              "      <td>0.0</td>\n",
              "      <td>0.0</td>\n",
              "      <td>0.0</td>\n",
              "      <td>0.0</td>\n",
              "      <td>0.0</td>\n",
              "    </tr>\n",
              "    <tr>\n",
              "      <th>47096664</th>\n",
              "      <td>22167</td>\n",
              "      <td>0</td>\n",
              "      <td>2015</td>\n",
              "      <td>1</td>\n",
              "      <td>0.0</td>\n",
              "      <td>0.0</td>\n",
              "      <td>0.0</td>\n",
              "      <td>0.0</td>\n",
              "      <td>0.0</td>\n",
              "      <td>0.0</td>\n",
              "    </tr>\n",
              "  </tbody>\n",
              "</table>\n",
              "</div>"
            ],
            "text/plain": [
              "          item_id  shop_id  year  month  item_cnt_month_shop_id  1_month_ago  \\\n",
              "47096652    22167        0  2014      1                     0.0          0.0   \n",
              "47096653    22167        0  2014      2                     0.0          0.0   \n",
              "47096654    22167        0  2014      3                     0.0          0.0   \n",
              "47096655    22167        0  2014      4                     0.0          0.0   \n",
              "47096656    22167        0  2014      5                     0.0          0.0   \n",
              "47096657    22167        0  2014      6                     0.0          0.0   \n",
              "47096658    22167        0  2014      7                     0.0          0.0   \n",
              "47096659    22167        0  2014      8                     0.0          0.0   \n",
              "47096660    22167        0  2014      9                     0.0          0.0   \n",
              "47096661    22167        0  2014     10                     0.0          0.0   \n",
              "47096662    22167        0  2014     11                     0.0          0.0   \n",
              "47096663    22167        0  2014     12                     0.0          0.0   \n",
              "47096664    22167        0  2015      1                     0.0          0.0   \n",
              "\n",
              "          2_month_ago  3_month_ago  6_month_ago  12_month_ago  \n",
              "47096652          0.0          0.0          0.0           0.0  \n",
              "47096653          0.0          0.0          0.0           0.0  \n",
              "47096654          0.0          0.0          0.0           0.0  \n",
              "47096655          0.0          0.0          0.0           0.0  \n",
              "47096656          0.0          0.0          0.0           0.0  \n",
              "47096657          0.0          0.0          0.0           0.0  \n",
              "47096658          0.0          0.0          0.0           0.0  \n",
              "47096659          0.0          0.0          0.0           0.0  \n",
              "47096660          0.0          0.0          0.0           0.0  \n",
              "47096661          0.0          0.0          0.0           0.0  \n",
              "47096662          0.0          0.0          0.0           0.0  \n",
              "47096663          0.0          0.0          0.0           0.0  \n",
              "47096664          0.0          0.0          0.0           0.0  "
            ]
          },
          "metadata": {
            "tags": []
          },
          "execution_count": 172
        }
      ]
    },
    {
      "cell_type": "code",
      "metadata": {
        "colab": {
          "base_uri": "https://localhost:8080/"
        },
        "id": "MZQzBl5N9vUm",
        "outputId": "622940b5-badb-4b8a-c539-923569d6ce9c"
      },
      "source": [
        "max(shop_id_month_stack.item_cnt_month_shop_id)"
      ],
      "execution_count": null,
      "outputs": [
        {
          "output_type": "execute_result",
          "data": {
            "text/plain": [
              "1243.0"
            ]
          },
          "metadata": {
            "tags": []
          },
          "execution_count": 173
        }
      ]
    },
    {
      "cell_type": "markdown",
      "metadata": {
        "id": "HI0PbkxEvbZI"
      },
      "source": [
        "Test Data"
      ]
    },
    {
      "cell_type": "code",
      "metadata": {
        "colab": {
          "base_uri": "https://localhost:8080/",
          "height": 206
        },
        "id": "-jyOyAUzvavI",
        "outputId": "1425bd45-beba-42e5-f937-c3ef7d700821"
      },
      "source": [
        "test_df.head()"
      ],
      "execution_count": null,
      "outputs": [
        {
          "output_type": "execute_result",
          "data": {
            "text/html": [
              "<div>\n",
              "<style scoped>\n",
              "    .dataframe tbody tr th:only-of-type {\n",
              "        vertical-align: middle;\n",
              "    }\n",
              "\n",
              "    .dataframe tbody tr th {\n",
              "        vertical-align: top;\n",
              "    }\n",
              "\n",
              "    .dataframe thead th {\n",
              "        text-align: right;\n",
              "    }\n",
              "</style>\n",
              "<table border=\"1\" class=\"dataframe\">\n",
              "  <thead>\n",
              "    <tr style=\"text-align: right;\">\n",
              "      <th></th>\n",
              "      <th>ID</th>\n",
              "      <th>shop_id</th>\n",
              "      <th>item_id</th>\n",
              "    </tr>\n",
              "  </thead>\n",
              "  <tbody>\n",
              "    <tr>\n",
              "      <th>0</th>\n",
              "      <td>0</td>\n",
              "      <td>5</td>\n",
              "      <td>5037</td>\n",
              "    </tr>\n",
              "    <tr>\n",
              "      <th>1</th>\n",
              "      <td>1</td>\n",
              "      <td>5</td>\n",
              "      <td>5320</td>\n",
              "    </tr>\n",
              "    <tr>\n",
              "      <th>2</th>\n",
              "      <td>2</td>\n",
              "      <td>5</td>\n",
              "      <td>5233</td>\n",
              "    </tr>\n",
              "    <tr>\n",
              "      <th>3</th>\n",
              "      <td>3</td>\n",
              "      <td>5</td>\n",
              "      <td>5232</td>\n",
              "    </tr>\n",
              "    <tr>\n",
              "      <th>4</th>\n",
              "      <td>4</td>\n",
              "      <td>5</td>\n",
              "      <td>5268</td>\n",
              "    </tr>\n",
              "  </tbody>\n",
              "</table>\n",
              "</div>"
            ],
            "text/plain": [
              "   ID  shop_id  item_id\n",
              "0   0        5     5037\n",
              "1   1        5     5320\n",
              "2   2        5     5233\n",
              "3   3        5     5232\n",
              "4   4        5     5268"
            ]
          },
          "metadata": {
            "tags": []
          },
          "execution_count": 174
        }
      ]
    },
    {
      "cell_type": "code",
      "metadata": {
        "colab": {
          "base_uri": "https://localhost:8080/",
          "height": 206
        },
        "id": "4Ps_0EOf76fG",
        "outputId": "2e9fe317-f5d8-40e3-8eb3-9aca09db58ac"
      },
      "source": [
        "shop_id_month_stack.head()"
      ],
      "execution_count": null,
      "outputs": [
        {
          "output_type": "execute_result",
          "data": {
            "text/html": [
              "<div>\n",
              "<style scoped>\n",
              "    .dataframe tbody tr th:only-of-type {\n",
              "        vertical-align: middle;\n",
              "    }\n",
              "\n",
              "    .dataframe tbody tr th {\n",
              "        vertical-align: top;\n",
              "    }\n",
              "\n",
              "    .dataframe thead th {\n",
              "        text-align: right;\n",
              "    }\n",
              "</style>\n",
              "<table border=\"1\" class=\"dataframe\">\n",
              "  <thead>\n",
              "    <tr style=\"text-align: right;\">\n",
              "      <th></th>\n",
              "      <th>item_id</th>\n",
              "      <th>shop_id</th>\n",
              "      <th>year</th>\n",
              "      <th>month</th>\n",
              "      <th>item_cnt_month_shop_id</th>\n",
              "      <th>1_month_ago</th>\n",
              "      <th>2_month_ago</th>\n",
              "      <th>3_month_ago</th>\n",
              "      <th>6_month_ago</th>\n",
              "      <th>12_month_ago</th>\n",
              "    </tr>\n",
              "  </thead>\n",
              "  <tbody>\n",
              "    <tr>\n",
              "      <th>12</th>\n",
              "      <td>0</td>\n",
              "      <td>0</td>\n",
              "      <td>2014</td>\n",
              "      <td>1</td>\n",
              "      <td>0.0</td>\n",
              "      <td>0.0</td>\n",
              "      <td>0.0</td>\n",
              "      <td>0.0</td>\n",
              "      <td>0.0</td>\n",
              "      <td>0.0</td>\n",
              "    </tr>\n",
              "    <tr>\n",
              "      <th>13</th>\n",
              "      <td>0</td>\n",
              "      <td>0</td>\n",
              "      <td>2014</td>\n",
              "      <td>2</td>\n",
              "      <td>0.0</td>\n",
              "      <td>0.0</td>\n",
              "      <td>0.0</td>\n",
              "      <td>0.0</td>\n",
              "      <td>0.0</td>\n",
              "      <td>0.0</td>\n",
              "    </tr>\n",
              "    <tr>\n",
              "      <th>14</th>\n",
              "      <td>0</td>\n",
              "      <td>0</td>\n",
              "      <td>2014</td>\n",
              "      <td>3</td>\n",
              "      <td>0.0</td>\n",
              "      <td>0.0</td>\n",
              "      <td>0.0</td>\n",
              "      <td>0.0</td>\n",
              "      <td>0.0</td>\n",
              "      <td>0.0</td>\n",
              "    </tr>\n",
              "    <tr>\n",
              "      <th>15</th>\n",
              "      <td>0</td>\n",
              "      <td>0</td>\n",
              "      <td>2014</td>\n",
              "      <td>4</td>\n",
              "      <td>0.0</td>\n",
              "      <td>0.0</td>\n",
              "      <td>0.0</td>\n",
              "      <td>0.0</td>\n",
              "      <td>0.0</td>\n",
              "      <td>0.0</td>\n",
              "    </tr>\n",
              "    <tr>\n",
              "      <th>16</th>\n",
              "      <td>0</td>\n",
              "      <td>0</td>\n",
              "      <td>2014</td>\n",
              "      <td>5</td>\n",
              "      <td>0.0</td>\n",
              "      <td>0.0</td>\n",
              "      <td>0.0</td>\n",
              "      <td>0.0</td>\n",
              "      <td>0.0</td>\n",
              "      <td>0.0</td>\n",
              "    </tr>\n",
              "  </tbody>\n",
              "</table>\n",
              "</div>"
            ],
            "text/plain": [
              "    item_id  shop_id  year  month  item_cnt_month_shop_id  1_month_ago  \\\n",
              "12        0        0  2014      1                     0.0          0.0   \n",
              "13        0        0  2014      2                     0.0          0.0   \n",
              "14        0        0  2014      3                     0.0          0.0   \n",
              "15        0        0  2014      4                     0.0          0.0   \n",
              "16        0        0  2014      5                     0.0          0.0   \n",
              "\n",
              "    2_month_ago  3_month_ago  6_month_ago  12_month_ago  \n",
              "12          0.0          0.0          0.0           0.0  \n",
              "13          0.0          0.0          0.0           0.0  \n",
              "14          0.0          0.0          0.0           0.0  \n",
              "15          0.0          0.0          0.0           0.0  \n",
              "16          0.0          0.0          0.0           0.0  "
            ]
          },
          "metadata": {
            "tags": []
          },
          "execution_count": 175
        }
      ]
    },
    {
      "cell_type": "code",
      "metadata": {
        "colab": {
          "base_uri": "https://localhost:8080/"
        },
        "id": "aYPsUOGN-MhN",
        "outputId": "3c035573-5eb4-490f-e9de-167902d533bf"
      },
      "source": [
        "len(shop_id_month_stack)"
      ],
      "execution_count": null,
      "outputs": [
        {
          "output_type": "execute_result",
          "data": {
            "text/plain": [
              "31402080"
            ]
          },
          "metadata": {
            "tags": []
          },
          "execution_count": 176
        }
      ]
    },
    {
      "cell_type": "code",
      "metadata": {
        "colab": {
          "base_uri": "https://localhost:8080/"
        },
        "id": "Sj-7LnVc-SYL",
        "outputId": "aad635c3-5723-4847-bfe0-42d1c5750971"
      },
      "source": [
        "#How many unique item_ids?\n",
        "shop_id_month_stack.item_id.nunique()"
      ],
      "execution_count": null,
      "outputs": [
        {
          "output_type": "execute_result",
          "data": {
            "text/plain": [
              "21807"
            ]
          },
          "metadata": {
            "tags": []
          },
          "execution_count": 177
        }
      ]
    },
    {
      "cell_type": "code",
      "metadata": {
        "colab": {
          "base_uri": "https://localhost:8080/"
        },
        "id": "sEPcEoK4-ax-",
        "outputId": "3cf34aa0-e9cf-4c36-aca3-2f81addb177d"
      },
      "source": [
        "#How many unique item_ids?\n",
        "shop_id_month_stack.shop_id.nunique()"
      ],
      "execution_count": null,
      "outputs": [
        {
          "output_type": "execute_result",
          "data": {
            "text/plain": [
              "60"
            ]
          },
          "metadata": {
            "tags": []
          },
          "execution_count": 178
        }
      ]
    },
    {
      "cell_type": "code",
      "metadata": {
        "colab": {
          "base_uri": "https://localhost:8080/"
        },
        "id": "UctUNv4y-bf1",
        "outputId": "de677ea8-2579-4387-931e-c592020eb03d"
      },
      "source": [
        "21059*60"
      ],
      "execution_count": null,
      "outputs": [
        {
          "output_type": "execute_result",
          "data": {
            "text/plain": [
              "1263540"
            ]
          },
          "metadata": {
            "tags": []
          },
          "execution_count": 179
        }
      ]
    },
    {
      "cell_type": "code",
      "metadata": {
        "colab": {
          "base_uri": "https://localhost:8080/"
        },
        "id": "dDEF19LP-oEz",
        "outputId": "34b8ad35-a41f-40ba-f920-8eb09bf711dd"
      },
      "source": [
        "#24 records for each combination of item_id and shop_id, one for each month in 2014 and 2015\n",
        "30324960/1263540"
      ],
      "execution_count": null,
      "outputs": [
        {
          "output_type": "execute_result",
          "data": {
            "text/plain": [
              "24.0"
            ]
          },
          "metadata": {
            "tags": []
          },
          "execution_count": 180
        }
      ]
    },
    {
      "cell_type": "code",
      "metadata": {
        "colab": {
          "base_uri": "https://localhost:8080/",
          "height": 206
        },
        "id": "TT-cyimz8DJG",
        "outputId": "1cab4690-7c17-4812-b878-59772a1b4b10"
      },
      "source": [
        "sample_df.head()"
      ],
      "execution_count": null,
      "outputs": [
        {
          "output_type": "execute_result",
          "data": {
            "text/html": [
              "<div>\n",
              "<style scoped>\n",
              "    .dataframe tbody tr th:only-of-type {\n",
              "        vertical-align: middle;\n",
              "    }\n",
              "\n",
              "    .dataframe tbody tr th {\n",
              "        vertical-align: top;\n",
              "    }\n",
              "\n",
              "    .dataframe thead th {\n",
              "        text-align: right;\n",
              "    }\n",
              "</style>\n",
              "<table border=\"1\" class=\"dataframe\">\n",
              "  <thead>\n",
              "    <tr style=\"text-align: right;\">\n",
              "      <th></th>\n",
              "      <th>ID</th>\n",
              "      <th>item_cnt_month</th>\n",
              "    </tr>\n",
              "  </thead>\n",
              "  <tbody>\n",
              "    <tr>\n",
              "      <th>0</th>\n",
              "      <td>0</td>\n",
              "      <td>0.067603</td>\n",
              "    </tr>\n",
              "    <tr>\n",
              "      <th>1</th>\n",
              "      <td>1</td>\n",
              "      <td>0.067603</td>\n",
              "    </tr>\n",
              "    <tr>\n",
              "      <th>2</th>\n",
              "      <td>2</td>\n",
              "      <td>0.186256</td>\n",
              "    </tr>\n",
              "    <tr>\n",
              "      <th>3</th>\n",
              "      <td>3</td>\n",
              "      <td>0.067603</td>\n",
              "    </tr>\n",
              "    <tr>\n",
              "      <th>4</th>\n",
              "      <td>4</td>\n",
              "      <td>0.067603</td>\n",
              "    </tr>\n",
              "  </tbody>\n",
              "</table>\n",
              "</div>"
            ],
            "text/plain": [
              "   ID  item_cnt_month\n",
              "0   0        0.067603\n",
              "1   1        0.067603\n",
              "2   2        0.186256\n",
              "3   3        0.067603\n",
              "4   4        0.067603"
            ]
          },
          "metadata": {
            "tags": []
          },
          "execution_count": 181
        }
      ]
    },
    {
      "cell_type": "markdown",
      "metadata": {
        "id": "SXEyhnNJmU9u"
      },
      "source": [
        "## merging USD_RUS data"
      ]
    },
    {
      "cell_type": "code",
      "metadata": {
        "colab": {
          "base_uri": "https://localhost:8080/",
          "height": 206
        },
        "id": "xgjN3DGEmjnP",
        "outputId": "1503615d-4227-41c9-eeb8-deda51dc270f"
      },
      "source": [
        "salestrain_df.head()"
      ],
      "execution_count": null,
      "outputs": [
        {
          "output_type": "execute_result",
          "data": {
            "text/html": [
              "<div>\n",
              "<style scoped>\n",
              "    .dataframe tbody tr th:only-of-type {\n",
              "        vertical-align: middle;\n",
              "    }\n",
              "\n",
              "    .dataframe tbody tr th {\n",
              "        vertical-align: top;\n",
              "    }\n",
              "\n",
              "    .dataframe thead th {\n",
              "        text-align: right;\n",
              "    }\n",
              "</style>\n",
              "<table border=\"1\" class=\"dataframe\">\n",
              "  <thead>\n",
              "    <tr style=\"text-align: right;\">\n",
              "      <th></th>\n",
              "      <th>date</th>\n",
              "      <th>date_block_num</th>\n",
              "      <th>shop_id</th>\n",
              "      <th>item_id</th>\n",
              "      <th>item_price</th>\n",
              "      <th>item_cnt_day</th>\n",
              "      <th>USD_RUS</th>\n",
              "      <th>USD_Price</th>\n",
              "      <th>year</th>\n",
              "    </tr>\n",
              "  </thead>\n",
              "  <tbody>\n",
              "    <tr>\n",
              "      <th>0</th>\n",
              "      <td>2013-02-01</td>\n",
              "      <td>0</td>\n",
              "      <td>59</td>\n",
              "      <td>22154</td>\n",
              "      <td>999.0</td>\n",
              "      <td>1</td>\n",
              "      <td>29.9816</td>\n",
              "      <td>33.320437</td>\n",
              "      <td>2013</td>\n",
              "    </tr>\n",
              "    <tr>\n",
              "      <th>1</th>\n",
              "      <td>2013-02-01</td>\n",
              "      <td>0</td>\n",
              "      <td>25</td>\n",
              "      <td>2565</td>\n",
              "      <td>549.0</td>\n",
              "      <td>1</td>\n",
              "      <td>29.9816</td>\n",
              "      <td>18.311231</td>\n",
              "      <td>2013</td>\n",
              "    </tr>\n",
              "    <tr>\n",
              "      <th>2</th>\n",
              "      <td>2013-02-01</td>\n",
              "      <td>0</td>\n",
              "      <td>25</td>\n",
              "      <td>2546</td>\n",
              "      <td>299.0</td>\n",
              "      <td>1</td>\n",
              "      <td>29.9816</td>\n",
              "      <td>9.972783</td>\n",
              "      <td>2013</td>\n",
              "    </tr>\n",
              "    <tr>\n",
              "      <th>3</th>\n",
              "      <td>2013-02-01</td>\n",
              "      <td>0</td>\n",
              "      <td>25</td>\n",
              "      <td>2715</td>\n",
              "      <td>899.0</td>\n",
              "      <td>1</td>\n",
              "      <td>29.9816</td>\n",
              "      <td>29.985058</td>\n",
              "      <td>2013</td>\n",
              "    </tr>\n",
              "    <tr>\n",
              "      <th>4</th>\n",
              "      <td>2013-02-01</td>\n",
              "      <td>0</td>\n",
              "      <td>25</td>\n",
              "      <td>2716</td>\n",
              "      <td>149.0</td>\n",
              "      <td>1</td>\n",
              "      <td>29.9816</td>\n",
              "      <td>4.969715</td>\n",
              "      <td>2013</td>\n",
              "    </tr>\n",
              "  </tbody>\n",
              "</table>\n",
              "</div>"
            ],
            "text/plain": [
              "        date  date_block_num  shop_id  ...  USD_RUS  USD_Price  year\n",
              "0 2013-02-01               0       59  ...  29.9816  33.320437  2013\n",
              "1 2013-02-01               0       25  ...  29.9816  18.311231  2013\n",
              "2 2013-02-01               0       25  ...  29.9816   9.972783  2013\n",
              "3 2013-02-01               0       25  ...  29.9816  29.985058  2013\n",
              "4 2013-02-01               0       25  ...  29.9816   4.969715  2013\n",
              "\n",
              "[5 rows x 9 columns]"
            ]
          },
          "metadata": {
            "tags": []
          },
          "execution_count": 111
        }
      ]
    },
    {
      "cell_type": "code",
      "metadata": {
        "id": "M6bkuCfChjw0"
      },
      "source": [
        "#exchange_rate_by_month = exchange_rate_by_month.loc[exchange_rate_by_month['year'] > 2013]"
      ],
      "execution_count": null,
      "outputs": []
    },
    {
      "cell_type": "code",
      "metadata": {
        "id": "4XOqWGp9eZXj"
      },
      "source": [
        "#exchange_rate_by_month = salestrain_df_combined.pivot_table(index = ['year', 'month'], values = 'USD_RUS', aggfunc = np.mean).reset_index()"
      ],
      "execution_count": null,
      "outputs": []
    },
    {
      "cell_type": "code",
      "metadata": {
        "id": "ETwA8uG3euI6"
      },
      "source": [
        "#exchange_rate_by_month.head(13)"
      ],
      "execution_count": null,
      "outputs": []
    },
    {
      "cell_type": "code",
      "metadata": {
        "colab": {
          "base_uri": "https://localhost:8080/",
          "height": 1000
        },
        "id": "nN6cFzA5L-jn",
        "outputId": "8586894b-7aa4-4caa-9eed-2770ba246828"
      },
      "source": [
        "# checking outliers for quantity of items sold per day\n",
        "plt.figure(figsize = (20, 10))\n",
        "sns.boxplot(x = salestrain_df_combined['item_cnt_day'])\n",
        "plt.ylabel('Number of items sold per day')\n",
        "plt.title('Boxplot for checking outliers for number of items sold per day')\n",
        "\n",
        "# checking outliers for item prices\n",
        "plt.figure(figsize = (20, 10))\n",
        "sns.boxplot(x = salestrain_df_combined['item_price'])\n",
        "plt.ylabel('Number of items sold per day')\n",
        "plt.title('Boxplot for checking outliers for number of items sold per day')"
      ],
      "execution_count": null,
      "outputs": [
        {
          "output_type": "execute_result",
          "data": {
            "text/plain": [
              "Text(0.5, 1.0, 'Boxplot for checking outliers for number of items sold per day')"
            ]
          },
          "metadata": {
            "tags": []
          },
          "execution_count": 115
        },
        {
          "output_type": "display_data",
          "data": {
            "image/png": "[encoded data removed]",
            "text/plain": [
              "<Figure size 1440x720 with 1 Axes>"
            ]
          },
          "metadata": {
            "tags": []
          }
        },
        {
          "output_type": "display_data",
          "data": {
            "image/png": "[encoded data removed]",
            "text/plain": [
              "<Figure size 1440x720 with 1 Axes>"
            ]
          },
          "metadata": {
            "tags": []
          }
        }
      ]
    },
    {
      "cell_type": "code",
      "metadata": {
        "colab": {
          "base_uri": "https://localhost:8080/",
          "height": 1000
        },
        "id": "ir5HFlwYL-jn",
        "outputId": "a6eb081a-a303-47a4-95c8-dcc45174cf00"
      },
      "source": [
        "# boxplot shows quantity for 1 particular sale is very high. Check all sales where quantity is bigger than 500\n",
        "# can imagine that one shop has 2169 deliveries at some peak days or some companies buying 1000 t-shirts\n",
        "salestrain_df_combined[salestrain_df_combined['item_cnt_day'] > 500]"
      ],
      "execution_count": null,
      "outputs": [
        {
          "output_type": "execute_result",
          "data": {
            "text/html": [
              "<div>\n",
              "<style scoped>\n",
              "    .dataframe tbody tr th:only-of-type {\n",
              "        vertical-align: middle;\n",
              "    }\n",
              "\n",
              "    .dataframe tbody tr th {\n",
              "        vertical-align: top;\n",
              "    }\n",
              "\n",
              "    .dataframe thead th {\n",
              "        text-align: right;\n",
              "    }\n",
              "</style>\n",
              "<table border=\"1\" class=\"dataframe\">\n",
              "  <thead>\n",
              "    <tr style=\"text-align: right;\">\n",
              "      <th></th>\n",
              "      <th>date</th>\n",
              "      <th>date_block_num</th>\n",
              "      <th>shop_id</th>\n",
              "      <th>item_id</th>\n",
              "      <th>item_price</th>\n",
              "      <th>item_cnt_day</th>\n",
              "      <th>USD_RUS</th>\n",
              "      <th>USD_Price</th>\n",
              "      <th>year</th>\n",
              "      <th>item_name</th>\n",
              "      <th>item_category_id</th>\n",
              "      <th>item_category_name</th>\n",
              "      <th>shop_name</th>\n",
              "      <th>month</th>\n",
              "      <th>day</th>\n",
              "    </tr>\n",
              "  </thead>\n",
              "  <tbody>\n",
              "    <tr>\n",
              "      <th>1049046</th>\n",
              "      <td>2014-04-22</td>\n",
              "      <td>15</td>\n",
              "      <td>27</td>\n",
              "      <td>8057</td>\n",
              "      <td>1200.000000</td>\n",
              "      <td>502</td>\n",
              "      <td>35.667198</td>\n",
              "      <td>33.644359</td>\n",
              "      <td>2014</td>\n",
              "      <td>iTunes 1500 rubles.</td>\n",
              "      <td>32</td>\n",
              "      <td>Payment card (Movies, Music, Games)</td>\n",
              "      <td>Moscow shopping center \"MEGA Belaya Dacha II\"</td>\n",
              "      <td>4</td>\n",
              "      <td>22</td>\n",
              "    </tr>\n",
              "    <tr>\n",
              "      <th>1597543</th>\n",
              "      <td>2015-04-14</td>\n",
              "      <td>27</td>\n",
              "      <td>12</td>\n",
              "      <td>3731</td>\n",
              "      <td>1904.548077</td>\n",
              "      <td>624</td>\n",
              "      <td>52.481701</td>\n",
              "      <td>36.289755</td>\n",
              "      <td>2015</td>\n",
              "      <td>Grand Theft Auto V [PC, Russian subtitles]</td>\n",
              "      <td>30</td>\n",
              "      <td>Games PC - Standard Edition</td>\n",
              "      <td>Shop Online Emergencies</td>\n",
              "      <td>4</td>\n",
              "      <td>14</td>\n",
              "    </tr>\n",
              "    <tr>\n",
              "      <th>1613837</th>\n",
              "      <td>2015-01-15</td>\n",
              "      <td>24</td>\n",
              "      <td>12</td>\n",
              "      <td>20949</td>\n",
              "      <td>4.000000</td>\n",
              "      <td>1000</td>\n",
              "      <td>63.365799</td>\n",
              "      <td>0.063126</td>\n",
              "      <td>2015</td>\n",
              "      <td>Corporate package white shirt 1C Interest (34 ...</td>\n",
              "      <td>71</td>\n",
              "      <td>Gifts - Bags, Albums, Mats d / mouse</td>\n",
              "      <td>Shop Online Emergencies</td>\n",
              "      <td>1</td>\n",
              "      <td>15</td>\n",
              "    </tr>\n",
              "    <tr>\n",
              "      <th>1615767</th>\n",
              "      <td>2015-05-19</td>\n",
              "      <td>28</td>\n",
              "      <td>12</td>\n",
              "      <td>11373</td>\n",
              "      <td>155.192950</td>\n",
              "      <td>539</td>\n",
              "      <td>49.084999</td>\n",
              "      <td>3.161719</td>\n",
              "      <td>2015</td>\n",
              "      <td>Delivery to the delivery point (Boxberry)</td>\n",
              "      <td>9</td>\n",
              "      <td>Delivery of goods</td>\n",
              "      <td>Shop Online Emergencies</td>\n",
              "      <td>5</td>\n",
              "      <td>19</td>\n",
              "    </tr>\n",
              "    <tr>\n",
              "      <th>1615868</th>\n",
              "      <td>2015-10-28</td>\n",
              "      <td>33</td>\n",
              "      <td>12</td>\n",
              "      <td>11373</td>\n",
              "      <td>0.908714</td>\n",
              "      <td>2169</td>\n",
              "      <td>64.975998</td>\n",
              "      <td>0.013985</td>\n",
              "      <td>2015</td>\n",
              "      <td>Delivery to the delivery point (Boxberry)</td>\n",
              "      <td>9</td>\n",
              "      <td>Delivery of goods</td>\n",
              "      <td>Shop Online Emergencies</td>\n",
              "      <td>10</td>\n",
              "      <td>28</td>\n",
              "    </tr>\n",
              "    <tr>\n",
              "      <th>1618032</th>\n",
              "      <td>2014-02-10</td>\n",
              "      <td>21</td>\n",
              "      <td>12</td>\n",
              "      <td>9242</td>\n",
              "      <td>1500.000000</td>\n",
              "      <td>512</td>\n",
              "      <td>34.685299</td>\n",
              "      <td>43.245987</td>\n",
              "      <td>2014</td>\n",
              "      <td>Ticket \"IgroMir 2014\" (for one day (separately...</td>\n",
              "      <td>8</td>\n",
              "      <td>Tickets (digits)</td>\n",
              "      <td>Shop Online Emergencies</td>\n",
              "      <td>2</td>\n",
              "      <td>10</td>\n",
              "    </tr>\n",
              "    <tr>\n",
              "      <th>1618890</th>\n",
              "      <td>2015-09-29</td>\n",
              "      <td>32</td>\n",
              "      <td>12</td>\n",
              "      <td>9248</td>\n",
              "      <td>1500.000000</td>\n",
              "      <td>504</td>\n",
              "      <td>66.099998</td>\n",
              "      <td>22.692890</td>\n",
              "      <td>2015</td>\n",
              "      <td>Ticket \"IgroMir 2015\" - October 3, 2015 (site)...</td>\n",
              "      <td>80</td>\n",
              "      <td>Utilities - Tickets</td>\n",
              "      <td>Shop Online Emergencies</td>\n",
              "      <td>9</td>\n",
              "      <td>29</td>\n",
              "    </tr>\n",
              "    <tr>\n",
              "      <th>1618901</th>\n",
              "      <td>2015-09-30</td>\n",
              "      <td>32</td>\n",
              "      <td>12</td>\n",
              "      <td>9248</td>\n",
              "      <td>1692.526158</td>\n",
              "      <td>669</td>\n",
              "      <td>65.800003</td>\n",
              "      <td>25.722281</td>\n",
              "      <td>2015</td>\n",
              "      <td>Ticket \"IgroMir 2015\" - October 3, 2015 (site)...</td>\n",
              "      <td>80</td>\n",
              "      <td>Utilities - Tickets</td>\n",
              "      <td>Shop Online Emergencies</td>\n",
              "      <td>9</td>\n",
              "      <td>30</td>\n",
              "    </tr>\n",
              "    <tr>\n",
              "      <th>1914217</th>\n",
              "      <td>2014-09-10</td>\n",
              "      <td>21</td>\n",
              "      <td>55</td>\n",
              "      <td>19437</td>\n",
              "      <td>899.000000</td>\n",
              "      <td>508</td>\n",
              "      <td>37.032200</td>\n",
              "      <td>24.276170</td>\n",
              "      <td>2014</td>\n",
              "      <td>Middle-earth: Shadow of Mordor [PC, Digital Ve...</td>\n",
              "      <td>31</td>\n",
              "      <td>Games PC - Digital</td>\n",
              "      <td>Digital storage 1C-line</td>\n",
              "      <td>9</td>\n",
              "      <td>10</td>\n",
              "    </tr>\n",
              "    <tr>\n",
              "      <th>1925402</th>\n",
              "      <td>2015-09-29</td>\n",
              "      <td>32</td>\n",
              "      <td>55</td>\n",
              "      <td>9249</td>\n",
              "      <td>1500.000000</td>\n",
              "      <td>533</td>\n",
              "      <td>66.099998</td>\n",
              "      <td>22.692890</td>\n",
              "      <td>2015</td>\n",
              "      <td>Ticket \"IgroMir 2015\" - October 3, 2015 (websi...</td>\n",
              "      <td>8</td>\n",
              "      <td>Tickets (digits)</td>\n",
              "      <td>Digital storage 1C-line</td>\n",
              "      <td>9</td>\n",
              "      <td>29</td>\n",
              "    </tr>\n",
              "    <tr>\n",
              "      <th>1925413</th>\n",
              "      <td>2015-09-30</td>\n",
              "      <td>32</td>\n",
              "      <td>55</td>\n",
              "      <td>9249</td>\n",
              "      <td>1702.825746</td>\n",
              "      <td>637</td>\n",
              "      <td>65.800003</td>\n",
              "      <td>25.878810</td>\n",
              "      <td>2015</td>\n",
              "      <td>Ticket \"IgroMir 2015\" - October 3, 2015 (websi...</td>\n",
              "      <td>8</td>\n",
              "      <td>Tickets (digits)</td>\n",
              "      <td>Digital storage 1C-line</td>\n",
              "      <td>9</td>\n",
              "      <td>30</td>\n",
              "    </tr>\n",
              "  </tbody>\n",
              "</table>\n",
              "</div>"
            ],
            "text/plain": [
              "              date  date_block_num  ...  month  day\n",
              "1049046 2014-04-22              15  ...      4   22\n",
              "1597543 2015-04-14              27  ...      4   14\n",
              "1613837 2015-01-15              24  ...      1   15\n",
              "1615767 2015-05-19              28  ...      5   19\n",
              "1615868 2015-10-28              33  ...     10   28\n",
              "1618032 2014-02-10              21  ...      2   10\n",
              "1618890 2015-09-29              32  ...      9   29\n",
              "1618901 2015-09-30              32  ...      9   30\n",
              "1914217 2014-09-10              21  ...      9   10\n",
              "1925402 2015-09-29              32  ...      9   29\n",
              "1925413 2015-09-30              32  ...      9   30\n",
              "\n",
              "[11 rows x 15 columns]"
            ]
          },
          "metadata": {
            "tags": []
          },
          "execution_count": 116
        }
      ]
    },
    {
      "cell_type": "code",
      "metadata": {
        "colab": {
          "base_uri": "https://localhost:8080/",
          "height": 1000
        },
        "id": "ihpK7KyiL-jn",
        "outputId": "1e277bbb-7f7d-4d1e-9c6e-6c8360c44dda"
      },
      "source": [
        "# boxplot shows price for one item is very high, check all items above 40000\n",
        "# most expensive item is a license for some software package (VPN remote working) for 522 users (roughly 4000 US dollars)\n",
        "salestrain_df_combined[salestrain_df_combined['item_price'] > 40000]"
      ],
      "execution_count": null,
      "outputs": [
        {
          "output_type": "execute_result",
          "data": {
            "text/html": [
              "<div>\n",
              "<style scoped>\n",
              "    .dataframe tbody tr th:only-of-type {\n",
              "        vertical-align: middle;\n",
              "    }\n",
              "\n",
              "    .dataframe tbody tr th {\n",
              "        vertical-align: top;\n",
              "    }\n",
              "\n",
              "    .dataframe thead th {\n",
              "        text-align: right;\n",
              "    }\n",
              "</style>\n",
              "<table border=\"1\" class=\"dataframe\">\n",
              "  <thead>\n",
              "    <tr style=\"text-align: right;\">\n",
              "      <th></th>\n",
              "      <th>date</th>\n",
              "      <th>date_block_num</th>\n",
              "      <th>shop_id</th>\n",
              "      <th>item_id</th>\n",
              "      <th>item_price</th>\n",
              "      <th>item_cnt_day</th>\n",
              "      <th>USD_RUS</th>\n",
              "      <th>USD_Price</th>\n",
              "      <th>year</th>\n",
              "      <th>item_name</th>\n",
              "      <th>item_category_id</th>\n",
              "      <th>item_category_name</th>\n",
              "      <th>shop_name</th>\n",
              "      <th>month</th>\n",
              "      <th>day</th>\n",
              "    </tr>\n",
              "  </thead>\n",
              "  <tbody>\n",
              "    <tr>\n",
              "      <th>142635</th>\n",
              "      <td>2014-03-20</td>\n",
              "      <td>14</td>\n",
              "      <td>25</td>\n",
              "      <td>13199</td>\n",
              "      <td>50999.0</td>\n",
              "      <td>1</td>\n",
              "      <td>36.170200</td>\n",
              "      <td>1409.972851</td>\n",
              "      <td>2014</td>\n",
              "      <td>Collector chess (Rings)</td>\n",
              "      <td>69</td>\n",
              "      <td>Gifts - Souvenirs</td>\n",
              "      <td>Moscow SEC \"Atrium\"</td>\n",
              "      <td>3</td>\n",
              "      <td>20</td>\n",
              "    </tr>\n",
              "    <tr>\n",
              "      <th>654062</th>\n",
              "      <td>2015-10-23</td>\n",
              "      <td>33</td>\n",
              "      <td>42</td>\n",
              "      <td>13403</td>\n",
              "      <td>42990.0</td>\n",
              "      <td>1</td>\n",
              "      <td>62.474998</td>\n",
              "      <td>688.115268</td>\n",
              "      <td>2015</td>\n",
              "      <td>Set \"Microsoft Xbox One 1TB Limited Edition Ha...</td>\n",
              "      <td>16</td>\n",
              "      <td>Game consoles - XBOX ONE</td>\n",
              "      <td>St. Petersburg TK \"Nevsky Center\"</td>\n",
              "      <td>10</td>\n",
              "      <td>23</td>\n",
              "    </tr>\n",
              "    <tr>\n",
              "      <th>891947</th>\n",
              "      <td>2015-10-22</td>\n",
              "      <td>33</td>\n",
              "      <td>28</td>\n",
              "      <td>13403</td>\n",
              "      <td>40991.0</td>\n",
              "      <td>1</td>\n",
              "      <td>63.150002</td>\n",
              "      <td>649.105284</td>\n",
              "      <td>2015</td>\n",
              "      <td>Set \"Microsoft Xbox One 1TB Limited Edition Ha...</td>\n",
              "      <td>16</td>\n",
              "      <td>Game consoles - XBOX ONE</td>\n",
              "      <td>Moscow shopping center \"MEGA Teply Stan\" II of</td>\n",
              "      <td>10</td>\n",
              "      <td>22</td>\n",
              "    </tr>\n",
              "    <tr>\n",
              "      <th>1220560</th>\n",
              "      <td>2015-10-20</td>\n",
              "      <td>33</td>\n",
              "      <td>3</td>\n",
              "      <td>13403</td>\n",
              "      <td>42990.0</td>\n",
              "      <td>1</td>\n",
              "      <td>61.492001</td>\n",
              "      <td>699.115321</td>\n",
              "      <td>2015</td>\n",
              "      <td>Set \"Microsoft Xbox One 1TB Limited Edition Ha...</td>\n",
              "      <td>16</td>\n",
              "      <td>Game consoles - XBOX ONE</td>\n",
              "      <td>Balashikha TRC \"October-Kinomir\"</td>\n",
              "      <td>10</td>\n",
              "      <td>20</td>\n",
              "    </tr>\n",
              "    <tr>\n",
              "      <th>1599219</th>\n",
              "      <td>2013-10-24</td>\n",
              "      <td>9</td>\n",
              "      <td>12</td>\n",
              "      <td>7238</td>\n",
              "      <td>42000.0</td>\n",
              "      <td>1</td>\n",
              "      <td>31.720900</td>\n",
              "      <td>1324.048183</td>\n",
              "      <td>2013</td>\n",
              "      <td>UserGate Proxy &amp; Firewall 6.X to 100 sessions</td>\n",
              "      <td>75</td>\n",
              "      <td>Program - For home and office</td>\n",
              "      <td>Shop Online Emergencies</td>\n",
              "      <td>10</td>\n",
              "      <td>24</td>\n",
              "    </tr>\n",
              "    <tr>\n",
              "      <th>1599254</th>\n",
              "      <td>2014-11-20</td>\n",
              "      <td>22</td>\n",
              "      <td>12</td>\n",
              "      <td>14173</td>\n",
              "      <td>40900.0</td>\n",
              "      <td>1</td>\n",
              "      <td>46.839199</td>\n",
              "      <td>873.200244</td>\n",
              "      <td>2014</td>\n",
              "      <td>License 1C-Bitrix Site Manager - Expert</td>\n",
              "      <td>75</td>\n",
              "      <td>Program - For home and office</td>\n",
              "      <td>Shop Online Emergencies</td>\n",
              "      <td>11</td>\n",
              "      <td>20</td>\n",
              "    </tr>\n",
              "    <tr>\n",
              "      <th>1599259</th>\n",
              "      <td>2015-01-29</td>\n",
              "      <td>24</td>\n",
              "      <td>12</td>\n",
              "      <td>7241</td>\n",
              "      <td>49782.0</td>\n",
              "      <td>1</td>\n",
              "      <td>67.985001</td>\n",
              "      <td>732.249750</td>\n",
              "      <td>2015</td>\n",
              "      <td>UserGate Proxy &amp; Firewall 6.X filtration modul...</td>\n",
              "      <td>75</td>\n",
              "      <td>Program - For home and office</td>\n",
              "      <td>Shop Online Emergencies</td>\n",
              "      <td>1</td>\n",
              "      <td>29</td>\n",
              "    </tr>\n",
              "    <tr>\n",
              "      <th>1614386</th>\n",
              "      <td>2013-09-17</td>\n",
              "      <td>8</td>\n",
              "      <td>12</td>\n",
              "      <td>11365</td>\n",
              "      <td>59200.0</td>\n",
              "      <td>1</td>\n",
              "      <td>32.284100</td>\n",
              "      <td>1833.720005</td>\n",
              "      <td>2013</td>\n",
              "      <td>Delivery (EMS)</td>\n",
              "      <td>9</td>\n",
              "      <td>Delivery of goods</td>\n",
              "      <td>Shop Online Emergencies</td>\n",
              "      <td>9</td>\n",
              "      <td>17</td>\n",
              "    </tr>\n",
              "    <tr>\n",
              "      <th>1618170</th>\n",
              "      <td>2015-10-20</td>\n",
              "      <td>33</td>\n",
              "      <td>12</td>\n",
              "      <td>13403</td>\n",
              "      <td>41990.0</td>\n",
              "      <td>1</td>\n",
              "      <td>61.492001</td>\n",
              "      <td>682.853043</td>\n",
              "      <td>2015</td>\n",
              "      <td>Set \"Microsoft Xbox One 1TB Limited Edition Ha...</td>\n",
              "      <td>16</td>\n",
              "      <td>Game consoles - XBOX ONE</td>\n",
              "      <td>Shop Online Emergencies</td>\n",
              "      <td>10</td>\n",
              "      <td>20</td>\n",
              "    </tr>\n",
              "    <tr>\n",
              "      <th>1618171</th>\n",
              "      <td>2015-10-29</td>\n",
              "      <td>33</td>\n",
              "      <td>12</td>\n",
              "      <td>13403</td>\n",
              "      <td>42990.0</td>\n",
              "      <td>1</td>\n",
              "      <td>63.424999</td>\n",
              "      <td>677.808446</td>\n",
              "      <td>2015</td>\n",
              "      <td>Set \"Microsoft Xbox One 1TB Limited Edition Ha...</td>\n",
              "      <td>16</td>\n",
              "      <td>Game consoles - XBOX ONE</td>\n",
              "      <td>Shop Online Emergencies</td>\n",
              "      <td>10</td>\n",
              "      <td>29</td>\n",
              "    </tr>\n",
              "    <tr>\n",
              "      <th>1670872</th>\n",
              "      <td>2015-10-20</td>\n",
              "      <td>33</td>\n",
              "      <td>22</td>\n",
              "      <td>13403</td>\n",
              "      <td>42990.0</td>\n",
              "      <td>1</td>\n",
              "      <td>61.492001</td>\n",
              "      <td>699.115321</td>\n",
              "      <td>2015</td>\n",
              "      <td>Set \"Microsoft Xbox One 1TB Limited Edition Ha...</td>\n",
              "      <td>16</td>\n",
              "      <td>Game consoles - XBOX ONE</td>\n",
              "      <td>Moscow C21 Store</td>\n",
              "      <td>10</td>\n",
              "      <td>20</td>\n",
              "    </tr>\n",
              "    <tr>\n",
              "      <th>1699787</th>\n",
              "      <td>2015-10-20</td>\n",
              "      <td>33</td>\n",
              "      <td>38</td>\n",
              "      <td>13403</td>\n",
              "      <td>41990.0</td>\n",
              "      <td>1</td>\n",
              "      <td>61.492001</td>\n",
              "      <td>682.853043</td>\n",
              "      <td>2015</td>\n",
              "      <td>Set \"Microsoft Xbox One 1TB Limited Edition Ha...</td>\n",
              "      <td>16</td>\n",
              "      <td>Game consoles - XBOX ONE</td>\n",
              "      <td>Omsk TC \"Mega\"</td>\n",
              "      <td>10</td>\n",
              "      <td>20</td>\n",
              "    </tr>\n",
              "    <tr>\n",
              "      <th>1841134</th>\n",
              "      <td>2015-10-22</td>\n",
              "      <td>33</td>\n",
              "      <td>18</td>\n",
              "      <td>13403</td>\n",
              "      <td>41990.0</td>\n",
              "      <td>1</td>\n",
              "      <td>63.150002</td>\n",
              "      <td>664.924761</td>\n",
              "      <td>2015</td>\n",
              "      <td>Set \"Microsoft Xbox One 1TB Limited Edition Ha...</td>\n",
              "      <td>16</td>\n",
              "      <td>Game consoles - XBOX ONE</td>\n",
              "      <td>Krasnoyarsk SC \"June\"</td>\n",
              "      <td>10</td>\n",
              "      <td>22</td>\n",
              "    </tr>\n",
              "  </tbody>\n",
              "</table>\n",
              "</div>"
            ],
            "text/plain": [
              "              date  date_block_num  ...  month  day\n",
              "142635  2014-03-20              14  ...      3   20\n",
              "654062  2015-10-23              33  ...     10   23\n",
              "891947  2015-10-22              33  ...     10   22\n",
              "1220560 2015-10-20              33  ...     10   20\n",
              "1599219 2013-10-24               9  ...     10   24\n",
              "1599254 2014-11-20              22  ...     11   20\n",
              "1599259 2015-01-29              24  ...      1   29\n",
              "1614386 2013-09-17               8  ...      9   17\n",
              "1618170 2015-10-20              33  ...     10   20\n",
              "1618171 2015-10-29              33  ...     10   29\n",
              "1670872 2015-10-20              33  ...     10   20\n",
              "1699787 2015-10-20              33  ...     10   20\n",
              "1841134 2015-10-22              33  ...     10   22\n",
              "\n",
              "[13 rows x 15 columns]"
            ]
          },
          "metadata": {
            "tags": []
          },
          "execution_count": 117
        }
      ]
    },
    {
      "cell_type": "code",
      "metadata": {
        "id": "NoP__0VrL-jo"
      },
      "source": [
        "# for now, remove the row with the license for software package and any sale with quantity more or equal to 1000\n",
        "#salestrain_df_combined = salestrain_df_combined[(salestrain_df_combined['item_cnt_day'] < 300) & (salestrain_df_combined['item_price'] < 35000)]"
      ],
      "execution_count": null,
      "outputs": []
    },
    {
      "cell_type": "code",
      "metadata": {
        "colab": {
          "base_uri": "https://localhost:8080/",
          "height": 1000
        },
        "id": "hcxyXQbuYLVZ",
        "outputId": "a2b37baf-2d41-4d56-f7b0-cf8ac78f5d2e"
      },
      "source": [
        "# checking outliers for quantity of items sold per day\n",
        "plt.figure(figsize = (20, 10))\n",
        "sns.boxplot(x=salestrain_df_combined['item_cnt_day'])\n",
        "plt.ylabel('Number of items sold per day')\n",
        "plt.title('Boxplot for checking outliers for number of items sold per day')\n",
        "\n",
        "# checking outliers for item prices\n",
        "plt.figure(figsize = (20, 10))\n",
        "sns.boxplot(x = salestrain_df_combined['item_price'])\n",
        "plt.ylabel('Number of items sold per day')\n",
        "plt.title('Boxplot for checking outliers for number of items sold per day')"
      ],
      "execution_count": null,
      "outputs": [
        {
          "output_type": "execute_result",
          "data": {
            "text/plain": [
              "Text(0.5, 1.0, 'Boxplot for checking outliers for number of items sold per day')"
            ]
          },
          "metadata": {
            "tags": []
          },
          "execution_count": 119
        },
        {
          "output_type": "display_data",
          "data": {
            "image/png": "[encoded data removed]",
            "text/plain": [
              "<Figure size 1440x720 with 1 Axes>"
            ]
          },
          "metadata": {
            "tags": []
          }
        },
        {
          "output_type": "display_data",
          "data": {
            "image/png": "[encoded data removed]",
            "text/plain": [
              "<Figure size 1440x720 with 1 Axes>"
            ]
          },
          "metadata": {
            "tags": []
          }
        }
      ]
    },
    {
      "cell_type": "markdown",
      "metadata": {
        "id": "UBUd_O89opu9"
      },
      "source": [
        "## quick XGBoost"
      ]
    },
    {
      "cell_type": "code",
      "metadata": {
        "id": "UgorZcZedKJl"
      },
      "source": [
        "# adding 'month-id' column needed for XGBoost model\n",
        "shop_id_month_stack['month_id'] = (shop_id_month_stack['year'] - 2014) * 12 + shop_id_month_stack['month']"
      ],
      "execution_count": null,
      "outputs": []
    },
    {
      "cell_type": "code",
      "metadata": {
        "colab": {
          "base_uri": "https://localhost:8080/",
          "height": 206
        },
        "id": "ni9OS93P4--F",
        "outputId": "e83d61a2-abfe-43de-c1cc-66039a68f9c4"
      },
      "source": [
        "shop_id_month_stack.head()"
      ],
      "execution_count": null,
      "outputs": [
        {
          "output_type": "execute_result",
          "data": {
            "text/html": [
              "<div>\n",
              "<style scoped>\n",
              "    .dataframe tbody tr th:only-of-type {\n",
              "        vertical-align: middle;\n",
              "    }\n",
              "\n",
              "    .dataframe tbody tr th {\n",
              "        vertical-align: top;\n",
              "    }\n",
              "\n",
              "    .dataframe thead th {\n",
              "        text-align: right;\n",
              "    }\n",
              "</style>\n",
              "<table border=\"1\" class=\"dataframe\">\n",
              "  <thead>\n",
              "    <tr style=\"text-align: right;\">\n",
              "      <th></th>\n",
              "      <th>item_id</th>\n",
              "      <th>shop_id</th>\n",
              "      <th>year</th>\n",
              "      <th>month</th>\n",
              "      <th>item_cnt_month_shop_id</th>\n",
              "      <th>1_month_ago</th>\n",
              "      <th>2_month_ago</th>\n",
              "      <th>3_month_ago</th>\n",
              "      <th>6_month_ago</th>\n",
              "      <th>12_month_ago</th>\n",
              "      <th>month_id</th>\n",
              "    </tr>\n",
              "  </thead>\n",
              "  <tbody>\n",
              "    <tr>\n",
              "      <th>12</th>\n",
              "      <td>0</td>\n",
              "      <td>0</td>\n",
              "      <td>2014</td>\n",
              "      <td>1</td>\n",
              "      <td>0.0</td>\n",
              "      <td>0.0</td>\n",
              "      <td>0.0</td>\n",
              "      <td>0.0</td>\n",
              "      <td>0.0</td>\n",
              "      <td>0.0</td>\n",
              "      <td>1</td>\n",
              "    </tr>\n",
              "    <tr>\n",
              "      <th>13</th>\n",
              "      <td>0</td>\n",
              "      <td>0</td>\n",
              "      <td>2014</td>\n",
              "      <td>2</td>\n",
              "      <td>0.0</td>\n",
              "      <td>0.0</td>\n",
              "      <td>0.0</td>\n",
              "      <td>0.0</td>\n",
              "      <td>0.0</td>\n",
              "      <td>0.0</td>\n",
              "      <td>2</td>\n",
              "    </tr>\n",
              "    <tr>\n",
              "      <th>14</th>\n",
              "      <td>0</td>\n",
              "      <td>0</td>\n",
              "      <td>2014</td>\n",
              "      <td>3</td>\n",
              "      <td>0.0</td>\n",
              "      <td>0.0</td>\n",
              "      <td>0.0</td>\n",
              "      <td>0.0</td>\n",
              "      <td>0.0</td>\n",
              "      <td>0.0</td>\n",
              "      <td>3</td>\n",
              "    </tr>\n",
              "    <tr>\n",
              "      <th>15</th>\n",
              "      <td>0</td>\n",
              "      <td>0</td>\n",
              "      <td>2014</td>\n",
              "      <td>4</td>\n",
              "      <td>0.0</td>\n",
              "      <td>0.0</td>\n",
              "      <td>0.0</td>\n",
              "      <td>0.0</td>\n",
              "      <td>0.0</td>\n",
              "      <td>0.0</td>\n",
              "      <td>4</td>\n",
              "    </tr>\n",
              "    <tr>\n",
              "      <th>16</th>\n",
              "      <td>0</td>\n",
              "      <td>0</td>\n",
              "      <td>2014</td>\n",
              "      <td>5</td>\n",
              "      <td>0.0</td>\n",
              "      <td>0.0</td>\n",
              "      <td>0.0</td>\n",
              "      <td>0.0</td>\n",
              "      <td>0.0</td>\n",
              "      <td>0.0</td>\n",
              "      <td>5</td>\n",
              "    </tr>\n",
              "  </tbody>\n",
              "</table>\n",
              "</div>"
            ],
            "text/plain": [
              "    item_id  shop_id  year  month  item_cnt_month_shop_id  1_month_ago  \\\n",
              "12        0        0  2014      1                     0.0          0.0   \n",
              "13        0        0  2014      2                     0.0          0.0   \n",
              "14        0        0  2014      3                     0.0          0.0   \n",
              "15        0        0  2014      4                     0.0          0.0   \n",
              "16        0        0  2014      5                     0.0          0.0   \n",
              "\n",
              "    2_month_ago  3_month_ago  6_month_ago  12_month_ago  month_id  \n",
              "12          0.0          0.0          0.0           0.0         1  \n",
              "13          0.0          0.0          0.0           0.0         2  \n",
              "14          0.0          0.0          0.0           0.0         3  \n",
              "15          0.0          0.0          0.0           0.0         4  \n",
              "16          0.0          0.0          0.0           0.0         5  "
            ]
          },
          "metadata": {
            "tags": []
          },
          "execution_count": 183
        }
      ]
    },
    {
      "cell_type": "code",
      "metadata": {
        "id": "JErHUDfepBvQ"
      },
      "source": [
        "# adding a new column called 'month_id' to enumerate months 1-23\n",
        "# we will predict the 24th month\n",
        "#shop_id_month_stack['month_id'] = (shop_id_month_stack['year'] - 2014) * 12 + shop_id_month_stack['month']\n",
        "#shop_id_month_stack['Random'] = shop_id_month_stack.apply(lambda x: np.random.randint(100), axis = 1)\n",
        "#shop_id_month_stack.head(13)"
      ],
      "execution_count": null,
      "outputs": []
    },
    {
      "cell_type": "code",
      "metadata": {
        "id": "tBYw084l2gW_"
      },
      "source": [
        "# removing 'year' and 'month' unecessary columns\n",
        "shop_id_month_stack = shop_id_month_stack[['item_id', 'shop_id','item_cnt_month_shop_id', '1_month_ago',\n",
        "       '2_month_ago', '3_month_ago', '6_month_ago', '12_month_ago', 'month_id']]"
      ],
      "execution_count": null,
      "outputs": []
    },
    {
      "cell_type": "code",
      "metadata": {
        "colab": {
          "base_uri": "https://localhost:8080/"
        },
        "id": "VEMH6KO15XAH",
        "outputId": "5e7df6d1-fdf2-46e5-fc67-53186d8b2a9c"
      },
      "source": [
        "len(shop_id_month_stack)"
      ],
      "execution_count": null,
      "outputs": [
        {
          "output_type": "execute_result",
          "data": {
            "text/plain": [
              "31402080"
            ]
          },
          "metadata": {
            "tags": []
          },
          "execution_count": 185
        }
      ]
    },
    {
      "cell_type": "code",
      "metadata": {
        "colab": {
          "base_uri": "https://localhost:8080/",
          "height": 206
        },
        "id": "qgRAR_TX2jh9",
        "outputId": "d3c6ad76-aff4-4d75-bc40-6af54ee0a704"
      },
      "source": [
        "shop_id_month_stack.head()"
      ],
      "execution_count": null,
      "outputs": [
        {
          "output_type": "execute_result",
          "data": {
            "text/html": [
              "<div>\n",
              "<style scoped>\n",
              "    .dataframe tbody tr th:only-of-type {\n",
              "        vertical-align: middle;\n",
              "    }\n",
              "\n",
              "    .dataframe tbody tr th {\n",
              "        vertical-align: top;\n",
              "    }\n",
              "\n",
              "    .dataframe thead th {\n",
              "        text-align: right;\n",
              "    }\n",
              "</style>\n",
              "<table border=\"1\" class=\"dataframe\">\n",
              "  <thead>\n",
              "    <tr style=\"text-align: right;\">\n",
              "      <th></th>\n",
              "      <th>item_id</th>\n",
              "      <th>shop_id</th>\n",
              "      <th>item_cnt_month_shop_id</th>\n",
              "      <th>1_month_ago</th>\n",
              "      <th>2_month_ago</th>\n",
              "      <th>3_month_ago</th>\n",
              "      <th>6_month_ago</th>\n",
              "      <th>12_month_ago</th>\n",
              "      <th>month_id</th>\n",
              "    </tr>\n",
              "  </thead>\n",
              "  <tbody>\n",
              "    <tr>\n",
              "      <th>12</th>\n",
              "      <td>0</td>\n",
              "      <td>0</td>\n",
              "      <td>0.0</td>\n",
              "      <td>0.0</td>\n",
              "      <td>0.0</td>\n",
              "      <td>0.0</td>\n",
              "      <td>0.0</td>\n",
              "      <td>0.0</td>\n",
              "      <td>1</td>\n",
              "    </tr>\n",
              "    <tr>\n",
              "      <th>13</th>\n",
              "      <td>0</td>\n",
              "      <td>0</td>\n",
              "      <td>0.0</td>\n",
              "      <td>0.0</td>\n",
              "      <td>0.0</td>\n",
              "      <td>0.0</td>\n",
              "      <td>0.0</td>\n",
              "      <td>0.0</td>\n",
              "      <td>2</td>\n",
              "    </tr>\n",
              "    <tr>\n",
              "      <th>14</th>\n",
              "      <td>0</td>\n",
              "      <td>0</td>\n",
              "      <td>0.0</td>\n",
              "      <td>0.0</td>\n",
              "      <td>0.0</td>\n",
              "      <td>0.0</td>\n",
              "      <td>0.0</td>\n",
              "      <td>0.0</td>\n",
              "      <td>3</td>\n",
              "    </tr>\n",
              "    <tr>\n",
              "      <th>15</th>\n",
              "      <td>0</td>\n",
              "      <td>0</td>\n",
              "      <td>0.0</td>\n",
              "      <td>0.0</td>\n",
              "      <td>0.0</td>\n",
              "      <td>0.0</td>\n",
              "      <td>0.0</td>\n",
              "      <td>0.0</td>\n",
              "      <td>4</td>\n",
              "    </tr>\n",
              "    <tr>\n",
              "      <th>16</th>\n",
              "      <td>0</td>\n",
              "      <td>0</td>\n",
              "      <td>0.0</td>\n",
              "      <td>0.0</td>\n",
              "      <td>0.0</td>\n",
              "      <td>0.0</td>\n",
              "      <td>0.0</td>\n",
              "      <td>0.0</td>\n",
              "      <td>5</td>\n",
              "    </tr>\n",
              "  </tbody>\n",
              "</table>\n",
              "</div>"
            ],
            "text/plain": [
              "    item_id  shop_id  item_cnt_month_shop_id  1_month_ago  2_month_ago  \\\n",
              "12        0        0                     0.0          0.0          0.0   \n",
              "13        0        0                     0.0          0.0          0.0   \n",
              "14        0        0                     0.0          0.0          0.0   \n",
              "15        0        0                     0.0          0.0          0.0   \n",
              "16        0        0                     0.0          0.0          0.0   \n",
              "\n",
              "    3_month_ago  6_month_ago  12_month_ago  month_id  \n",
              "12          0.0          0.0           0.0         1  \n",
              "13          0.0          0.0           0.0         2  \n",
              "14          0.0          0.0           0.0         3  \n",
              "15          0.0          0.0           0.0         4  \n",
              "16          0.0          0.0           0.0         5  "
            ]
          },
          "metadata": {
            "tags": []
          },
          "execution_count": 186
        }
      ]
    },
    {
      "cell_type": "code",
      "metadata": {
        "id": "VPHXdct8fpxY"
      },
      "source": [
        "#shop_id_month_stack = shop_id_month_stack.merge(exchange_rate_by_month['USD_RUS'], left_on = ['month', 'year'])"
      ],
      "execution_count": null,
      "outputs": []
    },
    {
      "cell_type": "code",
      "metadata": {
        "id": "1LlwXKxQgPdU"
      },
      "source": [
        "#salestrain_df = salestrain_df.merge(usd_rus_df[['Date','Open']], left_on = 'date', right_on = 'Date')"
      ],
      "execution_count": null,
      "outputs": []
    },
    {
      "cell_type": "markdown",
      "metadata": {
        "id": "w2Jgwd5z_ceW"
      },
      "source": [
        "# You can use this cell to reload the entire training dataset instead of running the notebook above"
      ]
    },
    {
      "cell_type": "code",
      "metadata": {
        "id": "BLy3k1uDlHjO"
      },
      "source": [
        "root_path='./'"
      ],
      "execution_count": null,
      "outputs": []
    },
    {
      "cell_type": "code",
      "metadata": {
        "id": "eOTcx5Uoo0Jn"
      },
      "source": [
        "# saving dataframe in case runtime error causes problems\n",
        "shop_id_month_stack.to_csv(root_path+'full_dataframe.csv')"
      ],
      "execution_count": null,
      "outputs": []
    },
    {
      "cell_type": "code",
      "metadata": {
        "id": "L5m5LpHWk_DW"
      },
      "source": [
        ""
      ],
      "execution_count": null,
      "outputs": []
    },
    {
      "cell_type": "code",
      "metadata": {
        "id": "3jqD5a7I5Nog"
      },
      "source": [
        "shop_id_month_stack = pd.read_csv(root_path+'full_dataframe.csv')"
      ],
      "execution_count": null,
      "outputs": []
    },
    {
      "cell_type": "code",
      "metadata": {
        "colab": {
          "base_uri": "https://localhost:8080/",
          "height": 807
        },
        "id": "J1iphfqt3KG-",
        "outputId": "36147599-f305-4cd1-b9d4-694571801b36"
      },
      "source": [
        "shop_id_month_stack.head(25)"
      ],
      "execution_count": null,
      "outputs": [
        {
          "output_type": "execute_result",
          "data": {
            "text/html": [
              "<div>\n",
              "<style scoped>\n",
              "    .dataframe tbody tr th:only-of-type {\n",
              "        vertical-align: middle;\n",
              "    }\n",
              "\n",
              "    .dataframe tbody tr th {\n",
              "        vertical-align: top;\n",
              "    }\n",
              "\n",
              "    .dataframe thead th {\n",
              "        text-align: right;\n",
              "    }\n",
              "</style>\n",
              "<table border=\"1\" class=\"dataframe\">\n",
              "  <thead>\n",
              "    <tr style=\"text-align: right;\">\n",
              "      <th></th>\n",
              "      <th>Unnamed: 0</th>\n",
              "      <th>item_id</th>\n",
              "      <th>shop_id</th>\n",
              "      <th>item_cnt_month_shop_id</th>\n",
              "      <th>1_month_ago</th>\n",
              "      <th>2_month_ago</th>\n",
              "      <th>3_month_ago</th>\n",
              "      <th>6_month_ago</th>\n",
              "      <th>12_month_ago</th>\n",
              "      <th>month_id</th>\n",
              "    </tr>\n",
              "  </thead>\n",
              "  <tbody>\n",
              "    <tr>\n",
              "      <th>0</th>\n",
              "      <td>12</td>\n",
              "      <td>0</td>\n",
              "      <td>0</td>\n",
              "      <td>0.0</td>\n",
              "      <td>0.0</td>\n",
              "      <td>0.0</td>\n",
              "      <td>0.0</td>\n",
              "      <td>0.0</td>\n",
              "      <td>0.0</td>\n",
              "      <td>1</td>\n",
              "    </tr>\n",
              "    <tr>\n",
              "      <th>1</th>\n",
              "      <td>13</td>\n",
              "      <td>0</td>\n",
              "      <td>0</td>\n",
              "      <td>0.0</td>\n",
              "      <td>0.0</td>\n",
              "      <td>0.0</td>\n",
              "      <td>0.0</td>\n",
              "      <td>0.0</td>\n",
              "      <td>0.0</td>\n",
              "      <td>2</td>\n",
              "    </tr>\n",
              "    <tr>\n",
              "      <th>2</th>\n",
              "      <td>14</td>\n",
              "      <td>0</td>\n",
              "      <td>0</td>\n",
              "      <td>0.0</td>\n",
              "      <td>0.0</td>\n",
              "      <td>0.0</td>\n",
              "      <td>0.0</td>\n",
              "      <td>0.0</td>\n",
              "      <td>0.0</td>\n",
              "      <td>3</td>\n",
              "    </tr>\n",
              "    <tr>\n",
              "      <th>3</th>\n",
              "      <td>15</td>\n",
              "      <td>0</td>\n",
              "      <td>0</td>\n",
              "      <td>0.0</td>\n",
              "      <td>0.0</td>\n",
              "      <td>0.0</td>\n",
              "      <td>0.0</td>\n",
              "      <td>0.0</td>\n",
              "      <td>0.0</td>\n",
              "      <td>4</td>\n",
              "    </tr>\n",
              "    <tr>\n",
              "      <th>4</th>\n",
              "      <td>16</td>\n",
              "      <td>0</td>\n",
              "      <td>0</td>\n",
              "      <td>0.0</td>\n",
              "      <td>0.0</td>\n",
              "      <td>0.0</td>\n",
              "      <td>0.0</td>\n",
              "      <td>0.0</td>\n",
              "      <td>0.0</td>\n",
              "      <td>5</td>\n",
              "    </tr>\n",
              "    <tr>\n",
              "      <th>5</th>\n",
              "      <td>17</td>\n",
              "      <td>0</td>\n",
              "      <td>0</td>\n",
              "      <td>0.0</td>\n",
              "      <td>0.0</td>\n",
              "      <td>0.0</td>\n",
              "      <td>0.0</td>\n",
              "      <td>0.0</td>\n",
              "      <td>0.0</td>\n",
              "      <td>6</td>\n",
              "    </tr>\n",
              "    <tr>\n",
              "      <th>6</th>\n",
              "      <td>18</td>\n",
              "      <td>0</td>\n",
              "      <td>0</td>\n",
              "      <td>0.0</td>\n",
              "      <td>0.0</td>\n",
              "      <td>0.0</td>\n",
              "      <td>0.0</td>\n",
              "      <td>0.0</td>\n",
              "      <td>0.0</td>\n",
              "      <td>7</td>\n",
              "    </tr>\n",
              "    <tr>\n",
              "      <th>7</th>\n",
              "      <td>19</td>\n",
              "      <td>0</td>\n",
              "      <td>0</td>\n",
              "      <td>0.0</td>\n",
              "      <td>0.0</td>\n",
              "      <td>0.0</td>\n",
              "      <td>0.0</td>\n",
              "      <td>0.0</td>\n",
              "      <td>0.0</td>\n",
              "      <td>8</td>\n",
              "    </tr>\n",
              "    <tr>\n",
              "      <th>8</th>\n",
              "      <td>20</td>\n",
              "      <td>0</td>\n",
              "      <td>0</td>\n",
              "      <td>0.0</td>\n",
              "      <td>0.0</td>\n",
              "      <td>0.0</td>\n",
              "      <td>0.0</td>\n",
              "      <td>0.0</td>\n",
              "      <td>0.0</td>\n",
              "      <td>9</td>\n",
              "    </tr>\n",
              "    <tr>\n",
              "      <th>9</th>\n",
              "      <td>21</td>\n",
              "      <td>0</td>\n",
              "      <td>0</td>\n",
              "      <td>0.0</td>\n",
              "      <td>0.0</td>\n",
              "      <td>0.0</td>\n",
              "      <td>0.0</td>\n",
              "      <td>0.0</td>\n",
              "      <td>0.0</td>\n",
              "      <td>10</td>\n",
              "    </tr>\n",
              "    <tr>\n",
              "      <th>10</th>\n",
              "      <td>22</td>\n",
              "      <td>0</td>\n",
              "      <td>0</td>\n",
              "      <td>0.0</td>\n",
              "      <td>0.0</td>\n",
              "      <td>0.0</td>\n",
              "      <td>0.0</td>\n",
              "      <td>0.0</td>\n",
              "      <td>0.0</td>\n",
              "      <td>11</td>\n",
              "    </tr>\n",
              "    <tr>\n",
              "      <th>11</th>\n",
              "      <td>23</td>\n",
              "      <td>0</td>\n",
              "      <td>0</td>\n",
              "      <td>0.0</td>\n",
              "      <td>0.0</td>\n",
              "      <td>0.0</td>\n",
              "      <td>0.0</td>\n",
              "      <td>0.0</td>\n",
              "      <td>0.0</td>\n",
              "      <td>12</td>\n",
              "    </tr>\n",
              "    <tr>\n",
              "      <th>12</th>\n",
              "      <td>24</td>\n",
              "      <td>0</td>\n",
              "      <td>0</td>\n",
              "      <td>0.0</td>\n",
              "      <td>0.0</td>\n",
              "      <td>0.0</td>\n",
              "      <td>0.0</td>\n",
              "      <td>0.0</td>\n",
              "      <td>0.0</td>\n",
              "      <td>13</td>\n",
              "    </tr>\n",
              "    <tr>\n",
              "      <th>13</th>\n",
              "      <td>25</td>\n",
              "      <td>0</td>\n",
              "      <td>0</td>\n",
              "      <td>0.0</td>\n",
              "      <td>0.0</td>\n",
              "      <td>0.0</td>\n",
              "      <td>0.0</td>\n",
              "      <td>0.0</td>\n",
              "      <td>0.0</td>\n",
              "      <td>14</td>\n",
              "    </tr>\n",
              "    <tr>\n",
              "      <th>14</th>\n",
              "      <td>26</td>\n",
              "      <td>0</td>\n",
              "      <td>0</td>\n",
              "      <td>0.0</td>\n",
              "      <td>0.0</td>\n",
              "      <td>0.0</td>\n",
              "      <td>0.0</td>\n",
              "      <td>0.0</td>\n",
              "      <td>0.0</td>\n",
              "      <td>15</td>\n",
              "    </tr>\n",
              "    <tr>\n",
              "      <th>15</th>\n",
              "      <td>27</td>\n",
              "      <td>0</td>\n",
              "      <td>0</td>\n",
              "      <td>0.0</td>\n",
              "      <td>0.0</td>\n",
              "      <td>0.0</td>\n",
              "      <td>0.0</td>\n",
              "      <td>0.0</td>\n",
              "      <td>0.0</td>\n",
              "      <td>16</td>\n",
              "    </tr>\n",
              "    <tr>\n",
              "      <th>16</th>\n",
              "      <td>28</td>\n",
              "      <td>0</td>\n",
              "      <td>0</td>\n",
              "      <td>0.0</td>\n",
              "      <td>0.0</td>\n",
              "      <td>0.0</td>\n",
              "      <td>0.0</td>\n",
              "      <td>0.0</td>\n",
              "      <td>0.0</td>\n",
              "      <td>17</td>\n",
              "    </tr>\n",
              "    <tr>\n",
              "      <th>17</th>\n",
              "      <td>29</td>\n",
              "      <td>0</td>\n",
              "      <td>0</td>\n",
              "      <td>0.0</td>\n",
              "      <td>0.0</td>\n",
              "      <td>0.0</td>\n",
              "      <td>0.0</td>\n",
              "      <td>0.0</td>\n",
              "      <td>0.0</td>\n",
              "      <td>18</td>\n",
              "    </tr>\n",
              "    <tr>\n",
              "      <th>18</th>\n",
              "      <td>30</td>\n",
              "      <td>0</td>\n",
              "      <td>0</td>\n",
              "      <td>0.0</td>\n",
              "      <td>0.0</td>\n",
              "      <td>0.0</td>\n",
              "      <td>0.0</td>\n",
              "      <td>0.0</td>\n",
              "      <td>0.0</td>\n",
              "      <td>19</td>\n",
              "    </tr>\n",
              "    <tr>\n",
              "      <th>19</th>\n",
              "      <td>31</td>\n",
              "      <td>0</td>\n",
              "      <td>0</td>\n",
              "      <td>0.0</td>\n",
              "      <td>0.0</td>\n",
              "      <td>0.0</td>\n",
              "      <td>0.0</td>\n",
              "      <td>0.0</td>\n",
              "      <td>0.0</td>\n",
              "      <td>20</td>\n",
              "    </tr>\n",
              "    <tr>\n",
              "      <th>20</th>\n",
              "      <td>32</td>\n",
              "      <td>0</td>\n",
              "      <td>0</td>\n",
              "      <td>0.0</td>\n",
              "      <td>0.0</td>\n",
              "      <td>0.0</td>\n",
              "      <td>0.0</td>\n",
              "      <td>0.0</td>\n",
              "      <td>0.0</td>\n",
              "      <td>21</td>\n",
              "    </tr>\n",
              "    <tr>\n",
              "      <th>21</th>\n",
              "      <td>33</td>\n",
              "      <td>0</td>\n",
              "      <td>0</td>\n",
              "      <td>0.0</td>\n",
              "      <td>0.0</td>\n",
              "      <td>0.0</td>\n",
              "      <td>0.0</td>\n",
              "      <td>0.0</td>\n",
              "      <td>0.0</td>\n",
              "      <td>22</td>\n",
              "    </tr>\n",
              "    <tr>\n",
              "      <th>22</th>\n",
              "      <td>34</td>\n",
              "      <td>0</td>\n",
              "      <td>0</td>\n",
              "      <td>0.0</td>\n",
              "      <td>0.0</td>\n",
              "      <td>0.0</td>\n",
              "      <td>0.0</td>\n",
              "      <td>0.0</td>\n",
              "      <td>0.0</td>\n",
              "      <td>23</td>\n",
              "    </tr>\n",
              "    <tr>\n",
              "      <th>23</th>\n",
              "      <td>35</td>\n",
              "      <td>0</td>\n",
              "      <td>0</td>\n",
              "      <td>0.0</td>\n",
              "      <td>0.0</td>\n",
              "      <td>0.0</td>\n",
              "      <td>0.0</td>\n",
              "      <td>0.0</td>\n",
              "      <td>0.0</td>\n",
              "      <td>24</td>\n",
              "    </tr>\n",
              "    <tr>\n",
              "      <th>24</th>\n",
              "      <td>48</td>\n",
              "      <td>0</td>\n",
              "      <td>1</td>\n",
              "      <td>0.0</td>\n",
              "      <td>0.0</td>\n",
              "      <td>0.0</td>\n",
              "      <td>0.0</td>\n",
              "      <td>0.0</td>\n",
              "      <td>0.0</td>\n",
              "      <td>1</td>\n",
              "    </tr>\n",
              "  </tbody>\n",
              "</table>\n",
              "</div>"
            ],
            "text/plain": [
              "    Unnamed: 0  item_id  shop_id  item_cnt_month_shop_id  1_month_ago  \\\n",
              "0           12        0        0                     0.0          0.0   \n",
              "1           13        0        0                     0.0          0.0   \n",
              "2           14        0        0                     0.0          0.0   \n",
              "3           15        0        0                     0.0          0.0   \n",
              "4           16        0        0                     0.0          0.0   \n",
              "5           17        0        0                     0.0          0.0   \n",
              "6           18        0        0                     0.0          0.0   \n",
              "7           19        0        0                     0.0          0.0   \n",
              "8           20        0        0                     0.0          0.0   \n",
              "9           21        0        0                     0.0          0.0   \n",
              "10          22        0        0                     0.0          0.0   \n",
              "11          23        0        0                     0.0          0.0   \n",
              "12          24        0        0                     0.0          0.0   \n",
              "13          25        0        0                     0.0          0.0   \n",
              "14          26        0        0                     0.0          0.0   \n",
              "15          27        0        0                     0.0          0.0   \n",
              "16          28        0        0                     0.0          0.0   \n",
              "17          29        0        0                     0.0          0.0   \n",
              "18          30        0        0                     0.0          0.0   \n",
              "19          31        0        0                     0.0          0.0   \n",
              "20          32        0        0                     0.0          0.0   \n",
              "21          33        0        0                     0.0          0.0   \n",
              "22          34        0        0                     0.0          0.0   \n",
              "23          35        0        0                     0.0          0.0   \n",
              "24          48        0        1                     0.0          0.0   \n",
              "\n",
              "    2_month_ago  3_month_ago  6_month_ago  12_month_ago  month_id  \n",
              "0           0.0          0.0          0.0           0.0         1  \n",
              "1           0.0          0.0          0.0           0.0         2  \n",
              "2           0.0          0.0          0.0           0.0         3  \n",
              "3           0.0          0.0          0.0           0.0         4  \n",
              "4           0.0          0.0          0.0           0.0         5  \n",
              "5           0.0          0.0          0.0           0.0         6  \n",
              "6           0.0          0.0          0.0           0.0         7  \n",
              "7           0.0          0.0          0.0           0.0         8  \n",
              "8           0.0          0.0          0.0           0.0         9  \n",
              "9           0.0          0.0          0.0           0.0        10  \n",
              "10          0.0          0.0          0.0           0.0        11  \n",
              "11          0.0          0.0          0.0           0.0        12  \n",
              "12          0.0          0.0          0.0           0.0        13  \n",
              "13          0.0          0.0          0.0           0.0        14  \n",
              "14          0.0          0.0          0.0           0.0        15  \n",
              "15          0.0          0.0          0.0           0.0        16  \n",
              "16          0.0          0.0          0.0           0.0        17  \n",
              "17          0.0          0.0          0.0           0.0        18  \n",
              "18          0.0          0.0          0.0           0.0        19  \n",
              "19          0.0          0.0          0.0           0.0        20  \n",
              "20          0.0          0.0          0.0           0.0        21  \n",
              "21          0.0          0.0          0.0           0.0        22  \n",
              "22          0.0          0.0          0.0           0.0        23  \n",
              "23          0.0          0.0          0.0           0.0        24  \n",
              "24          0.0          0.0          0.0           0.0         1  "
            ]
          },
          "metadata": {
            "tags": []
          },
          "execution_count": 6
        }
      ]
    },
    {
      "cell_type": "code",
      "metadata": {
        "id": "2e7qKPvrpGNG"
      },
      "source": [
        "# setting training and testing sets\n",
        "# training on months 0-23, testing on month 24\n",
        "#X_train = item_sales_by_month.loc[item_sales_by_month['month_id'] < 24].drop('Item_Sales_This_Month', axis=1)\n",
        "#y_train = item_sales_by_month.loc[item_sales_by_month['month_id'] < 24]['Item_Sales_This_Month']\n",
        "#X_val = item_sales_by_month.loc[item_sales_by_month['month_id'] == 24].drop('Item_Sales_This_Month', axis=1)\n",
        "#y_val = item_sales_by_month.loc[item_sales_by_month['month_id'] == 24]['Item_Sales_This_Month']"
      ],
      "execution_count": null,
      "outputs": []
    },
    {
      "cell_type": "markdown",
      "metadata": {
        "id": "0wjJv0vDYFNh"
      },
      "source": [
        "Crashing setting the X_train and X_var :("
      ]
    },
    {
      "cell_type": "code",
      "metadata": {
        "id": "ykRI6bPrQ11x"
      },
      "source": [
        "# setting training and testing sets\n",
        "X_train = shop_id_month_stack.loc[shop_id_month_stack['month_id'] < 24]\n",
        "X_train=X_train.drop(['item_cnt_month_shop_id','Unnamed: 0'], axis = 1)\n",
        "y_train = shop_id_month_stack.loc[shop_id_month_stack['month_id'] < 24]['item_cnt_month_shop_id']"
      ],
      "execution_count": null,
      "outputs": []
    },
    {
      "cell_type": "code",
      "metadata": {
        "colab": {
          "base_uri": "https://localhost:8080/",
          "height": 191
        },
        "id": "Fgm3cPD9qYfd",
        "outputId": "74324c73-2d31-4006-dfac-8469e80ad026"
      },
      "source": [
        "X_train.head()"
      ],
      "execution_count": null,
      "outputs": [
        {
          "output_type": "execute_result",
          "data": {
            "text/html": [
              "<div>\n",
              "<style scoped>\n",
              "    .dataframe tbody tr th:only-of-type {\n",
              "        vertical-align: middle;\n",
              "    }\n",
              "\n",
              "    .dataframe tbody tr th {\n",
              "        vertical-align: top;\n",
              "    }\n",
              "\n",
              "    .dataframe thead th {\n",
              "        text-align: right;\n",
              "    }\n",
              "</style>\n",
              "<table border=\"1\" class=\"dataframe\">\n",
              "  <thead>\n",
              "    <tr style=\"text-align: right;\">\n",
              "      <th></th>\n",
              "      <th>item_id</th>\n",
              "      <th>shop_id</th>\n",
              "      <th>1_month_ago</th>\n",
              "      <th>2_month_ago</th>\n",
              "      <th>3_month_ago</th>\n",
              "      <th>6_month_ago</th>\n",
              "      <th>12_month_ago</th>\n",
              "      <th>month_id</th>\n",
              "    </tr>\n",
              "  </thead>\n",
              "  <tbody>\n",
              "    <tr>\n",
              "      <th>0</th>\n",
              "      <td>0</td>\n",
              "      <td>0</td>\n",
              "      <td>0.0</td>\n",
              "      <td>0.0</td>\n",
              "      <td>0.0</td>\n",
              "      <td>0.0</td>\n",
              "      <td>0.0</td>\n",
              "      <td>1</td>\n",
              "    </tr>\n",
              "    <tr>\n",
              "      <th>1</th>\n",
              "      <td>0</td>\n",
              "      <td>0</td>\n",
              "      <td>0.0</td>\n",
              "      <td>0.0</td>\n",
              "      <td>0.0</td>\n",
              "      <td>0.0</td>\n",
              "      <td>0.0</td>\n",
              "      <td>2</td>\n",
              "    </tr>\n",
              "    <tr>\n",
              "      <th>2</th>\n",
              "      <td>0</td>\n",
              "      <td>0</td>\n",
              "      <td>0.0</td>\n",
              "      <td>0.0</td>\n",
              "      <td>0.0</td>\n",
              "      <td>0.0</td>\n",
              "      <td>0.0</td>\n",
              "      <td>3</td>\n",
              "    </tr>\n",
              "    <tr>\n",
              "      <th>3</th>\n",
              "      <td>0</td>\n",
              "      <td>0</td>\n",
              "      <td>0.0</td>\n",
              "      <td>0.0</td>\n",
              "      <td>0.0</td>\n",
              "      <td>0.0</td>\n",
              "      <td>0.0</td>\n",
              "      <td>4</td>\n",
              "    </tr>\n",
              "    <tr>\n",
              "      <th>4</th>\n",
              "      <td>0</td>\n",
              "      <td>0</td>\n",
              "      <td>0.0</td>\n",
              "      <td>0.0</td>\n",
              "      <td>0.0</td>\n",
              "      <td>0.0</td>\n",
              "      <td>0.0</td>\n",
              "      <td>5</td>\n",
              "    </tr>\n",
              "  </tbody>\n",
              "</table>\n",
              "</div>"
            ],
            "text/plain": [
              "   item_id  shop_id  1_month_ago  2_month_ago  3_month_ago  6_month_ago  \\\n",
              "0        0        0          0.0          0.0          0.0          0.0   \n",
              "1        0        0          0.0          0.0          0.0          0.0   \n",
              "2        0        0          0.0          0.0          0.0          0.0   \n",
              "3        0        0          0.0          0.0          0.0          0.0   \n",
              "4        0        0          0.0          0.0          0.0          0.0   \n",
              "\n",
              "   12_month_ago  month_id  \n",
              "0           0.0         1  \n",
              "1           0.0         2  \n",
              "2           0.0         3  \n",
              "3           0.0         4  \n",
              "4           0.0         5  "
            ]
          },
          "metadata": {
            "tags": []
          },
          "execution_count": 9
        }
      ]
    },
    {
      "cell_type": "code",
      "metadata": {
        "id": "pSxgk4j9p1Kf"
      },
      "source": [
        "X_val = shop_id_month_stack.loc[shop_id_month_stack['month_id'] == 24]\n",
        "X_val=X_val.drop(['item_cnt_month_shop_id','Unnamed: 0'], axis = 1)\n",
        "y_val = shop_id_month_stack.loc[shop_id_month_stack['month_id'] == 24]['item_cnt_month_shop_id']"
      ],
      "execution_count": null,
      "outputs": []
    },
    {
      "cell_type": "code",
      "metadata": {
        "colab": {
          "base_uri": "https://localhost:8080/",
          "height": 191
        },
        "id": "Hr-phA04qFSe",
        "outputId": "10afe3c0-3ce4-4ece-f0ba-47c9e141a6df"
      },
      "source": [
        "X_val.head()"
      ],
      "execution_count": null,
      "outputs": [
        {
          "output_type": "execute_result",
          "data": {
            "text/html": [
              "<div>\n",
              "<style scoped>\n",
              "    .dataframe tbody tr th:only-of-type {\n",
              "        vertical-align: middle;\n",
              "    }\n",
              "\n",
              "    .dataframe tbody tr th {\n",
              "        vertical-align: top;\n",
              "    }\n",
              "\n",
              "    .dataframe thead th {\n",
              "        text-align: right;\n",
              "    }\n",
              "</style>\n",
              "<table border=\"1\" class=\"dataframe\">\n",
              "  <thead>\n",
              "    <tr style=\"text-align: right;\">\n",
              "      <th></th>\n",
              "      <th>item_id</th>\n",
              "      <th>shop_id</th>\n",
              "      <th>1_month_ago</th>\n",
              "      <th>2_month_ago</th>\n",
              "      <th>3_month_ago</th>\n",
              "      <th>6_month_ago</th>\n",
              "      <th>12_month_ago</th>\n",
              "      <th>month_id</th>\n",
              "    </tr>\n",
              "  </thead>\n",
              "  <tbody>\n",
              "    <tr>\n",
              "      <th>23</th>\n",
              "      <td>0</td>\n",
              "      <td>0</td>\n",
              "      <td>0.0</td>\n",
              "      <td>0.0</td>\n",
              "      <td>0.0</td>\n",
              "      <td>0.0</td>\n",
              "      <td>0.0</td>\n",
              "      <td>24</td>\n",
              "    </tr>\n",
              "    <tr>\n",
              "      <th>47</th>\n",
              "      <td>0</td>\n",
              "      <td>1</td>\n",
              "      <td>0.0</td>\n",
              "      <td>0.0</td>\n",
              "      <td>0.0</td>\n",
              "      <td>0.0</td>\n",
              "      <td>0.0</td>\n",
              "      <td>24</td>\n",
              "    </tr>\n",
              "    <tr>\n",
              "      <th>71</th>\n",
              "      <td>0</td>\n",
              "      <td>2</td>\n",
              "      <td>0.0</td>\n",
              "      <td>0.0</td>\n",
              "      <td>0.0</td>\n",
              "      <td>0.0</td>\n",
              "      <td>0.0</td>\n",
              "      <td>24</td>\n",
              "    </tr>\n",
              "    <tr>\n",
              "      <th>95</th>\n",
              "      <td>0</td>\n",
              "      <td>3</td>\n",
              "      <td>0.0</td>\n",
              "      <td>0.0</td>\n",
              "      <td>0.0</td>\n",
              "      <td>0.0</td>\n",
              "      <td>0.0</td>\n",
              "      <td>24</td>\n",
              "    </tr>\n",
              "    <tr>\n",
              "      <th>119</th>\n",
              "      <td>0</td>\n",
              "      <td>4</td>\n",
              "      <td>0.0</td>\n",
              "      <td>0.0</td>\n",
              "      <td>0.0</td>\n",
              "      <td>0.0</td>\n",
              "      <td>0.0</td>\n",
              "      <td>24</td>\n",
              "    </tr>\n",
              "  </tbody>\n",
              "</table>\n",
              "</div>"
            ],
            "text/plain": [
              "     item_id  shop_id  1_month_ago  2_month_ago  3_month_ago  6_month_ago  \\\n",
              "23         0        0          0.0          0.0          0.0          0.0   \n",
              "47         0        1          0.0          0.0          0.0          0.0   \n",
              "71         0        2          0.0          0.0          0.0          0.0   \n",
              "95         0        3          0.0          0.0          0.0          0.0   \n",
              "119        0        4          0.0          0.0          0.0          0.0   \n",
              "\n",
              "     12_month_ago  month_id  \n",
              "23            0.0        24  \n",
              "47            0.0        24  \n",
              "71            0.0        24  \n",
              "95            0.0        24  \n",
              "119           0.0        24  "
            ]
          },
          "metadata": {
            "tags": []
          },
          "execution_count": 11
        }
      ]
    },
    {
      "cell_type": "code",
      "metadata": {
        "colab": {
          "base_uri": "https://localhost:8080/"
        },
        "id": "ik063Jvixu3c",
        "outputId": "ba3954f2-7dff-4263-d512-f35877f41004"
      },
      "source": [
        "y_train.head()"
      ],
      "execution_count": null,
      "outputs": [
        {
          "output_type": "execute_result",
          "data": {
            "text/plain": [
              "0    0.0\n",
              "1    0.0\n",
              "2    0.0\n",
              "3    0.0\n",
              "4    0.0\n",
              "Name: item_cnt_month_shop_id, dtype: float64"
            ]
          },
          "metadata": {
            "tags": []
          },
          "execution_count": 12
        }
      ]
    },
    {
      "cell_type": "code",
      "metadata": {
        "id": "JloGyCWFUdrz",
        "outputId": "b0df8a93-b53c-4194-c250-6e2f70b2ec09"
      },
      "source": [
        "# setting timer\n",
        "ts = time.time()\n",
        "\n",
        "# XGBoost model\n",
        "model = XGBRegressor(\n",
        "    max_depth = 10,\n",
        "    n_estimators = 2000,\n",
        "    min_child_weight = 300, \n",
        "    colsample_bytree = 0.8, \n",
        "    subsample = 0.8, \n",
        "    eta = 0.5,    \n",
        "    seed = 42)\n",
        "\n",
        "# fitting the model to data\n",
        "model.fit(\n",
        "    X_train, \n",
        "    y_train, \n",
        "    eval_metric = \"rmse\", \n",
        "    eval_set = [(X_train, y_train), (X_val, y_val)], \n",
        "    verbose = True, \n",
        "    early_stopping_rounds = 10)\n",
        "\n",
        "print(f'The model took: {time.time() - ts} seconds')"
      ],
      "execution_count": null,
      "outputs": [
        {
          "output_type": "stream",
          "text": [
            "[0]\tvalidation_0-rmse:1.16283\tvalidation_1-rmse:0.37460\n",
            "[1]\tvalidation_0-rmse:1.11895\tvalidation_1-rmse:0.34299\n",
            "[2]\tvalidation_0-rmse:1.10258\tvalidation_1-rmse:0.33584\n",
            "[3]\tvalidation_0-rmse:1.09124\tvalidation_1-rmse:0.35280\n",
            "[4]\tvalidation_0-rmse:1.08565\tvalidation_1-rmse:0.35425\n",
            "[5]\tvalidation_0-rmse:1.07947\tvalidation_1-rmse:0.35971\n",
            "[6]\tvalidation_0-rmse:1.07607\tvalidation_1-rmse:0.35065\n",
            "[7]\tvalidation_0-rmse:1.07208\tvalidation_1-rmse:0.34012\n",
            "[8]\tvalidation_0-rmse:1.06924\tvalidation_1-rmse:0.35097\n",
            "[9]\tvalidation_0-rmse:1.06544\tvalidation_1-rmse:0.35829\n",
            "[10]\tvalidation_0-rmse:1.06280\tvalidation_1-rmse:0.36210\n",
            "[11]\tvalidation_0-rmse:1.06030\tvalidation_1-rmse:0.36056\n",
            "[12]\tvalidation_0-rmse:1.05654\tvalidation_1-rmse:0.36493\n",
            "The model took: 467.68694138526917 seconds\n"
          ],
          "name": "stdout"
        }
      ]
    },
    {
      "cell_type": "code",
      "metadata": {
        "id": "nbmeT-57pJg9"
      },
      "source": [
        "# setting timer\n",
        "#ts = time.time()\n",
        "\n",
        "# XGBoost model\n",
        "#model = XGBRegressor(\n",
        " #   max_depth = 10,\n",
        "  #  n_estimators = 2000,\n",
        "   # min_child_weight = 300, \n",
        "   # colsample_bytree = 0.8, \n",
        "   # subsample = 0.8, \n",
        "   # eta = 0.5,    \n",
        "   # seed = 42)\n",
        "\n",
        "# fitting the model to data\n",
        "#model.fit(\n",
        " #   X_train, \n",
        " #   y_train, \n",
        " #   eval_metric = \"rmse\", \n",
        " #   eval_set = [(X_train, y_train), (X_val, y_val)], \n",
        " #   verbose = True, \n",
        " #   early_stopping_rounds = 10)\n",
        "\n",
        "#print(f'The model took: {time.time() - ts} seconds')"
      ],
      "execution_count": null,
      "outputs": []
    },
    {
      "cell_type": "code",
      "metadata": {
        "id": "TPCFsiL3pOd9"
      },
      "source": [
        "# predicting X_val\n",
        "y_pred = model.predict(X_val).clip(0, 20)"
      ],
      "execution_count": null,
      "outputs": []
    },
    {
      "cell_type": "code",
      "metadata": {
        "id": "AL6B-3x8pQvg",
        "outputId": "06f2d3e9-3967-4a7f-8386-b09ceb8c2dbf"
      },
      "source": [
        "# creating function to plot features\n",
        "def plot_features(booster, figsize):    \n",
        "    fig, ax = plt.subplots(1, 1, figsize = figsize)\n",
        "    return plot_importance(booster = booster, ax = ax)\n",
        "\n",
        "plot_features(model, (20,10))\n",
        "\n",
        "#plt.savefig('drive/MyDrive/Camp Jupyter/predict_future_sales_data/xgboost.png')"
      ],
      "execution_count": null,
      "outputs": [
        {
          "output_type": "execute_result",
          "data": {
            "text/plain": [
              "<AxesSubplot:title={'center':'Feature importance'}, xlabel='F score', ylabel='Features'>"
            ]
          },
          "metadata": {
            "tags": []
          },
          "execution_count": 39
        },
        {
          "output_type": "display_data",
          "data": {
            "image/png": "[encoded data removed]",
            "text/plain": [
              "<Figure size 1440x720 with 1 Axes>"
            ]
          },
          "metadata": {
            "tags": [],
            "needs_background": "light"
          }
        }
      ]
    },
    {
      "cell_type": "code",
      "metadata": {
        "colab": {
          "base_uri": "https://localhost:8080/",
          "height": 242
        },
        "id": "mimciIKwpTww",
        "outputId": "98728c3a-43b7-49f5-f699-b95082b3e8c4"
      },
      "source": [
        "# scatterplot predictions and actual\n",
        "plt.figure(figsize = (20, 10))\n",
        "plt.scatter(x=y_pred, y=y_val, c='r', alpha = 0.4)\n",
        "#plt.xlim(0, 5)\n",
        "plt.ylim(-0.5, 20)\n",
        "plt.title('Actual vs. predictions scatterplot')\n",
        "#plt.savefig('drive/MyDrive/Camp Jupyter/predict_future_sales_data/xgboost_scatter.png')"
      ],
      "execution_count": null,
      "outputs": [
        {
          "output_type": "execute_result",
          "data": {
            "text/plain": [
              "Text(0.5, 1.0, 'Actual vs. predictions scatterplot')"
            ]
          },
          "metadata": {
            "tags": []
          },
          "execution_count": 40
        },
        {
          "output_type": "display_data",
          "data": {
            "image/png": "[encoded data removed]",
            "text/plain": [
              "<Figure size 1440x720 with 1 Axes>"
            ]
          },
          "metadata": {
            "tags": [],
            "needs_background": "light"
          }
        }
      ]
    },
    {
      "cell_type": "code",
      "metadata": {
        "id": "Pr1R2uS-Rnxc"
      },
      "source": [
        "# saving model as pickle file\n",
        "import pickle\n",
        "\n",
        "xgboost_pickle = 'xgboost_pickle.pkl'\n",
        "with open(xgboost_pickle, 'wb') as file:\n",
        "  pickle.dump(model, file)"
      ],
      "execution_count": null,
      "outputs": []
    },
    {
      "cell_type": "code",
      "metadata": {
        "id": "ytp7Iv5GW_v1"
      },
      "source": [
        "test_df=pd.read_csv('test.csv')"
      ],
      "execution_count": null,
      "outputs": []
    },
    {
      "cell_type": "code",
      "metadata": {
        "id": "rs74KU1hW_v1",
        "outputId": "39494b41-60f0-4e34-a792-dd658b2d774a"
      },
      "source": [
        "test_df.head()"
      ],
      "execution_count": null,
      "outputs": [
        {
          "output_type": "execute_result",
          "data": {
            "text/html": [
              "<div>\n",
              "<style scoped>\n",
              "    .dataframe tbody tr th:only-of-type {\n",
              "        vertical-align: middle;\n",
              "    }\n",
              "\n",
              "    .dataframe tbody tr th {\n",
              "        vertical-align: top;\n",
              "    }\n",
              "\n",
              "    .dataframe thead th {\n",
              "        text-align: right;\n",
              "    }\n",
              "</style>\n",
              "<table border=\"1\" class=\"dataframe\">\n",
              "  <thead>\n",
              "    <tr style=\"text-align: right;\">\n",
              "      <th></th>\n",
              "      <th>ID</th>\n",
              "      <th>shop_id</th>\n",
              "      <th>item_id</th>\n",
              "    </tr>\n",
              "  </thead>\n",
              "  <tbody>\n",
              "    <tr>\n",
              "      <th>0</th>\n",
              "      <td>0</td>\n",
              "      <td>5</td>\n",
              "      <td>5037</td>\n",
              "    </tr>\n",
              "    <tr>\n",
              "      <th>1</th>\n",
              "      <td>1</td>\n",
              "      <td>5</td>\n",
              "      <td>5320</td>\n",
              "    </tr>\n",
              "    <tr>\n",
              "      <th>2</th>\n",
              "      <td>2</td>\n",
              "      <td>5</td>\n",
              "      <td>5233</td>\n",
              "    </tr>\n",
              "    <tr>\n",
              "      <th>3</th>\n",
              "      <td>3</td>\n",
              "      <td>5</td>\n",
              "      <td>5232</td>\n",
              "    </tr>\n",
              "    <tr>\n",
              "      <th>4</th>\n",
              "      <td>4</td>\n",
              "      <td>5</td>\n",
              "      <td>5268</td>\n",
              "    </tr>\n",
              "  </tbody>\n",
              "</table>\n",
              "</div>"
            ],
            "text/plain": [
              "   ID  shop_id  item_id\n",
              "0   0        5     5037\n",
              "1   1        5     5320\n",
              "2   2        5     5233\n",
              "3   3        5     5232\n",
              "4   4        5     5268"
            ]
          },
          "metadata": {
            "tags": []
          },
          "execution_count": 76
        }
      ]
    },
    {
      "cell_type": "code",
      "metadata": {
        "id": "O1oiZLwyW_v2",
        "outputId": "f27e1a74-210a-4845-ae4a-11f4557b2184"
      },
      "source": [
        "len(test_df)"
      ],
      "execution_count": null,
      "outputs": [
        {
          "output_type": "execute_result",
          "data": {
            "text/plain": [
              "214200"
            ]
          },
          "metadata": {
            "tags": []
          },
          "execution_count": 77
        }
      ]
    },
    {
      "cell_type": "code",
      "metadata": {
        "id": "x6f6meyVW_v2"
      },
      "source": [
        "shop_id_month_stack_last_month=shop_id_month_stack[shop_id_month_stack['month_id']==24]"
      ],
      "execution_count": null,
      "outputs": []
    },
    {
      "cell_type": "code",
      "metadata": {
        "id": "mbRy_5LFW_v3"
      },
      "source": [
        "test_df_merged=pd.merge(test_df,shop_id_month_stack_last_month,how='left',on=['item_id','shop_id'])"
      ],
      "execution_count": null,
      "outputs": []
    },
    {
      "cell_type": "code",
      "metadata": {
        "id": "pIiqZ5MVW_v3",
        "outputId": "6de82aec-b34b-42f4-b428-dbe65f801c6a"
      },
      "source": [
        "shop_id_month_stack_last_month[shop_id_month_stack_last_month['item_id']==5320]"
      ],
      "execution_count": null,
      "outputs": [
        {
          "output_type": "execute_result",
          "data": {
            "text/html": [
              "<div>\n",
              "<style scoped>\n",
              "    .dataframe tbody tr th:only-of-type {\n",
              "        vertical-align: middle;\n",
              "    }\n",
              "\n",
              "    .dataframe tbody tr th {\n",
              "        vertical-align: top;\n",
              "    }\n",
              "\n",
              "    .dataframe thead th {\n",
              "        text-align: right;\n",
              "    }\n",
              "</style>\n",
              "<table border=\"1\" class=\"dataframe\">\n",
              "  <thead>\n",
              "    <tr style=\"text-align: right;\">\n",
              "      <th></th>\n",
              "      <th>Unnamed: 0</th>\n",
              "      <th>item_id</th>\n",
              "      <th>shop_id</th>\n",
              "      <th>item_cnt_month_shop_id</th>\n",
              "      <th>1_month_ago</th>\n",
              "      <th>2_month_ago</th>\n",
              "      <th>3_month_ago</th>\n",
              "      <th>6_month_ago</th>\n",
              "      <th>12_month_ago</th>\n",
              "      <th>month_id</th>\n",
              "    </tr>\n",
              "  </thead>\n",
              "  <tbody>\n",
              "  </tbody>\n",
              "</table>\n",
              "</div>"
            ],
            "text/plain": [
              "Empty DataFrame\n",
              "Columns: [Unnamed: 0, item_id, shop_id, item_cnt_month_shop_id, 1_month_ago, 2_month_ago, 3_month_ago, 6_month_ago, 12_month_ago, month_id]\n",
              "Index: []"
            ]
          },
          "metadata": {
            "tags": []
          },
          "execution_count": 80
        }
      ]
    },
    {
      "cell_type": "code",
      "metadata": {
        "id": "Uhg0PfhfW_v3",
        "outputId": "962aa479-cd03-4cf6-f83c-98d62797a738"
      },
      "source": [
        "test_df_merged.head()"
      ],
      "execution_count": null,
      "outputs": [
        {
          "output_type": "execute_result",
          "data": {
            "text/html": [
              "<div>\n",
              "<style scoped>\n",
              "    .dataframe tbody tr th:only-of-type {\n",
              "        vertical-align: middle;\n",
              "    }\n",
              "\n",
              "    .dataframe tbody tr th {\n",
              "        vertical-align: top;\n",
              "    }\n",
              "\n",
              "    .dataframe thead th {\n",
              "        text-align: right;\n",
              "    }\n",
              "</style>\n",
              "<table border=\"1\" class=\"dataframe\">\n",
              "  <thead>\n",
              "    <tr style=\"text-align: right;\">\n",
              "      <th></th>\n",
              "      <th>ID</th>\n",
              "      <th>shop_id</th>\n",
              "      <th>item_id</th>\n",
              "      <th>Unnamed: 0</th>\n",
              "      <th>item_cnt_month_shop_id</th>\n",
              "      <th>1_month_ago</th>\n",
              "      <th>2_month_ago</th>\n",
              "      <th>3_month_ago</th>\n",
              "      <th>6_month_ago</th>\n",
              "      <th>12_month_ago</th>\n",
              "      <th>month_id</th>\n",
              "    </tr>\n",
              "  </thead>\n",
              "  <tbody>\n",
              "    <tr>\n",
              "      <th>0</th>\n",
              "      <td>0</td>\n",
              "      <td>5</td>\n",
              "      <td>5037</td>\n",
              "      <td>10171655.0</td>\n",
              "      <td>0.0</td>\n",
              "      <td>0.0</td>\n",
              "      <td>0.0</td>\n",
              "      <td>0.0</td>\n",
              "      <td>0.0</td>\n",
              "      <td>0.0</td>\n",
              "      <td>24.0</td>\n",
              "    </tr>\n",
              "    <tr>\n",
              "      <th>1</th>\n",
              "      <td>1</td>\n",
              "      <td>5</td>\n",
              "      <td>5320</td>\n",
              "      <td>NaN</td>\n",
              "      <td>NaN</td>\n",
              "      <td>NaN</td>\n",
              "      <td>NaN</td>\n",
              "      <td>NaN</td>\n",
              "      <td>NaN</td>\n",
              "      <td>NaN</td>\n",
              "      <td>NaN</td>\n",
              "    </tr>\n",
              "    <tr>\n",
              "      <th>2</th>\n",
              "      <td>2</td>\n",
              "      <td>5</td>\n",
              "      <td>5233</td>\n",
              "      <td>10579895.0</td>\n",
              "      <td>0.0</td>\n",
              "      <td>0.0</td>\n",
              "      <td>0.0</td>\n",
              "      <td>1.0</td>\n",
              "      <td>0.0</td>\n",
              "      <td>0.0</td>\n",
              "      <td>24.0</td>\n",
              "    </tr>\n",
              "    <tr>\n",
              "      <th>3</th>\n",
              "      <td>3</td>\n",
              "      <td>5</td>\n",
              "      <td>5232</td>\n",
              "      <td>10577735.0</td>\n",
              "      <td>0.0</td>\n",
              "      <td>0.0</td>\n",
              "      <td>0.0</td>\n",
              "      <td>0.0</td>\n",
              "      <td>0.0</td>\n",
              "      <td>0.0</td>\n",
              "      <td>24.0</td>\n",
              "    </tr>\n",
              "    <tr>\n",
              "      <th>4</th>\n",
              "      <td>4</td>\n",
              "      <td>5</td>\n",
              "      <td>5268</td>\n",
              "      <td>NaN</td>\n",
              "      <td>NaN</td>\n",
              "      <td>NaN</td>\n",
              "      <td>NaN</td>\n",
              "      <td>NaN</td>\n",
              "      <td>NaN</td>\n",
              "      <td>NaN</td>\n",
              "      <td>NaN</td>\n",
              "    </tr>\n",
              "  </tbody>\n",
              "</table>\n",
              "</div>"
            ],
            "text/plain": [
              "   ID  shop_id  item_id  Unnamed: 0  item_cnt_month_shop_id  1_month_ago  \\\n",
              "0   0        5     5037  10171655.0                     0.0          0.0   \n",
              "1   1        5     5320         NaN                     NaN          NaN   \n",
              "2   2        5     5233  10579895.0                     0.0          0.0   \n",
              "3   3        5     5232  10577735.0                     0.0          0.0   \n",
              "4   4        5     5268         NaN                     NaN          NaN   \n",
              "\n",
              "   2_month_ago  3_month_ago  6_month_ago  12_month_ago  month_id  \n",
              "0          0.0          0.0          0.0           0.0      24.0  \n",
              "1          NaN          NaN          NaN           NaN       NaN  \n",
              "2          0.0          1.0          0.0           0.0      24.0  \n",
              "3          0.0          0.0          0.0           0.0      24.0  \n",
              "4          NaN          NaN          NaN           NaN       NaN  "
            ]
          },
          "metadata": {
            "tags": []
          },
          "execution_count": 81
        }
      ]
    },
    {
      "cell_type": "code",
      "metadata": {
        "id": "vd9culMbW_v4",
        "outputId": "ec07cfb9-6803-4f77-f397-68f3ef57beea"
      },
      "source": [
        "test_df_merged.isnull().sum()"
      ],
      "execution_count": null,
      "outputs": [
        {
          "output_type": "execute_result",
          "data": {
            "text/plain": [
              "ID                            0\n",
              "shop_id                       0\n",
              "item_id                       0\n",
              "Unnamed: 0                16212\n",
              "item_cnt_month_shop_id    16212\n",
              "1_month_ago               16212\n",
              "2_month_ago               16212\n",
              "3_month_ago               16212\n",
              "6_month_ago               16212\n",
              "12_month_ago              16212\n",
              "month_id                  16212\n",
              "dtype: int64"
            ]
          },
          "metadata": {
            "tags": []
          },
          "execution_count": 82
        }
      ]
    },
    {
      "cell_type": "code",
      "metadata": {
        "id": "2SjPrKnbW_v4"
      },
      "source": [
        "test_df_merged.fillna(0,inplace=True)"
      ],
      "execution_count": null,
      "outputs": []
    },
    {
      "cell_type": "code",
      "metadata": {
        "id": "6zJUkHzGW_v5",
        "outputId": "488ee262-f29b-40e3-9cf8-3e481c541302"
      },
      "source": [
        "test_df_merged.head()"
      ],
      "execution_count": null,
      "outputs": [
        {
          "output_type": "execute_result",
          "data": {
            "text/html": [
              "<div>\n",
              "<style scoped>\n",
              "    .dataframe tbody tr th:only-of-type {\n",
              "        vertical-align: middle;\n",
              "    }\n",
              "\n",
              "    .dataframe tbody tr th {\n",
              "        vertical-align: top;\n",
              "    }\n",
              "\n",
              "    .dataframe thead th {\n",
              "        text-align: right;\n",
              "    }\n",
              "</style>\n",
              "<table border=\"1\" class=\"dataframe\">\n",
              "  <thead>\n",
              "    <tr style=\"text-align: right;\">\n",
              "      <th></th>\n",
              "      <th>ID</th>\n",
              "      <th>shop_id</th>\n",
              "      <th>item_id</th>\n",
              "      <th>Unnamed: 0</th>\n",
              "      <th>item_cnt_month_shop_id</th>\n",
              "      <th>1_month_ago</th>\n",
              "      <th>2_month_ago</th>\n",
              "      <th>3_month_ago</th>\n",
              "      <th>6_month_ago</th>\n",
              "      <th>12_month_ago</th>\n",
              "      <th>month_id</th>\n",
              "    </tr>\n",
              "  </thead>\n",
              "  <tbody>\n",
              "    <tr>\n",
              "      <th>0</th>\n",
              "      <td>0</td>\n",
              "      <td>5</td>\n",
              "      <td>5037</td>\n",
              "      <td>10171655.0</td>\n",
              "      <td>0.0</td>\n",
              "      <td>0.0</td>\n",
              "      <td>0.0</td>\n",
              "      <td>0.0</td>\n",
              "      <td>0.0</td>\n",
              "      <td>0.0</td>\n",
              "      <td>24.0</td>\n",
              "    </tr>\n",
              "    <tr>\n",
              "      <th>1</th>\n",
              "      <td>1</td>\n",
              "      <td>5</td>\n",
              "      <td>5320</td>\n",
              "      <td>0.0</td>\n",
              "      <td>0.0</td>\n",
              "      <td>0.0</td>\n",
              "      <td>0.0</td>\n",
              "      <td>0.0</td>\n",
              "      <td>0.0</td>\n",
              "      <td>0.0</td>\n",
              "      <td>0.0</td>\n",
              "    </tr>\n",
              "    <tr>\n",
              "      <th>2</th>\n",
              "      <td>2</td>\n",
              "      <td>5</td>\n",
              "      <td>5233</td>\n",
              "      <td>10579895.0</td>\n",
              "      <td>0.0</td>\n",
              "      <td>0.0</td>\n",
              "      <td>0.0</td>\n",
              "      <td>1.0</td>\n",
              "      <td>0.0</td>\n",
              "      <td>0.0</td>\n",
              "      <td>24.0</td>\n",
              "    </tr>\n",
              "    <tr>\n",
              "      <th>3</th>\n",
              "      <td>3</td>\n",
              "      <td>5</td>\n",
              "      <td>5232</td>\n",
              "      <td>10577735.0</td>\n",
              "      <td>0.0</td>\n",
              "      <td>0.0</td>\n",
              "      <td>0.0</td>\n",
              "      <td>0.0</td>\n",
              "      <td>0.0</td>\n",
              "      <td>0.0</td>\n",
              "      <td>24.0</td>\n",
              "    </tr>\n",
              "    <tr>\n",
              "      <th>4</th>\n",
              "      <td>4</td>\n",
              "      <td>5</td>\n",
              "      <td>5268</td>\n",
              "      <td>0.0</td>\n",
              "      <td>0.0</td>\n",
              "      <td>0.0</td>\n",
              "      <td>0.0</td>\n",
              "      <td>0.0</td>\n",
              "      <td>0.0</td>\n",
              "      <td>0.0</td>\n",
              "      <td>0.0</td>\n",
              "    </tr>\n",
              "  </tbody>\n",
              "</table>\n",
              "</div>"
            ],
            "text/plain": [
              "   ID  shop_id  item_id  Unnamed: 0  item_cnt_month_shop_id  1_month_ago  \\\n",
              "0   0        5     5037  10171655.0                     0.0          0.0   \n",
              "1   1        5     5320         0.0                     0.0          0.0   \n",
              "2   2        5     5233  10579895.0                     0.0          0.0   \n",
              "3   3        5     5232  10577735.0                     0.0          0.0   \n",
              "4   4        5     5268         0.0                     0.0          0.0   \n",
              "\n",
              "   2_month_ago  3_month_ago  6_month_ago  12_month_ago  month_id  \n",
              "0          0.0          0.0          0.0           0.0      24.0  \n",
              "1          0.0          0.0          0.0           0.0       0.0  \n",
              "2          0.0          1.0          0.0           0.0      24.0  \n",
              "3          0.0          0.0          0.0           0.0      24.0  \n",
              "4          0.0          0.0          0.0           0.0       0.0  "
            ]
          },
          "metadata": {
            "tags": []
          },
          "execution_count": 84
        }
      ]
    },
    {
      "cell_type": "code",
      "metadata": {
        "id": "NSfg-21LW_v5"
      },
      "source": [
        "test_df_clean=test_df_merged.drop(['Unnamed: 0','ID','item_cnt_month_shop_id'],axis=1)"
      ],
      "execution_count": null,
      "outputs": []
    },
    {
      "cell_type": "code",
      "metadata": {
        "id": "87EzJUCxW_v6",
        "outputId": "fb41779b-629f-4407-b30a-7f885ca80492"
      },
      "source": [
        "len(test_df_merged)"
      ],
      "execution_count": null,
      "outputs": [
        {
          "output_type": "execute_result",
          "data": {
            "text/plain": [
              "214200"
            ]
          },
          "metadata": {
            "tags": []
          },
          "execution_count": 86
        }
      ]
    },
    {
      "cell_type": "code",
      "metadata": {
        "id": "Qw46henFW_v6",
        "outputId": "6d5f35f2-92a4-46c4-b42a-0d2aaf2a566d"
      },
      "source": [
        "test_df_clean.head()"
      ],
      "execution_count": null,
      "outputs": [
        {
          "output_type": "execute_result",
          "data": {
            "text/html": [
              "<div>\n",
              "<style scoped>\n",
              "    .dataframe tbody tr th:only-of-type {\n",
              "        vertical-align: middle;\n",
              "    }\n",
              "\n",
              "    .dataframe tbody tr th {\n",
              "        vertical-align: top;\n",
              "    }\n",
              "\n",
              "    .dataframe thead th {\n",
              "        text-align: right;\n",
              "    }\n",
              "</style>\n",
              "<table border=\"1\" class=\"dataframe\">\n",
              "  <thead>\n",
              "    <tr style=\"text-align: right;\">\n",
              "      <th></th>\n",
              "      <th>shop_id</th>\n",
              "      <th>item_id</th>\n",
              "      <th>1_month_ago</th>\n",
              "      <th>2_month_ago</th>\n",
              "      <th>3_month_ago</th>\n",
              "      <th>6_month_ago</th>\n",
              "      <th>12_month_ago</th>\n",
              "      <th>month_id</th>\n",
              "    </tr>\n",
              "  </thead>\n",
              "  <tbody>\n",
              "    <tr>\n",
              "      <th>0</th>\n",
              "      <td>5</td>\n",
              "      <td>5037</td>\n",
              "      <td>0.0</td>\n",
              "      <td>0.0</td>\n",
              "      <td>0.0</td>\n",
              "      <td>0.0</td>\n",
              "      <td>0.0</td>\n",
              "      <td>24.0</td>\n",
              "    </tr>\n",
              "    <tr>\n",
              "      <th>1</th>\n",
              "      <td>5</td>\n",
              "      <td>5320</td>\n",
              "      <td>0.0</td>\n",
              "      <td>0.0</td>\n",
              "      <td>0.0</td>\n",
              "      <td>0.0</td>\n",
              "      <td>0.0</td>\n",
              "      <td>0.0</td>\n",
              "    </tr>\n",
              "    <tr>\n",
              "      <th>2</th>\n",
              "      <td>5</td>\n",
              "      <td>5233</td>\n",
              "      <td>0.0</td>\n",
              "      <td>0.0</td>\n",
              "      <td>1.0</td>\n",
              "      <td>0.0</td>\n",
              "      <td>0.0</td>\n",
              "      <td>24.0</td>\n",
              "    </tr>\n",
              "    <tr>\n",
              "      <th>3</th>\n",
              "      <td>5</td>\n",
              "      <td>5232</td>\n",
              "      <td>0.0</td>\n",
              "      <td>0.0</td>\n",
              "      <td>0.0</td>\n",
              "      <td>0.0</td>\n",
              "      <td>0.0</td>\n",
              "      <td>24.0</td>\n",
              "    </tr>\n",
              "    <tr>\n",
              "      <th>4</th>\n",
              "      <td>5</td>\n",
              "      <td>5268</td>\n",
              "      <td>0.0</td>\n",
              "      <td>0.0</td>\n",
              "      <td>0.0</td>\n",
              "      <td>0.0</td>\n",
              "      <td>0.0</td>\n",
              "      <td>0.0</td>\n",
              "    </tr>\n",
              "  </tbody>\n",
              "</table>\n",
              "</div>"
            ],
            "text/plain": [
              "   shop_id  item_id  1_month_ago  2_month_ago  3_month_ago  6_month_ago  \\\n",
              "0        5     5037          0.0          0.0          0.0          0.0   \n",
              "1        5     5320          0.0          0.0          0.0          0.0   \n",
              "2        5     5233          0.0          0.0          1.0          0.0   \n",
              "3        5     5232          0.0          0.0          0.0          0.0   \n",
              "4        5     5268          0.0          0.0          0.0          0.0   \n",
              "\n",
              "   12_month_ago  month_id  \n",
              "0           0.0      24.0  \n",
              "1           0.0       0.0  \n",
              "2           0.0      24.0  \n",
              "3           0.0      24.0  \n",
              "4           0.0       0.0  "
            ]
          },
          "metadata": {
            "tags": []
          },
          "execution_count": 87
        }
      ]
    },
    {
      "cell_type": "code",
      "metadata": {
        "id": "nPN0b5PRW_v7"
      },
      "source": [
        "test_df_clean['month_id']=25"
      ],
      "execution_count": null,
      "outputs": []
    },
    {
      "cell_type": "code",
      "metadata": {
        "id": "muJX1zQKW_v7"
      },
      "source": [
        "test_df_clean=test_df_clean[['item_id','shop_id','1_month_ago', '2_month_ago', '3_month_ago',\n",
        "       '6_month_ago', '12_month_ago', 'month_id']]"
      ],
      "execution_count": null,
      "outputs": []
    },
    {
      "cell_type": "code",
      "metadata": {
        "id": "Vqr0vmUBW_v8"
      },
      "source": [
        "# predicting X_val\n",
        "y_pred_test = model.predict(test_df_clean).clip(0, 20)"
      ],
      "execution_count": null,
      "outputs": []
    },
    {
      "cell_type": "code",
      "metadata": {
        "id": "IDd-bBFqW_v8",
        "outputId": "cfdc4fc1-81b6-4c14-b174-c9b5e8c056a8"
      },
      "source": [
        "len(y_pred_test)"
      ],
      "execution_count": null,
      "outputs": [
        {
          "output_type": "execute_result",
          "data": {
            "text/plain": [
              "214200"
            ]
          },
          "metadata": {
            "tags": []
          },
          "execution_count": 92
        }
      ]
    },
    {
      "cell_type": "markdown",
      "metadata": {
        "id": "6VcF47TCW_v8"
      },
      "source": [
        "sample_df=pd.read_csv('submission_1.csv')"
      ]
    },
    {
      "cell_type": "markdown",
      "metadata": {
        "id": "12zp6LuMW_v9"
      },
      "source": [
        "len(sample_df)"
      ]
    },
    {
      "cell_type": "markdown",
      "metadata": {
        "id": "-p9kEDJxW_v9"
      },
      "source": [
        "sample_df"
      ]
    },
    {
      "cell_type": "code",
      "metadata": {
        "id": "aDr3qUc2W_v9",
        "outputId": "60ea8b5f-671e-4781-87a0-9939b43c6fd8"
      },
      "source": [
        "test_df_merged.head()"
      ],
      "execution_count": null,
      "outputs": [
        {
          "output_type": "execute_result",
          "data": {
            "text/html": [
              "<div>\n",
              "<style scoped>\n",
              "    .dataframe tbody tr th:only-of-type {\n",
              "        vertical-align: middle;\n",
              "    }\n",
              "\n",
              "    .dataframe tbody tr th {\n",
              "        vertical-align: top;\n",
              "    }\n",
              "\n",
              "    .dataframe thead th {\n",
              "        text-align: right;\n",
              "    }\n",
              "</style>\n",
              "<table border=\"1\" class=\"dataframe\">\n",
              "  <thead>\n",
              "    <tr style=\"text-align: right;\">\n",
              "      <th></th>\n",
              "      <th>ID</th>\n",
              "      <th>shop_id</th>\n",
              "      <th>item_id</th>\n",
              "      <th>Unnamed: 0</th>\n",
              "      <th>item_cnt_month_shop_id</th>\n",
              "      <th>1_month_ago</th>\n",
              "      <th>2_month_ago</th>\n",
              "      <th>3_month_ago</th>\n",
              "      <th>6_month_ago</th>\n",
              "      <th>12_month_ago</th>\n",
              "      <th>month_id</th>\n",
              "    </tr>\n",
              "  </thead>\n",
              "  <tbody>\n",
              "    <tr>\n",
              "      <th>0</th>\n",
              "      <td>0</td>\n",
              "      <td>5</td>\n",
              "      <td>5037</td>\n",
              "      <td>10171655.0</td>\n",
              "      <td>0.0</td>\n",
              "      <td>0.0</td>\n",
              "      <td>0.0</td>\n",
              "      <td>0.0</td>\n",
              "      <td>0.0</td>\n",
              "      <td>0.0</td>\n",
              "      <td>24.0</td>\n",
              "    </tr>\n",
              "    <tr>\n",
              "      <th>1</th>\n",
              "      <td>1</td>\n",
              "      <td>5</td>\n",
              "      <td>5320</td>\n",
              "      <td>0.0</td>\n",
              "      <td>0.0</td>\n",
              "      <td>0.0</td>\n",
              "      <td>0.0</td>\n",
              "      <td>0.0</td>\n",
              "      <td>0.0</td>\n",
              "      <td>0.0</td>\n",
              "      <td>0.0</td>\n",
              "    </tr>\n",
              "    <tr>\n",
              "      <th>2</th>\n",
              "      <td>2</td>\n",
              "      <td>5</td>\n",
              "      <td>5233</td>\n",
              "      <td>10579895.0</td>\n",
              "      <td>0.0</td>\n",
              "      <td>0.0</td>\n",
              "      <td>0.0</td>\n",
              "      <td>1.0</td>\n",
              "      <td>0.0</td>\n",
              "      <td>0.0</td>\n",
              "      <td>24.0</td>\n",
              "    </tr>\n",
              "    <tr>\n",
              "      <th>3</th>\n",
              "      <td>3</td>\n",
              "      <td>5</td>\n",
              "      <td>5232</td>\n",
              "      <td>10577735.0</td>\n",
              "      <td>0.0</td>\n",
              "      <td>0.0</td>\n",
              "      <td>0.0</td>\n",
              "      <td>0.0</td>\n",
              "      <td>0.0</td>\n",
              "      <td>0.0</td>\n",
              "      <td>24.0</td>\n",
              "    </tr>\n",
              "    <tr>\n",
              "      <th>4</th>\n",
              "      <td>4</td>\n",
              "      <td>5</td>\n",
              "      <td>5268</td>\n",
              "      <td>0.0</td>\n",
              "      <td>0.0</td>\n",
              "      <td>0.0</td>\n",
              "      <td>0.0</td>\n",
              "      <td>0.0</td>\n",
              "      <td>0.0</td>\n",
              "      <td>0.0</td>\n",
              "      <td>0.0</td>\n",
              "    </tr>\n",
              "  </tbody>\n",
              "</table>\n",
              "</div>"
            ],
            "text/plain": [
              "   ID  shop_id  item_id  Unnamed: 0  item_cnt_month_shop_id  1_month_ago  \\\n",
              "0   0        5     5037  10171655.0                     0.0          0.0   \n",
              "1   1        5     5320         0.0                     0.0          0.0   \n",
              "2   2        5     5233  10579895.0                     0.0          0.0   \n",
              "3   3        5     5232  10577735.0                     0.0          0.0   \n",
              "4   4        5     5268         0.0                     0.0          0.0   \n",
              "\n",
              "   2_month_ago  3_month_ago  6_month_ago  12_month_ago  month_id  \n",
              "0          0.0          0.0          0.0           0.0      24.0  \n",
              "1          0.0          0.0          0.0           0.0       0.0  \n",
              "2          0.0          1.0          0.0           0.0      24.0  \n",
              "3          0.0          0.0          0.0           0.0      24.0  \n",
              "4          0.0          0.0          0.0           0.0       0.0  "
            ]
          },
          "metadata": {
            "tags": []
          },
          "execution_count": 93
        }
      ]
    },
    {
      "cell_type": "code",
      "metadata": {
        "id": "w2HwofbuW_v9",
        "outputId": "c8fcc2b6-c09f-4c36-ddb9-e283d75081d0"
      },
      "source": [
        "len(test_df_clean)"
      ],
      "execution_count": null,
      "outputs": [
        {
          "output_type": "execute_result",
          "data": {
            "text/plain": [
              "214200"
            ]
          },
          "metadata": {
            "tags": []
          },
          "execution_count": 97
        }
      ]
    },
    {
      "cell_type": "code",
      "metadata": {
        "id": "itej3NOKW_v-"
      },
      "source": [
        "test_df_clean_for_submission=test_df_clean.copy()"
      ],
      "execution_count": null,
      "outputs": []
    },
    {
      "cell_type": "code",
      "metadata": {
        "id": "qeoG3VJwW_v-"
      },
      "source": [
        "test_df_clean_for_submission['ID']=np.arange(0,214200)"
      ],
      "execution_count": null,
      "outputs": []
    },
    {
      "cell_type": "code",
      "metadata": {
        "id": "TYQMlGRHW_v-",
        "outputId": "5078394b-ff0a-43a4-d416-92cf39ce6df3"
      },
      "source": [
        "len(test_df_clean_for_submission)"
      ],
      "execution_count": null,
      "outputs": [
        {
          "output_type": "execute_result",
          "data": {
            "text/plain": [
              "214200"
            ]
          },
          "metadata": {
            "tags": []
          },
          "execution_count": 101
        }
      ]
    },
    {
      "cell_type": "code",
      "metadata": {
        "id": "g_zVwZWTW_v_",
        "outputId": "b5d5aeb0-2bf4-4224-c9e1-415ef5c64958"
      },
      "source": [
        "len(y_pred_test)"
      ],
      "execution_count": null,
      "outputs": [
        {
          "output_type": "execute_result",
          "data": {
            "text/plain": [
              "214200"
            ]
          },
          "metadata": {
            "tags": []
          },
          "execution_count": 104
        }
      ]
    },
    {
      "cell_type": "code",
      "metadata": {
        "id": "2Z143ZAAW_v_"
      },
      "source": [
        "test_df_clean_for_submission['item_cnt_month']=y_pred_test"
      ],
      "execution_count": null,
      "outputs": []
    },
    {
      "cell_type": "code",
      "metadata": {
        "id": "hqrPIY4NW_v_",
        "outputId": "e4ec29d5-36a9-4253-a946-686906b871cd"
      },
      "source": [
        "test_df_clean_for_submission.head()"
      ],
      "execution_count": null,
      "outputs": [
        {
          "output_type": "execute_result",
          "data": {
            "text/html": [
              "<div>\n",
              "<style scoped>\n",
              "    .dataframe tbody tr th:only-of-type {\n",
              "        vertical-align: middle;\n",
              "    }\n",
              "\n",
              "    .dataframe tbody tr th {\n",
              "        vertical-align: top;\n",
              "    }\n",
              "\n",
              "    .dataframe thead th {\n",
              "        text-align: right;\n",
              "    }\n",
              "</style>\n",
              "<table border=\"1\" class=\"dataframe\">\n",
              "  <thead>\n",
              "    <tr style=\"text-align: right;\">\n",
              "      <th></th>\n",
              "      <th>item_id</th>\n",
              "      <th>shop_id</th>\n",
              "      <th>1_month_ago</th>\n",
              "      <th>2_month_ago</th>\n",
              "      <th>3_month_ago</th>\n",
              "      <th>6_month_ago</th>\n",
              "      <th>12_month_ago</th>\n",
              "      <th>month_id</th>\n",
              "      <th>ID</th>\n",
              "      <th>item_cnt_month</th>\n",
              "    </tr>\n",
              "  </thead>\n",
              "  <tbody>\n",
              "    <tr>\n",
              "      <th>0</th>\n",
              "      <td>5037</td>\n",
              "      <td>5</td>\n",
              "      <td>0.0</td>\n",
              "      <td>0.0</td>\n",
              "      <td>0.0</td>\n",
              "      <td>0.0</td>\n",
              "      <td>0.0</td>\n",
              "      <td>25</td>\n",
              "      <td>0</td>\n",
              "      <td>0.067603</td>\n",
              "    </tr>\n",
              "    <tr>\n",
              "      <th>1</th>\n",
              "      <td>5320</td>\n",
              "      <td>5</td>\n",
              "      <td>0.0</td>\n",
              "      <td>0.0</td>\n",
              "      <td>0.0</td>\n",
              "      <td>0.0</td>\n",
              "      <td>0.0</td>\n",
              "      <td>25</td>\n",
              "      <td>1</td>\n",
              "      <td>0.067603</td>\n",
              "    </tr>\n",
              "    <tr>\n",
              "      <th>2</th>\n",
              "      <td>5233</td>\n",
              "      <td>5</td>\n",
              "      <td>0.0</td>\n",
              "      <td>0.0</td>\n",
              "      <td>1.0</td>\n",
              "      <td>0.0</td>\n",
              "      <td>0.0</td>\n",
              "      <td>25</td>\n",
              "      <td>2</td>\n",
              "      <td>0.186256</td>\n",
              "    </tr>\n",
              "    <tr>\n",
              "      <th>3</th>\n",
              "      <td>5232</td>\n",
              "      <td>5</td>\n",
              "      <td>0.0</td>\n",
              "      <td>0.0</td>\n",
              "      <td>0.0</td>\n",
              "      <td>0.0</td>\n",
              "      <td>0.0</td>\n",
              "      <td>25</td>\n",
              "      <td>3</td>\n",
              "      <td>0.067603</td>\n",
              "    </tr>\n",
              "    <tr>\n",
              "      <th>4</th>\n",
              "      <td>5268</td>\n",
              "      <td>5</td>\n",
              "      <td>0.0</td>\n",
              "      <td>0.0</td>\n",
              "      <td>0.0</td>\n",
              "      <td>0.0</td>\n",
              "      <td>0.0</td>\n",
              "      <td>25</td>\n",
              "      <td>4</td>\n",
              "      <td>0.067603</td>\n",
              "    </tr>\n",
              "  </tbody>\n",
              "</table>\n",
              "</div>"
            ],
            "text/plain": [
              "   item_id  shop_id  1_month_ago  2_month_ago  3_month_ago  6_month_ago  \\\n",
              "0     5037        5          0.0          0.0          0.0          0.0   \n",
              "1     5320        5          0.0          0.0          0.0          0.0   \n",
              "2     5233        5          0.0          0.0          1.0          0.0   \n",
              "3     5232        5          0.0          0.0          0.0          0.0   \n",
              "4     5268        5          0.0          0.0          0.0          0.0   \n",
              "\n",
              "   12_month_ago  month_id  ID  item_cnt_month  \n",
              "0           0.0        25   0        0.067603  \n",
              "1           0.0        25   1        0.067603  \n",
              "2           0.0        25   2        0.186256  \n",
              "3           0.0        25   3        0.067603  \n",
              "4           0.0        25   4        0.067603  "
            ]
          },
          "metadata": {
            "tags": []
          },
          "execution_count": 106
        }
      ]
    },
    {
      "cell_type": "code",
      "metadata": {
        "id": "W63Dil4UW_v_"
      },
      "source": [
        "submission_df=test_df_clean_for_submission[['ID','item_cnt_month']]"
      ],
      "execution_count": null,
      "outputs": []
    },
    {
      "cell_type": "code",
      "metadata": {
        "id": "1xqfbOEtW_wA",
        "outputId": "0db0f3e4-9952-4710-826b-3823900558bb"
      },
      "source": [
        "submission_df.head()"
      ],
      "execution_count": null,
      "outputs": [
        {
          "output_type": "execute_result",
          "data": {
            "text/html": [
              "<div>\n",
              "<style scoped>\n",
              "    .dataframe tbody tr th:only-of-type {\n",
              "        vertical-align: middle;\n",
              "    }\n",
              "\n",
              "    .dataframe tbody tr th {\n",
              "        vertical-align: top;\n",
              "    }\n",
              "\n",
              "    .dataframe thead th {\n",
              "        text-align: right;\n",
              "    }\n",
              "</style>\n",
              "<table border=\"1\" class=\"dataframe\">\n",
              "  <thead>\n",
              "    <tr style=\"text-align: right;\">\n",
              "      <th></th>\n",
              "      <th>ID</th>\n",
              "      <th>item_cnt_month</th>\n",
              "    </tr>\n",
              "  </thead>\n",
              "  <tbody>\n",
              "    <tr>\n",
              "      <th>0</th>\n",
              "      <td>0</td>\n",
              "      <td>0.067603</td>\n",
              "    </tr>\n",
              "    <tr>\n",
              "      <th>1</th>\n",
              "      <td>1</td>\n",
              "      <td>0.067603</td>\n",
              "    </tr>\n",
              "    <tr>\n",
              "      <th>2</th>\n",
              "      <td>2</td>\n",
              "      <td>0.186256</td>\n",
              "    </tr>\n",
              "    <tr>\n",
              "      <th>3</th>\n",
              "      <td>3</td>\n",
              "      <td>0.067603</td>\n",
              "    </tr>\n",
              "    <tr>\n",
              "      <th>4</th>\n",
              "      <td>4</td>\n",
              "      <td>0.067603</td>\n",
              "    </tr>\n",
              "  </tbody>\n",
              "</table>\n",
              "</div>"
            ],
            "text/plain": [
              "   ID  item_cnt_month\n",
              "0   0        0.067603\n",
              "1   1        0.067603\n",
              "2   2        0.186256\n",
              "3   3        0.067603\n",
              "4   4        0.067603"
            ]
          },
          "metadata": {
            "tags": []
          },
          "execution_count": 108
        }
      ]
    },
    {
      "cell_type": "code",
      "metadata": {
        "id": "uWR9T7NSW_wB",
        "outputId": "11657e10-869a-4d9a-d6d6-344d8b94ba46"
      },
      "source": [
        "len(submission_df)"
      ],
      "execution_count": null,
      "outputs": [
        {
          "output_type": "execute_result",
          "data": {
            "text/plain": [
              "214200"
            ]
          },
          "metadata": {
            "tags": []
          },
          "execution_count": 109
        }
      ]
    },
    {
      "cell_type": "markdown",
      "metadata": {
        "id": "3r1vRY-zW_wB"
      },
      "source": [
        "submission_df_int=submission_df.copy()"
      ]
    },
    {
      "cell_type": "markdown",
      "metadata": {
        "id": "2X8sRhh5W_wB"
      },
      "source": [
        "submission_df_int['item_cnt_month']=np.round(submission_df_int['item_cnt_month'])"
      ]
    },
    {
      "cell_type": "code",
      "metadata": {
        "id": "go43rhaEW_wC"
      },
      "source": [
        ""
      ],
      "execution_count": null,
      "outputs": []
    },
    {
      "cell_type": "code",
      "metadata": {
        "id": "HAaHxJZMW_wC"
      },
      "source": [
        "submission_df.to_csv('sample_2021-0424.csv',index=False)"
      ],
      "execution_count": null,
      "outputs": []
    },
    {
      "cell_type": "code",
      "metadata": {
        "id": "5T1rpDJCW_wC",
        "outputId": "ea84cd05-1eb6-4afc-fed3-f60f126a5357"
      },
      "source": [
        "submission_df.describe()"
      ],
      "execution_count": null,
      "outputs": [
        {
          "output_type": "execute_result",
          "data": {
            "text/html": [
              "<div>\n",
              "<style scoped>\n",
              "    .dataframe tbody tr th:only-of-type {\n",
              "        vertical-align: middle;\n",
              "    }\n",
              "\n",
              "    .dataframe tbody tr th {\n",
              "        vertical-align: top;\n",
              "    }\n",
              "\n",
              "    .dataframe thead th {\n",
              "        text-align: right;\n",
              "    }\n",
              "</style>\n",
              "<table border=\"1\" class=\"dataframe\">\n",
              "  <thead>\n",
              "    <tr style=\"text-align: right;\">\n",
              "      <th></th>\n",
              "      <th>ID</th>\n",
              "      <th>item_cnt_month</th>\n",
              "    </tr>\n",
              "  </thead>\n",
              "  <tbody>\n",
              "    <tr>\n",
              "      <th>count</th>\n",
              "      <td>214200.000000</td>\n",
              "      <td>214200.000000</td>\n",
              "    </tr>\n",
              "    <tr>\n",
              "      <th>mean</th>\n",
              "      <td>107099.500000</td>\n",
              "      <td>0.122681</td>\n",
              "    </tr>\n",
              "    <tr>\n",
              "      <th>std</th>\n",
              "      <td>61834.358168</td>\n",
              "      <td>0.350130</td>\n",
              "    </tr>\n",
              "    <tr>\n",
              "      <th>min</th>\n",
              "      <td>0.000000</td>\n",
              "      <td>0.058481</td>\n",
              "    </tr>\n",
              "    <tr>\n",
              "      <th>25%</th>\n",
              "      <td>53549.750000</td>\n",
              "      <td>0.067944</td>\n",
              "    </tr>\n",
              "    <tr>\n",
              "      <th>50%</th>\n",
              "      <td>107099.500000</td>\n",
              "      <td>0.069786</td>\n",
              "    </tr>\n",
              "    <tr>\n",
              "      <th>75%</th>\n",
              "      <td>160649.250000</td>\n",
              "      <td>0.093864</td>\n",
              "    </tr>\n",
              "    <tr>\n",
              "      <th>max</th>\n",
              "      <td>214199.000000</td>\n",
              "      <td>20.000000</td>\n",
              "    </tr>\n",
              "  </tbody>\n",
              "</table>\n",
              "</div>"
            ],
            "text/plain": [
              "                  ID  item_cnt_month\n",
              "count  214200.000000   214200.000000\n",
              "mean   107099.500000        0.122681\n",
              "std     61834.358168        0.350130\n",
              "min         0.000000        0.058481\n",
              "25%     53549.750000        0.067944\n",
              "50%    107099.500000        0.069786\n",
              "75%    160649.250000        0.093864\n",
              "max    214199.000000       20.000000"
            ]
          },
          "metadata": {
            "tags": []
          },
          "execution_count": 117
        }
      ]
    },
    {
      "cell_type": "code",
      "metadata": {
        "id": "pQUxMiFzW_wD"
      },
      "source": [
        "#submission_df_int.to_csv('sample_2021-0424_int.csv',index=False)"
      ],
      "execution_count": null,
      "outputs": []
    },
    {
      "cell_type": "code",
      "metadata": {
        "id": "wmWSlDiUW_wD",
        "outputId": "817454d9-d551-4526-cd80-35a3c9c777bd"
      },
      "source": [
        "submission_df_int.head()"
      ],
      "execution_count": null,
      "outputs": [
        {
          "output_type": "execute_result",
          "data": {
            "text/html": [
              "<div>\n",
              "<style scoped>\n",
              "    .dataframe tbody tr th:only-of-type {\n",
              "        vertical-align: middle;\n",
              "    }\n",
              "\n",
              "    .dataframe tbody tr th {\n",
              "        vertical-align: top;\n",
              "    }\n",
              "\n",
              "    .dataframe thead th {\n",
              "        text-align: right;\n",
              "    }\n",
              "</style>\n",
              "<table border=\"1\" class=\"dataframe\">\n",
              "  <thead>\n",
              "    <tr style=\"text-align: right;\">\n",
              "      <th></th>\n",
              "      <th>ID</th>\n",
              "      <th>item_cnt_month</th>\n",
              "    </tr>\n",
              "  </thead>\n",
              "  <tbody>\n",
              "    <tr>\n",
              "      <th>0</th>\n",
              "      <td>0</td>\n",
              "      <td>0</td>\n",
              "    </tr>\n",
              "    <tr>\n",
              "      <th>1</th>\n",
              "      <td>1</td>\n",
              "      <td>0</td>\n",
              "    </tr>\n",
              "    <tr>\n",
              "      <th>2</th>\n",
              "      <td>2</td>\n",
              "      <td>0</td>\n",
              "    </tr>\n",
              "    <tr>\n",
              "      <th>3</th>\n",
              "      <td>3</td>\n",
              "      <td>0</td>\n",
              "    </tr>\n",
              "    <tr>\n",
              "      <th>4</th>\n",
              "      <td>4</td>\n",
              "      <td>0</td>\n",
              "    </tr>\n",
              "  </tbody>\n",
              "</table>\n",
              "</div>"
            ],
            "text/plain": [
              "   ID  item_cnt_month\n",
              "0   0               0\n",
              "1   1               0\n",
              "2   2               0\n",
              "3   3               0\n",
              "4   4               0"
            ]
          },
          "metadata": {
            "tags": []
          },
          "execution_count": 122
        }
      ]
    },
    {
      "cell_type": "code",
      "metadata": {
        "id": "U2bM6ooJW_wD",
        "outputId": "2f5572a2-df90-4968-e21c-3fbc3d9c0110"
      },
      "source": [
        "len(submission_df_int[submission_df_int['item_cnt_month']!=0])"
      ],
      "execution_count": null,
      "outputs": [
        {
          "output_type": "execute_result",
          "data": {
            "text/plain": [
              "1404"
            ]
          },
          "metadata": {
            "tags": []
          },
          "execution_count": 123
        }
      ]
    },
    {
      "cell_type": "code",
      "metadata": {
        "id": "sAgU9-mlW_wE"
      },
      "source": [
        ""
      ],
      "execution_count": null,
      "outputs": []
    },
    {
      "cell_type": "code",
      "metadata": {
        "id": "mvXCeR6fShVY"
      },
      "source": [
        "# one huge y_val outlier, should remove to get better score\n"
      ],
      "execution_count": null,
      "outputs": []
    },
    {
      "cell_type": "code",
      "metadata": {
        "colab": {
          "base_uri": "https://localhost:8080/",
          "height": 170
        },
        "id": "yvcbs55TeRlf",
        "outputId": "a58ac921-4727-4132-d34c-db4494fa93cf"
      },
      "source": [
        "len(y_pred)"
      ],
      "execution_count": null,
      "outputs": [
        {
          "output_type": "execute_result",
          "data": {
            "text/plain": [
              "1263540"
            ]
          },
          "metadata": {
            "tags": []
          },
          "execution_count": 36
        }
      ]
    },
    {
      "cell_type": "code",
      "metadata": {
        "id": "1iBXvy60d8gW"
      },
      "source": [
        "xg_output = pd.DataFrame(y_pred)"
      ],
      "execution_count": null,
      "outputs": []
    },
    {
      "cell_type": "code",
      "metadata": {
        "colab": {
          "base_uri": "https://localhost:8080/",
          "height": 188
        },
        "id": "aua9qYOEgB1l",
        "outputId": "f8989656-5cc0-402b-9882-443ff02a6370"
      },
      "source": [
        "print(len(xg_output))\n",
        "print(len(X_val))"
      ],
      "execution_count": null,
      "outputs": [
        {
          "output_type": "error",
          "ename": "NameError",
          "evalue": "ignored",
          "traceback": [
            "\u001b[0;31m---------------------------------------------------------------------------\u001b[0m",
            "\u001b[0;31mNameError\u001b[0m                                 Traceback (most recent call last)",
            "\u001b[0;32m<ipython-input-148-521e5ac73209>\u001b[0m in \u001b[0;36m<module>\u001b[0;34m\u001b[0m\n\u001b[0;32m----> 1\u001b[0;31m \u001b[0mprint\u001b[0m\u001b[0;34m(\u001b[0m\u001b[0mlen\u001b[0m\u001b[0;34m(\u001b[0m\u001b[0mxg_output\u001b[0m\u001b[0;34m)\u001b[0m\u001b[0;34m)\u001b[0m\u001b[0;34m\u001b[0m\u001b[0;34m\u001b[0m\u001b[0m\n\u001b[0m\u001b[1;32m      2\u001b[0m \u001b[0mprint\u001b[0m\u001b[0;34m(\u001b[0m\u001b[0mlen\u001b[0m\u001b[0;34m(\u001b[0m\u001b[0mX_val\u001b[0m\u001b[0;34m)\u001b[0m\u001b[0;34m)\u001b[0m\u001b[0;34m\u001b[0m\u001b[0;34m\u001b[0m\u001b[0m\n",
            "\u001b[0;31mNameError\u001b[0m: name 'xg_output' is not defined"
          ]
        }
      ]
    },
    {
      "cell_type": "code",
      "metadata": {
        "id": "sDmuLQACsLJh"
      },
      "source": [
        ""
      ],
      "execution_count": null,
      "outputs": []
    },
    {
      "cell_type": "markdown",
      "metadata": {
        "id": "4n0OgFshsL9u"
      },
      "source": [
        "Need to modify test data to match train data length!"
      ]
    },
    {
      "cell_type": "code",
      "metadata": {
        "colab": {
          "base_uri": "https://localhost:8080/",
          "height": 170
        },
        "id": "1_xcWs6ksDCs",
        "outputId": "d24d1999-b3f0-4505-f514-4b6df5e07bf9"
      },
      "source": [
        "len(test_df)"
      ],
      "execution_count": null,
      "outputs": [
        {
          "output_type": "error",
          "ename": "NameError",
          "evalue": "ignored",
          "traceback": [
            "\u001b[0;31m---------------------------------------------------------------------------\u001b[0m",
            "\u001b[0;31mNameError\u001b[0m                                 Traceback (most recent call last)",
            "\u001b[0;32m<ipython-input-149-83bfee56fd6a>\u001b[0m in \u001b[0;36m<module>\u001b[0;34m\u001b[0m\n\u001b[0;32m----> 1\u001b[0;31m \u001b[0mlen\u001b[0m\u001b[0;34m(\u001b[0m\u001b[0mtest_df\u001b[0m\u001b[0;34m)\u001b[0m\u001b[0;34m\u001b[0m\u001b[0;34m\u001b[0m\u001b[0m\n\u001b[0m",
            "\u001b[0;31mNameError\u001b[0m: name 'test_df' is not defined"
          ]
        }
      ]
    },
    {
      "cell_type": "code",
      "metadata": {
        "colab": {
          "base_uri": "https://localhost:8080/",
          "height": 170
        },
        "id": "iGVSIrZ0eP4c",
        "outputId": "ffa85c0a-eb81-481a-ff63-a162930e15ee"
      },
      "source": [
        "xg_output['ID'] = range(0, 210589)"
      ],
      "execution_count": null,
      "outputs": [
        {
          "output_type": "error",
          "ename": "NameError",
          "evalue": "ignored",
          "traceback": [
            "\u001b[0;31m---------------------------------------------------------------------------\u001b[0m",
            "\u001b[0;31mNameError\u001b[0m                                 Traceback (most recent call last)",
            "\u001b[0;32m<ipython-input-150-8e874dd6c11f>\u001b[0m in \u001b[0;36m<module>\u001b[0;34m\u001b[0m\n\u001b[0;32m----> 1\u001b[0;31m \u001b[0mxg_output\u001b[0m\u001b[0;34m[\u001b[0m\u001b[0;34m'ID'\u001b[0m\u001b[0;34m]\u001b[0m \u001b[0;34m=\u001b[0m \u001b[0mrange\u001b[0m\u001b[0;34m(\u001b[0m\u001b[0;36m0\u001b[0m\u001b[0;34m,\u001b[0m \u001b[0;36m210589\u001b[0m\u001b[0;34m)\u001b[0m\u001b[0;34m\u001b[0m\u001b[0;34m\u001b[0m\u001b[0m\n\u001b[0m",
            "\u001b[0;31mNameError\u001b[0m: name 'xg_output' is not defined"
          ]
        }
      ]
    },
    {
      "cell_type": "code",
      "metadata": {
        "id": "K5V69swshR0q"
      },
      "source": [
        "X_val['item_id'].nunique()"
      ],
      "execution_count": null,
      "outputs": []
    },
    {
      "cell_type": "code",
      "metadata": {
        "colab": {
          "base_uri": "https://localhost:8080/",
          "height": 170
        },
        "id": "fYOjbnzUfkBv",
        "outputId": "900cd721-13c8-4594-91a6-b43069aff220"
      },
      "source": [
        "xg_output.rename({0:'item_cnt_month'}, inplace=True, axis=1)"
      ],
      "execution_count": null,
      "outputs": [
        {
          "output_type": "error",
          "ename": "NameError",
          "evalue": "ignored",
          "traceback": [
            "\u001b[0;31m---------------------------------------------------------------------------\u001b[0m",
            "\u001b[0;31mNameError\u001b[0m                                 Traceback (most recent call last)",
            "\u001b[0;32m<ipython-input-151-f4ff298a3b77>\u001b[0m in \u001b[0;36m<module>\u001b[0;34m\u001b[0m\n\u001b[0;32m----> 1\u001b[0;31m \u001b[0mxg_output\u001b[0m\u001b[0;34m.\u001b[0m\u001b[0mrename\u001b[0m\u001b[0;34m(\u001b[0m\u001b[0;34m{\u001b[0m\u001b[0;36m0\u001b[0m\u001b[0;34m:\u001b[0m\u001b[0;34m'item_cnt_month'\u001b[0m\u001b[0;34m}\u001b[0m\u001b[0;34m,\u001b[0m \u001b[0minplace\u001b[0m\u001b[0;34m=\u001b[0m\u001b[0;32mTrue\u001b[0m\u001b[0;34m,\u001b[0m \u001b[0maxis\u001b[0m\u001b[0;34m=\u001b[0m\u001b[0;36m1\u001b[0m\u001b[0;34m)\u001b[0m\u001b[0;34m\u001b[0m\u001b[0;34m\u001b[0m\u001b[0m\n\u001b[0m",
            "\u001b[0;31mNameError\u001b[0m: name 'xg_output' is not defined"
          ]
        }
      ]
    },
    {
      "cell_type": "code",
      "metadata": {
        "id": "RPtqTSzGhiSz"
      },
      "source": [
        "xg_output = xg_output.set_index('ID')"
      ],
      "execution_count": null,
      "outputs": []
    },
    {
      "cell_type": "code",
      "metadata": {
        "id": "8Reaq1-eh9Id"
      },
      "source": [
        "xg_output.to_csv('drive/MyDrive/Camp Jupyter/predict_future_sales_data/submission_1.csv')"
      ],
      "execution_count": null,
      "outputs": []
    },
    {
      "cell_type": "markdown",
      "metadata": {
        "id": "n38sKbtBMHXj"
      },
      "source": [
        "Submission file must have 214200 rows!"
      ]
    },
    {
      "cell_type": "markdown",
      "metadata": {
        "id": "LKIIfZJe4xqD"
      },
      "source": [
        "GridSearchCV and RandomSearchCV\n",
        "\n"
      ]
    },
    {
      "cell_type": "code",
      "metadata": {
        "id": "8PkAci4P7B8V"
      },
      "source": [
        "def algo_pipeline(X_train, X_val, y_train, y_val, model, param_grid, cv=10, scoring_fit='neg_mean_squared_error', do_probabilities=False):\n",
        "  rs = RandomizedSearchCV(estimator=model, param_distributions=param_grid, cv=cv, scoring=scoring_fit, verbose=2)\n",
        "  fitted_model = rs.fit(X_train,y_train)\n",
        "  if do_probabilities:\n",
        "    pred = fitted_model.predict_proba(X_test)\n",
        "  else:\n",
        "    pred = fitted_model.predict(X_test)\n",
        "\n",
        "  return fitted_model, pred"
      ],
      "execution_count": null,
      "outputs": []
    },
    {
      "cell_type": "code",
      "metadata": {
        "id": "3UHXZCrp78Xv"
      },
      "source": [
        "model = XGBRegressor()\n",
        "param_grid = {\n",
        "    'n_estimators': [400, 700, 1000],\n",
        "    'colsample_bytree': [0.7, 0.8], # Denotes the fraction of columns to be randomly samples for each tree.Typical values: 0.5-1\n",
        "    'max_depth': [15,20,25], # Used to control over-fitting as higher depth will allow model to learn relations very specific to a particular sample.Should be tuned using CV. Typical values: 3-10\n",
        "    'reg_alpha': [1.1, 1.2, 1.3],\n",
        "    'reg_lambda': [1.1, 1.2, 1.3],\n",
        "    'subsample': [0.7, 0.8, 0.9] # Denotes the fraction of observations to be randomly samples for each tree. Lower values make the algorithm more conservative and prevents overfitting but too small values might lead to under-fitting. Typical values: 0.5-1\n",
        "}\n",
        "\n",
        "model, pred = algo_pipeline(X_train, X_val, y_train, y_val, model, param_grid, cv=5)\n",
        "\n",
        "# Root Mean Squared Error\n",
        "print(np.sqrt(-model.best_score_))\n",
        "print(model.best_params_)"
      ],
      "execution_count": null,
      "outputs": []
    },
    {
      "cell_type": "markdown",
      "metadata": {
        "id": "icppcJg8DfzH"
      },
      "source": [
        "# Feature selection"
      ]
    },
    {
      "cell_type": "code",
      "metadata": {
        "id": "n85LixKGWB15"
      },
      "source": [
        ""
      ],
      "execution_count": null,
      "outputs": []
    },
    {
      "cell_type": "markdown",
      "metadata": {
        "id": "-vitZ_85DxmV"
      },
      "source": [
        "Make features for MA: 7, 30, 60, 90 days, season, month"
      ]
    },
    {
      "cell_type": "markdown",
      "metadata": {
        "id": "GQ1Wez84D6Uj"
      },
      "source": [
        "Convert into categorical - Store, Item"
      ]
    },
    {
      "cell_type": "code",
      "metadata": {
        "colab": {
          "base_uri": "https://localhost:8080/",
          "height": 224
        },
        "id": "N7Lubs0qDlR4",
        "outputId": "1d5aa8c9-88cf-45fe-dfff-64f62c341e3a"
      },
      "source": [
        "# item names with their revenue and sold count\n",
        "item_names = salestrain_df_combined.groupby('item_name').agg({'revenue':'sum', 'item_cnt_day':'count'}).reset_index().rename(columns={'item_name': 'Item Name', 'revenue': 'Revenue', 'item_cnt_day': 'Number of Sales'})\n",
        "item_names.head()"
      ],
      "execution_count": null,
      "outputs": [
        {
          "output_type": "error",
          "ename": "NameError",
          "evalue": "ignored",
          "traceback": [
            "\u001b[0;31m---------------------------------------------------------------------------\u001b[0m",
            "\u001b[0;31mNameError\u001b[0m                                 Traceback (most recent call last)",
            "\u001b[0;32m<ipython-input-152-dfb5c5cf6d8c>\u001b[0m in \u001b[0;36m<module>\u001b[0;34m\u001b[0m\n\u001b[1;32m      1\u001b[0m \u001b[0;31m# item names with their revenue and sold count\u001b[0m\u001b[0;34m\u001b[0m\u001b[0;34m\u001b[0m\u001b[0;34m\u001b[0m\u001b[0m\n\u001b[0;32m----> 2\u001b[0;31m \u001b[0mitem_names\u001b[0m \u001b[0;34m=\u001b[0m \u001b[0msalestrain_df_combined\u001b[0m\u001b[0;34m.\u001b[0m\u001b[0mgroupby\u001b[0m\u001b[0;34m(\u001b[0m\u001b[0;34m'item_name'\u001b[0m\u001b[0;34m)\u001b[0m\u001b[0;34m.\u001b[0m\u001b[0magg\u001b[0m\u001b[0;34m(\u001b[0m\u001b[0;34m{\u001b[0m\u001b[0;34m'revenue'\u001b[0m\u001b[0;34m:\u001b[0m\u001b[0;34m'sum'\u001b[0m\u001b[0;34m,\u001b[0m \u001b[0;34m'item_cnt_day'\u001b[0m\u001b[0;34m:\u001b[0m\u001b[0;34m'count'\u001b[0m\u001b[0;34m}\u001b[0m\u001b[0;34m)\u001b[0m\u001b[0;34m.\u001b[0m\u001b[0mreset_index\u001b[0m\u001b[0;34m(\u001b[0m\u001b[0;34m)\u001b[0m\u001b[0;34m.\u001b[0m\u001b[0mrename\u001b[0m\u001b[0;34m(\u001b[0m\u001b[0mcolumns\u001b[0m\u001b[0;34m=\u001b[0m\u001b[0;34m{\u001b[0m\u001b[0;34m'item_name'\u001b[0m\u001b[0;34m:\u001b[0m \u001b[0;34m'Item Name'\u001b[0m\u001b[0;34m,\u001b[0m \u001b[0;34m'revenue'\u001b[0m\u001b[0;34m:\u001b[0m \u001b[0;34m'Revenue'\u001b[0m\u001b[0;34m,\u001b[0m \u001b[0;34m'item_cnt_day'\u001b[0m\u001b[0;34m:\u001b[0m \u001b[0;34m'Number of Sales'\u001b[0m\u001b[0;34m}\u001b[0m\u001b[0;34m)\u001b[0m\u001b[0;34m\u001b[0m\u001b[0;34m\u001b[0m\u001b[0m\n\u001b[0m\u001b[1;32m      3\u001b[0m \u001b[0mitem_names\u001b[0m\u001b[0;34m.\u001b[0m\u001b[0mhead\u001b[0m\u001b[0;34m(\u001b[0m\u001b[0;34m)\u001b[0m\u001b[0;34m\u001b[0m\u001b[0;34m\u001b[0m\u001b[0m\n",
            "\u001b[0;31mNameError\u001b[0m: name 'salestrain_df_combined' is not defined"
          ]
        }
      ]
    },
    {
      "cell_type": "code",
      "metadata": {
        "id": "y_YiIJRtEJcc"
      },
      "source": [
        "# top 10 items based on their revenue\n",
        "top10_revenue = item_names.nlargest(10, 'Revenue')\n",
        "\n",
        "fig, ax = plt.subplots(figsize=(20,10))\n",
        "sns.barplot(data=top10_revenue, hue='Number of Sales', x='Revenue', y='Item Name')\n",
        "plt.title(\"Top 10 Items based on Revenue including their Number of Sales\")\n",
        "plt.show()"
      ],
      "execution_count": null,
      "outputs": []
    },
    {
      "cell_type": "code",
      "metadata": {
        "id": "JvbCUMqTEaFb"
      },
      "source": [
        "# top 10 items based on their revenue\n",
        "top10_sales = item_names.nlargest(10, 'Number of Sales')\n",
        "\n",
        "fig, ax = plt.subplots(figsize=(20,10))\n",
        "sns.barplot(data=top10_sales, x='Number of Sales', y='Item Name', hue='Revenue')\n",
        "plt.title(\"Top 10 Items based on Sales including their Revenue\")\n",
        "plt.show()"
      ],
      "execution_count": null,
      "outputs": []
    },
    {
      "cell_type": "code",
      "metadata": {
        "id": "DFKnw4c8E0Pw"
      },
      "source": [
        "# category names and how many items in it.\n",
        "category_names = salestrain_df_combined.groupby(['item_category_name']).agg({'item_name':'count'}).reset_index().rename(columns={'item_category_name': 'Category Name','item_name': 'Number of Items'})\n",
        "category_names.head()"
      ],
      "execution_count": null,
      "outputs": []
    },
    {
      "cell_type": "code",
      "metadata": {
        "colab": {
          "base_uri": "https://localhost:8080/",
          "height": 242
        },
        "id": "vY8bs31bFH7Z",
        "outputId": "cbf30c91-cdc2-48cd-ccdc-425f88065c67"
      },
      "source": [
        "#Find total sales by item\n",
        "total_sales_by_item = salestrain_df_combined.groupby('item_id')['item_cnt_day'].sum().reset_index()\n",
        "\n",
        "#Sort descending\n",
        "total_sales_by_item.sort_values(by='item_cnt_day',ascending=False,inplace=True)\n",
        "total_sales_by_item.head()"
      ],
      "execution_count": null,
      "outputs": [
        {
          "output_type": "error",
          "ename": "NameError",
          "evalue": "ignored",
          "traceback": [
            "\u001b[0;31m---------------------------------------------------------------------------\u001b[0m",
            "\u001b[0;31mNameError\u001b[0m                                 Traceback (most recent call last)",
            "\u001b[0;32m<ipython-input-153-4fef239880cc>\u001b[0m in \u001b[0;36m<module>\u001b[0;34m\u001b[0m\n\u001b[1;32m      1\u001b[0m \u001b[0;31m#Find total sales by item\u001b[0m\u001b[0;34m\u001b[0m\u001b[0;34m\u001b[0m\u001b[0;34m\u001b[0m\u001b[0m\n\u001b[0;32m----> 2\u001b[0;31m \u001b[0mtotal_sales_by_item\u001b[0m \u001b[0;34m=\u001b[0m \u001b[0msalestrain_df_combined\u001b[0m\u001b[0;34m.\u001b[0m\u001b[0mgroupby\u001b[0m\u001b[0;34m(\u001b[0m\u001b[0;34m'item_id'\u001b[0m\u001b[0;34m)\u001b[0m\u001b[0;34m[\u001b[0m\u001b[0;34m'item_cnt_day'\u001b[0m\u001b[0;34m]\u001b[0m\u001b[0;34m.\u001b[0m\u001b[0msum\u001b[0m\u001b[0;34m(\u001b[0m\u001b[0;34m)\u001b[0m\u001b[0;34m.\u001b[0m\u001b[0mreset_index\u001b[0m\u001b[0;34m(\u001b[0m\u001b[0;34m)\u001b[0m\u001b[0;34m\u001b[0m\u001b[0;34m\u001b[0m\u001b[0m\n\u001b[0m\u001b[1;32m      3\u001b[0m \u001b[0;34m\u001b[0m\u001b[0m\n\u001b[1;32m      4\u001b[0m \u001b[0;31m#Sort descending\u001b[0m\u001b[0;34m\u001b[0m\u001b[0;34m\u001b[0m\u001b[0;34m\u001b[0m\u001b[0m\n\u001b[1;32m      5\u001b[0m \u001b[0mtotal_sales_by_item\u001b[0m\u001b[0;34m.\u001b[0m\u001b[0msort_values\u001b[0m\u001b[0;34m(\u001b[0m\u001b[0mby\u001b[0m\u001b[0;34m=\u001b[0m\u001b[0;34m'item_cnt_day'\u001b[0m\u001b[0;34m,\u001b[0m\u001b[0mascending\u001b[0m\u001b[0;34m=\u001b[0m\u001b[0;32mFalse\u001b[0m\u001b[0;34m,\u001b[0m\u001b[0minplace\u001b[0m\u001b[0;34m=\u001b[0m\u001b[0;32mTrue\u001b[0m\u001b[0;34m)\u001b[0m\u001b[0;34m\u001b[0m\u001b[0;34m\u001b[0m\u001b[0m\n",
            "\u001b[0;31mNameError\u001b[0m: name 'salestrain_df_combined' is not defined"
          ]
        }
      ]
    },
    {
      "cell_type": "code",
      "metadata": {
        "id": "Z-dOSVpdFWUt"
      },
      "source": [
        "#Merge together so we can get item_name with total sales values\n",
        "total_sales_by_item_with_name = total_sales_by_item.merge(items_df[['item_name','item_id']],on='item_id')\n",
        "total_sales_by_item_with_name.head()"
      ],
      "execution_count": null,
      "outputs": []
    },
    {
      "cell_type": "code",
      "metadata": {
        "id": "RKxEl2U-GWQt"
      },
      "source": [
        "total_sales_by_item['item_cnt_day'].iloc[:10]"
      ],
      "execution_count": null,
      "outputs": []
    },
    {
      "cell_type": "code",
      "metadata": {
        "id": "WIcGTIpVFuba"
      },
      "source": [
        "# updated scatterplot showing top 20 best selling items day to day\n",
        "fig, ax = plt.subplots(figsize=(20,10))\n",
        "plt.scatter(y = total_sales_by_item['item_cnt_day'].iloc[:20], x = total_sales_by_item['item_id'].iloc[:20])\n",
        "plt.xlabel('Item ID')\n",
        "plt.ylabel('Item count per day')\n",
        "plt.show()"
      ],
      "execution_count": null,
      "outputs": []
    },
    {
      "cell_type": "markdown",
      "metadata": {
        "id": "MchAi0wABchP"
      },
      "source": [
        "## Recommendation Engine"
      ]
    },
    {
      "cell_type": "code",
      "metadata": {
        "id": "BiT7a3a6Fwnz"
      },
      "source": [
        "# Get sales by item, by date - again, not very exciting,so I also used fillna()\n",
        "sales_totals_by_day = salestrain_df_combined.pivot_table(index='item_id',columns=['year', 'month', 'day'],values='item_cnt_day').fillna(0)"
      ],
      "execution_count": null,
      "outputs": []
    },
    {
      "cell_type": "code",
      "metadata": {
        "id": "fDvgXPlkF80W"
      },
      "source": [
        "# Clean up the multi-level index\n",
        "sales_totals_by_day.columns = sales_totals_by_day.columns.droplevel().droplevel()"
      ],
      "execution_count": null,
      "outputs": []
    },
    {
      "cell_type": "code",
      "metadata": {
        "id": "aAQ_Imf3GEaq"
      },
      "source": [
        "sales_totals_by_day.head()"
      ],
      "execution_count": null,
      "outputs": []
    },
    {
      "cell_type": "code",
      "metadata": {
        "id": "Z37oDt15GHZ-"
      },
      "source": [
        "# Shape of the resulting DF - items x days\n",
        "sales_totals_by_day.shape"
      ],
      "execution_count": null,
      "outputs": []
    },
    {
      "cell_type": "code",
      "metadata": {
        "id": "EfZEnry-GMEt"
      },
      "source": [
        "#Transpose this\n",
        "sales_totals_by_day_transposed = sales_totals_by_day.transpose()"
      ],
      "execution_count": null,
      "outputs": []
    },
    {
      "cell_type": "code",
      "metadata": {
        "id": "_YhaC0WUGRlS"
      },
      "source": [
        "sales_totals_by_day_transposed.head()"
      ],
      "execution_count": null,
      "outputs": []
    },
    {
      "cell_type": "code",
      "metadata": {
        "id": "SYr1HT2nGXOO"
      },
      "source": [
        "# Recommendation engine - find the closest matches to an item in terms of daily sales\n",
        "# Similar to finding similar movies based on movie rating\n",
        "\n",
        "#Select a popular item\n",
        "selected_item = 2808"
      ],
      "execution_count": null,
      "outputs": []
    },
    {
      "cell_type": "code",
      "metadata": {
        "id": "kp9PZsfWGd6c"
      },
      "source": [
        "#Pull out the column of that day's sales\n",
        "selected_item_sales = sales_totals_by_day_transposed[selected_item]"
      ],
      "execution_count": null,
      "outputs": []
    },
    {
      "cell_type": "code",
      "metadata": {
        "id": "PG2LdGkoGhsE"
      },
      "source": [
        "#Run correlation with every other column to find similar sales patterns\n",
        "similarItems = sales_totals_by_day_transposed.corrwith(selected_item_sales)"
      ],
      "execution_count": null,
      "outputs": []
    },
    {
      "cell_type": "code",
      "metadata": {
        "id": "yK2VKoiAGk9f"
      },
      "source": [
        "#Convert from a series to a DF\n",
        "similarItems_df = pd.DataFrame(similarItems)"
      ],
      "execution_count": null,
      "outputs": []
    },
    {
      "cell_type": "code",
      "metadata": {
        "colab": {
          "base_uri": "https://localhost:8080/",
          "height": 170
        },
        "id": "DRHV_bUZGpID",
        "outputId": "3cc4df48-507f-4851-e3e8-bdad6344162a"
      },
      "source": [
        "similarItems_df.head()"
      ],
      "execution_count": null,
      "outputs": [
        {
          "output_type": "error",
          "ename": "NameError",
          "evalue": "ignored",
          "traceback": [
            "\u001b[0;31m---------------------------------------------------------------------------\u001b[0m",
            "\u001b[0;31mNameError\u001b[0m                                 Traceback (most recent call last)",
            "\u001b[0;32m<ipython-input-154-24e04f910e75>\u001b[0m in \u001b[0;36m<module>\u001b[0;34m\u001b[0m\n\u001b[0;32m----> 1\u001b[0;31m \u001b[0msimilarItems_df\u001b[0m\u001b[0;34m.\u001b[0m\u001b[0mhead\u001b[0m\u001b[0;34m(\u001b[0m\u001b[0;34m)\u001b[0m\u001b[0;34m\u001b[0m\u001b[0;34m\u001b[0m\u001b[0m\n\u001b[0m",
            "\u001b[0;31mNameError\u001b[0m: name 'similarItems_df' is not defined"
          ]
        }
      ]
    },
    {
      "cell_type": "code",
      "metadata": {
        "id": "gnx0ETi9Gsg5"
      },
      "source": [
        "#Rename columns\n",
        "similarItems_df.columns=['similarity']"
      ],
      "execution_count": null,
      "outputs": []
    },
    {
      "cell_type": "code",
      "metadata": {
        "id": "tgPgvfqFGvcE"
      },
      "source": [
        "similarItems_df.head()"
      ],
      "execution_count": null,
      "outputs": []
    },
    {
      "cell_type": "code",
      "metadata": {
        "id": "hKcstmtOGyel"
      },
      "source": [
        "#Merge back item names\n",
        "similarItems_df=similarItems_df.merge(items_df[['item_name','item_id']],left_index=True,right_on='item_id')"
      ],
      "execution_count": null,
      "outputs": []
    },
    {
      "cell_type": "code",
      "metadata": {
        "id": "OsvnieMlG2bR"
      },
      "source": [
        "#Sort\n",
        "similarItems_df_sorted=similarItems_df.sort_values(by='similarity',ascending=False)"
      ],
      "execution_count": null,
      "outputs": []
    },
    {
      "cell_type": "code",
      "metadata": {
        "id": "8HM_oJ7AG5u-"
      },
      "source": [
        "#The top results for item 2808 seem to make some sense (games), but they also include programming books and other things-inconclusive?\n",
        "similarItems_df_sorted.head(20)"
      ],
      "execution_count": null,
      "outputs": []
    },
    {
      "cell_type": "code",
      "metadata": {
        "id": "V6lqZ6_wG9gP"
      },
      "source": [
        "#Function to return the values:\n",
        "\n",
        "def find_similar_based_on_daily_sales(selected_item,sales_totals_by_day_transposed=sales_totals_by_day_transposed):\n",
        "    selected_item_sales=sales_totals_by_day_transposed[selected_item]\n",
        "    similarItems = sales_totals_by_day_transposed.corrwith(selected_item_sales)\n",
        "    similarItems_df=pd.DataFrame(similarItems)\n",
        "    similarItems_df.columns=['similarity']\n",
        "    similarItems_df=similarItems_df.merge(items_df[['item_name','item_id']],left_index=True,right_on='item_id')\n",
        "    similarItems_df_sorted=similarItems_df.sort_values(by='similarity',ascending=False)\n",
        "    print(similarItems_df_sorted.head(20))"
      ],
      "execution_count": null,
      "outputs": []
    },
    {
      "cell_type": "code",
      "metadata": {
        "id": "u_lBhDouHBSe"
      },
      "source": [
        "find_similar_based_on_daily_sales(2808)"
      ],
      "execution_count": null,
      "outputs": []
    },
    {
      "cell_type": "code",
      "metadata": {
        "id": "UFqJ3ofRHEze"
      },
      "source": [
        "#What is similar to those corporate T-shirts?\n",
        "find_similar_based_on_daily_sales(20949)"
      ],
      "execution_count": null,
      "outputs": []
    },
    {
      "cell_type": "code",
      "metadata": {
        "id": "PnVK8ybLHMNA"
      },
      "source": [
        "#What is similar to minecraft?\n",
        "find_similar_based_on_daily_sales(4870)"
      ],
      "execution_count": null,
      "outputs": []
    },
    {
      "cell_type": "code",
      "metadata": {
        "id": "TVhvqxxgHUKd"
      },
      "source": [
        "#This item averaged 5 sales per day, max of 35, so it wasn't distorted by one overwhelmingly high corporate order\n",
        "sales_totals_by_day_transposed[20949].describe()"
      ],
      "execution_count": null,
      "outputs": []
    },
    {
      "cell_type": "markdown",
      "metadata": {
        "id": "jKVDe7cmG5wH"
      },
      "source": [
        "## Rolling window K-fold cross-validation"
      ]
    },
    {
      "cell_type": "code",
      "metadata": {
        "id": "K1PZjrYqLL3H"
      },
      "source": [
        "salestrain_df_combined.columns"
      ],
      "execution_count": null,
      "outputs": []
    },
    {
      "cell_type": "code",
      "metadata": {
        "id": "mI3YIdocOH1e"
      },
      "source": [
        "# setting X as date col and y as revenue col to be split\n",
        "X = salestrain_df_combined['date']\n",
        "y = salestrain_df_combined['revenue']"
      ],
      "execution_count": null,
      "outputs": []
    },
    {
      "cell_type": "code",
      "metadata": {
        "id": "_CiMrixpKjhM"
      },
      "source": [
        "# creating the time series split, one split for every month in the year\n",
        "tscv = TimeSeriesSplit(n_splits = 12)"
      ],
      "execution_count": null,
      "outputs": []
    },
    {
      "cell_type": "code",
      "metadata": {
        "id": "WXSW46VaL7g8"
      },
      "source": [
        "# looping through every time series split \n",
        "for train_index, test_index in tscv.split(X):\n",
        "  print(f'TRAIN SHAPE: {train_index.shape} TEST SHAPE: {test_index.shape}')\n",
        "    \n",
        "  #X_train, X_test = X[train_index], X[test_index]\n",
        "  #y_train, y_test = y[train_index], y[train_index]"
      ],
      "execution_count": null,
      "outputs": []
    },
    {
      "cell_type": "markdown",
      "metadata": {
        "id": "O6TAj7fUryKg"
      },
      "source": [
        "## Removing features with low variance"
      ]
    },
    {
      "cell_type": "code",
      "metadata": {
        "id": "U4ivXmd-2x5T"
      },
      "source": [
        "salestrain_df_combined.columns"
      ],
      "execution_count": null,
      "outputs": []
    },
    {
      "cell_type": "code",
      "metadata": {
        "id": "AsjTfbrl2UIe"
      },
      "source": [
        "train_set = salestrain_df_combined.drop(columns = ['revenue'])"
      ],
      "execution_count": null,
      "outputs": []
    },
    {
      "cell_type": "code",
      "metadata": {
        "id": "D7tGpOca4V3a"
      },
      "source": [
        "# mapping date col to ordinal for use with VarianceThreshold\n",
        "train_set['date'] = train_set['date'].map(dt.datetime.toordinal)"
      ],
      "execution_count": null,
      "outputs": []
    },
    {
      "cell_type": "code",
      "metadata": {
        "id": "cmXty02xZTXk"
      },
      "source": [
        "for col in ['item_name', 'item_category_name', 'shop_name']:\n",
        "   train_set[col] = LabelEncoder().fit_transform(train_set[col])"
      ],
      "execution_count": null,
      "outputs": []
    },
    {
      "cell_type": "code",
      "metadata": {
        "id": "tCA_TBnX28L-"
      },
      "source": [
        "test_set = salestrain_df_combined['revenue']"
      ],
      "execution_count": null,
      "outputs": []
    },
    {
      "cell_type": "code",
      "metadata": {
        "colab": {
          "base_uri": "https://localhost:8080/",
          "height": 170
        },
        "id": "dnKtJvYF3Ick",
        "outputId": "13e9146e-9b30-4b14-f38d-4ec4a8010674"
      },
      "source": [
        "train_set.dtypes"
      ],
      "execution_count": null,
      "outputs": [
        {
          "output_type": "error",
          "ename": "NameError",
          "evalue": "ignored",
          "traceback": [
            "\u001b[0;31m---------------------------------------------------------------------------\u001b[0m",
            "\u001b[0;31mNameError\u001b[0m                                 Traceback (most recent call last)",
            "\u001b[0;32m<ipython-input-155-268c2d979f6e>\u001b[0m in \u001b[0;36m<module>\u001b[0;34m\u001b[0m\n\u001b[0;32m----> 1\u001b[0;31m \u001b[0mtrain_set\u001b[0m\u001b[0;34m.\u001b[0m\u001b[0mdtypes\u001b[0m\u001b[0;34m\u001b[0m\u001b[0;34m\u001b[0m\u001b[0m\n\u001b[0m",
            "\u001b[0;31mNameError\u001b[0m: name 'train_set' is not defined"
          ]
        }
      ]
    },
    {
      "cell_type": "code",
      "metadata": {
        "id": "rcQ81fFb3IpB"
      },
      "source": [
        "test_set.shape"
      ],
      "execution_count": null,
      "outputs": []
    },
    {
      "cell_type": "code",
      "metadata": {
        "id": "4AzdTXaCsUVS"
      },
      "source": [
        "# creating the Variance Threshold and setting variance to 10 -> can mess around with this number\n",
        "threshold = VarianceThreshold(threshold = 10)"
      ],
      "execution_count": null,
      "outputs": []
    },
    {
      "cell_type": "code",
      "metadata": {
        "id": "PiSFnJqHsfKE"
      },
      "source": [
        "# fit transforming variance threshold to train set\n",
        "high_variance = threshold.fit(train_set)"
      ],
      "execution_count": null,
      "outputs": []
    },
    {
      "cell_type": "code",
      "metadata": {
        "id": "qrjzkTlTlJu8"
      },
      "source": [
        "# seeing which cols do not have high variance\n",
        "train_set.columns[high_variance.get_support()]"
      ],
      "execution_count": null,
      "outputs": []
    },
    {
      "cell_type": "code",
      "metadata": {
        "id": "IXytUrgIlIbO"
      },
      "source": [
        "# seeing which cols have low variance\n",
        "constant_cols = [column for column in train_set.columns if column not in train_set.columns[high_variance.get_support()]]\n",
        "print(f'The columns with low(ish) variance is: {constant_cols}')"
      ],
      "execution_count": null,
      "outputs": []
    },
    {
      "cell_type": "markdown",
      "metadata": {
        "id": "MgETveekchhL"
      },
      "source": [
        "All of our features have high variance, therefore they don't have to be removed."
      ]
    },
    {
      "cell_type": "markdown",
      "metadata": {
        "id": "_by84Y8SBuKb"
      },
      "source": [
        "## K-Means clustering"
      ]
    },
    {
      "cell_type": "code",
      "metadata": {
        "id": "ARJFxi8_CWGO"
      },
      "source": [
        "#salestrain_df.head()\n",
        "salestrain_df = salestrain_df.drop('date', axis=1)"
      ],
      "execution_count": null,
      "outputs": []
    },
    {
      "cell_type": "code",
      "metadata": {
        "colab": {
          "base_uri": "https://localhost:8080/",
          "height": 170
        },
        "id": "awK01tfoCYJg",
        "outputId": "73fbcf72-fcc0-49cf-abcd-359f4c215fdf"
      },
      "source": [
        "salestrain_df.head(10)"
      ],
      "execution_count": null,
      "outputs": [
        {
          "output_type": "error",
          "ename": "NameError",
          "evalue": "ignored",
          "traceback": [
            "\u001b[0;31m---------------------------------------------------------------------------\u001b[0m",
            "\u001b[0;31mNameError\u001b[0m                                 Traceback (most recent call last)",
            "\u001b[0;32m<ipython-input-156-3396ee3f6dc0>\u001b[0m in \u001b[0;36m<module>\u001b[0;34m\u001b[0m\n\u001b[0;32m----> 1\u001b[0;31m \u001b[0msalestrain_df\u001b[0m\u001b[0;34m.\u001b[0m\u001b[0mhead\u001b[0m\u001b[0;34m(\u001b[0m\u001b[0;36m10\u001b[0m\u001b[0;34m)\u001b[0m\u001b[0;34m\u001b[0m\u001b[0;34m\u001b[0m\u001b[0m\n\u001b[0m",
            "\u001b[0;31mNameError\u001b[0m: name 'salestrain_df' is not defined"
          ]
        }
      ]
    },
    {
      "cell_type": "code",
      "metadata": {
        "id": "3u3UQVVZCbAP"
      },
      "source": [
        "# Create scaler: scaler\n",
        "scaler = StandardScaler()\n",
        "\n",
        "# Create KMeans instance: kmeans\n",
        "kmeans = KMeans(n_clusters=4)\n",
        "\n",
        "# Create pipeline: pipeline\n",
        "pipeline = make_pipeline(scaler, kmeans)\n",
        "\n",
        "# Fit the pipeline to samples\n",
        "pipeline.fit(np.array(salestrain_df))\n",
        "\n",
        "# Calculate the cluster labels: labels\n",
        "labels = pipeline.predict(salestrain_df)\n",
        "\n",
        "# Create a DataFrame with labels and prices as columns: salestrain_df\n",
        "#salestrain_df = pd.DataFrame({'item_price': item_price, 'item_cnt_day': item_cnt_day})\n",
        "\n",
        "# Create crosstab: ct\n",
        "ct = pd.crosstab(salestrain_df['item_price'], salestrain_df['item_cnt_day'])\n",
        "\n",
        "# Display ct\n",
        "print(ct.sort_values('item_price'))"
      ],
      "execution_count": null,
      "outputs": []
    },
    {
      "cell_type": "code",
      "metadata": {
        "id": "zewAZXosCzvK"
      },
      "source": [
        "# plotting clusters\n",
        "plt.figure(figsize=(20, 10))\n",
        "plt.plot(ct)\n",
        "plt.show()"
      ],
      "execution_count": null,
      "outputs": []
    },
    {
      "cell_type": "code",
      "metadata": {
        "id": "icKqBH3IBzXZ"
      },
      "source": [
        "# reshaping values to workable vector\n",
        "dfx = salestrain_df.values.reshape(1, -1)\n",
        "dfy = salestrain_df.values.reshape(1, -1)"
      ],
      "execution_count": null,
      "outputs": []
    },
    {
      "cell_type": "code",
      "metadata": {
        "id": "GFHmuApiCDoK"
      },
      "source": [
        "# WHY DELETING?\n",
        "\n",
        "# delete part 1\n",
        "#dfx = np.delete(dfx, 0)\n",
        "#dfy = np.delete(dfy, 0)"
      ],
      "execution_count": null,
      "outputs": []
    },
    {
      "cell_type": "code",
      "metadata": {
        "id": "Xe_8QVcoCDvA"
      },
      "source": [
        "# WHY DELETING?\n",
        "\n",
        "# delete part 2\n",
        "#dfx = np.delete(dfx, 1)\n",
        "#dfy = np.delete(dfy, 1)"
      ],
      "execution_count": null,
      "outputs": []
    },
    {
      "cell_type": "code",
      "metadata": {
        "id": "E-h2T_fcC3h7"
      },
      "source": [
        "print(f'dfx shape: {dfx.shape}')\n",
        "print(f'dfy shape: {dfy.shape}')"
      ],
      "execution_count": null,
      "outputs": []
    },
    {
      "cell_type": "code",
      "metadata": {
        "id": "x8ht_Z5PC7lL"
      },
      "source": [
        "# setting variables train test split\n",
        "X = dfx\n",
        "y = dfy\n",
        "\n",
        "# running logistic regression baseline\n",
        "#logreg =  LogisticRegression()\n",
        "#X_train, y_train, X_test, y_test = train_test_split(X, y, test_size=0.3, random_state=42)"
      ],
      "execution_count": null,
      "outputs": []
    },
    {
      "cell_type": "code",
      "metadata": {
        "id": "bLPLECshxVxN"
      },
      "source": [
        "# checking train, test shapes\n",
        "#print(f'X_train shape: {X_train.shape}')\n",
        "#print(f'y_train shape: {y_train.shape}')\n",
        "#print(f'X_test shape: {X_test.shape}')\n",
        "#print(f'y_test shape: {y_test.shape}')"
      ],
      "execution_count": null,
      "outputs": []
    },
    {
      "cell_type": "code",
      "metadata": {
        "id": "FKNqiZsDw9np"
      },
      "source": [
        "#\n",
        "#logreg.fit(X_train, y_train)\n",
        "#y_pred =logreg.predict(X_test)\n",
        "\n",
        "#print(confusion_matrix(y_test, y_pred))\n",
        "#print(classification_report(y_test, y_pred))"
      ],
      "execution_count": null,
      "outputs": []
    },
    {
      "cell_type": "code",
      "metadata": {
        "id": "9Yaxr4kiDGys"
      },
      "source": [
        "#clf = linear_model.Lasso(alpha=0.1)\n",
        "#clf.fit(X_train, y_train)\n",
        "#clf.predict(X_test)\n",
        "#print(confusion_matrix(y_test, y_pred))\n",
        "#print(classification_report(y_test, y_pred))"
      ],
      "execution_count": null,
      "outputs": []
    },
    {
      "cell_type": "markdown",
      "metadata": {
        "id": "LErutUyxRu51"
      },
      "source": [
        "## Categorical features\n",
        "Created different datasets with OHE encoding, mean/target encoding, frequency encoding and hash encoding\n",
        "\n",
        "#### OHE\n",
        "OHE does not work, memory issue due to the fact that there are 22150 unique item names."
      ]
    },
    {
      "cell_type": "code",
      "metadata": {
        "colab": {
          "base_uri": "https://localhost:8080/",
          "height": 242
        },
        "id": "3e7vSuc3R09Q",
        "outputId": "2fd19d00-d6b0-4cd2-d855-1fb23adf4988"
      },
      "source": [
        "# item_name unique 22150 values --> colossal number of columns, not the best option since shape will be (2935846, 21787)\n",
        "cols_to_encode = ['item_category_name', 'shop_name']\n",
        "salestrain_df_ohe = salestrain_df_combined.copy()\n",
        "\n",
        "# change float64 to float16 and int64 to int16 to reduce memory usage\n",
        "salestrain_df_ohe['item_price'] = salestrain_df_ohe['item_price'].astype(np.float16)\n",
        "cols_int = salestrain_df_ohe.select_dtypes('int64').columns\n",
        "for col in cols_int:\n",
        "    salestrain_df_ohe[col] = salestrain_df_ohe[col].astype(np.int16)\n",
        "\n",
        "# OHE\n",
        "salestrain_df_ohe = pd.get_dummies(salestrain_df_ohe, prefix=['item_category_name', 'shop_name'], columns=['item_category_name', 'shop_name'], dtype=np.int16)\n",
        "\n",
        "# renaming\n",
        "item_cat_iter = 0\n",
        "shop_iter = 0\n",
        "for col in salestrain_df_ohe.columns:\n",
        "    if col.startswith('item_category_name_'):\n",
        "        salestrain_df_ohe.rename(columns={col: \"item_category_name_\" + str(item_cat_iter)}, inplace=True)\n",
        "        item_cat_iter += 1\n",
        "    if col.startswith('shop_name_'):\n",
        "        salestrain_df_ohe.rename(columns={col: \"shop_name_\" + str(shop_iter)}, inplace=True)\n",
        "        shop_iter += 1\n",
        "\n",
        "# sounds good doesn't work: too many different categories for item_name\n",
        "# cols_to_encode = ['item_name', 'item_category_name', 'shop_name']\n",
        "# for col in cols_to_encode:\n",
        "#     salestrain_df_ohe = pd.get_dummies(salestrain_df_ohe, prefix=[col], columns=[col])\n",
        "#     ohe_enc = OneHotEncoder()\n",
        "#     ohe_enc = ohe_enc.fit_transform(salestrain_df_ohe[[col]]).astype(np.int16).toarray()\n",
        "#     encoded_cols = pd.DataFrame(ohe_enc)\n",
        "#     salestrain_df_ohe = pd.concat([salestrain_df_ohe, encoded_cols], axis = 1)\n",
        "    \n",
        "salestrain_df_ohe.head()"
      ],
      "execution_count": null,
      "outputs": [
        {
          "output_type": "error",
          "ename": "NameError",
          "evalue": "ignored",
          "traceback": [
            "\u001b[0;31m---------------------------------------------------------------------------\u001b[0m",
            "\u001b[0;31mNameError\u001b[0m                                 Traceback (most recent call last)",
            "\u001b[0;32m<ipython-input-159-cd3440a7adc9>\u001b[0m in \u001b[0;36m<module>\u001b[0;34m\u001b[0m\n\u001b[1;32m      1\u001b[0m \u001b[0;31m# item_name unique 22150 values --> colossal number of columns, not the best option since shape will be (2935846, 21787)\u001b[0m\u001b[0;34m\u001b[0m\u001b[0;34m\u001b[0m\u001b[0;34m\u001b[0m\u001b[0m\n\u001b[1;32m      2\u001b[0m \u001b[0mcols_to_encode\u001b[0m \u001b[0;34m=\u001b[0m \u001b[0;34m[\u001b[0m\u001b[0;34m'item_category_name'\u001b[0m\u001b[0;34m,\u001b[0m \u001b[0;34m'shop_name'\u001b[0m\u001b[0;34m]\u001b[0m\u001b[0;34m\u001b[0m\u001b[0;34m\u001b[0m\u001b[0m\n\u001b[0;32m----> 3\u001b[0;31m \u001b[0msalestrain_df_ohe\u001b[0m \u001b[0;34m=\u001b[0m \u001b[0msalestrain_df_combined\u001b[0m\u001b[0;34m.\u001b[0m\u001b[0mcopy\u001b[0m\u001b[0;34m(\u001b[0m\u001b[0;34m)\u001b[0m\u001b[0;34m\u001b[0m\u001b[0;34m\u001b[0m\u001b[0m\n\u001b[0m\u001b[1;32m      4\u001b[0m \u001b[0;34m\u001b[0m\u001b[0m\n\u001b[1;32m      5\u001b[0m \u001b[0;31m# change float64 to float16 and int64 to int16 to reduce memory usage\u001b[0m\u001b[0;34m\u001b[0m\u001b[0;34m\u001b[0m\u001b[0;34m\u001b[0m\u001b[0m\n",
            "\u001b[0;31mNameError\u001b[0m: name 'salestrain_df_combined' is not defined"
          ]
        }
      ]
    },
    {
      "cell_type": "markdown",
      "metadata": {
        "id": "mrFvvGgZZsYs"
      },
      "source": [
        "#### Frequency encoder\n",
        "Set categorical features to frequency they occur in the dataset"
      ]
    },
    {
      "cell_type": "code",
      "metadata": {
        "id": "mrxlA_oNZsYs"
      },
      "source": [
        "cols_to_encode = ['item_name', 'item_category_name', 'shop_name']\n",
        "salestrain_df_freq = salestrain_df_combined.copy()\n",
        "\n",
        "# grouping by frequency\n",
        "for col in cols_to_encode:\n",
        "    freq = salestrain_df_freq.groupby(col).size()/len(salestrain_df_freq)\n",
        "    salestrain_df_freq.loc[:, \"{}_freq_encode\".format(col)] = salestrain_df_freq[col].map(freq)\n",
        "    \n",
        "salestrain_df_freq.drop(columns=cols_to_encode, inplace=True)\n",
        "salestrain_df_freq.head()"
      ],
      "execution_count": null,
      "outputs": []
    },
    {
      "cell_type": "markdown",
      "metadata": {
        "id": "lT_jhIh7ZsYs"
      },
      "source": [
        "#### Hashing\n",
        "Use hash functions to translate categorical feature to numeric features\n",
        "\n"
      ]
    },
    {
      "cell_type": "markdown",
      "metadata": {
        "id": "Mx9w6TkqdPd8"
      },
      "source": [
        "The values itself don't really say anything tbh, but the combination of the columns are mapped to one value within the original categorical feature\n",
        "So for example, if you would have a categorical feature, the hash function maps this string to an X number of integers"
      ]
    },
    {
      "cell_type": "code",
      "metadata": {
        "id": "iV8yr2fAZsYs"
      },
      "source": [
        "# currently, number of bits used to represent features is a bit random (2^x where the result is bigger than number of unique values)\n",
        "# this takes quite a bit of time to run\n",
        "cols_to_encode = ['item_name', 'item_category_name', 'shop_name']\n",
        "nr_bits = [6, 7, 15]\n",
        "salestrain_df_hash = salestrain_df_combined.copy()\n",
        "\n",
        "for bits, col in zip(nr_bits, cols_to_encode):\n",
        "    print(bits, col)\n",
        "    h = FeatureHasher(n_features=bits, input_type='string') \n",
        "    hashed_col = h.fit_transform(salestrain_df_hash[col].astype(str)).toarray()\n",
        "    salestrain_df_hash = pd.concat([salestrain_df_hash, pd.DataFrame(hashed_col)], axis = 1)\n",
        "    for i in range(bits):\n",
        "        salestrain_df_hash.rename(columns={i: col + \"_\" + str(i)}, inplace=True)\n",
        "    print(col + \" done\")\n",
        "        \n",
        "salestrain_df_hash.head()"
      ],
      "execution_count": null,
      "outputs": []
    },
    {
      "cell_type": "markdown",
      "metadata": {
        "id": "vCFgEZtmZsYt"
      },
      "source": [
        "#### Target/mean encoding\n",
        "Seems to work very well in lots of applications, but can cause overfitting. Maybe use (stratified) KFold?"
      ]
    },
    {
      "cell_type": "code",
      "metadata": {
        "id": "w728H2DkZsYt"
      },
      "source": [
        "cols_to_encode = ['item_name', 'item_category_name', 'shop_name']\n",
        "salestrain_df_mean = salestrain_df_combined.copy()\n",
        "\n",
        "# simple method, probably should do this with item_cnt_month though, should create that feature\n",
        "for col in cols_to_encode:\n",
        "    mean_enc = salestrain_df_mean.groupby(col)['item_cnt_day'].mean()\n",
        "    salestrain_df_mean.loc[:, str(col + \"_mean_encoded\")] = salestrain_df_mean[col].map(mean_enc)\n",
        "    \n",
        "salestrain_df_mean.head()"
      ],
      "execution_count": null,
      "outputs": []
    },
    {
      "cell_type": "markdown",
      "metadata": {
        "id": "kQrjlcP4o3xl"
      },
      "source": [
        "# DBSCAN (and other clustering)\n"
      ]
    },
    {
      "cell_type": "code",
      "metadata": {
        "id": "3Gn9cSWMr2sG"
      },
      "source": [
        "from sklearn.cluster import DBSCAN"
      ],
      "execution_count": null,
      "outputs": []
    },
    {
      "cell_type": "code",
      "metadata": {
        "id": "JHA1jYSYm7Il"
      },
      "source": [
        "# creating DBSCAN data copy\n",
        "salestrain_DBSCAN = salestrain_df_combined.copy()\n",
        "X = salestrain_DBSCAN['date']\n",
        "y = salestrain_DBSCAN['revenue']\n",
        "\n",
        "\n",
        "salestrain_DBSCAN = salestrain_DBSCAN.drop(columns=['date'])"
      ],
      "execution_count": null,
      "outputs": []
    },
    {
      "cell_type": "code",
      "metadata": {
        "id": "VioAuD1fpiTM"
      },
      "source": [
        "# showing sales pre clustering\n",
        "plt.figure(figsize=(20,10))\n",
        "plt.scatter(X, y, s=15, color='grey')\n",
        "plt.show()"
      ],
      "execution_count": null,
      "outputs": []
    },
    {
      "cell_type": "markdown",
      "metadata": {
        "id": "_OSj1nwo5-R3"
      },
      "source": [
        "TRY CLUSTERING PART 2 WITH MITCHELLS CATEGORICAL HASHING "
      ]
    },
    {
      "cell_type": "code",
      "metadata": {
        "id": "UIvSVrXd59Wj"
      },
      "source": [
        "#salestrain_df_hash.head()\n",
        "salestrin_DBSCAN = salestrain_df_hash.drop(columns=['date', 'item_name', 'item_category_name','shop_name'], axis=1)\n",
        "salestrain_DBSCAN.head()"
      ],
      "execution_count": null,
      "outputs": []
    },
    {
      "cell_type": "code",
      "metadata": {
        "id": "su-MVYGDqoVw"
      },
      "source": [
        "from sklearn.cluster import KMeans"
      ],
      "execution_count": null,
      "outputs": []
    },
    {
      "cell_type": "code",
      "metadata": {
        "id": "rKwhIlMUqt02"
      },
      "source": [
        "scaler = StandardScaler()\n",
        "data_scaled = scaler.fit_transform(salestrain_DBSCAN)"
      ],
      "execution_count": null,
      "outputs": []
    },
    {
      "cell_type": "code",
      "metadata": {
        "id": "UaLfPZmz5D3U"
      },
      "source": [
        "k_means = KMeans(n_clusters=4, random_state=42)\n",
        "k_means.fit(salestrain_DBSCAN[0,1])"
      ],
      "execution_count": null,
      "outputs": []
    },
    {
      "cell_type": "markdown",
      "metadata": {
        "id": "BZDYUjm-npLP"
      },
      "source": [
        "need to determine 2 things with DBSCAN, epsilon and minPoints"
      ]
    },
    {
      "cell_type": "markdown",
      "metadata": {
        "id": "ixFAEZbp2stU"
      },
      "source": [
        "RandomSearchCV\n"
      ]
    },
    {
      "cell_type": "code",
      "metadata": {
        "id": "HoDDMxyL38ZV"
      },
      "source": [
        ""
      ],
      "execution_count": null,
      "outputs": []
    },
    {
      "cell_type": "markdown",
      "metadata": {
        "id": "DfTzu7o8S7t1"
      },
      "source": [
        "\n",
        "# good resources"
      ]
    },
    {
      "cell_type": "markdown",
      "metadata": {
        "id": "i-2TE4txy9Th"
      },
      "source": [
        "dbscan!"
      ]
    },
    {
      "cell_type": "markdown",
      "metadata": {
        "id": "1Q1LK9UwxDeQ"
      },
      "source": [
        "https://www.google.com/search?q=dbscan+python&sxsrf=ALeKk01MOpqS6o2Y-gJotJVswEPIS6thPA%3A1616814191706&ei=b6BeYL68KsKHggfYxrfgDw&oq=dbscan&gs_lcp=Cgdnd3Mtd2l6EAMYAjIECCMQJzIECAAQQzIECAAQQzIECAAQQzIECAAQQzIECAAQQzIHCAAQsQMQQzICCAAyBAgAEEMyAggAOgoILhDHARCvARBDOgoILhDHARCjAhBDOggILhCxAxCDAToNCC4QsQMQxwEQowIQQzoKCAAQsQMQgwEQQ1DFalilcmDHiwFoAHACeACAAdYLiAHZFZIBDTAuNC4xLjUtMS4wLjGYAQCgAQGqAQdnd3Mtd2l6wAEB&sclient=gws-wiz"
      ]
    },
    {
      "cell_type": "markdown",
      "metadata": {
        "id": "MsLGfrT8w5V5"
      },
      "source": [
        "https://www.kdnuggets.com/2020/04/dbscan-clustering-algorithm-machine-learning.html"
      ]
    },
    {
      "cell_type": "markdown",
      "metadata": {
        "id": "FNiS2BEHwyNx"
      },
      "source": [
        "https://www.geeksforgeeks.org/implementing-dbscan-algorithm-using-sklearn/"
      ]
    },
    {
      "cell_type": "markdown",
      "metadata": {
        "id": "gLsvtE2dwoKw"
      },
      "source": [
        "https://www.analyticsvidhya.com/blog/2020/09/how-dbscan-clustering-works/"
      ]
    },
    {
      "cell_type": "markdown",
      "metadata": {
        "id": "kV31OltAy2lu"
      },
      "source": [
        "aws colab integration"
      ]
    },
    {
      "cell_type": "markdown",
      "metadata": {
        "id": "i7kYgOBdy716"
      },
      "source": [
        "https://medium.com/@lily_su/accessing-s3-bucket-from-google-colab-16f7ee6c5b51"
      ]
    },
    {
      "cell_type": "markdown",
      "metadata": {
        "id": "kwbyMCwCzIRu"
      },
      "source": [
        "https://python.plainenglish.io/how-to-load-data-from-aws-s3-into-google-colab-7e76fbf534d2"
      ]
    },
    {
      "cell_type": "markdown",
      "metadata": {
        "id": "d_rmetK6znQ2"
      },
      "source": [
        "https://stackoverflow.com/questions/50978361/how-to-load-s3-open-dataset-in-google-colaboratory"
      ]
    },
    {
      "cell_type": "code",
      "metadata": {
        "id": "MXN8lIIPL4x3"
      },
      "source": [
        ""
      ],
      "execution_count": null,
      "outputs": []
    },
    {
      "cell_type": "code",
      "metadata": {
        "id": "jd_9jmSnqBXu"
      },
      "source": [
        ""
      ],
      "execution_count": null,
      "outputs": []
    }
  ]
}