{
  "nbformat": 4,
  "nbformat_minor": 0,
  "metadata": {
    "accelerator": "TPU",
    "colab": {
      "name": "predict_future_sales_barebone_xgboost.ipynb",
      "provenance": [],
      "collapsed_sections": [
        "U4SoFslGfRpJ",
        "YTz2gMkTrh2Y",
        "MchAi0wABchP"
      ],
      "include_colab_link": true
    },
    "kernelspec": {
      "display_name": "Python 3",
      "language": "python",
      "name": "python3"
    },
    "language_info": {
      "codemirror_mode": {
        "name": "ipython",
        "version": 3
      },
      "file_extension": ".py",
      "mimetype": "text/x-python",
      "name": "python",
      "nbconvert_exporter": "python",
      "pygments_lexer": "ipython3",
      "version": "3.9.1"
    },
    "toc-autonumbering": true
  },
  "cells": [
    {
      "cell_type": "markdown",
      "metadata": {
        "id": "view-in-github",
        "colab_type": "text"
      },
      "source": [
        "<a href=\"https://colab.research.google.com/github/cmannnn/predict_future_sales/blob/barebone_xgboost/predict_future_sales_barebone_xgboost.ipynb\" target=\"_parent\"><img src=\"https://colab.research.google.com/assets/colab-badge.svg\" alt=\"Open In Colab\"/></a>"
      ]
    },
    {
      "cell_type": "markdown",
      "metadata": {
        "id": "U4SoFslGfRpJ"
      },
      "source": [
        "# Predict Future Sales"
      ]
    },
    {
      "cell_type": "markdown",
      "metadata": {
        "id": "j-UxcjnUffCN"
      },
      "source": [
        "# Imports and uploads"
      ]
    },
    {
      "cell_type": "code",
      "metadata": {
        "id": "XTSLNlmdd5lX",
        "colab": {
          "base_uri": "https://localhost:8080/"
        },
        "outputId": "67ceb16b-ba27-44ab-d4f1-7d41a3892e4f"
      },
      "source": [
        "# imports\n",
        "import os\n",
        "\n",
        "import gc\n",
        "\n",
        "import time\n",
        "\n",
        "import datetime as dt\n",
        "\n",
        "import pandas as pd\n",
        "import matplotlib.pyplot as plt\n",
        "import numpy as np\n",
        "import seaborn as sns\n",
        "#import tensorflow as tf\n",
        "\n",
        "\n",
        "#import specific sklearn packages\n",
        "from sklearn.model_selection import train_test_split\n",
        "from sklearn.model_selection import TimeSeriesSplit\n",
        "from sklearn.model_selection import StratifiedKFold\n",
        "from sklearn.model_selection import RandomizedSearchCV\n",
        "\n",
        "#encoders, tested several of them\n",
        "from sklearn.preprocessing import OrdinalEncoder # remove later, don't use this\n",
        "from sklearn.preprocessing import LabelEncoder # remove later, don't use this\n",
        "from sklearn.preprocessing import OneHotEncoder # probably don't use this, instead use pd.get_dummies\n",
        "from sklearn.feature_extraction import FeatureHasher\n",
        "\n",
        "from sklearn.preprocessing import MinMaxScaler\n",
        "from sklearn.preprocessing import StandardScaler\n",
        "\n",
        "from sklearn.feature_selection import VarianceThreshold\n",
        "\n",
        "from sklearn.metrics import classification_report\n",
        "from sklearn.metrics import confusion_matrix\n",
        "\n",
        "from sklearn.pipeline import make_pipeline\n",
        "\n",
        "\n",
        "from sklearn.cluster import KMeans\n",
        "\n",
        "from sklearn.linear_model import LogisticRegression\n",
        "\n",
        "from sklearn import linear_model\n",
        "\n",
        "from sklearn.ensemble import AdaBoostRegressor\n",
        "from sklearn.ensemble import RandomForestRegressor\n",
        "\n",
        "from xgboost import XGBRegressor\n",
        "from xgboost import plot_importance\n",
        "\n",
        "\n",
        "# root path for running on Google Colab\n",
        "root_path = 'drive/MyDrive/Camp Jupyter/predict_future_sales_data/kaggle_data/'\n",
        "\n",
        "\n",
        "# Google Colab mount\n",
        "from google.colab import drive\n",
        "drive.mount('/content/drive')"
      ],
      "execution_count": 1,
      "outputs": [
        {
          "output_type": "stream",
          "text": [
            "Mounted at /content/drive\n"
          ],
          "name": "stdout"
        }
      ]
    },
    {
      "cell_type": "markdown",
      "metadata": {
        "id": "4mY4s3UubFhz"
      },
      "source": [
        "# Importing All Predict Sales Data"
      ]
    },
    {
      "cell_type": "code",
      "metadata": {
        "id": "CwqnebRuocPf"
      },
      "source": [
        "#importing all the data frames\n",
        "\n",
        "\n",
        "\n",
        "# root path for running locally\n",
        "# sumeet root_path\n",
        "#root_path='./'\n",
        "# chris root_path\n",
        "#root_path = '/Users/cman/Desktop/商务/datasets/predict_future_sales/'\n",
        "\n",
        "itemcats_df = pd.read_csv(root_path+\"item_categories.csv\", encoding= 'unicode_escape') #Item Categories\n",
        "items_df = pd.read_csv(root_path+\"items.csv\", encoding= 'unicode_escape') # Items\n",
        "salestrain_df = pd.read_csv(root_path+\"sales_train.csv\", encoding= 'unicode_escape') #Sales Data - Training\n",
        "salestrain_df.date = pd.to_datetime(salestrain_df.date)\n",
        "shops_df = pd.read_csv(root_path+\"shops.csv\", encoding= 'unicode_escape') # Shops\n",
        "usd_rus_df = pd.read_csv(root_path+'USD-RUS.csv')\n",
        "usd_rus_df.Date = pd.to_datetime(usd_rus_df.Date)\n",
        "\n",
        "# sample submission dataframe\n",
        "sample_df = pd.read_csv(root_path+'sample_submission.csv')\n",
        "\n",
        "# test data frame\n",
        "test_df = pd.read_csv(root_path+'test.csv')"
      ],
      "execution_count": 2,
      "outputs": []
    },
    {
      "cell_type": "code",
      "metadata": {
        "id": "jtjsH1gxArmn"
      },
      "source": [
        "# combining training dataframes into master training set\n",
        "salestrain_df_combined = salestrain_df.merge(items_df, on = 'item_id')\n",
        "salestrain_df_combined = salestrain_df_combined.merge(itemcats_df, on = 'item_category_id')\n",
        "salestrain_df_combined = salestrain_df_combined.merge(shops_df, on = 'shop_id')\n",
        "\n",
        "# adding features for separating date\n",
        "salestrain_df_combined['year'] = salestrain_df_combined.date.dt.year\n",
        "salestrain_df_combined['month'] = salestrain_df_combined.date.dt.month\n",
        "salestrain_df_combined['day'] = salestrain_df_combined.date.dt.day\n",
        "\n",
        "# adding revenue column\n",
        "salestrain_df_combined['revenue'] = salestrain_df_combined.item_price * salestrain_df_combined.item_cnt_day\n",
        "\n",
        "# adding a random feature\n",
        "salestrain_df_combined['Random'] = salestrain_df_combined.apply(lambda x: np.random.randint(100),axis = 'columns')\n",
        "\n",
        "# creating a new feature: 'month-year'\n",
        "salestrain_df_combined['month-year'] = salestrain_df_combined['date'].apply(lambda x: str(x.month) + '-' + str(x.year) if x.month >= 10 else '0' + str(x.month) + '-' + str(x.year)) "
      ],
      "execution_count": 3,
      "outputs": []
    },
    {
      "cell_type": "markdown",
      "metadata": {
        "id": "WfIJHpr9fJRC"
      },
      "source": [
        "##Merging USD - RUS currency conversion to salestrain_df_combined"
      ]
    },
    {
      "cell_type": "code",
      "metadata": {
        "id": "BCTzhjvHMPpm"
      },
      "source": [
        "# merging exchange rate data to master dataframe\n",
        "salestrain_df_combined = salestrain_df_combined.merge(usd_rus_df[['Date','Open']], left_on = 'date', right_on = 'Date')"
      ],
      "execution_count": 4,
      "outputs": []
    },
    {
      "cell_type": "code",
      "metadata": {
        "id": "lThqfMt7MgO4"
      },
      "source": [
        "# dropping the duplicated date col from \n",
        "salestrain_df_combined.drop(['Date'], axis = 'columns', inplace = True)"
      ],
      "execution_count": 5,
      "outputs": []
    },
    {
      "cell_type": "code",
      "metadata": {
        "id": "Win4oHjtOmQA"
      },
      "source": [
        "# renaming the 'Open' col to 'USD_RUS' from the USD RUS conversion dataframe\n",
        "salestrain_df_combined.rename({'Open':'USD_RUS'}, axis = 'columns', inplace = True)"
      ],
      "execution_count": 6,
      "outputs": []
    },
    {
      "cell_type": "code",
      "metadata": {
        "id": "vZBSL0cBM35Z"
      },
      "source": [
        "# caltulating the price based on the conversion rate\n",
        "salestrain_df_combined['USD_Price'] = salestrain_df_combined['item_price'] / salestrain_df_combined['USD_RUS']"
      ],
      "execution_count": 7,
      "outputs": []
    },
    {
      "cell_type": "code",
      "metadata": {
        "colab": {
          "base_uri": "https://localhost:8080/",
          "height": 332
        },
        "id": "lnXOb0_hEDGg",
        "outputId": "a5a0fecc-4ede-4f57-a288-259f3d40426c"
      },
      "source": [
        "# checking the df head\n",
        "salestrain_df_combined.head(3)"
      ],
      "execution_count": 8,
      "outputs": [
        {
          "output_type": "execute_result",
          "data": {
            "text/html": [
              "<div>\n",
              "<style scoped>\n",
              "    .dataframe tbody tr th:only-of-type {\n",
              "        vertical-align: middle;\n",
              "    }\n",
              "\n",
              "    .dataframe tbody tr th {\n",
              "        vertical-align: top;\n",
              "    }\n",
              "\n",
              "    .dataframe thead th {\n",
              "        text-align: right;\n",
              "    }\n",
              "</style>\n",
              "<table border=\"1\" class=\"dataframe\">\n",
              "  <thead>\n",
              "    <tr style=\"text-align: right;\">\n",
              "      <th></th>\n",
              "      <th>date</th>\n",
              "      <th>date_block_num</th>\n",
              "      <th>shop_id</th>\n",
              "      <th>item_id</th>\n",
              "      <th>item_price</th>\n",
              "      <th>item_cnt_day</th>\n",
              "      <th>item_name</th>\n",
              "      <th>item_category_id</th>\n",
              "      <th>item_category_name</th>\n",
              "      <th>shop_name</th>\n",
              "      <th>year</th>\n",
              "      <th>month</th>\n",
              "      <th>day</th>\n",
              "      <th>revenue</th>\n",
              "      <th>Random</th>\n",
              "      <th>month-year</th>\n",
              "      <th>USD_RUS</th>\n",
              "      <th>USD_Price</th>\n",
              "    </tr>\n",
              "  </thead>\n",
              "  <tbody>\n",
              "    <tr>\n",
              "      <th>0</th>\n",
              "      <td>2013-02-01</td>\n",
              "      <td>0</td>\n",
              "      <td>59</td>\n",
              "      <td>22154</td>\n",
              "      <td>999.00</td>\n",
              "      <td>1.0</td>\n",
              "      <td>Scene 2012 (BD)</td>\n",
              "      <td>37</td>\n",
              "      <td>Movie - Blu-Ray</td>\n",
              "      <td>Yaroslavl shopping center \"Altair\"</td>\n",
              "      <td>2013</td>\n",
              "      <td>2</td>\n",
              "      <td>1</td>\n",
              "      <td>999.00</td>\n",
              "      <td>3</td>\n",
              "      <td>02-2013</td>\n",
              "      <td>29.9816</td>\n",
              "      <td>33.320437</td>\n",
              "    </tr>\n",
              "    <tr>\n",
              "      <th>1</th>\n",
              "      <td>2013-02-01</td>\n",
              "      <td>0</td>\n",
              "      <td>59</td>\n",
              "      <td>17482</td>\n",
              "      <td>599.38</td>\n",
              "      <td>1.0</td>\n",
              "      <td>PROMETEY (BD)</td>\n",
              "      <td>37</td>\n",
              "      <td>Movie - Blu-Ray</td>\n",
              "      <td>Yaroslavl shopping center \"Altair\"</td>\n",
              "      <td>2013</td>\n",
              "      <td>2</td>\n",
              "      <td>1</td>\n",
              "      <td>599.38</td>\n",
              "      <td>37</td>\n",
              "      <td>02-2013</td>\n",
              "      <td>29.9816</td>\n",
              "      <td>19.991595</td>\n",
              "    </tr>\n",
              "    <tr>\n",
              "      <th>2</th>\n",
              "      <td>2013-02-01</td>\n",
              "      <td>0</td>\n",
              "      <td>59</td>\n",
              "      <td>16626</td>\n",
              "      <td>312.03</td>\n",
              "      <td>1.0</td>\n",
              "      <td>OPINION (BD)</td>\n",
              "      <td>37</td>\n",
              "      <td>Movie - Blu-Ray</td>\n",
              "      <td>Yaroslavl shopping center \"Altair\"</td>\n",
              "      <td>2013</td>\n",
              "      <td>2</td>\n",
              "      <td>1</td>\n",
              "      <td>312.03</td>\n",
              "      <td>5</td>\n",
              "      <td>02-2013</td>\n",
              "      <td>29.9816</td>\n",
              "      <td>10.407383</td>\n",
              "    </tr>\n",
              "  </tbody>\n",
              "</table>\n",
              "</div>"
            ],
            "text/plain": [
              "        date  date_block_num  shop_id  ...  month-year  USD_RUS  USD_Price\n",
              "0 2013-02-01               0       59  ...     02-2013  29.9816  33.320437\n",
              "1 2013-02-01               0       59  ...     02-2013  29.9816  19.991595\n",
              "2 2013-02-01               0       59  ...     02-2013  29.9816  10.407383\n",
              "\n",
              "[3 rows x 18 columns]"
            ]
          },
          "metadata": {
            "tags": []
          },
          "execution_count": 8
        }
      ]
    },
    {
      "cell_type": "markdown",
      "metadata": {
        "id": "V4QbrLayW_vO"
      },
      "source": [
        "## Remove Outliers above 600 sales per day"
      ]
    },
    {
      "cell_type": "code",
      "metadata": {
        "scrolled": true,
        "id": "smU5Iq29W_vO",
        "colab": {
          "base_uri": "https://localhost:8080/"
        },
        "outputId": "11f9e24f-dda0-4731-9c9a-44b11aaef3fe"
      },
      "source": [
        "for i in range(0,22):\n",
        "    print(i,len(salestrain_df_combined[salestrain_df_combined['item_cnt_day']> i * 100]))"
      ],
      "execution_count": 9,
      "outputs": [
        {
          "output_type": "stream",
          "text": [
            "0 1921686\n",
            "1 130\n",
            "2 34\n",
            "3 21\n",
            "4 17\n",
            "5 11\n",
            "6 5\n",
            "7 2\n",
            "8 2\n",
            "9 2\n",
            "10 1\n",
            "11 1\n",
            "12 1\n",
            "13 1\n",
            "14 1\n",
            "15 1\n",
            "16 1\n",
            "17 1\n",
            "18 1\n",
            "19 1\n",
            "20 1\n",
            "21 1\n"
          ],
          "name": "stdout"
        }
      ]
    },
    {
      "cell_type": "code",
      "metadata": {
        "id": "-Ov9C21rW_vP"
      },
      "source": [
        "salestrain_df_combined = salestrain_df_combined[salestrain_df_combined['item_cnt_day'] <= 600]"
      ],
      "execution_count": 10,
      "outputs": []
    },
    {
      "cell_type": "code",
      "metadata": {
        "id": "O5KRmzaatiqT"
      },
      "source": [
        "salestrain_df_combined['month_id'] = (salestrain_df_combined['year'] - 2014) * 12 + salestrain_df_combined['month']"
      ],
      "execution_count": 11,
      "outputs": []
    },
    {
      "cell_type": "code",
      "metadata": {
        "colab": {
          "base_uri": "https://localhost:8080/",
          "height": 530
        },
        "id": "Jh45dMo8uXUj",
        "outputId": "db8f5667-9fb0-4734-af31-3bcc463b3cfa"
      },
      "source": [
        "salestrain_df_combined[(salestrain_df_combined['month']==5) & (salestrain_df_combined['year'] == 2015)].head()"
      ],
      "execution_count": 12,
      "outputs": [
        {
          "output_type": "execute_result",
          "data": {
            "text/html": [
              "<div>\n",
              "<style scoped>\n",
              "    .dataframe tbody tr th:only-of-type {\n",
              "        vertical-align: middle;\n",
              "    }\n",
              "\n",
              "    .dataframe tbody tr th {\n",
              "        vertical-align: top;\n",
              "    }\n",
              "\n",
              "    .dataframe thead th {\n",
              "        text-align: right;\n",
              "    }\n",
              "</style>\n",
              "<table border=\"1\" class=\"dataframe\">\n",
              "  <thead>\n",
              "    <tr style=\"text-align: right;\">\n",
              "      <th></th>\n",
              "      <th>date</th>\n",
              "      <th>date_block_num</th>\n",
              "      <th>shop_id</th>\n",
              "      <th>item_id</th>\n",
              "      <th>item_price</th>\n",
              "      <th>item_cnt_day</th>\n",
              "      <th>item_name</th>\n",
              "      <th>item_category_id</th>\n",
              "      <th>item_category_name</th>\n",
              "      <th>shop_name</th>\n",
              "      <th>year</th>\n",
              "      <th>month</th>\n",
              "      <th>day</th>\n",
              "      <th>revenue</th>\n",
              "      <th>Random</th>\n",
              "      <th>month-year</th>\n",
              "      <th>USD_RUS</th>\n",
              "      <th>USD_Price</th>\n",
              "      <th>month_id</th>\n",
              "    </tr>\n",
              "  </thead>\n",
              "  <tbody>\n",
              "    <tr>\n",
              "      <th>396553</th>\n",
              "      <td>2015-05-28</td>\n",
              "      <td>28</td>\n",
              "      <td>59</td>\n",
              "      <td>12804</td>\n",
              "      <td>148.0</td>\n",
              "      <td>1.0</td>\n",
              "      <td>The Lion King (BD + DVD)</td>\n",
              "      <td>37</td>\n",
              "      <td>Movie - Blu-Ray</td>\n",
              "      <td>Yaroslavl shopping center \"Altair\"</td>\n",
              "      <td>2015</td>\n",
              "      <td>5</td>\n",
              "      <td>28</td>\n",
              "      <td>148.0</td>\n",
              "      <td>84</td>\n",
              "      <td>05-2015</td>\n",
              "      <td>50.513</td>\n",
              "      <td>2.929939</td>\n",
              "      <td>17</td>\n",
              "    </tr>\n",
              "    <tr>\n",
              "      <th>396554</th>\n",
              "      <td>2015-05-28</td>\n",
              "      <td>28</td>\n",
              "      <td>59</td>\n",
              "      <td>2550</td>\n",
              "      <td>299.0</td>\n",
              "      <td>1.0</td>\n",
              "      <td>DEEP PURPLE The Best Of</td>\n",
              "      <td>55</td>\n",
              "      <td>Music - CD of local production</td>\n",
              "      <td>Yaroslavl shopping center \"Altair\"</td>\n",
              "      <td>2015</td>\n",
              "      <td>5</td>\n",
              "      <td>28</td>\n",
              "      <td>299.0</td>\n",
              "      <td>17</td>\n",
              "      <td>05-2015</td>\n",
              "      <td>50.513</td>\n",
              "      <td>5.919268</td>\n",
              "      <td>17</td>\n",
              "    </tr>\n",
              "    <tr>\n",
              "      <th>396555</th>\n",
              "      <td>2015-05-28</td>\n",
              "      <td>28</td>\n",
              "      <td>59</td>\n",
              "      <td>7493</td>\n",
              "      <td>349.0</td>\n",
              "      <td>1.0</td>\n",
              "      <td>V / A Trance Essentials 2015 1 2CD (digipack)</td>\n",
              "      <td>55</td>\n",
              "      <td>Music - CD of local production</td>\n",
              "      <td>Yaroslavl shopping center \"Altair\"</td>\n",
              "      <td>2015</td>\n",
              "      <td>5</td>\n",
              "      <td>28</td>\n",
              "      <td>349.0</td>\n",
              "      <td>88</td>\n",
              "      <td>05-2015</td>\n",
              "      <td>50.513</td>\n",
              "      <td>6.909113</td>\n",
              "      <td>17</td>\n",
              "    </tr>\n",
              "    <tr>\n",
              "      <th>396556</th>\n",
              "      <td>2015-05-28</td>\n",
              "      <td>28</td>\n",
              "      <td>59</td>\n",
              "      <td>5336</td>\n",
              "      <td>299.0</td>\n",
              "      <td>1.0</td>\n",
              "      <td>OST Furious 7</td>\n",
              "      <td>55</td>\n",
              "      <td>Music - CD of local production</td>\n",
              "      <td>Yaroslavl shopping center \"Altair\"</td>\n",
              "      <td>2015</td>\n",
              "      <td>5</td>\n",
              "      <td>28</td>\n",
              "      <td>299.0</td>\n",
              "      <td>76</td>\n",
              "      <td>05-2015</td>\n",
              "      <td>50.513</td>\n",
              "      <td>5.919268</td>\n",
              "      <td>17</td>\n",
              "    </tr>\n",
              "    <tr>\n",
              "      <th>396557</th>\n",
              "      <td>2015-05-28</td>\n",
              "      <td>28</td>\n",
              "      <td>59</td>\n",
              "      <td>6312</td>\n",
              "      <td>299.0</td>\n",
              "      <td>1.0</td>\n",
              "      <td>SNOOP DOGG Bush</td>\n",
              "      <td>55</td>\n",
              "      <td>Music - CD of local production</td>\n",
              "      <td>Yaroslavl shopping center \"Altair\"</td>\n",
              "      <td>2015</td>\n",
              "      <td>5</td>\n",
              "      <td>28</td>\n",
              "      <td>299.0</td>\n",
              "      <td>60</td>\n",
              "      <td>05-2015</td>\n",
              "      <td>50.513</td>\n",
              "      <td>5.919268</td>\n",
              "      <td>17</td>\n",
              "    </tr>\n",
              "  </tbody>\n",
              "</table>\n",
              "</div>"
            ],
            "text/plain": [
              "             date  date_block_num  shop_id  ...  USD_RUS  USD_Price  month_id\n",
              "396553 2015-05-28              28       59  ...   50.513   2.929939        17\n",
              "396554 2015-05-28              28       59  ...   50.513   5.919268        17\n",
              "396555 2015-05-28              28       59  ...   50.513   6.909113        17\n",
              "396556 2015-05-28              28       59  ...   50.513   5.919268        17\n",
              "396557 2015-05-28              28       59  ...   50.513   5.919268        17\n",
              "\n",
              "[5 rows x 19 columns]"
            ]
          },
          "metadata": {
            "tags": []
          },
          "execution_count": 12
        }
      ]
    },
    {
      "cell_type": "markdown",
      "metadata": {
        "id": "YTz2gMkTrh2Y"
      },
      "source": [
        "#creating pivot table on 'month' and 'year' columns"
      ]
    },
    {
      "cell_type": "markdown",
      "metadata": {
        "id": "z1sd__vlUmpu"
      },
      "source": [
        "item_sales_by_month = salestrain_df_combined.pivot_table(index = 'item_id', columns = ['month', 'year'], values = 'item_cnt_day', aggfunc = np.sum)"
      ]
    },
    {
      "cell_type": "markdown",
      "metadata": {
        "id": "MCoSUA4mWC2e"
      },
      "source": [
        "## filling in all null values with 0\n",
        "item_sales_by_month.fillna(0, inplace = True)"
      ]
    },
    {
      "cell_type": "markdown",
      "metadata": {
        "id": "XrdBx78mWJte",
        "outputId": "6ed9f6ea-bf58-4298-866f-56fece4f36a7"
      },
      "source": [
        "## checking head of the pivot table\n",
        "item_sales_by_month.head()"
      ]
    },
    {
      "cell_type": "markdown",
      "metadata": {
        "id": "UmGZir4Xkjxo"
      },
      "source": [
        "There were two sales of item id 1 in month 4 of year 2014"
      ]
    },
    {
      "cell_type": "markdown",
      "metadata": {
        "id": "n5tpWFvBWRde"
      },
      "source": [
        "## unstacking the pivot table above and resetting the index\n",
        "item_sales_by_month = item_sales_by_month.unstack().reset_index()"
      ]
    },
    {
      "cell_type": "markdown",
      "metadata": {
        "id": "eHGkHHI2YEro",
        "outputId": "5338d707-a7a4-47fd-8d9f-b6aa501a9f9a"
      },
      "source": [
        "## checking new df head - note strange 0 column\n",
        "item_sales_by_month.head()"
      ]
    },
    {
      "cell_type": "markdown",
      "metadata": {
        "id": "kF8zmS6lXHn4"
      },
      "source": [
        "## renaming strange 0 columm to 'Item_Sales_This_Month?' - need clarification on column name\n",
        "item_sales_by_month.rename({0:'Item_Sales_This_Month'}, axis = 'columns', inplace = True)"
      ]
    },
    {
      "cell_type": "markdown",
      "metadata": {
        "id": "JfKdRqYVWmjl"
      },
      "source": [
        "## sorting table by item_id then year then month\n",
        "item_sales_by_month.sort_values(by = ['item_id','year','month'], inplace = True)"
      ]
    },
    {
      "cell_type": "markdown",
      "metadata": {
        "id": "LO4V11DYXce-",
        "outputId": "19578bed-dae4-4ace-f5d7-62cc88014ac1"
      },
      "source": [
        "## checking modified df\n",
        "item_sales_by_month.head()"
      ]
    },
    {
      "cell_type": "markdown",
      "metadata": {
        "id": "DuVTXMnY7L3d",
        "outputId": "8bea8286-52c1-48ba-c73c-e1c89b24ada0"
      },
      "source": [
        "item_sales_by_month.item_id.nunique()"
      ]
    },
    {
      "cell_type": "markdown",
      "metadata": {
        "id": "cdk6j9rS7TGl",
        "outputId": "45d542d8-4d77-4870-9b91-1363599d2343"
      },
      "source": [
        "## Check to make sure we have 36*item_id number of rows - one for each month in 2015-2015\n",
        "len(item_sales_by_month)/21059"
      ]
    },
    {
      "cell_type": "markdown",
      "metadata": {
        "id": "DqZtEMMIZz6f"
      },
      "source": [
        "## creating new column lags for 1, 2, 3, 6, 12 months\n",
        "for i in [1, 2, 3, 6, 12]:\n",
        "  item_sales_by_month[str(i)+'_month_ago'] = item_sales_by_month['Item_Sales_This_Month'].shift(i)"
      ]
    },
    {
      "cell_type": "markdown",
      "metadata": {
        "id": "PPjOMkfdaLf2",
        "outputId": "99faa74c-f13b-43f3-8626-d61087fa62dd"
      },
      "source": [
        "## checking newly added lags on item id '22167' because it has a lot of sales and we can see values clearly\n",
        "item_sales_by_month[item_sales_by_month.item_id == 22167].head(13)"
      ]
    },
    {
      "cell_type": "markdown",
      "metadata": {
        "id": "TLFWRee3UnUG"
      },
      "source": [
        "item_sales_by_month = item_sales_by_month[item_sales_by_month['year'] > 2013]"
      ]
    },
    {
      "cell_type": "code",
      "metadata": {
        "id": "Q_t6rVQGU46J"
      },
      "source": [
        "#item_sales_by_month['month_id'] = item_sales_by_month.apply(lambda x: x.month + (x.year - 2013) * 12, axis=1)"
      ],
      "execution_count": 13,
      "outputs": []
    },
    {
      "cell_type": "code",
      "metadata": {
        "id": "C4ieDa6cVrKm"
      },
      "source": [
        "#item_sales_by_month = item_sales_by_month[['1_month_ago', '2_month_ago', '3_month_ago','6_month_ago', '12_month_ago', 'month_id', 'month', 'year', 'item_id', 'Item_Sales_This_Month']].astype(int)"
      ],
      "execution_count": 14,
      "outputs": []
    },
    {
      "cell_type": "code",
      "metadata": {
        "id": "efVcRaIoXdk5"
      },
      "source": [
        "#item_sales_by_month.head(10)"
      ],
      "execution_count": 15,
      "outputs": []
    },
    {
      "cell_type": "markdown",
      "metadata": {
        "id": "I9_tqfMeS4mF"
      },
      "source": [
        "# Lagging Features"
      ]
    },
    {
      "cell_type": "markdown",
      "metadata": {
        "id": "epudGsi3S9Ww"
      },
      "source": [
        "*   Item Sales Lag (1, 2, 3, 6 , 12 months)\n",
        "*   Combination of Items and Shops\n",
        "*   Shop Sales Lag\n",
        "*   Shop-Category Lag"
      ]
    },
    {
      "cell_type": "markdown",
      "metadata": {
        "id": "onuC0l7t-IXh"
      },
      "source": [
        "## creating lag features based on date"
      ]
    },
    {
      "cell_type": "markdown",
      "metadata": {
        "id": "hjnIPzoX91P_"
      },
      "source": [
        "## creating store_id + item_id based lag features"
      ]
    },
    {
      "cell_type": "code",
      "metadata": {
        "colab": {
          "base_uri": "https://localhost:8080/"
        },
        "id": "HL129Iut-ght",
        "outputId": "213b954e-712f-488c-a125-d872b46e389a"
      },
      "source": [
        "salestrain_df_combined.dtypes"
      ],
      "execution_count": 17,
      "outputs": [
        {
          "output_type": "execute_result",
          "data": {
            "text/plain": [
              "date                  datetime64[ns]\n",
              "date_block_num                 int64\n",
              "shop_id                        int64\n",
              "item_id                        int64\n",
              "item_price                   float64\n",
              "item_cnt_day                 float64\n",
              "item_name                     object\n",
              "item_category_id               int64\n",
              "item_category_name            object\n",
              "shop_name                     object\n",
              "year                           int64\n",
              "month                          int64\n",
              "day                            int64\n",
              "revenue                      float64\n",
              "Random                         int64\n",
              "month-year                    object\n",
              "USD_RUS                      float64\n",
              "USD_Price                    float64\n",
              "month_id                       int64\n",
              "dtype: object"
            ]
          },
          "metadata": {
            "tags": []
          },
          "execution_count": 17
        }
      ]
    },
    {
      "cell_type": "code",
      "metadata": {
        "colab": {
          "base_uri": "https://localhost:8080/",
          "height": 1000
        },
        "id": "DtZoaCXz-mqf",
        "outputId": "5b285fec-6503-44ea-92ee-d7f17a20ddb6"
      },
      "source": [
        "# changing data types to save space\n",
        "salestrain_df_combined.astype({'date_block_num': 'int16', 'shop_id':'int16', 'item_id':'int16', 'item_price':'float16', 'item_cnt_day':'float16', \n",
        "                              'item_category_id':'int16', 'year':'int16', 'month':'int16', 'day':'int16', 'revenue':'float16', 'Random':'int16', \n",
        "                              'USD_RUS':'float16', 'USD_Price':'float16', 'month_id':'int16'})"
      ],
      "execution_count": 21,
      "outputs": [
        {
          "output_type": "execute_result",
          "data": {
            "text/html": [
              "<div>\n",
              "<style scoped>\n",
              "    .dataframe tbody tr th:only-of-type {\n",
              "        vertical-align: middle;\n",
              "    }\n",
              "\n",
              "    .dataframe tbody tr th {\n",
              "        vertical-align: top;\n",
              "    }\n",
              "\n",
              "    .dataframe thead th {\n",
              "        text-align: right;\n",
              "    }\n",
              "</style>\n",
              "<table border=\"1\" class=\"dataframe\">\n",
              "  <thead>\n",
              "    <tr style=\"text-align: right;\">\n",
              "      <th></th>\n",
              "      <th>date</th>\n",
              "      <th>date_block_num</th>\n",
              "      <th>shop_id</th>\n",
              "      <th>item_id</th>\n",
              "      <th>item_price</th>\n",
              "      <th>item_cnt_day</th>\n",
              "      <th>item_name</th>\n",
              "      <th>item_category_id</th>\n",
              "      <th>item_category_name</th>\n",
              "      <th>shop_name</th>\n",
              "      <th>year</th>\n",
              "      <th>month</th>\n",
              "      <th>day</th>\n",
              "      <th>revenue</th>\n",
              "      <th>Random</th>\n",
              "      <th>month-year</th>\n",
              "      <th>USD_RUS</th>\n",
              "      <th>USD_Price</th>\n",
              "      <th>month_id</th>\n",
              "    </tr>\n",
              "  </thead>\n",
              "  <tbody>\n",
              "    <tr>\n",
              "      <th>0</th>\n",
              "      <td>2013-02-01</td>\n",
              "      <td>0</td>\n",
              "      <td>59</td>\n",
              "      <td>22154</td>\n",
              "      <td>999.0</td>\n",
              "      <td>1.0</td>\n",
              "      <td>Scene 2012 (BD)</td>\n",
              "      <td>37</td>\n",
              "      <td>Movie - Blu-Ray</td>\n",
              "      <td>Yaroslavl shopping center \"Altair\"</td>\n",
              "      <td>2013</td>\n",
              "      <td>2</td>\n",
              "      <td>1</td>\n",
              "      <td>999.0</td>\n",
              "      <td>3</td>\n",
              "      <td>02-2013</td>\n",
              "      <td>29.984375</td>\n",
              "      <td>33.312500</td>\n",
              "      <td>-10</td>\n",
              "    </tr>\n",
              "    <tr>\n",
              "      <th>1</th>\n",
              "      <td>2013-02-01</td>\n",
              "      <td>0</td>\n",
              "      <td>59</td>\n",
              "      <td>17482</td>\n",
              "      <td>599.5</td>\n",
              "      <td>1.0</td>\n",
              "      <td>PROMETEY (BD)</td>\n",
              "      <td>37</td>\n",
              "      <td>Movie - Blu-Ray</td>\n",
              "      <td>Yaroslavl shopping center \"Altair\"</td>\n",
              "      <td>2013</td>\n",
              "      <td>2</td>\n",
              "      <td>1</td>\n",
              "      <td>599.5</td>\n",
              "      <td>37</td>\n",
              "      <td>02-2013</td>\n",
              "      <td>29.984375</td>\n",
              "      <td>19.984375</td>\n",
              "      <td>-10</td>\n",
              "    </tr>\n",
              "    <tr>\n",
              "      <th>2</th>\n",
              "      <td>2013-02-01</td>\n",
              "      <td>0</td>\n",
              "      <td>59</td>\n",
              "      <td>16626</td>\n",
              "      <td>312.0</td>\n",
              "      <td>1.0</td>\n",
              "      <td>OPINION (BD)</td>\n",
              "      <td>37</td>\n",
              "      <td>Movie - Blu-Ray</td>\n",
              "      <td>Yaroslavl shopping center \"Altair\"</td>\n",
              "      <td>2013</td>\n",
              "      <td>2</td>\n",
              "      <td>1</td>\n",
              "      <td>312.0</td>\n",
              "      <td>5</td>\n",
              "      <td>02-2013</td>\n",
              "      <td>29.984375</td>\n",
              "      <td>10.406250</td>\n",
              "      <td>-10</td>\n",
              "    </tr>\n",
              "    <tr>\n",
              "      <th>3</th>\n",
              "      <td>2013-02-01</td>\n",
              "      <td>0</td>\n",
              "      <td>59</td>\n",
              "      <td>17491</td>\n",
              "      <td>199.0</td>\n",
              "      <td>1.0</td>\n",
              "      <td>PROFESSIONAL (BD)</td>\n",
              "      <td>37</td>\n",
              "      <td>Movie - Blu-Ray</td>\n",
              "      <td>Yaroslavl shopping center \"Altair\"</td>\n",
              "      <td>2013</td>\n",
              "      <td>2</td>\n",
              "      <td>1</td>\n",
              "      <td>199.0</td>\n",
              "      <td>51</td>\n",
              "      <td>02-2013</td>\n",
              "      <td>29.984375</td>\n",
              "      <td>6.636719</td>\n",
              "      <td>-10</td>\n",
              "    </tr>\n",
              "    <tr>\n",
              "      <th>4</th>\n",
              "      <td>2013-02-01</td>\n",
              "      <td>0</td>\n",
              "      <td>59</td>\n",
              "      <td>8714</td>\n",
              "      <td>199.0</td>\n",
              "      <td>1.0</td>\n",
              "      <td>NO COMPROMISES (BD)</td>\n",
              "      <td>37</td>\n",
              "      <td>Movie - Blu-Ray</td>\n",
              "      <td>Yaroslavl shopping center \"Altair\"</td>\n",
              "      <td>2013</td>\n",
              "      <td>2</td>\n",
              "      <td>1</td>\n",
              "      <td>199.0</td>\n",
              "      <td>52</td>\n",
              "      <td>02-2013</td>\n",
              "      <td>29.984375</td>\n",
              "      <td>6.636719</td>\n",
              "      <td>-10</td>\n",
              "    </tr>\n",
              "    <tr>\n",
              "      <th>...</th>\n",
              "      <td>...</td>\n",
              "      <td>...</td>\n",
              "      <td>...</td>\n",
              "      <td>...</td>\n",
              "      <td>...</td>\n",
              "      <td>...</td>\n",
              "      <td>...</td>\n",
              "      <td>...</td>\n",
              "      <td>...</td>\n",
              "      <td>...</td>\n",
              "      <td>...</td>\n",
              "      <td>...</td>\n",
              "      <td>...</td>\n",
              "      <td>...</td>\n",
              "      <td>...</td>\n",
              "      <td>...</td>\n",
              "      <td>...</td>\n",
              "      <td>...</td>\n",
              "      <td>...</td>\n",
              "    </tr>\n",
              "    <tr>\n",
              "      <th>1927068</th>\n",
              "      <td>2013-01-01</td>\n",
              "      <td>0</td>\n",
              "      <td>14</td>\n",
              "      <td>16203</td>\n",
              "      <td>599.0</td>\n",
              "      <td>1.0</td>\n",
              "      <td>Board game Russkiy Preferans, art. 1969</td>\n",
              "      <td>64</td>\n",
              "      <td>Gifts - Board Games</td>\n",
              "      <td>Kazan shopping mall of \"Parkhouse\" II of</td>\n",
              "      <td>2013</td>\n",
              "      <td>1</td>\n",
              "      <td>1</td>\n",
              "      <td>599.0</td>\n",
              "      <td>19</td>\n",
              "      <td>01-2013</td>\n",
              "      <td>30.500000</td>\n",
              "      <td>19.640625</td>\n",
              "      <td>-11</td>\n",
              "    </tr>\n",
              "    <tr>\n",
              "      <th>1927069</th>\n",
              "      <td>2013-01-01</td>\n",
              "      <td>0</td>\n",
              "      <td>14</td>\n",
              "      <td>15438</td>\n",
              "      <td>599.0</td>\n",
              "      <td>1.0</td>\n",
              "      <td>Toy Sojuzmultfilm Pooh music</td>\n",
              "      <td>63</td>\n",
              "      <td>Gifts - Soft Toys</td>\n",
              "      <td>Kazan shopping mall of \"Parkhouse\" II of</td>\n",
              "      <td>2013</td>\n",
              "      <td>1</td>\n",
              "      <td>1</td>\n",
              "      <td>599.0</td>\n",
              "      <td>66</td>\n",
              "      <td>01-2013</td>\n",
              "      <td>30.500000</td>\n",
              "      <td>19.640625</td>\n",
              "      <td>-11</td>\n",
              "    </tr>\n",
              "    <tr>\n",
              "      <th>1927070</th>\n",
              "      <td>2013-01-01</td>\n",
              "      <td>0</td>\n",
              "      <td>14</td>\n",
              "      <td>9362</td>\n",
              "      <td>299.0</td>\n",
              "      <td>1.0</td>\n",
              "      <td>Keychain Sochi 2014 White bear with scarf 12cm</td>\n",
              "      <td>70</td>\n",
              "      <td>Gifts - Souvenirs (weighed in)</td>\n",
              "      <td>Kazan shopping mall of \"Parkhouse\" II of</td>\n",
              "      <td>2013</td>\n",
              "      <td>1</td>\n",
              "      <td>1</td>\n",
              "      <td>299.0</td>\n",
              "      <td>77</td>\n",
              "      <td>01-2013</td>\n",
              "      <td>30.500000</td>\n",
              "      <td>9.804688</td>\n",
              "      <td>-11</td>\n",
              "    </tr>\n",
              "    <tr>\n",
              "      <th>1927071</th>\n",
              "      <td>2013-01-01</td>\n",
              "      <td>0</td>\n",
              "      <td>14</td>\n",
              "      <td>22088</td>\n",
              "      <td>79.0</td>\n",
              "      <td>2.0</td>\n",
              "      <td>Battery DURACELL LR06-BC2</td>\n",
              "      <td>83</td>\n",
              "      <td>batteries</td>\n",
              "      <td>Kazan shopping mall of \"Parkhouse\" II of</td>\n",
              "      <td>2013</td>\n",
              "      <td>1</td>\n",
              "      <td>1</td>\n",
              "      <td>158.0</td>\n",
              "      <td>57</td>\n",
              "      <td>01-2013</td>\n",
              "      <td>30.500000</td>\n",
              "      <td>2.589844</td>\n",
              "      <td>-11</td>\n",
              "    </tr>\n",
              "    <tr>\n",
              "      <th>1927072</th>\n",
              "      <td>2013-01-01</td>\n",
              "      <td>0</td>\n",
              "      <td>14</td>\n",
              "      <td>20384</td>\n",
              "      <td>1599.0</td>\n",
              "      <td>1.0</td>\n",
              "      <td>Figurine Assassin's Creed III Connor The Hunte...</td>\n",
              "      <td>72</td>\n",
              "      <td>Gifts - Figures</td>\n",
              "      <td>Kazan shopping mall of \"Parkhouse\" II of</td>\n",
              "      <td>2013</td>\n",
              "      <td>1</td>\n",
              "      <td>1</td>\n",
              "      <td>1599.0</td>\n",
              "      <td>89</td>\n",
              "      <td>01-2013</td>\n",
              "      <td>30.500000</td>\n",
              "      <td>52.437500</td>\n",
              "      <td>-11</td>\n",
              "    </tr>\n",
              "  </tbody>\n",
              "</table>\n",
              "<p>1927068 rows × 19 columns</p>\n",
              "</div>"
            ],
            "text/plain": [
              "              date  date_block_num  shop_id  ...    USD_RUS  USD_Price  month_id\n",
              "0       2013-02-01               0       59  ...  29.984375  33.312500       -10\n",
              "1       2013-02-01               0       59  ...  29.984375  19.984375       -10\n",
              "2       2013-02-01               0       59  ...  29.984375  10.406250       -10\n",
              "3       2013-02-01               0       59  ...  29.984375   6.636719       -10\n",
              "4       2013-02-01               0       59  ...  29.984375   6.636719       -10\n",
              "...            ...             ...      ...  ...        ...        ...       ...\n",
              "1927068 2013-01-01               0       14  ...  30.500000  19.640625       -11\n",
              "1927069 2013-01-01               0       14  ...  30.500000  19.640625       -11\n",
              "1927070 2013-01-01               0       14  ...  30.500000   9.804688       -11\n",
              "1927071 2013-01-01               0       14  ...  30.500000   2.589844       -11\n",
              "1927072 2013-01-01               0       14  ...  30.500000  52.437500       -11\n",
              "\n",
              "[1927068 rows x 19 columns]"
            ]
          },
          "metadata": {
            "tags": []
          },
          "execution_count": 21
        }
      ]
    },
    {
      "cell_type": "code",
      "metadata": {
        "id": "RzVjPrZ0rgMd"
      },
      "source": [
        "def make_lag_features(df = salestrain_df_combined, target_column='item_cnt_day', group_bys = ['item_id', 'shop_id']):\n",
        "  #Make a list of columns we want to keep from the df\n",
        "  group_by_cols = group_bys.copy()\n",
        "  group_by_cols.append('year')\n",
        "  group_by_cols.append('month')\n",
        "  group_by_cols.append('month_id')\n",
        "  group_by_cols.append(target_column)\n",
        "\n",
        "  #Make a dataframe with just the columns we need\n",
        "  tmp_df=df[group_by_cols]\n",
        "\n",
        "  #Sort by group_by_vars, then month and year\n",
        "  tmp_df.sort_values(by = group_by_cols, inplace = True)\n",
        "\n",
        "  #Pivot Table\n",
        "  tmp_df = tmp_df.pivot_table(index = group_bys, columns = 'month_id', values = target_column, aggfunc = np.sum)\n",
        "  tmp_df = tmp_df.reindex(pd.MultiIndex.from_product(tmp_df.index.levels, names = tmp_df.index.names))\n",
        "\n",
        "  #Fill NAs with zeros\n",
        "  tmp_df.fillna(0, inplace = True)\n",
        "\n",
        "  # stacking the multilevel's x2 and resetting the index\n",
        "  tmp_df = tmp_df.stack().reset_index()\n",
        "\n",
        "  # renaming the calculated column to 'item_cnt_month_shop_id'\n",
        "  lag_feature_name = 'By_'\n",
        "\n",
        "  #Build the target column name\n",
        "  for item in group_bys:\n",
        "    lag_feature_name = lag_feature_name+item+'-'\n",
        "\n",
        "  lag_feature_name=lag_feature_name[:-1]\n",
        "\n",
        "  #Rename the '0' column with the name of the group_bys\n",
        "  tmp_df.rename({0:lag_feature_name}, inplace = True, axis = 1)\n",
        "\n",
        "  # looping through number dictionary to add 1,2,3,6,12 month lags to columns\n",
        "  for i in np.arange(1,12+1):\n",
        "    tmp_df[lag_feature_name + '_' + str(i) + '_month_ago'] = tmp_df[lag_feature_name].shift(i)\n",
        "\n",
        "  # removing year 2013 because there are NaN values in lagged columns \n",
        "  tmp_df = tmp_df.loc[tmp_df['month_id'] > 0]\n",
        "\n",
        "  return tmp_df"
      ],
      "execution_count": null,
      "outputs": []
    },
    {
      "cell_type": "code",
      "metadata": {
        "colab": {
          "base_uri": "https://localhost:8080/",
          "height": 546
        },
        "id": "EuxnBROCvP2L",
        "outputId": "740a16de-7217-414a-8c5a-e3eb3bcac267"
      },
      "source": [
        "make_lag_features()"
      ],
      "execution_count": null,
      "outputs": [
        {
          "output_type": "stream",
          "text": [
            "<ipython-input-67-b02bd1a58772>:13: SettingWithCopyWarning: \n",
            "A value is trying to be set on a copy of a slice from a DataFrame\n",
            "\n",
            "See the caveats in the documentation: https://pandas.pydata.org/pandas-docs/stable/user_guide/indexing.html#returning-a-view-versus-a-copy\n",
            "  tmp_df.sort_values(by = group_by_cols, inplace = True)\n"
          ],
          "name": "stderr"
        },
        {
          "output_type": "execute_result",
          "data": {
            "text/plain": [
              "          item_id  shop_id  month_id  By_item_id-shop_id  \\\n",
              "12              0        0         1                 0.0   \n",
              "13              0        0         2                 0.0   \n",
              "14              0        0         3                 0.0   \n",
              "15              0        0         4                 0.0   \n",
              "16              0        0         5                 0.0   \n",
              "...           ...      ...       ...                 ...   \n",
              "45489595    22169       59        20                 0.0   \n",
              "45489596    22169       59        21                 0.0   \n",
              "45489597    22169       59        22                 0.0   \n",
              "45489598    22169       59        23                 0.0   \n",
              "45489599    22169       59        24                 0.0   \n",
              "\n",
              "          By_item_id-shop_id_1_month_ago  By_item_id-shop_id_2_month_ago  \\\n",
              "12                                   0.0                             0.0   \n",
              "13                                   0.0                             0.0   \n",
              "14                                   0.0                             0.0   \n",
              "15                                   0.0                             0.0   \n",
              "16                                   0.0                             0.0   \n",
              "...                                  ...                             ...   \n",
              "45489595                             0.0                             0.0   \n",
              "45489596                             0.0                             0.0   \n",
              "45489597                             0.0                             0.0   \n",
              "45489598                             0.0                             0.0   \n",
              "45489599                             0.0                             0.0   \n",
              "\n",
              "          By_item_id-shop_id_3_month_ago  By_item_id-shop_id_4_month_ago  \\\n",
              "12                                   0.0                             0.0   \n",
              "13                                   0.0                             0.0   \n",
              "14                                   0.0                             0.0   \n",
              "15                                   0.0                             0.0   \n",
              "16                                   0.0                             0.0   \n",
              "...                                  ...                             ...   \n",
              "45489595                             0.0                             0.0   \n",
              "45489596                             0.0                             0.0   \n",
              "45489597                             0.0                             0.0   \n",
              "45489598                             0.0                             0.0   \n",
              "45489599                             0.0                             0.0   \n",
              "\n",
              "          By_item_id-shop_id_5_month_ago  By_item_id-shop_id_6_month_ago  \\\n",
              "12                                   0.0                             0.0   \n",
              "13                                   0.0                             0.0   \n",
              "14                                   0.0                             0.0   \n",
              "15                                   0.0                             0.0   \n",
              "16                                   0.0                             0.0   \n",
              "...                                  ...                             ...   \n",
              "45489595                             0.0                             0.0   \n",
              "45489596                             0.0                             0.0   \n",
              "45489597                             0.0                             0.0   \n",
              "45489598                             0.0                             0.0   \n",
              "45489599                             0.0                             0.0   \n",
              "\n",
              "          By_item_id-shop_id_7_month_ago  By_item_id-shop_id_8_month_ago  \\\n",
              "12                                   0.0                             0.0   \n",
              "13                                   0.0                             0.0   \n",
              "14                                   0.0                             0.0   \n",
              "15                                   0.0                             0.0   \n",
              "16                                   0.0                             0.0   \n",
              "...                                  ...                             ...   \n",
              "45489595                             0.0                             0.0   \n",
              "45489596                             0.0                             0.0   \n",
              "45489597                             0.0                             0.0   \n",
              "45489598                             0.0                             0.0   \n",
              "45489599                             0.0                             0.0   \n",
              "\n",
              "          By_item_id-shop_id_9_month_ago  By_item_id-shop_id_10_month_ago  \\\n",
              "12                                   0.0                              0.0   \n",
              "13                                   0.0                              0.0   \n",
              "14                                   0.0                              0.0   \n",
              "15                                   0.0                              0.0   \n",
              "16                                   0.0                              0.0   \n",
              "...                                  ...                              ...   \n",
              "45489595                             0.0                              0.0   \n",
              "45489596                             0.0                              0.0   \n",
              "45489597                             0.0                              0.0   \n",
              "45489598                             0.0                              0.0   \n",
              "45489599                             0.0                              0.0   \n",
              "\n",
              "          By_item_id-shop_id_11_month_ago  By_item_id-shop_id_12_month_ago  \n",
              "12                                    0.0                              0.0  \n",
              "13                                    0.0                              0.0  \n",
              "14                                    0.0                              0.0  \n",
              "15                                    0.0                              0.0  \n",
              "16                                    0.0                              0.0  \n",
              "...                                   ...                              ...  \n",
              "45489595                              0.0                              0.0  \n",
              "45489596                              0.0                              0.0  \n",
              "45489597                              0.0                              0.0  \n",
              "45489598                              0.0                              0.0  \n",
              "45489599                              0.0                              0.0  \n",
              "\n",
              "[30326400 rows x 16 columns]"
            ],
            "text/html": [
              "<div>\n",
              "<style scoped>\n",
              "    .dataframe tbody tr th:only-of-type {\n",
              "        vertical-align: middle;\n",
              "    }\n",
              "\n",
              "    .dataframe tbody tr th {\n",
              "        vertical-align: top;\n",
              "    }\n",
              "\n",
              "    .dataframe thead th {\n",
              "        text-align: right;\n",
              "    }\n",
              "</style>\n",
              "<table border=\"1\" class=\"dataframe\">\n",
              "  <thead>\n",
              "    <tr style=\"text-align: right;\">\n",
              "      <th></th>\n",
              "      <th>item_id</th>\n",
              "      <th>shop_id</th>\n",
              "      <th>month_id</th>\n",
              "      <th>By_item_id-shop_id</th>\n",
              "      <th>By_item_id-shop_id_1_month_ago</th>\n",
              "      <th>By_item_id-shop_id_2_month_ago</th>\n",
              "      <th>By_item_id-shop_id_3_month_ago</th>\n",
              "      <th>By_item_id-shop_id_4_month_ago</th>\n",
              "      <th>By_item_id-shop_id_5_month_ago</th>\n",
              "      <th>By_item_id-shop_id_6_month_ago</th>\n",
              "      <th>By_item_id-shop_id_7_month_ago</th>\n",
              "      <th>By_item_id-shop_id_8_month_ago</th>\n",
              "      <th>By_item_id-shop_id_9_month_ago</th>\n",
              "      <th>By_item_id-shop_id_10_month_ago</th>\n",
              "      <th>By_item_id-shop_id_11_month_ago</th>\n",
              "      <th>By_item_id-shop_id_12_month_ago</th>\n",
              "    </tr>\n",
              "  </thead>\n",
              "  <tbody>\n",
              "    <tr>\n",
              "      <th>12</th>\n",
              "      <td>0</td>\n",
              "      <td>0</td>\n",
              "      <td>1</td>\n",
              "      <td>0.0</td>\n",
              "      <td>0.0</td>\n",
              "      <td>0.0</td>\n",
              "      <td>0.0</td>\n",
              "      <td>0.0</td>\n",
              "      <td>0.0</td>\n",
              "      <td>0.0</td>\n",
              "      <td>0.0</td>\n",
              "      <td>0.0</td>\n",
              "      <td>0.0</td>\n",
              "      <td>0.0</td>\n",
              "      <td>0.0</td>\n",
              "      <td>0.0</td>\n",
              "    </tr>\n",
              "    <tr>\n",
              "      <th>13</th>\n",
              "      <td>0</td>\n",
              "      <td>0</td>\n",
              "      <td>2</td>\n",
              "      <td>0.0</td>\n",
              "      <td>0.0</td>\n",
              "      <td>0.0</td>\n",
              "      <td>0.0</td>\n",
              "      <td>0.0</td>\n",
              "      <td>0.0</td>\n",
              "      <td>0.0</td>\n",
              "      <td>0.0</td>\n",
              "      <td>0.0</td>\n",
              "      <td>0.0</td>\n",
              "      <td>0.0</td>\n",
              "      <td>0.0</td>\n",
              "      <td>0.0</td>\n",
              "    </tr>\n",
              "    <tr>\n",
              "      <th>14</th>\n",
              "      <td>0</td>\n",
              "      <td>0</td>\n",
              "      <td>3</td>\n",
              "      <td>0.0</td>\n",
              "      <td>0.0</td>\n",
              "      <td>0.0</td>\n",
              "      <td>0.0</td>\n",
              "      <td>0.0</td>\n",
              "      <td>0.0</td>\n",
              "      <td>0.0</td>\n",
              "      <td>0.0</td>\n",
              "      <td>0.0</td>\n",
              "      <td>0.0</td>\n",
              "      <td>0.0</td>\n",
              "      <td>0.0</td>\n",
              "      <td>0.0</td>\n",
              "    </tr>\n",
              "    <tr>\n",
              "      <th>15</th>\n",
              "      <td>0</td>\n",
              "      <td>0</td>\n",
              "      <td>4</td>\n",
              "      <td>0.0</td>\n",
              "      <td>0.0</td>\n",
              "      <td>0.0</td>\n",
              "      <td>0.0</td>\n",
              "      <td>0.0</td>\n",
              "      <td>0.0</td>\n",
              "      <td>0.0</td>\n",
              "      <td>0.0</td>\n",
              "      <td>0.0</td>\n",
              "      <td>0.0</td>\n",
              "      <td>0.0</td>\n",
              "      <td>0.0</td>\n",
              "      <td>0.0</td>\n",
              "    </tr>\n",
              "    <tr>\n",
              "      <th>16</th>\n",
              "      <td>0</td>\n",
              "      <td>0</td>\n",
              "      <td>5</td>\n",
              "      <td>0.0</td>\n",
              "      <td>0.0</td>\n",
              "      <td>0.0</td>\n",
              "      <td>0.0</td>\n",
              "      <td>0.0</td>\n",
              "      <td>0.0</td>\n",
              "      <td>0.0</td>\n",
              "      <td>0.0</td>\n",
              "      <td>0.0</td>\n",
              "      <td>0.0</td>\n",
              "      <td>0.0</td>\n",
              "      <td>0.0</td>\n",
              "      <td>0.0</td>\n",
              "    </tr>\n",
              "    <tr>\n",
              "      <th>...</th>\n",
              "      <td>...</td>\n",
              "      <td>...</td>\n",
              "      <td>...</td>\n",
              "      <td>...</td>\n",
              "      <td>...</td>\n",
              "      <td>...</td>\n",
              "      <td>...</td>\n",
              "      <td>...</td>\n",
              "      <td>...</td>\n",
              "      <td>...</td>\n",
              "      <td>...</td>\n",
              "      <td>...</td>\n",
              "      <td>...</td>\n",
              "      <td>...</td>\n",
              "      <td>...</td>\n",
              "      <td>...</td>\n",
              "    </tr>\n",
              "    <tr>\n",
              "      <th>45489595</th>\n",
              "      <td>22169</td>\n",
              "      <td>59</td>\n",
              "      <td>20</td>\n",
              "      <td>0.0</td>\n",
              "      <td>0.0</td>\n",
              "      <td>0.0</td>\n",
              "      <td>0.0</td>\n",
              "      <td>0.0</td>\n",
              "      <td>0.0</td>\n",
              "      <td>0.0</td>\n",
              "      <td>0.0</td>\n",
              "      <td>0.0</td>\n",
              "      <td>0.0</td>\n",
              "      <td>0.0</td>\n",
              "      <td>0.0</td>\n",
              "      <td>0.0</td>\n",
              "    </tr>\n",
              "    <tr>\n",
              "      <th>45489596</th>\n",
              "      <td>22169</td>\n",
              "      <td>59</td>\n",
              "      <td>21</td>\n",
              "      <td>0.0</td>\n",
              "      <td>0.0</td>\n",
              "      <td>0.0</td>\n",
              "      <td>0.0</td>\n",
              "      <td>0.0</td>\n",
              "      <td>0.0</td>\n",
              "      <td>0.0</td>\n",
              "      <td>0.0</td>\n",
              "      <td>0.0</td>\n",
              "      <td>0.0</td>\n",
              "      <td>0.0</td>\n",
              "      <td>0.0</td>\n",
              "      <td>0.0</td>\n",
              "    </tr>\n",
              "    <tr>\n",
              "      <th>45489597</th>\n",
              "      <td>22169</td>\n",
              "      <td>59</td>\n",
              "      <td>22</td>\n",
              "      <td>0.0</td>\n",
              "      <td>0.0</td>\n",
              "      <td>0.0</td>\n",
              "      <td>0.0</td>\n",
              "      <td>0.0</td>\n",
              "      <td>0.0</td>\n",
              "      <td>0.0</td>\n",
              "      <td>0.0</td>\n",
              "      <td>0.0</td>\n",
              "      <td>0.0</td>\n",
              "      <td>0.0</td>\n",
              "      <td>0.0</td>\n",
              "      <td>0.0</td>\n",
              "    </tr>\n",
              "    <tr>\n",
              "      <th>45489598</th>\n",
              "      <td>22169</td>\n",
              "      <td>59</td>\n",
              "      <td>23</td>\n",
              "      <td>0.0</td>\n",
              "      <td>0.0</td>\n",
              "      <td>0.0</td>\n",
              "      <td>0.0</td>\n",
              "      <td>0.0</td>\n",
              "      <td>0.0</td>\n",
              "      <td>0.0</td>\n",
              "      <td>0.0</td>\n",
              "      <td>0.0</td>\n",
              "      <td>0.0</td>\n",
              "      <td>0.0</td>\n",
              "      <td>0.0</td>\n",
              "      <td>0.0</td>\n",
              "    </tr>\n",
              "    <tr>\n",
              "      <th>45489599</th>\n",
              "      <td>22169</td>\n",
              "      <td>59</td>\n",
              "      <td>24</td>\n",
              "      <td>0.0</td>\n",
              "      <td>0.0</td>\n",
              "      <td>0.0</td>\n",
              "      <td>0.0</td>\n",
              "      <td>0.0</td>\n",
              "      <td>0.0</td>\n",
              "      <td>0.0</td>\n",
              "      <td>0.0</td>\n",
              "      <td>0.0</td>\n",
              "      <td>0.0</td>\n",
              "      <td>0.0</td>\n",
              "      <td>0.0</td>\n",
              "      <td>0.0</td>\n",
              "    </tr>\n",
              "  </tbody>\n",
              "</table>\n",
              "<p>30326400 rows × 16 columns</p>\n",
              "</div>"
            ]
          },
          "metadata": {
            "tags": []
          },
          "execution_count": 68
        }
      ]
    },
    {
      "cell_type": "code",
      "metadata": {
        "id": "lSvZlRLNvUEx",
        "colab": {
          "base_uri": "https://localhost:8080/",
          "height": 714
        },
        "outputId": "0f459a96-2485-455f-e24e-43c982a1842b"
      },
      "source": [
        "plt.figure(figsize = (20, 10))\n",
        "\n",
        "sns.boxplot(x = make_lag_features()['By_item_id-shop_id'])\n",
        "\n",
        "#sns.boxplot(x = shop_id_month_stack['item_price'], ax = ax2)\n",
        "\n",
        "#sns.boxplot(x = shop_id_month_stack['USD_Price'], ax = ax3)\n",
        "\n",
        "#sns.boxplot(x = shop_id_month_stack['revenue'], ax = ax4)\n",
        "\n",
        "#plt.tight_layout()"
      ],
      "execution_count": null,
      "outputs": [
        {
          "output_type": "stream",
          "text": [
            "<ipython-input-67-b02bd1a58772>:13: SettingWithCopyWarning: \n",
            "A value is trying to be set on a copy of a slice from a DataFrame\n",
            "\n",
            "See the caveats in the documentation: https://pandas.pydata.org/pandas-docs/stable/user_guide/indexing.html#returning-a-view-versus-a-copy\n",
            "  tmp_df.sort_values(by = group_by_cols, inplace = True)\n"
          ],
          "name": "stderr"
        },
        {
          "output_type": "execute_result",
          "data": {
            "text/plain": [
              "<AxesSubplot:xlabel='By_item_id-shop_id'>"
            ]
          },
          "metadata": {
            "tags": []
          },
          "execution_count": 74
        },
        {
          "output_type": "display_data",
          "data": {
            "text/plain": [
              "<Figure size 1440x720 with 1 Axes>"
            ],
            "image/png": "[encoded data removed]"
          },
          "metadata": {
            "tags": [],
            "needs_background": "light"
          }
        }
      ]
    },
    {
      "cell_type": "markdown",
      "metadata": {
        "id": "UBUd_O89opu9"
      },
      "source": [
        "# quick XGBoost"
      ]
    },
    {
      "cell_type": "code",
      "metadata": {
        "id": "tBYw084l2gW_",
        "colab": {
          "base_uri": "https://localhost:8080/"
        },
        "outputId": "8600e6dc-a8de-4ba0-afff-0a81ff692408"
      },
      "source": [
        "# removing 'year' and 'month' unecessary columns\n",
        "shop_id_month_stack = make_lag_features()[['item_id', 'shop_id', 'month_id', 'By_item_id-shop_id',\n",
        "       'By_item_id-shop_id_1_month_ago', 'By_item_id-shop_id_2_month_ago',\n",
        "       'By_item_id-shop_id_3_month_ago', 'By_item_id-shop_id_4_month_ago',\n",
        "       'By_item_id-shop_id_5_month_ago', 'By_item_id-shop_id_6_month_ago',\n",
        "       'By_item_id-shop_id_7_month_ago', 'By_item_id-shop_id_8_month_ago',\n",
        "       'By_item_id-shop_id_9_month_ago', 'By_item_id-shop_id_10_month_ago',\n",
        "       'By_item_id-shop_id_11_month_ago', 'By_item_id-shop_id_12_month_ago']]"
      ],
      "execution_count": null,
      "outputs": [
        {
          "output_type": "stream",
          "text": [
            "<ipython-input-67-b02bd1a58772>:13: SettingWithCopyWarning: \n",
            "A value is trying to be set on a copy of a slice from a DataFrame\n",
            "\n",
            "See the caveats in the documentation: https://pandas.pydata.org/pandas-docs/stable/user_guide/indexing.html#returning-a-view-versus-a-copy\n",
            "  tmp_df.sort_values(by = group_by_cols, inplace = True)\n"
          ],
          "name": "stderr"
        }
      ]
    },
    {
      "cell_type": "code",
      "metadata": {
        "id": "ni9OS93P4--F",
        "colab": {
          "base_uri": "https://localhost:8080/",
          "height": 241
        },
        "outputId": "3dec3a5b-c969-42ee-dcd3-7b0d933526b9"
      },
      "source": [
        "# checking the df head\n",
        "shop_id_month_stack.head()"
      ],
      "execution_count": null,
      "outputs": [
        {
          "output_type": "execute_result",
          "data": {
            "text/plain": [
              "    item_id  shop_id  month_id  By_item_id-shop_id  \\\n",
              "12        0        0         1                 0.0   \n",
              "13        0        0         2                 0.0   \n",
              "14        0        0         3                 0.0   \n",
              "15        0        0         4                 0.0   \n",
              "16        0        0         5                 0.0   \n",
              "\n",
              "    By_item_id-shop_id_1_month_ago  By_item_id-shop_id_2_month_ago  \\\n",
              "12                             0.0                             0.0   \n",
              "13                             0.0                             0.0   \n",
              "14                             0.0                             0.0   \n",
              "15                             0.0                             0.0   \n",
              "16                             0.0                             0.0   \n",
              "\n",
              "    By_item_id-shop_id_3_month_ago  By_item_id-shop_id_4_month_ago  \\\n",
              "12                             0.0                             0.0   \n",
              "13                             0.0                             0.0   \n",
              "14                             0.0                             0.0   \n",
              "15                             0.0                             0.0   \n",
              "16                             0.0                             0.0   \n",
              "\n",
              "    By_item_id-shop_id_5_month_ago  By_item_id-shop_id_6_month_ago  \\\n",
              "12                             0.0                             0.0   \n",
              "13                             0.0                             0.0   \n",
              "14                             0.0                             0.0   \n",
              "15                             0.0                             0.0   \n",
              "16                             0.0                             0.0   \n",
              "\n",
              "    By_item_id-shop_id_7_month_ago  By_item_id-shop_id_8_month_ago  \\\n",
              "12                             0.0                             0.0   \n",
              "13                             0.0                             0.0   \n",
              "14                             0.0                             0.0   \n",
              "15                             0.0                             0.0   \n",
              "16                             0.0                             0.0   \n",
              "\n",
              "    By_item_id-shop_id_9_month_ago  By_item_id-shop_id_10_month_ago  \\\n",
              "12                             0.0                              0.0   \n",
              "13                             0.0                              0.0   \n",
              "14                             0.0                              0.0   \n",
              "15                             0.0                              0.0   \n",
              "16                             0.0                              0.0   \n",
              "\n",
              "    By_item_id-shop_id_11_month_ago  By_item_id-shop_id_12_month_ago  \n",
              "12                              0.0                              0.0  \n",
              "13                              0.0                              0.0  \n",
              "14                              0.0                              0.0  \n",
              "15                              0.0                              0.0  \n",
              "16                              0.0                              0.0  "
            ],
            "text/html": [
              "<div>\n",
              "<style scoped>\n",
              "    .dataframe tbody tr th:only-of-type {\n",
              "        vertical-align: middle;\n",
              "    }\n",
              "\n",
              "    .dataframe tbody tr th {\n",
              "        vertical-align: top;\n",
              "    }\n",
              "\n",
              "    .dataframe thead th {\n",
              "        text-align: right;\n",
              "    }\n",
              "</style>\n",
              "<table border=\"1\" class=\"dataframe\">\n",
              "  <thead>\n",
              "    <tr style=\"text-align: right;\">\n",
              "      <th></th>\n",
              "      <th>item_id</th>\n",
              "      <th>shop_id</th>\n",
              "      <th>month_id</th>\n",
              "      <th>By_item_id-shop_id</th>\n",
              "      <th>By_item_id-shop_id_1_month_ago</th>\n",
              "      <th>By_item_id-shop_id_2_month_ago</th>\n",
              "      <th>By_item_id-shop_id_3_month_ago</th>\n",
              "      <th>By_item_id-shop_id_4_month_ago</th>\n",
              "      <th>By_item_id-shop_id_5_month_ago</th>\n",
              "      <th>By_item_id-shop_id_6_month_ago</th>\n",
              "      <th>By_item_id-shop_id_7_month_ago</th>\n",
              "      <th>By_item_id-shop_id_8_month_ago</th>\n",
              "      <th>By_item_id-shop_id_9_month_ago</th>\n",
              "      <th>By_item_id-shop_id_10_month_ago</th>\n",
              "      <th>By_item_id-shop_id_11_month_ago</th>\n",
              "      <th>By_item_id-shop_id_12_month_ago</th>\n",
              "    </tr>\n",
              "  </thead>\n",
              "  <tbody>\n",
              "    <tr>\n",
              "      <th>12</th>\n",
              "      <td>0</td>\n",
              "      <td>0</td>\n",
              "      <td>1</td>\n",
              "      <td>0.0</td>\n",
              "      <td>0.0</td>\n",
              "      <td>0.0</td>\n",
              "      <td>0.0</td>\n",
              "      <td>0.0</td>\n",
              "      <td>0.0</td>\n",
              "      <td>0.0</td>\n",
              "      <td>0.0</td>\n",
              "      <td>0.0</td>\n",
              "      <td>0.0</td>\n",
              "      <td>0.0</td>\n",
              "      <td>0.0</td>\n",
              "      <td>0.0</td>\n",
              "    </tr>\n",
              "    <tr>\n",
              "      <th>13</th>\n",
              "      <td>0</td>\n",
              "      <td>0</td>\n",
              "      <td>2</td>\n",
              "      <td>0.0</td>\n",
              "      <td>0.0</td>\n",
              "      <td>0.0</td>\n",
              "      <td>0.0</td>\n",
              "      <td>0.0</td>\n",
              "      <td>0.0</td>\n",
              "      <td>0.0</td>\n",
              "      <td>0.0</td>\n",
              "      <td>0.0</td>\n",
              "      <td>0.0</td>\n",
              "      <td>0.0</td>\n",
              "      <td>0.0</td>\n",
              "      <td>0.0</td>\n",
              "    </tr>\n",
              "    <tr>\n",
              "      <th>14</th>\n",
              "      <td>0</td>\n",
              "      <td>0</td>\n",
              "      <td>3</td>\n",
              "      <td>0.0</td>\n",
              "      <td>0.0</td>\n",
              "      <td>0.0</td>\n",
              "      <td>0.0</td>\n",
              "      <td>0.0</td>\n",
              "      <td>0.0</td>\n",
              "      <td>0.0</td>\n",
              "      <td>0.0</td>\n",
              "      <td>0.0</td>\n",
              "      <td>0.0</td>\n",
              "      <td>0.0</td>\n",
              "      <td>0.0</td>\n",
              "      <td>0.0</td>\n",
              "    </tr>\n",
              "    <tr>\n",
              "      <th>15</th>\n",
              "      <td>0</td>\n",
              "      <td>0</td>\n",
              "      <td>4</td>\n",
              "      <td>0.0</td>\n",
              "      <td>0.0</td>\n",
              "      <td>0.0</td>\n",
              "      <td>0.0</td>\n",
              "      <td>0.0</td>\n",
              "      <td>0.0</td>\n",
              "      <td>0.0</td>\n",
              "      <td>0.0</td>\n",
              "      <td>0.0</td>\n",
              "      <td>0.0</td>\n",
              "      <td>0.0</td>\n",
              "      <td>0.0</td>\n",
              "      <td>0.0</td>\n",
              "    </tr>\n",
              "    <tr>\n",
              "      <th>16</th>\n",
              "      <td>0</td>\n",
              "      <td>0</td>\n",
              "      <td>5</td>\n",
              "      <td>0.0</td>\n",
              "      <td>0.0</td>\n",
              "      <td>0.0</td>\n",
              "      <td>0.0</td>\n",
              "      <td>0.0</td>\n",
              "      <td>0.0</td>\n",
              "      <td>0.0</td>\n",
              "      <td>0.0</td>\n",
              "      <td>0.0</td>\n",
              "      <td>0.0</td>\n",
              "      <td>0.0</td>\n",
              "      <td>0.0</td>\n",
              "      <td>0.0</td>\n",
              "    </tr>\n",
              "  </tbody>\n",
              "</table>\n",
              "</div>"
            ]
          },
          "metadata": {
            "tags": []
          },
          "execution_count": 78
        }
      ]
    },
    {
      "cell_type": "markdown",
      "metadata": {
        "id": "w2Jgwd5z_ceW"
      },
      "source": [
        "## You can use this cell to reload the entire training dataset instead of running the notebook above"
      ]
    },
    {
      "cell_type": "code",
      "metadata": {
        "id": "eOTcx5Uoo0Jn"
      },
      "source": [
        "# saving dataframe in case runtime error causes problems\n",
        "#shop_id_month_stack.to_csv(root_path+'full_dataframe.csv')"
      ],
      "execution_count": null,
      "outputs": []
    },
    {
      "cell_type": "code",
      "metadata": {
        "id": "3jqD5a7I5Nog"
      },
      "source": [
        "#shop_id_month_stack = pd.read_csv(root_path+'full_dataframe.csv')"
      ],
      "execution_count": null,
      "outputs": []
    },
    {
      "cell_type": "code",
      "metadata": {
        "id": "ykRI6bPrQ11x"
      },
      "source": [
        "# setting training set\n",
        "X_train = shop_id_month_stack.loc[shop_id_month_stack['month_id'] < 24]\n",
        "X_train = X_train.drop(['By_item_id-shop_id'], axis = 1)\n",
        "y_train = shop_id_month_stack.loc[shop_id_month_stack['month_id'] < 24]['By_item_id-shop_id']\n",
        "\n",
        "# setting testing set\n",
        "X_val = shop_id_month_stack.loc[shop_id_month_stack['month_id'] == 24]\n",
        "X_val = X_val.drop(['By_item_id-shop_id'], axis = 1)\n",
        "y_val = shop_id_month_stack.loc[shop_id_month_stack['month_id'] == 24]['By_item_id-shop_id']"
      ],
      "execution_count": null,
      "outputs": []
    },
    {
      "cell_type": "code",
      "metadata": {
        "id": "drFa5e59bwFQ"
      },
      "source": [
        "# checking X_train head\n",
        "X_train.head()"
      ],
      "execution_count": null,
      "outputs": []
    },
    {
      "cell_type": "code",
      "metadata": {
        "colab": {
          "base_uri": "https://localhost:8080/",
          "height": 241
        },
        "id": "Hr-phA04qFSe",
        "outputId": "7fabc51e-9821-4f89-ddf5-daeb932e143b"
      },
      "source": [
        "# checking X_val head\n",
        "X_val.head()"
      ],
      "execution_count": null,
      "outputs": [
        {
          "output_type": "execute_result",
          "data": {
            "text/plain": [
              "     item_id  shop_id  month_id  By_item_id-shop_id_1_month_ago  \\\n",
              "35         0        0        24                             0.0   \n",
              "71         0        1        24                             0.0   \n",
              "107        0        2        24                             0.0   \n",
              "143        0        3        24                             0.0   \n",
              "179        0        4        24                             0.0   \n",
              "\n",
              "     By_item_id-shop_id_2_month_ago  By_item_id-shop_id_3_month_ago  \\\n",
              "35                              0.0                             0.0   \n",
              "71                              0.0                             0.0   \n",
              "107                             0.0                             0.0   \n",
              "143                             0.0                             0.0   \n",
              "179                             0.0                             0.0   \n",
              "\n",
              "     By_item_id-shop_id_4_month_ago  By_item_id-shop_id_5_month_ago  \\\n",
              "35                              0.0                             0.0   \n",
              "71                              0.0                             0.0   \n",
              "107                             0.0                             0.0   \n",
              "143                             0.0                             0.0   \n",
              "179                             0.0                             0.0   \n",
              "\n",
              "     By_item_id-shop_id_6_month_ago  By_item_id-shop_id_7_month_ago  \\\n",
              "35                              0.0                             0.0   \n",
              "71                              0.0                             0.0   \n",
              "107                             0.0                             0.0   \n",
              "143                             0.0                             0.0   \n",
              "179                             0.0                             0.0   \n",
              "\n",
              "     By_item_id-shop_id_8_month_ago  By_item_id-shop_id_9_month_ago  \\\n",
              "35                              0.0                             0.0   \n",
              "71                              0.0                             0.0   \n",
              "107                             0.0                             0.0   \n",
              "143                             0.0                             0.0   \n",
              "179                             0.0                             0.0   \n",
              "\n",
              "     By_item_id-shop_id_10_month_ago  By_item_id-shop_id_11_month_ago  \\\n",
              "35                               0.0                              0.0   \n",
              "71                               0.0                              0.0   \n",
              "107                              0.0                              0.0   \n",
              "143                              0.0                              0.0   \n",
              "179                              0.0                              0.0   \n",
              "\n",
              "     By_item_id-shop_id_12_month_ago  \n",
              "35                               0.0  \n",
              "71                               0.0  \n",
              "107                              0.0  \n",
              "143                              0.0  \n",
              "179                              0.0  "
            ],
            "text/html": [
              "<div>\n",
              "<style scoped>\n",
              "    .dataframe tbody tr th:only-of-type {\n",
              "        vertical-align: middle;\n",
              "    }\n",
              "\n",
              "    .dataframe tbody tr th {\n",
              "        vertical-align: top;\n",
              "    }\n",
              "\n",
              "    .dataframe thead th {\n",
              "        text-align: right;\n",
              "    }\n",
              "</style>\n",
              "<table border=\"1\" class=\"dataframe\">\n",
              "  <thead>\n",
              "    <tr style=\"text-align: right;\">\n",
              "      <th></th>\n",
              "      <th>item_id</th>\n",
              "      <th>shop_id</th>\n",
              "      <th>month_id</th>\n",
              "      <th>By_item_id-shop_id_1_month_ago</th>\n",
              "      <th>By_item_id-shop_id_2_month_ago</th>\n",
              "      <th>By_item_id-shop_id_3_month_ago</th>\n",
              "      <th>By_item_id-shop_id_4_month_ago</th>\n",
              "      <th>By_item_id-shop_id_5_month_ago</th>\n",
              "      <th>By_item_id-shop_id_6_month_ago</th>\n",
              "      <th>By_item_id-shop_id_7_month_ago</th>\n",
              "      <th>By_item_id-shop_id_8_month_ago</th>\n",
              "      <th>By_item_id-shop_id_9_month_ago</th>\n",
              "      <th>By_item_id-shop_id_10_month_ago</th>\n",
              "      <th>By_item_id-shop_id_11_month_ago</th>\n",
              "      <th>By_item_id-shop_id_12_month_ago</th>\n",
              "    </tr>\n",
              "  </thead>\n",
              "  <tbody>\n",
              "    <tr>\n",
              "      <th>35</th>\n",
              "      <td>0</td>\n",
              "      <td>0</td>\n",
              "      <td>24</td>\n",
              "      <td>0.0</td>\n",
              "      <td>0.0</td>\n",
              "      <td>0.0</td>\n",
              "      <td>0.0</td>\n",
              "      <td>0.0</td>\n",
              "      <td>0.0</td>\n",
              "      <td>0.0</td>\n",
              "      <td>0.0</td>\n",
              "      <td>0.0</td>\n",
              "      <td>0.0</td>\n",
              "      <td>0.0</td>\n",
              "      <td>0.0</td>\n",
              "    </tr>\n",
              "    <tr>\n",
              "      <th>71</th>\n",
              "      <td>0</td>\n",
              "      <td>1</td>\n",
              "      <td>24</td>\n",
              "      <td>0.0</td>\n",
              "      <td>0.0</td>\n",
              "      <td>0.0</td>\n",
              "      <td>0.0</td>\n",
              "      <td>0.0</td>\n",
              "      <td>0.0</td>\n",
              "      <td>0.0</td>\n",
              "      <td>0.0</td>\n",
              "      <td>0.0</td>\n",
              "      <td>0.0</td>\n",
              "      <td>0.0</td>\n",
              "      <td>0.0</td>\n",
              "    </tr>\n",
              "    <tr>\n",
              "      <th>107</th>\n",
              "      <td>0</td>\n",
              "      <td>2</td>\n",
              "      <td>24</td>\n",
              "      <td>0.0</td>\n",
              "      <td>0.0</td>\n",
              "      <td>0.0</td>\n",
              "      <td>0.0</td>\n",
              "      <td>0.0</td>\n",
              "      <td>0.0</td>\n",
              "      <td>0.0</td>\n",
              "      <td>0.0</td>\n",
              "      <td>0.0</td>\n",
              "      <td>0.0</td>\n",
              "      <td>0.0</td>\n",
              "      <td>0.0</td>\n",
              "    </tr>\n",
              "    <tr>\n",
              "      <th>143</th>\n",
              "      <td>0</td>\n",
              "      <td>3</td>\n",
              "      <td>24</td>\n",
              "      <td>0.0</td>\n",
              "      <td>0.0</td>\n",
              "      <td>0.0</td>\n",
              "      <td>0.0</td>\n",
              "      <td>0.0</td>\n",
              "      <td>0.0</td>\n",
              "      <td>0.0</td>\n",
              "      <td>0.0</td>\n",
              "      <td>0.0</td>\n",
              "      <td>0.0</td>\n",
              "      <td>0.0</td>\n",
              "      <td>0.0</td>\n",
              "    </tr>\n",
              "    <tr>\n",
              "      <th>179</th>\n",
              "      <td>0</td>\n",
              "      <td>4</td>\n",
              "      <td>24</td>\n",
              "      <td>0.0</td>\n",
              "      <td>0.0</td>\n",
              "      <td>0.0</td>\n",
              "      <td>0.0</td>\n",
              "      <td>0.0</td>\n",
              "      <td>0.0</td>\n",
              "      <td>0.0</td>\n",
              "      <td>0.0</td>\n",
              "      <td>0.0</td>\n",
              "      <td>0.0</td>\n",
              "      <td>0.0</td>\n",
              "      <td>0.0</td>\n",
              "    </tr>\n",
              "  </tbody>\n",
              "</table>\n",
              "</div>"
            ]
          },
          "metadata": {
            "tags": []
          },
          "execution_count": 83
        }
      ]
    },
    {
      "cell_type": "code",
      "metadata": {
        "id": "JloGyCWFUdrz",
        "colab": {
          "base_uri": "https://localhost:8080/"
        },
        "outputId": "9a530c58-7df6-48ce-9023-c48dfafee194"
      },
      "source": [
        "# setting timer\n",
        "#ts = time.time()\n",
        "\n",
        "# XGBoost model\n",
        "model = XGBRegressor(\n",
        "    max_depth = 10,\n",
        "    n_estimators = 2000,\n",
        "    min_child_weight = 300, \n",
        "    colsample_bytree = 0.8, \n",
        "    subsample = 0.8, \n",
        "    eta = 0.5,    \n",
        "    seed = 42)\n",
        "\n",
        "# fitting the model to data\n",
        "model.fit(\n",
        "    X_train, \n",
        "    y_train, \n",
        "    eval_metric = \"rmse\", \n",
        "    eval_set = [(X_train, y_train), (X_val, y_val)], \n",
        "    verbose = True, \n",
        "    early_stopping_rounds = 10)\n",
        "\n",
        "#print(f'The model took: {time.time() - ts} seconds')"
      ],
      "execution_count": null,
      "outputs": [
        {
          "output_type": "stream",
          "text": [
            "[0]\tvalidation_0-rmse:1.00547\tvalidation_1-rmse:0.36742\n",
            "[1]\tvalidation_0-rmse:0.95585\tvalidation_1-rmse:0.32417\n",
            "[2]\tvalidation_0-rmse:0.94105\tvalidation_1-rmse:0.31977\n",
            "[3]\tvalidation_0-rmse:0.92834\tvalidation_1-rmse:0.32382\n",
            "[4]\tvalidation_0-rmse:0.92275\tvalidation_1-rmse:0.33011\n",
            "[5]\tvalidation_0-rmse:0.91558\tvalidation_1-rmse:0.33174\n",
            "[6]\tvalidation_0-rmse:0.91230\tvalidation_1-rmse:0.34522\n",
            "[7]\tvalidation_0-rmse:0.90848\tvalidation_1-rmse:0.33442\n",
            "[8]\tvalidation_0-rmse:0.90673\tvalidation_1-rmse:0.32981\n",
            "[9]\tvalidation_0-rmse:0.90412\tvalidation_1-rmse:0.32152\n",
            "[10]\tvalidation_0-rmse:0.90179\tvalidation_1-rmse:0.31649\n",
            "[11]\tvalidation_0-rmse:0.89840\tvalidation_1-rmse:0.32875\n",
            "[12]\tvalidation_0-rmse:0.89521\tvalidation_1-rmse:0.32841\n"
          ],
          "name": "stdout"
        }
      ]
    },
    {
      "cell_type": "code",
      "metadata": {
        "id": "TPCFsiL3pOd9"
      },
      "source": [
        "# predicting X_val\n",
        "y_pred = model.predict(X_val).clip(0, 20)"
      ],
      "execution_count": null,
      "outputs": []
    },
    {
      "cell_type": "code",
      "metadata": {
        "id": "AL6B-3x8pQvg",
        "outputId": "06f2d3e9-3967-4a7f-8386-b09ceb8c2dbf"
      },
      "source": [
        "# creating function to plot features\n",
        "def plot_features(booster, figsize):    \n",
        "    fig, ax = plt.subplots(1, 1, figsize = figsize)\n",
        "    return plot_importance(booster = booster, ax = ax)\n",
        "\n",
        "plot_features(model, (20,10))\n",
        "\n",
        "#plt.savefig('drive/MyDrive/Camp Jupyter/predict_future_sales_data/xgboost.png')"
      ],
      "execution_count": null,
      "outputs": [
        {
          "output_type": "execute_result",
          "data": {
            "text/plain": [
              "<AxesSubplot:title={'center':'Feature importance'}, xlabel='F score', ylabel='Features'>"
            ]
          },
          "metadata": {
            "tags": []
          },
          "execution_count": 39
        },
        {
          "output_type": "display_data",
          "data": {
            "image/png": "[encoded data removed]",
            "text/plain": [
              "<Figure size 1440x720 with 1 Axes>"
            ]
          },
          "metadata": {
            "tags": [],
            "needs_background": "light"
          }
        }
      ]
    },
    {
      "cell_type": "code",
      "metadata": {
        "colab": {
          "base_uri": "https://localhost:8080/",
          "height": 242
        },
        "id": "mimciIKwpTww",
        "outputId": "98728c3a-43b7-49f5-f699-b95082b3e8c4"
      },
      "source": [
        "# scatterplot predictions and actual\n",
        "plt.figure(figsize = (20, 10))\n",
        "plt.scatter(x = y_pred, y = y_val, c = 'r', alpha = 0.4)\n",
        "#plt.xlim(0, 5)\n",
        "plt.ylim(-0.5, 20)\n",
        "plt.title('Actual vs. predictions scatterplot')\n",
        "#plt.savefig('drive/MyDrive/Camp Jupyter/predict_future_sales_data/xgboost_scatter.png')"
      ],
      "execution_count": null,
      "outputs": [
        {
          "output_type": "execute_result",
          "data": {
            "text/plain": [
              "Text(0.5, 1.0, 'Actual vs. predictions scatterplot')"
            ]
          },
          "metadata": {
            "tags": []
          },
          "execution_count": 40
        },
        {
          "output_type": "display_data",
          "data": {
            "image/png": "[encoded data removed]",
            "text/plain": [
              "<Figure size 1440x720 with 1 Axes>"
            ]
          },
          "metadata": {
            "tags": [],
            "needs_background": "light"
          }
        }
      ]
    },
    {
      "cell_type": "code",
      "metadata": {
        "id": "Pr1R2uS-Rnxc"
      },
      "source": [
        "# saving model as pickle file\n",
        "import pickle\n",
        "\n",
        "xgboost_pickle = 'xgboost_pickle.pkl'\n",
        "with open(xgboost_pickle, 'wb') as file:\n",
        "  pickle.dump(model, file)"
      ],
      "execution_count": null,
      "outputs": []
    },
    {
      "cell_type": "markdown",
      "metadata": {
        "id": "dQdMsmNVXSn5"
      },
      "source": [
        "## Matching output to test_df for submission"
      ]
    },
    {
      "cell_type": "code",
      "metadata": {
        "id": "rs74KU1hW_v1",
        "outputId": "39494b41-60f0-4e34-a792-dd658b2d774a"
      },
      "source": [
        "test_df.head()"
      ],
      "execution_count": null,
      "outputs": [
        {
          "output_type": "execute_result",
          "data": {
            "text/html": [
              "<div>\n",
              "<style scoped>\n",
              "    .dataframe tbody tr th:only-of-type {\n",
              "        vertical-align: middle;\n",
              "    }\n",
              "\n",
              "    .dataframe tbody tr th {\n",
              "        vertical-align: top;\n",
              "    }\n",
              "\n",
              "    .dataframe thead th {\n",
              "        text-align: right;\n",
              "    }\n",
              "</style>\n",
              "<table border=\"1\" class=\"dataframe\">\n",
              "  <thead>\n",
              "    <tr style=\"text-align: right;\">\n",
              "      <th></th>\n",
              "      <th>ID</th>\n",
              "      <th>shop_id</th>\n",
              "      <th>item_id</th>\n",
              "    </tr>\n",
              "  </thead>\n",
              "  <tbody>\n",
              "    <tr>\n",
              "      <th>0</th>\n",
              "      <td>0</td>\n",
              "      <td>5</td>\n",
              "      <td>5037</td>\n",
              "    </tr>\n",
              "    <tr>\n",
              "      <th>1</th>\n",
              "      <td>1</td>\n",
              "      <td>5</td>\n",
              "      <td>5320</td>\n",
              "    </tr>\n",
              "    <tr>\n",
              "      <th>2</th>\n",
              "      <td>2</td>\n",
              "      <td>5</td>\n",
              "      <td>5233</td>\n",
              "    </tr>\n",
              "    <tr>\n",
              "      <th>3</th>\n",
              "      <td>3</td>\n",
              "      <td>5</td>\n",
              "      <td>5232</td>\n",
              "    </tr>\n",
              "    <tr>\n",
              "      <th>4</th>\n",
              "      <td>4</td>\n",
              "      <td>5</td>\n",
              "      <td>5268</td>\n",
              "    </tr>\n",
              "  </tbody>\n",
              "</table>\n",
              "</div>"
            ],
            "text/plain": [
              "   ID  shop_id  item_id\n",
              "0   0        5     5037\n",
              "1   1        5     5320\n",
              "2   2        5     5233\n",
              "3   3        5     5232\n",
              "4   4        5     5268"
            ]
          },
          "metadata": {
            "tags": []
          },
          "execution_count": 76
        }
      ]
    },
    {
      "cell_type": "code",
      "metadata": {
        "colab": {
          "base_uri": "https://localhost:8080/",
          "height": 170
        },
        "id": "_5YSGZQlXj0I",
        "outputId": "af5a55ce-6a6c-4d20-e588-9f20db477a5f"
      },
      "source": [
        "shop_id_month_stack.head()"
      ],
      "execution_count": null,
      "outputs": [
        {
          "output_type": "error",
          "ename": "NameError",
          "evalue": "ignored",
          "traceback": [
            "\u001b[0;31m---------------------------------------------------------------------------\u001b[0m",
            "\u001b[0;31mNameError\u001b[0m                                 Traceback (most recent call last)",
            "\u001b[0;32m<ipython-input-1-f8722e1e9a84>\u001b[0m in \u001b[0;36m<module>\u001b[0;34m()\u001b[0m\n\u001b[0;32m----> 1\u001b[0;31m \u001b[0mshop_id_month_stack\u001b[0m\u001b[0;34m.\u001b[0m\u001b[0mhead\u001b[0m\u001b[0;34m(\u001b[0m\u001b[0;34m)\u001b[0m\u001b[0;34m\u001b[0m\u001b[0;34m\u001b[0m\u001b[0m\n\u001b[0m",
            "\u001b[0;31mNameError\u001b[0m: name 'shop_id_month_stack' is not defined"
          ]
        }
      ]
    },
    {
      "cell_type": "code",
      "metadata": {
        "id": "O1oiZLwyW_v2",
        "outputId": "f27e1a74-210a-4845-ae4a-11f4557b2184"
      },
      "source": [
        "len(test_df)"
      ],
      "execution_count": null,
      "outputs": [
        {
          "output_type": "execute_result",
          "data": {
            "text/plain": [
              "214200"
            ]
          },
          "metadata": {
            "tags": []
          },
          "execution_count": 77
        }
      ]
    },
    {
      "cell_type": "code",
      "metadata": {
        "id": "x6f6meyVW_v2"
      },
      "source": [
        "# creating new \n",
        "shop_id_month_stack_last_month = shop_id_month_stack[shop_id_month_stack['month_id'] == 24]"
      ],
      "execution_count": null,
      "outputs": []
    },
    {
      "cell_type": "code",
      "metadata": {
        "id": "mbRy_5LFW_v3"
      },
      "source": [
        "test_df_merged = pd.merge(test_df, shop_id_month_stack_last_month, how = 'left',on = ['item_id','shop_id'])\n",
        "\n",
        "test_df_merged.fillna(0, inplace = True)"
      ],
      "execution_count": null,
      "outputs": []
    },
    {
      "cell_type": "code",
      "metadata": {
        "id": "pIiqZ5MVW_v3",
        "outputId": "6de82aec-b34b-42f4-b428-dbe65f801c6a"
      },
      "source": [
        "shop_id_month_stack_last_month[shop_id_month_stack_last_month['item_id'] == 5320]"
      ],
      "execution_count": null,
      "outputs": [
        {
          "output_type": "execute_result",
          "data": {
            "text/html": [
              "<div>\n",
              "<style scoped>\n",
              "    .dataframe tbody tr th:only-of-type {\n",
              "        vertical-align: middle;\n",
              "    }\n",
              "\n",
              "    .dataframe tbody tr th {\n",
              "        vertical-align: top;\n",
              "    }\n",
              "\n",
              "    .dataframe thead th {\n",
              "        text-align: right;\n",
              "    }\n",
              "</style>\n",
              "<table border=\"1\" class=\"dataframe\">\n",
              "  <thead>\n",
              "    <tr style=\"text-align: right;\">\n",
              "      <th></th>\n",
              "      <th>Unnamed: 0</th>\n",
              "      <th>item_id</th>\n",
              "      <th>shop_id</th>\n",
              "      <th>item_cnt_month_shop_id</th>\n",
              "      <th>1_month_ago</th>\n",
              "      <th>2_month_ago</th>\n",
              "      <th>3_month_ago</th>\n",
              "      <th>6_month_ago</th>\n",
              "      <th>12_month_ago</th>\n",
              "      <th>month_id</th>\n",
              "    </tr>\n",
              "  </thead>\n",
              "  <tbody>\n",
              "  </tbody>\n",
              "</table>\n",
              "</div>"
            ],
            "text/plain": [
              "Empty DataFrame\n",
              "Columns: [Unnamed: 0, item_id, shop_id, item_cnt_month_shop_id, 1_month_ago, 2_month_ago, 3_month_ago, 6_month_ago, 12_month_ago, month_id]\n",
              "Index: []"
            ]
          },
          "metadata": {
            "tags": []
          },
          "execution_count": 80
        }
      ]
    },
    {
      "cell_type": "code",
      "metadata": {
        "id": "WevOqhBXW9Wn"
      },
      "source": [
        "test_df_clean = test_df_merged.drop(['Unnamed: 0','ID','item_cnt_month_shop_id'], axis = 1)"
      ],
      "execution_count": null,
      "outputs": []
    },
    {
      "cell_type": "code",
      "metadata": {
        "id": "Uhg0PfhfW_v3",
        "outputId": "962aa479-cd03-4cf6-f83c-98d62797a738"
      },
      "source": [
        "test_df_merged.head()"
      ],
      "execution_count": null,
      "outputs": [
        {
          "output_type": "execute_result",
          "data": {
            "text/html": [
              "<div>\n",
              "<style scoped>\n",
              "    .dataframe tbody tr th:only-of-type {\n",
              "        vertical-align: middle;\n",
              "    }\n",
              "\n",
              "    .dataframe tbody tr th {\n",
              "        vertical-align: top;\n",
              "    }\n",
              "\n",
              "    .dataframe thead th {\n",
              "        text-align: right;\n",
              "    }\n",
              "</style>\n",
              "<table border=\"1\" class=\"dataframe\">\n",
              "  <thead>\n",
              "    <tr style=\"text-align: right;\">\n",
              "      <th></th>\n",
              "      <th>ID</th>\n",
              "      <th>shop_id</th>\n",
              "      <th>item_id</th>\n",
              "      <th>Unnamed: 0</th>\n",
              "      <th>item_cnt_month_shop_id</th>\n",
              "      <th>1_month_ago</th>\n",
              "      <th>2_month_ago</th>\n",
              "      <th>3_month_ago</th>\n",
              "      <th>6_month_ago</th>\n",
              "      <th>12_month_ago</th>\n",
              "      <th>month_id</th>\n",
              "    </tr>\n",
              "  </thead>\n",
              "  <tbody>\n",
              "    <tr>\n",
              "      <th>0</th>\n",
              "      <td>0</td>\n",
              "      <td>5</td>\n",
              "      <td>5037</td>\n",
              "      <td>10171655.0</td>\n",
              "      <td>0.0</td>\n",
              "      <td>0.0</td>\n",
              "      <td>0.0</td>\n",
              "      <td>0.0</td>\n",
              "      <td>0.0</td>\n",
              "      <td>0.0</td>\n",
              "      <td>24.0</td>\n",
              "    </tr>\n",
              "    <tr>\n",
              "      <th>1</th>\n",
              "      <td>1</td>\n",
              "      <td>5</td>\n",
              "      <td>5320</td>\n",
              "      <td>NaN</td>\n",
              "      <td>NaN</td>\n",
              "      <td>NaN</td>\n",
              "      <td>NaN</td>\n",
              "      <td>NaN</td>\n",
              "      <td>NaN</td>\n",
              "      <td>NaN</td>\n",
              "      <td>NaN</td>\n",
              "    </tr>\n",
              "    <tr>\n",
              "      <th>2</th>\n",
              "      <td>2</td>\n",
              "      <td>5</td>\n",
              "      <td>5233</td>\n",
              "      <td>10579895.0</td>\n",
              "      <td>0.0</td>\n",
              "      <td>0.0</td>\n",
              "      <td>0.0</td>\n",
              "      <td>1.0</td>\n",
              "      <td>0.0</td>\n",
              "      <td>0.0</td>\n",
              "      <td>24.0</td>\n",
              "    </tr>\n",
              "    <tr>\n",
              "      <th>3</th>\n",
              "      <td>3</td>\n",
              "      <td>5</td>\n",
              "      <td>5232</td>\n",
              "      <td>10577735.0</td>\n",
              "      <td>0.0</td>\n",
              "      <td>0.0</td>\n",
              "      <td>0.0</td>\n",
              "      <td>0.0</td>\n",
              "      <td>0.0</td>\n",
              "      <td>0.0</td>\n",
              "      <td>24.0</td>\n",
              "    </tr>\n",
              "    <tr>\n",
              "      <th>4</th>\n",
              "      <td>4</td>\n",
              "      <td>5</td>\n",
              "      <td>5268</td>\n",
              "      <td>NaN</td>\n",
              "      <td>NaN</td>\n",
              "      <td>NaN</td>\n",
              "      <td>NaN</td>\n",
              "      <td>NaN</td>\n",
              "      <td>NaN</td>\n",
              "      <td>NaN</td>\n",
              "      <td>NaN</td>\n",
              "    </tr>\n",
              "  </tbody>\n",
              "</table>\n",
              "</div>"
            ],
            "text/plain": [
              "   ID  shop_id  item_id  Unnamed: 0  item_cnt_month_shop_id  1_month_ago  \\\n",
              "0   0        5     5037  10171655.0                     0.0          0.0   \n",
              "1   1        5     5320         NaN                     NaN          NaN   \n",
              "2   2        5     5233  10579895.0                     0.0          0.0   \n",
              "3   3        5     5232  10577735.0                     0.0          0.0   \n",
              "4   4        5     5268         NaN                     NaN          NaN   \n",
              "\n",
              "   2_month_ago  3_month_ago  6_month_ago  12_month_ago  month_id  \n",
              "0          0.0          0.0          0.0           0.0      24.0  \n",
              "1          NaN          NaN          NaN           NaN       NaN  \n",
              "2          0.0          1.0          0.0           0.0      24.0  \n",
              "3          0.0          0.0          0.0           0.0      24.0  \n",
              "4          NaN          NaN          NaN           NaN       NaN  "
            ]
          },
          "metadata": {
            "tags": []
          },
          "execution_count": 81
        }
      ]
    },
    {
      "cell_type": "code",
      "metadata": {
        "id": "vd9culMbW_v4",
        "outputId": "ec07cfb9-6803-4f77-f397-68f3ef57beea"
      },
      "source": [
        "test_df_merged.isnull().sum()"
      ],
      "execution_count": null,
      "outputs": [
        {
          "output_type": "execute_result",
          "data": {
            "text/plain": [
              "ID                            0\n",
              "shop_id                       0\n",
              "item_id                       0\n",
              "Unnamed: 0                16212\n",
              "item_cnt_month_shop_id    16212\n",
              "1_month_ago               16212\n",
              "2_month_ago               16212\n",
              "3_month_ago               16212\n",
              "6_month_ago               16212\n",
              "12_month_ago              16212\n",
              "month_id                  16212\n",
              "dtype: int64"
            ]
          },
          "metadata": {
            "tags": []
          },
          "execution_count": 82
        }
      ]
    },
    {
      "cell_type": "code",
      "metadata": {
        "id": "6zJUkHzGW_v5",
        "outputId": "488ee262-f29b-40e3-9cf8-3e481c541302"
      },
      "source": [
        "test_df_merged.head()"
      ],
      "execution_count": null,
      "outputs": [
        {
          "output_type": "execute_result",
          "data": {
            "text/html": [
              "<div>\n",
              "<style scoped>\n",
              "    .dataframe tbody tr th:only-of-type {\n",
              "        vertical-align: middle;\n",
              "    }\n",
              "\n",
              "    .dataframe tbody tr th {\n",
              "        vertical-align: top;\n",
              "    }\n",
              "\n",
              "    .dataframe thead th {\n",
              "        text-align: right;\n",
              "    }\n",
              "</style>\n",
              "<table border=\"1\" class=\"dataframe\">\n",
              "  <thead>\n",
              "    <tr style=\"text-align: right;\">\n",
              "      <th></th>\n",
              "      <th>ID</th>\n",
              "      <th>shop_id</th>\n",
              "      <th>item_id</th>\n",
              "      <th>Unnamed: 0</th>\n",
              "      <th>item_cnt_month_shop_id</th>\n",
              "      <th>1_month_ago</th>\n",
              "      <th>2_month_ago</th>\n",
              "      <th>3_month_ago</th>\n",
              "      <th>6_month_ago</th>\n",
              "      <th>12_month_ago</th>\n",
              "      <th>month_id</th>\n",
              "    </tr>\n",
              "  </thead>\n",
              "  <tbody>\n",
              "    <tr>\n",
              "      <th>0</th>\n",
              "      <td>0</td>\n",
              "      <td>5</td>\n",
              "      <td>5037</td>\n",
              "      <td>10171655.0</td>\n",
              "      <td>0.0</td>\n",
              "      <td>0.0</td>\n",
              "      <td>0.0</td>\n",
              "      <td>0.0</td>\n",
              "      <td>0.0</td>\n",
              "      <td>0.0</td>\n",
              "      <td>24.0</td>\n",
              "    </tr>\n",
              "    <tr>\n",
              "      <th>1</th>\n",
              "      <td>1</td>\n",
              "      <td>5</td>\n",
              "      <td>5320</td>\n",
              "      <td>0.0</td>\n",
              "      <td>0.0</td>\n",
              "      <td>0.0</td>\n",
              "      <td>0.0</td>\n",
              "      <td>0.0</td>\n",
              "      <td>0.0</td>\n",
              "      <td>0.0</td>\n",
              "      <td>0.0</td>\n",
              "    </tr>\n",
              "    <tr>\n",
              "      <th>2</th>\n",
              "      <td>2</td>\n",
              "      <td>5</td>\n",
              "      <td>5233</td>\n",
              "      <td>10579895.0</td>\n",
              "      <td>0.0</td>\n",
              "      <td>0.0</td>\n",
              "      <td>0.0</td>\n",
              "      <td>1.0</td>\n",
              "      <td>0.0</td>\n",
              "      <td>0.0</td>\n",
              "      <td>24.0</td>\n",
              "    </tr>\n",
              "    <tr>\n",
              "      <th>3</th>\n",
              "      <td>3</td>\n",
              "      <td>5</td>\n",
              "      <td>5232</td>\n",
              "      <td>10577735.0</td>\n",
              "      <td>0.0</td>\n",
              "      <td>0.0</td>\n",
              "      <td>0.0</td>\n",
              "      <td>0.0</td>\n",
              "      <td>0.0</td>\n",
              "      <td>0.0</td>\n",
              "      <td>24.0</td>\n",
              "    </tr>\n",
              "    <tr>\n",
              "      <th>4</th>\n",
              "      <td>4</td>\n",
              "      <td>5</td>\n",
              "      <td>5268</td>\n",
              "      <td>0.0</td>\n",
              "      <td>0.0</td>\n",
              "      <td>0.0</td>\n",
              "      <td>0.0</td>\n",
              "      <td>0.0</td>\n",
              "      <td>0.0</td>\n",
              "      <td>0.0</td>\n",
              "      <td>0.0</td>\n",
              "    </tr>\n",
              "  </tbody>\n",
              "</table>\n",
              "</div>"
            ],
            "text/plain": [
              "   ID  shop_id  item_id  Unnamed: 0  item_cnt_month_shop_id  1_month_ago  \\\n",
              "0   0        5     5037  10171655.0                     0.0          0.0   \n",
              "1   1        5     5320         0.0                     0.0          0.0   \n",
              "2   2        5     5233  10579895.0                     0.0          0.0   \n",
              "3   3        5     5232  10577735.0                     0.0          0.0   \n",
              "4   4        5     5268         0.0                     0.0          0.0   \n",
              "\n",
              "   2_month_ago  3_month_ago  6_month_ago  12_month_ago  month_id  \n",
              "0          0.0          0.0          0.0           0.0      24.0  \n",
              "1          0.0          0.0          0.0           0.0       0.0  \n",
              "2          0.0          1.0          0.0           0.0      24.0  \n",
              "3          0.0          0.0          0.0           0.0      24.0  \n",
              "4          0.0          0.0          0.0           0.0       0.0  "
            ]
          },
          "metadata": {
            "tags": []
          },
          "execution_count": 84
        }
      ]
    },
    {
      "cell_type": "code",
      "metadata": {
        "id": "87EzJUCxW_v6",
        "outputId": "fb41779b-629f-4407-b30a-7f885ca80492"
      },
      "source": [
        "len(test_df_merged)"
      ],
      "execution_count": null,
      "outputs": [
        {
          "output_type": "execute_result",
          "data": {
            "text/plain": [
              "214200"
            ]
          },
          "metadata": {
            "tags": []
          },
          "execution_count": 86
        }
      ]
    },
    {
      "cell_type": "code",
      "metadata": {
        "id": "Qw46henFW_v6",
        "outputId": "6d5f35f2-92a4-46c4-b42a-0d2aaf2a566d"
      },
      "source": [
        "test_df_clean.head()"
      ],
      "execution_count": null,
      "outputs": [
        {
          "output_type": "execute_result",
          "data": {
            "text/html": [
              "<div>\n",
              "<style scoped>\n",
              "    .dataframe tbody tr th:only-of-type {\n",
              "        vertical-align: middle;\n",
              "    }\n",
              "\n",
              "    .dataframe tbody tr th {\n",
              "        vertical-align: top;\n",
              "    }\n",
              "\n",
              "    .dataframe thead th {\n",
              "        text-align: right;\n",
              "    }\n",
              "</style>\n",
              "<table border=\"1\" class=\"dataframe\">\n",
              "  <thead>\n",
              "    <tr style=\"text-align: right;\">\n",
              "      <th></th>\n",
              "      <th>shop_id</th>\n",
              "      <th>item_id</th>\n",
              "      <th>1_month_ago</th>\n",
              "      <th>2_month_ago</th>\n",
              "      <th>3_month_ago</th>\n",
              "      <th>6_month_ago</th>\n",
              "      <th>12_month_ago</th>\n",
              "      <th>month_id</th>\n",
              "    </tr>\n",
              "  </thead>\n",
              "  <tbody>\n",
              "    <tr>\n",
              "      <th>0</th>\n",
              "      <td>5</td>\n",
              "      <td>5037</td>\n",
              "      <td>0.0</td>\n",
              "      <td>0.0</td>\n",
              "      <td>0.0</td>\n",
              "      <td>0.0</td>\n",
              "      <td>0.0</td>\n",
              "      <td>24.0</td>\n",
              "    </tr>\n",
              "    <tr>\n",
              "      <th>1</th>\n",
              "      <td>5</td>\n",
              "      <td>5320</td>\n",
              "      <td>0.0</td>\n",
              "      <td>0.0</td>\n",
              "      <td>0.0</td>\n",
              "      <td>0.0</td>\n",
              "      <td>0.0</td>\n",
              "      <td>0.0</td>\n",
              "    </tr>\n",
              "    <tr>\n",
              "      <th>2</th>\n",
              "      <td>5</td>\n",
              "      <td>5233</td>\n",
              "      <td>0.0</td>\n",
              "      <td>0.0</td>\n",
              "      <td>1.0</td>\n",
              "      <td>0.0</td>\n",
              "      <td>0.0</td>\n",
              "      <td>24.0</td>\n",
              "    </tr>\n",
              "    <tr>\n",
              "      <th>3</th>\n",
              "      <td>5</td>\n",
              "      <td>5232</td>\n",
              "      <td>0.0</td>\n",
              "      <td>0.0</td>\n",
              "      <td>0.0</td>\n",
              "      <td>0.0</td>\n",
              "      <td>0.0</td>\n",
              "      <td>24.0</td>\n",
              "    </tr>\n",
              "    <tr>\n",
              "      <th>4</th>\n",
              "      <td>5</td>\n",
              "      <td>5268</td>\n",
              "      <td>0.0</td>\n",
              "      <td>0.0</td>\n",
              "      <td>0.0</td>\n",
              "      <td>0.0</td>\n",
              "      <td>0.0</td>\n",
              "      <td>0.0</td>\n",
              "    </tr>\n",
              "  </tbody>\n",
              "</table>\n",
              "</div>"
            ],
            "text/plain": [
              "   shop_id  item_id  1_month_ago  2_month_ago  3_month_ago  6_month_ago  \\\n",
              "0        5     5037          0.0          0.0          0.0          0.0   \n",
              "1        5     5320          0.0          0.0          0.0          0.0   \n",
              "2        5     5233          0.0          0.0          1.0          0.0   \n",
              "3        5     5232          0.0          0.0          0.0          0.0   \n",
              "4        5     5268          0.0          0.0          0.0          0.0   \n",
              "\n",
              "   12_month_ago  month_id  \n",
              "0           0.0      24.0  \n",
              "1           0.0       0.0  \n",
              "2           0.0      24.0  \n",
              "3           0.0      24.0  \n",
              "4           0.0       0.0  "
            ]
          },
          "metadata": {
            "tags": []
          },
          "execution_count": 87
        }
      ]
    },
    {
      "cell_type": "code",
      "metadata": {
        "id": "nPN0b5PRW_v7"
      },
      "source": [
        "test_df_clean['month_id']=25"
      ],
      "execution_count": null,
      "outputs": []
    },
    {
      "cell_type": "code",
      "metadata": {
        "id": "muJX1zQKW_v7"
      },
      "source": [
        "test_df_clean=test_df_clean[['item_id','shop_id','1_month_ago', '2_month_ago', '3_month_ago',\n",
        "       '6_month_ago', '12_month_ago', 'month_id']]"
      ],
      "execution_count": null,
      "outputs": []
    },
    {
      "cell_type": "code",
      "metadata": {
        "id": "Vqr0vmUBW_v8"
      },
      "source": [
        "# predicting X_val\n",
        "y_pred_test = model.predict(test_df_clean).clip(0, 20)"
      ],
      "execution_count": null,
      "outputs": []
    },
    {
      "cell_type": "code",
      "metadata": {
        "id": "IDd-bBFqW_v8",
        "outputId": "cfdc4fc1-81b6-4c14-b174-c9b5e8c056a8"
      },
      "source": [
        "len(y_pred_test)"
      ],
      "execution_count": null,
      "outputs": [
        {
          "output_type": "execute_result",
          "data": {
            "text/plain": [
              "214200"
            ]
          },
          "metadata": {
            "tags": []
          },
          "execution_count": 92
        }
      ]
    },
    {
      "cell_type": "markdown",
      "metadata": {
        "id": "6VcF47TCW_v8"
      },
      "source": [
        "sample_df=pd.read_csv('submission_1.csv')"
      ]
    },
    {
      "cell_type": "markdown",
      "metadata": {
        "id": "12zp6LuMW_v9"
      },
      "source": [
        "len(sample_df)"
      ]
    },
    {
      "cell_type": "markdown",
      "metadata": {
        "id": "-p9kEDJxW_v9"
      },
      "source": [
        "sample_df"
      ]
    },
    {
      "cell_type": "code",
      "metadata": {
        "id": "aDr3qUc2W_v9",
        "outputId": "60ea8b5f-671e-4781-87a0-9939b43c6fd8"
      },
      "source": [
        "test_df_merged.head()"
      ],
      "execution_count": null,
      "outputs": [
        {
          "output_type": "execute_result",
          "data": {
            "text/html": [
              "<div>\n",
              "<style scoped>\n",
              "    .dataframe tbody tr th:only-of-type {\n",
              "        vertical-align: middle;\n",
              "    }\n",
              "\n",
              "    .dataframe tbody tr th {\n",
              "        vertical-align: top;\n",
              "    }\n",
              "\n",
              "    .dataframe thead th {\n",
              "        text-align: right;\n",
              "    }\n",
              "</style>\n",
              "<table border=\"1\" class=\"dataframe\">\n",
              "  <thead>\n",
              "    <tr style=\"text-align: right;\">\n",
              "      <th></th>\n",
              "      <th>ID</th>\n",
              "      <th>shop_id</th>\n",
              "      <th>item_id</th>\n",
              "      <th>Unnamed: 0</th>\n",
              "      <th>item_cnt_month_shop_id</th>\n",
              "      <th>1_month_ago</th>\n",
              "      <th>2_month_ago</th>\n",
              "      <th>3_month_ago</th>\n",
              "      <th>6_month_ago</th>\n",
              "      <th>12_month_ago</th>\n",
              "      <th>month_id</th>\n",
              "    </tr>\n",
              "  </thead>\n",
              "  <tbody>\n",
              "    <tr>\n",
              "      <th>0</th>\n",
              "      <td>0</td>\n",
              "      <td>5</td>\n",
              "      <td>5037</td>\n",
              "      <td>10171655.0</td>\n",
              "      <td>0.0</td>\n",
              "      <td>0.0</td>\n",
              "      <td>0.0</td>\n",
              "      <td>0.0</td>\n",
              "      <td>0.0</td>\n",
              "      <td>0.0</td>\n",
              "      <td>24.0</td>\n",
              "    </tr>\n",
              "    <tr>\n",
              "      <th>1</th>\n",
              "      <td>1</td>\n",
              "      <td>5</td>\n",
              "      <td>5320</td>\n",
              "      <td>0.0</td>\n",
              "      <td>0.0</td>\n",
              "      <td>0.0</td>\n",
              "      <td>0.0</td>\n",
              "      <td>0.0</td>\n",
              "      <td>0.0</td>\n",
              "      <td>0.0</td>\n",
              "      <td>0.0</td>\n",
              "    </tr>\n",
              "    <tr>\n",
              "      <th>2</th>\n",
              "      <td>2</td>\n",
              "      <td>5</td>\n",
              "      <td>5233</td>\n",
              "      <td>10579895.0</td>\n",
              "      <td>0.0</td>\n",
              "      <td>0.0</td>\n",
              "      <td>0.0</td>\n",
              "      <td>1.0</td>\n",
              "      <td>0.0</td>\n",
              "      <td>0.0</td>\n",
              "      <td>24.0</td>\n",
              "    </tr>\n",
              "    <tr>\n",
              "      <th>3</th>\n",
              "      <td>3</td>\n",
              "      <td>5</td>\n",
              "      <td>5232</td>\n",
              "      <td>10577735.0</td>\n",
              "      <td>0.0</td>\n",
              "      <td>0.0</td>\n",
              "      <td>0.0</td>\n",
              "      <td>0.0</td>\n",
              "      <td>0.0</td>\n",
              "      <td>0.0</td>\n",
              "      <td>24.0</td>\n",
              "    </tr>\n",
              "    <tr>\n",
              "      <th>4</th>\n",
              "      <td>4</td>\n",
              "      <td>5</td>\n",
              "      <td>5268</td>\n",
              "      <td>0.0</td>\n",
              "      <td>0.0</td>\n",
              "      <td>0.0</td>\n",
              "      <td>0.0</td>\n",
              "      <td>0.0</td>\n",
              "      <td>0.0</td>\n",
              "      <td>0.0</td>\n",
              "      <td>0.0</td>\n",
              "    </tr>\n",
              "  </tbody>\n",
              "</table>\n",
              "</div>"
            ],
            "text/plain": [
              "   ID  shop_id  item_id  Unnamed: 0  item_cnt_month_shop_id  1_month_ago  \\\n",
              "0   0        5     5037  10171655.0                     0.0          0.0   \n",
              "1   1        5     5320         0.0                     0.0          0.0   \n",
              "2   2        5     5233  10579895.0                     0.0          0.0   \n",
              "3   3        5     5232  10577735.0                     0.0          0.0   \n",
              "4   4        5     5268         0.0                     0.0          0.0   \n",
              "\n",
              "   2_month_ago  3_month_ago  6_month_ago  12_month_ago  month_id  \n",
              "0          0.0          0.0          0.0           0.0      24.0  \n",
              "1          0.0          0.0          0.0           0.0       0.0  \n",
              "2          0.0          1.0          0.0           0.0      24.0  \n",
              "3          0.0          0.0          0.0           0.0      24.0  \n",
              "4          0.0          0.0          0.0           0.0       0.0  "
            ]
          },
          "metadata": {
            "tags": []
          },
          "execution_count": 93
        }
      ]
    },
    {
      "cell_type": "code",
      "metadata": {
        "id": "w2HwofbuW_v9",
        "outputId": "c8fcc2b6-c09f-4c36-ddb9-e283d75081d0"
      },
      "source": [
        "len(test_df_clean)"
      ],
      "execution_count": null,
      "outputs": [
        {
          "output_type": "execute_result",
          "data": {
            "text/plain": [
              "214200"
            ]
          },
          "metadata": {
            "tags": []
          },
          "execution_count": 97
        }
      ]
    },
    {
      "cell_type": "code",
      "metadata": {
        "id": "itej3NOKW_v-"
      },
      "source": [
        "test_df_clean_for_submission = test_df_clean.copy()"
      ],
      "execution_count": null,
      "outputs": []
    },
    {
      "cell_type": "code",
      "metadata": {
        "id": "qeoG3VJwW_v-"
      },
      "source": [
        "test_df_clean_for_submission['ID'] = np.arange(0,214200)"
      ],
      "execution_count": null,
      "outputs": []
    },
    {
      "cell_type": "code",
      "metadata": {
        "id": "TYQMlGRHW_v-",
        "outputId": "5078394b-ff0a-43a4-d416-92cf39ce6df3"
      },
      "source": [
        "len(test_df_clean_for_submission)"
      ],
      "execution_count": null,
      "outputs": [
        {
          "output_type": "execute_result",
          "data": {
            "text/plain": [
              "214200"
            ]
          },
          "metadata": {
            "tags": []
          },
          "execution_count": 101
        }
      ]
    },
    {
      "cell_type": "code",
      "metadata": {
        "id": "g_zVwZWTW_v_",
        "outputId": "b5d5aeb0-2bf4-4224-c9e1-415ef5c64958"
      },
      "source": [
        "len(y_pred_test)"
      ],
      "execution_count": null,
      "outputs": [
        {
          "output_type": "execute_result",
          "data": {
            "text/plain": [
              "214200"
            ]
          },
          "metadata": {
            "tags": []
          },
          "execution_count": 104
        }
      ]
    },
    {
      "cell_type": "code",
      "metadata": {
        "id": "2Z143ZAAW_v_"
      },
      "source": [
        "test_df_clean_for_submission['item_cnt_month'] = y_pred_test"
      ],
      "execution_count": null,
      "outputs": []
    },
    {
      "cell_type": "code",
      "metadata": {
        "id": "hqrPIY4NW_v_",
        "outputId": "e4ec29d5-36a9-4253-a946-686906b871cd"
      },
      "source": [
        "test_df_clean_for_submission.head()"
      ],
      "execution_count": null,
      "outputs": [
        {
          "output_type": "execute_result",
          "data": {
            "text/html": [
              "<div>\n",
              "<style scoped>\n",
              "    .dataframe tbody tr th:only-of-type {\n",
              "        vertical-align: middle;\n",
              "    }\n",
              "\n",
              "    .dataframe tbody tr th {\n",
              "        vertical-align: top;\n",
              "    }\n",
              "\n",
              "    .dataframe thead th {\n",
              "        text-align: right;\n",
              "    }\n",
              "</style>\n",
              "<table border=\"1\" class=\"dataframe\">\n",
              "  <thead>\n",
              "    <tr style=\"text-align: right;\">\n",
              "      <th></th>\n",
              "      <th>item_id</th>\n",
              "      <th>shop_id</th>\n",
              "      <th>1_month_ago</th>\n",
              "      <th>2_month_ago</th>\n",
              "      <th>3_month_ago</th>\n",
              "      <th>6_month_ago</th>\n",
              "      <th>12_month_ago</th>\n",
              "      <th>month_id</th>\n",
              "      <th>ID</th>\n",
              "      <th>item_cnt_month</th>\n",
              "    </tr>\n",
              "  </thead>\n",
              "  <tbody>\n",
              "    <tr>\n",
              "      <th>0</th>\n",
              "      <td>5037</td>\n",
              "      <td>5</td>\n",
              "      <td>0.0</td>\n",
              "      <td>0.0</td>\n",
              "      <td>0.0</td>\n",
              "      <td>0.0</td>\n",
              "      <td>0.0</td>\n",
              "      <td>25</td>\n",
              "      <td>0</td>\n",
              "      <td>0.067603</td>\n",
              "    </tr>\n",
              "    <tr>\n",
              "      <th>1</th>\n",
              "      <td>5320</td>\n",
              "      <td>5</td>\n",
              "      <td>0.0</td>\n",
              "      <td>0.0</td>\n",
              "      <td>0.0</td>\n",
              "      <td>0.0</td>\n",
              "      <td>0.0</td>\n",
              "      <td>25</td>\n",
              "      <td>1</td>\n",
              "      <td>0.067603</td>\n",
              "    </tr>\n",
              "    <tr>\n",
              "      <th>2</th>\n",
              "      <td>5233</td>\n",
              "      <td>5</td>\n",
              "      <td>0.0</td>\n",
              "      <td>0.0</td>\n",
              "      <td>1.0</td>\n",
              "      <td>0.0</td>\n",
              "      <td>0.0</td>\n",
              "      <td>25</td>\n",
              "      <td>2</td>\n",
              "      <td>0.186256</td>\n",
              "    </tr>\n",
              "    <tr>\n",
              "      <th>3</th>\n",
              "      <td>5232</td>\n",
              "      <td>5</td>\n",
              "      <td>0.0</td>\n",
              "      <td>0.0</td>\n",
              "      <td>0.0</td>\n",
              "      <td>0.0</td>\n",
              "      <td>0.0</td>\n",
              "      <td>25</td>\n",
              "      <td>3</td>\n",
              "      <td>0.067603</td>\n",
              "    </tr>\n",
              "    <tr>\n",
              "      <th>4</th>\n",
              "      <td>5268</td>\n",
              "      <td>5</td>\n",
              "      <td>0.0</td>\n",
              "      <td>0.0</td>\n",
              "      <td>0.0</td>\n",
              "      <td>0.0</td>\n",
              "      <td>0.0</td>\n",
              "      <td>25</td>\n",
              "      <td>4</td>\n",
              "      <td>0.067603</td>\n",
              "    </tr>\n",
              "  </tbody>\n",
              "</table>\n",
              "</div>"
            ],
            "text/plain": [
              "   item_id  shop_id  1_month_ago  2_month_ago  3_month_ago  6_month_ago  \\\n",
              "0     5037        5          0.0          0.0          0.0          0.0   \n",
              "1     5320        5          0.0          0.0          0.0          0.0   \n",
              "2     5233        5          0.0          0.0          1.0          0.0   \n",
              "3     5232        5          0.0          0.0          0.0          0.0   \n",
              "4     5268        5          0.0          0.0          0.0          0.0   \n",
              "\n",
              "   12_month_ago  month_id  ID  item_cnt_month  \n",
              "0           0.0        25   0        0.067603  \n",
              "1           0.0        25   1        0.067603  \n",
              "2           0.0        25   2        0.186256  \n",
              "3           0.0        25   3        0.067603  \n",
              "4           0.0        25   4        0.067603  "
            ]
          },
          "metadata": {
            "tags": []
          },
          "execution_count": 106
        }
      ]
    },
    {
      "cell_type": "code",
      "metadata": {
        "id": "W63Dil4UW_v_"
      },
      "source": [
        "submission_df=test_df_clean_for_submission[['ID','item_cnt_month']]"
      ],
      "execution_count": null,
      "outputs": []
    },
    {
      "cell_type": "code",
      "metadata": {
        "id": "1xqfbOEtW_wA",
        "outputId": "0db0f3e4-9952-4710-826b-3823900558bb"
      },
      "source": [
        "submission_df.head()"
      ],
      "execution_count": null,
      "outputs": [
        {
          "output_type": "execute_result",
          "data": {
            "text/html": [
              "<div>\n",
              "<style scoped>\n",
              "    .dataframe tbody tr th:only-of-type {\n",
              "        vertical-align: middle;\n",
              "    }\n",
              "\n",
              "    .dataframe tbody tr th {\n",
              "        vertical-align: top;\n",
              "    }\n",
              "\n",
              "    .dataframe thead th {\n",
              "        text-align: right;\n",
              "    }\n",
              "</style>\n",
              "<table border=\"1\" class=\"dataframe\">\n",
              "  <thead>\n",
              "    <tr style=\"text-align: right;\">\n",
              "      <th></th>\n",
              "      <th>ID</th>\n",
              "      <th>item_cnt_month</th>\n",
              "    </tr>\n",
              "  </thead>\n",
              "  <tbody>\n",
              "    <tr>\n",
              "      <th>0</th>\n",
              "      <td>0</td>\n",
              "      <td>0.067603</td>\n",
              "    </tr>\n",
              "    <tr>\n",
              "      <th>1</th>\n",
              "      <td>1</td>\n",
              "      <td>0.067603</td>\n",
              "    </tr>\n",
              "    <tr>\n",
              "      <th>2</th>\n",
              "      <td>2</td>\n",
              "      <td>0.186256</td>\n",
              "    </tr>\n",
              "    <tr>\n",
              "      <th>3</th>\n",
              "      <td>3</td>\n",
              "      <td>0.067603</td>\n",
              "    </tr>\n",
              "    <tr>\n",
              "      <th>4</th>\n",
              "      <td>4</td>\n",
              "      <td>0.067603</td>\n",
              "    </tr>\n",
              "  </tbody>\n",
              "</table>\n",
              "</div>"
            ],
            "text/plain": [
              "   ID  item_cnt_month\n",
              "0   0        0.067603\n",
              "1   1        0.067603\n",
              "2   2        0.186256\n",
              "3   3        0.067603\n",
              "4   4        0.067603"
            ]
          },
          "metadata": {
            "tags": []
          },
          "execution_count": 108
        }
      ]
    },
    {
      "cell_type": "code",
      "metadata": {
        "id": "uWR9T7NSW_wB",
        "outputId": "11657e10-869a-4d9a-d6d6-344d8b94ba46"
      },
      "source": [
        "len(submission_df)"
      ],
      "execution_count": null,
      "outputs": [
        {
          "output_type": "execute_result",
          "data": {
            "text/plain": [
              "214200"
            ]
          },
          "metadata": {
            "tags": []
          },
          "execution_count": 109
        }
      ]
    },
    {
      "cell_type": "markdown",
      "metadata": {
        "id": "3r1vRY-zW_wB"
      },
      "source": [
        "submission_df_int=submission_df.copy()"
      ]
    },
    {
      "cell_type": "markdown",
      "metadata": {
        "id": "2X8sRhh5W_wB"
      },
      "source": [
        "submission_df_int['item_cnt_month']=np.round(submission_df_int['item_cnt_month'])"
      ]
    },
    {
      "cell_type": "code",
      "metadata": {
        "id": "HAaHxJZMW_wC"
      },
      "source": [
        "submission_df.to_csv('sample_2021-0424.csv',index=False)"
      ],
      "execution_count": null,
      "outputs": []
    },
    {
      "cell_type": "code",
      "metadata": {
        "id": "5T1rpDJCW_wC",
        "outputId": "ea84cd05-1eb6-4afc-fed3-f60f126a5357"
      },
      "source": [
        "submission_df.describe()"
      ],
      "execution_count": null,
      "outputs": [
        {
          "output_type": "execute_result",
          "data": {
            "text/html": [
              "<div>\n",
              "<style scoped>\n",
              "    .dataframe tbody tr th:only-of-type {\n",
              "        vertical-align: middle;\n",
              "    }\n",
              "\n",
              "    .dataframe tbody tr th {\n",
              "        vertical-align: top;\n",
              "    }\n",
              "\n",
              "    .dataframe thead th {\n",
              "        text-align: right;\n",
              "    }\n",
              "</style>\n",
              "<table border=\"1\" class=\"dataframe\">\n",
              "  <thead>\n",
              "    <tr style=\"text-align: right;\">\n",
              "      <th></th>\n",
              "      <th>ID</th>\n",
              "      <th>item_cnt_month</th>\n",
              "    </tr>\n",
              "  </thead>\n",
              "  <tbody>\n",
              "    <tr>\n",
              "      <th>count</th>\n",
              "      <td>214200.000000</td>\n",
              "      <td>214200.000000</td>\n",
              "    </tr>\n",
              "    <tr>\n",
              "      <th>mean</th>\n",
              "      <td>107099.500000</td>\n",
              "      <td>0.122681</td>\n",
              "    </tr>\n",
              "    <tr>\n",
              "      <th>std</th>\n",
              "      <td>61834.358168</td>\n",
              "      <td>0.350130</td>\n",
              "    </tr>\n",
              "    <tr>\n",
              "      <th>min</th>\n",
              "      <td>0.000000</td>\n",
              "      <td>0.058481</td>\n",
              "    </tr>\n",
              "    <tr>\n",
              "      <th>25%</th>\n",
              "      <td>53549.750000</td>\n",
              "      <td>0.067944</td>\n",
              "    </tr>\n",
              "    <tr>\n",
              "      <th>50%</th>\n",
              "      <td>107099.500000</td>\n",
              "      <td>0.069786</td>\n",
              "    </tr>\n",
              "    <tr>\n",
              "      <th>75%</th>\n",
              "      <td>160649.250000</td>\n",
              "      <td>0.093864</td>\n",
              "    </tr>\n",
              "    <tr>\n",
              "      <th>max</th>\n",
              "      <td>214199.000000</td>\n",
              "      <td>20.000000</td>\n",
              "    </tr>\n",
              "  </tbody>\n",
              "</table>\n",
              "</div>"
            ],
            "text/plain": [
              "                  ID  item_cnt_month\n",
              "count  214200.000000   214200.000000\n",
              "mean   107099.500000        0.122681\n",
              "std     61834.358168        0.350130\n",
              "min         0.000000        0.058481\n",
              "25%     53549.750000        0.067944\n",
              "50%    107099.500000        0.069786\n",
              "75%    160649.250000        0.093864\n",
              "max    214199.000000       20.000000"
            ]
          },
          "metadata": {
            "tags": []
          },
          "execution_count": 117
        }
      ]
    },
    {
      "cell_type": "code",
      "metadata": {
        "id": "pQUxMiFzW_wD"
      },
      "source": [
        "#submission_df_int.to_csv('sample_2021-0424_int.csv',index=False)"
      ],
      "execution_count": null,
      "outputs": []
    },
    {
      "cell_type": "code",
      "metadata": {
        "id": "wmWSlDiUW_wD",
        "outputId": "817454d9-d551-4526-cd80-35a3c9c777bd"
      },
      "source": [
        "submission_df_int.head()"
      ],
      "execution_count": null,
      "outputs": [
        {
          "output_type": "execute_result",
          "data": {
            "text/html": [
              "<div>\n",
              "<style scoped>\n",
              "    .dataframe tbody tr th:only-of-type {\n",
              "        vertical-align: middle;\n",
              "    }\n",
              "\n",
              "    .dataframe tbody tr th {\n",
              "        vertical-align: top;\n",
              "    }\n",
              "\n",
              "    .dataframe thead th {\n",
              "        text-align: right;\n",
              "    }\n",
              "</style>\n",
              "<table border=\"1\" class=\"dataframe\">\n",
              "  <thead>\n",
              "    <tr style=\"text-align: right;\">\n",
              "      <th></th>\n",
              "      <th>ID</th>\n",
              "      <th>item_cnt_month</th>\n",
              "    </tr>\n",
              "  </thead>\n",
              "  <tbody>\n",
              "    <tr>\n",
              "      <th>0</th>\n",
              "      <td>0</td>\n",
              "      <td>0</td>\n",
              "    </tr>\n",
              "    <tr>\n",
              "      <th>1</th>\n",
              "      <td>1</td>\n",
              "      <td>0</td>\n",
              "    </tr>\n",
              "    <tr>\n",
              "      <th>2</th>\n",
              "      <td>2</td>\n",
              "      <td>0</td>\n",
              "    </tr>\n",
              "    <tr>\n",
              "      <th>3</th>\n",
              "      <td>3</td>\n",
              "      <td>0</td>\n",
              "    </tr>\n",
              "    <tr>\n",
              "      <th>4</th>\n",
              "      <td>4</td>\n",
              "      <td>0</td>\n",
              "    </tr>\n",
              "  </tbody>\n",
              "</table>\n",
              "</div>"
            ],
            "text/plain": [
              "   ID  item_cnt_month\n",
              "0   0               0\n",
              "1   1               0\n",
              "2   2               0\n",
              "3   3               0\n",
              "4   4               0"
            ]
          },
          "metadata": {
            "tags": []
          },
          "execution_count": 122
        }
      ]
    },
    {
      "cell_type": "code",
      "metadata": {
        "id": "U2bM6ooJW_wD",
        "outputId": "2f5572a2-df90-4968-e21c-3fbc3d9c0110"
      },
      "source": [
        "len(submission_df_int[submission_df_int['item_cnt_month']!=0])"
      ],
      "execution_count": null,
      "outputs": [
        {
          "output_type": "execute_result",
          "data": {
            "text/plain": [
              "1404"
            ]
          },
          "metadata": {
            "tags": []
          },
          "execution_count": 123
        }
      ]
    },
    {
      "cell_type": "code",
      "metadata": {
        "colab": {
          "base_uri": "https://localhost:8080/",
          "height": 170
        },
        "id": "yvcbs55TeRlf",
        "outputId": "a58ac921-4727-4132-d34c-db4494fa93cf"
      },
      "source": [
        "len(y_pred)"
      ],
      "execution_count": null,
      "outputs": [
        {
          "output_type": "execute_result",
          "data": {
            "text/plain": [
              "1263540"
            ]
          },
          "metadata": {
            "tags": []
          },
          "execution_count": 36
        }
      ]
    },
    {
      "cell_type": "code",
      "metadata": {
        "id": "1iBXvy60d8gW"
      },
      "source": [
        "xg_output = pd.DataFrame(y_pred)"
      ],
      "execution_count": null,
      "outputs": []
    },
    {
      "cell_type": "code",
      "metadata": {
        "colab": {
          "base_uri": "https://localhost:8080/",
          "height": 188
        },
        "id": "aua9qYOEgB1l",
        "outputId": "f8989656-5cc0-402b-9882-443ff02a6370"
      },
      "source": [
        "print(len(xg_output))\n",
        "print(len(X_val))"
      ],
      "execution_count": null,
      "outputs": [
        {
          "output_type": "error",
          "ename": "NameError",
          "evalue": "ignored",
          "traceback": [
            "\u001b[0;31m---------------------------------------------------------------------------\u001b[0m",
            "\u001b[0;31mNameError\u001b[0m                                 Traceback (most recent call last)",
            "\u001b[0;32m<ipython-input-148-521e5ac73209>\u001b[0m in \u001b[0;36m<module>\u001b[0;34m\u001b[0m\n\u001b[0;32m----> 1\u001b[0;31m \u001b[0mprint\u001b[0m\u001b[0;34m(\u001b[0m\u001b[0mlen\u001b[0m\u001b[0;34m(\u001b[0m\u001b[0mxg_output\u001b[0m\u001b[0;34m)\u001b[0m\u001b[0;34m)\u001b[0m\u001b[0;34m\u001b[0m\u001b[0;34m\u001b[0m\u001b[0m\n\u001b[0m\u001b[1;32m      2\u001b[0m \u001b[0mprint\u001b[0m\u001b[0;34m(\u001b[0m\u001b[0mlen\u001b[0m\u001b[0;34m(\u001b[0m\u001b[0mX_val\u001b[0m\u001b[0;34m)\u001b[0m\u001b[0;34m)\u001b[0m\u001b[0;34m\u001b[0m\u001b[0;34m\u001b[0m\u001b[0m\n",
            "\u001b[0;31mNameError\u001b[0m: name 'xg_output' is not defined"
          ]
        }
      ]
    },
    {
      "cell_type": "code",
      "metadata": {
        "colab": {
          "base_uri": "https://localhost:8080/",
          "height": 170
        },
        "id": "iGVSIrZ0eP4c",
        "outputId": "ffa85c0a-eb81-481a-ff63-a162930e15ee"
      },
      "source": [
        "xg_output['ID'] = range(0, 210589)"
      ],
      "execution_count": null,
      "outputs": [
        {
          "output_type": "error",
          "ename": "NameError",
          "evalue": "ignored",
          "traceback": [
            "\u001b[0;31m---------------------------------------------------------------------------\u001b[0m",
            "\u001b[0;31mNameError\u001b[0m                                 Traceback (most recent call last)",
            "\u001b[0;32m<ipython-input-150-8e874dd6c11f>\u001b[0m in \u001b[0;36m<module>\u001b[0;34m\u001b[0m\n\u001b[0;32m----> 1\u001b[0;31m \u001b[0mxg_output\u001b[0m\u001b[0;34m[\u001b[0m\u001b[0;34m'ID'\u001b[0m\u001b[0;34m]\u001b[0m \u001b[0;34m=\u001b[0m \u001b[0mrange\u001b[0m\u001b[0;34m(\u001b[0m\u001b[0;36m0\u001b[0m\u001b[0;34m,\u001b[0m \u001b[0;36m210589\u001b[0m\u001b[0;34m)\u001b[0m\u001b[0;34m\u001b[0m\u001b[0;34m\u001b[0m\u001b[0m\n\u001b[0m",
            "\u001b[0;31mNameError\u001b[0m: name 'xg_output' is not defined"
          ]
        }
      ]
    },
    {
      "cell_type": "code",
      "metadata": {
        "id": "K5V69swshR0q"
      },
      "source": [
        "X_val['item_id'].nunique()"
      ],
      "execution_count": null,
      "outputs": []
    },
    {
      "cell_type": "code",
      "metadata": {
        "colab": {
          "base_uri": "https://localhost:8080/",
          "height": 170
        },
        "id": "fYOjbnzUfkBv",
        "outputId": "900cd721-13c8-4594-91a6-b43069aff220"
      },
      "source": [
        "xg_output.rename({0:'item_cnt_month'}, inplace=True, axis=1)"
      ],
      "execution_count": null,
      "outputs": [
        {
          "output_type": "error",
          "ename": "NameError",
          "evalue": "ignored",
          "traceback": [
            "\u001b[0;31m---------------------------------------------------------------------------\u001b[0m",
            "\u001b[0;31mNameError\u001b[0m                                 Traceback (most recent call last)",
            "\u001b[0;32m<ipython-input-151-f4ff298a3b77>\u001b[0m in \u001b[0;36m<module>\u001b[0;34m\u001b[0m\n\u001b[0;32m----> 1\u001b[0;31m \u001b[0mxg_output\u001b[0m\u001b[0;34m.\u001b[0m\u001b[0mrename\u001b[0m\u001b[0;34m(\u001b[0m\u001b[0;34m{\u001b[0m\u001b[0;36m0\u001b[0m\u001b[0;34m:\u001b[0m\u001b[0;34m'item_cnt_month'\u001b[0m\u001b[0;34m}\u001b[0m\u001b[0;34m,\u001b[0m \u001b[0minplace\u001b[0m\u001b[0;34m=\u001b[0m\u001b[0;32mTrue\u001b[0m\u001b[0;34m,\u001b[0m \u001b[0maxis\u001b[0m\u001b[0;34m=\u001b[0m\u001b[0;36m1\u001b[0m\u001b[0;34m)\u001b[0m\u001b[0;34m\u001b[0m\u001b[0;34m\u001b[0m\u001b[0m\n\u001b[0m",
            "\u001b[0;31mNameError\u001b[0m: name 'xg_output' is not defined"
          ]
        }
      ]
    },
    {
      "cell_type": "code",
      "metadata": {
        "id": "RPtqTSzGhiSz"
      },
      "source": [
        "xg_output = xg_output.set_index('ID')"
      ],
      "execution_count": null,
      "outputs": []
    },
    {
      "cell_type": "code",
      "metadata": {
        "id": "8Reaq1-eh9Id"
      },
      "source": [
        "xg_output.to_csv('drive/MyDrive/Camp Jupyter/predict_future_sales_data/submission_1.csv')"
      ],
      "execution_count": null,
      "outputs": []
    },
    {
      "cell_type": "markdown",
      "metadata": {
        "id": "n38sKbtBMHXj"
      },
      "source": [
        "Submission file must have 214200 rows!"
      ]
    },
    {
      "cell_type": "markdown",
      "metadata": {
        "id": "LKIIfZJe4xqD"
      },
      "source": [
        "GridSearchCV and RandomSearchCV\n",
        "\n"
      ]
    },
    {
      "cell_type": "code",
      "metadata": {
        "id": "8PkAci4P7B8V"
      },
      "source": [
        "def algo_pipeline(X_train, X_val, y_train, y_val, model, param_grid, cv=10, scoring_fit='neg_mean_squared_error', do_probabilities=False):\n",
        "  rs = RandomizedSearchCV(estimator=model, param_distributions=param_grid, cv=cv, scoring=scoring_fit, verbose=2)\n",
        "  fitted_model = rs.fit(X_train,y_train)\n",
        "  if do_probabilities:\n",
        "    pred = fitted_model.predict_proba(X_test)\n",
        "  else:\n",
        "    pred = fitted_model.predict(X_test)\n",
        "\n",
        "  return fitted_model, pred"
      ],
      "execution_count": null,
      "outputs": []
    },
    {
      "cell_type": "code",
      "metadata": {
        "id": "3UHXZCrp78Xv"
      },
      "source": [
        "model = XGBRegressor()\n",
        "param_grid = {\n",
        "    'n_estimators': [400, 700, 1000],\n",
        "    'colsample_bytree': [0.7, 0.8], # Denotes the fraction of columns to be randomly samples for each tree.Typical values: 0.5-1\n",
        "    'max_depth': [15,20,25], # Used to control over-fitting as higher depth will allow model to learn relations very specific to a particular sample.Should be tuned using CV. Typical values: 3-10\n",
        "    'reg_alpha': [1.1, 1.2, 1.3],\n",
        "    'reg_lambda': [1.1, 1.2, 1.3],\n",
        "    'subsample': [0.7, 0.8, 0.9] # Denotes the fraction of observations to be randomly samples for each tree. Lower values make the algorithm more conservative and prevents overfitting but too small values might lead to under-fitting. Typical values: 0.5-1\n",
        "}\n",
        "\n",
        "model, pred = algo_pipeline(X_train, X_val, y_train, y_val, model, param_grid, cv = 10)\n",
        "\n",
        "# Root Mean Squared Error\n",
        "print(np.sqrt(-model.best_score_))\n",
        "print(model.best_params_)"
      ],
      "execution_count": null,
      "outputs": []
    },
    {
      "cell_type": "markdown",
      "metadata": {
        "id": "icppcJg8DfzH"
      },
      "source": [
        "# Feature selection"
      ]
    },
    {
      "cell_type": "markdown",
      "metadata": {
        "id": "-vitZ_85DxmV"
      },
      "source": [
        "Make features for MA: 7, 30, 60, 90 days, season, month"
      ]
    },
    {
      "cell_type": "markdown",
      "metadata": {
        "id": "GQ1Wez84D6Uj"
      },
      "source": [
        "Convert into categorical - Store, Item"
      ]
    },
    {
      "cell_type": "code",
      "metadata": {
        "colab": {
          "base_uri": "https://localhost:8080/",
          "height": 224
        },
        "id": "N7Lubs0qDlR4",
        "outputId": "1d5aa8c9-88cf-45fe-dfff-64f62c341e3a"
      },
      "source": [
        "# item names with their revenue and sold count\n",
        "item_names = salestrain_df_combined.groupby('item_name').agg({'revenue':'sum', 'item_cnt_day':'count'}).reset_index().rename(columns={'item_name': 'Item Name', 'revenue': 'Revenue', 'item_cnt_day': 'Number of Sales'})\n",
        "item_names.head()"
      ],
      "execution_count": null,
      "outputs": [
        {
          "output_type": "error",
          "ename": "NameError",
          "evalue": "ignored",
          "traceback": [
            "\u001b[0;31m---------------------------------------------------------------------------\u001b[0m",
            "\u001b[0;31mNameError\u001b[0m                                 Traceback (most recent call last)",
            "\u001b[0;32m<ipython-input-152-dfb5c5cf6d8c>\u001b[0m in \u001b[0;36m<module>\u001b[0;34m\u001b[0m\n\u001b[1;32m      1\u001b[0m \u001b[0;31m# item names with their revenue and sold count\u001b[0m\u001b[0;34m\u001b[0m\u001b[0;34m\u001b[0m\u001b[0;34m\u001b[0m\u001b[0m\n\u001b[0;32m----> 2\u001b[0;31m \u001b[0mitem_names\u001b[0m \u001b[0;34m=\u001b[0m \u001b[0msalestrain_df_combined\u001b[0m\u001b[0;34m.\u001b[0m\u001b[0mgroupby\u001b[0m\u001b[0;34m(\u001b[0m\u001b[0;34m'item_name'\u001b[0m\u001b[0;34m)\u001b[0m\u001b[0;34m.\u001b[0m\u001b[0magg\u001b[0m\u001b[0;34m(\u001b[0m\u001b[0;34m{\u001b[0m\u001b[0;34m'revenue'\u001b[0m\u001b[0;34m:\u001b[0m\u001b[0;34m'sum'\u001b[0m\u001b[0;34m,\u001b[0m \u001b[0;34m'item_cnt_day'\u001b[0m\u001b[0;34m:\u001b[0m\u001b[0;34m'count'\u001b[0m\u001b[0;34m}\u001b[0m\u001b[0;34m)\u001b[0m\u001b[0;34m.\u001b[0m\u001b[0mreset_index\u001b[0m\u001b[0;34m(\u001b[0m\u001b[0;34m)\u001b[0m\u001b[0;34m.\u001b[0m\u001b[0mrename\u001b[0m\u001b[0;34m(\u001b[0m\u001b[0mcolumns\u001b[0m\u001b[0;34m=\u001b[0m\u001b[0;34m{\u001b[0m\u001b[0;34m'item_name'\u001b[0m\u001b[0;34m:\u001b[0m \u001b[0;34m'Item Name'\u001b[0m\u001b[0;34m,\u001b[0m \u001b[0;34m'revenue'\u001b[0m\u001b[0;34m:\u001b[0m \u001b[0;34m'Revenue'\u001b[0m\u001b[0;34m,\u001b[0m \u001b[0;34m'item_cnt_day'\u001b[0m\u001b[0;34m:\u001b[0m \u001b[0;34m'Number of Sales'\u001b[0m\u001b[0;34m}\u001b[0m\u001b[0;34m)\u001b[0m\u001b[0;34m\u001b[0m\u001b[0;34m\u001b[0m\u001b[0m\n\u001b[0m\u001b[1;32m      3\u001b[0m \u001b[0mitem_names\u001b[0m\u001b[0;34m.\u001b[0m\u001b[0mhead\u001b[0m\u001b[0;34m(\u001b[0m\u001b[0;34m)\u001b[0m\u001b[0;34m\u001b[0m\u001b[0;34m\u001b[0m\u001b[0m\n",
            "\u001b[0;31mNameError\u001b[0m: name 'salestrain_df_combined' is not defined"
          ]
        }
      ]
    },
    {
      "cell_type": "code",
      "metadata": {
        "id": "y_YiIJRtEJcc"
      },
      "source": [
        "# top 10 items based on their revenue\n",
        "top10_revenue = item_names.nlargest(10, 'Revenue')\n",
        "\n",
        "fig, ax = plt.subplots(figsize=(20,10))\n",
        "sns.barplot(data=top10_revenue, hue='Number of Sales', x='Revenue', y='Item Name')\n",
        "plt.title(\"Top 10 Items based on Revenue including their Number of Sales\")\n",
        "plt.show()"
      ],
      "execution_count": null,
      "outputs": []
    },
    {
      "cell_type": "code",
      "metadata": {
        "id": "JvbCUMqTEaFb"
      },
      "source": [
        "# top 10 items based on their revenue\n",
        "top10_sales = item_names.nlargest(10, 'Number of Sales')\n",
        "\n",
        "fig, ax = plt.subplots(figsize=(20,10))\n",
        "sns.barplot(data=top10_sales, x='Number of Sales', y='Item Name', hue='Revenue')\n",
        "plt.title(\"Top 10 Items based on Sales including their Revenue\")\n",
        "plt.show()"
      ],
      "execution_count": null,
      "outputs": []
    },
    {
      "cell_type": "code",
      "metadata": {
        "id": "DFKnw4c8E0Pw"
      },
      "source": [
        "# category names and how many items in it.\n",
        "category_names = salestrain_df_combined.groupby(['item_category_name']).agg({'item_name':'count'}).reset_index().rename(columns={'item_category_name': 'Category Name','item_name': 'Number of Items'})\n",
        "category_names.head()"
      ],
      "execution_count": null,
      "outputs": []
    },
    {
      "cell_type": "code",
      "metadata": {
        "colab": {
          "base_uri": "https://localhost:8080/",
          "height": 242
        },
        "id": "vY8bs31bFH7Z",
        "outputId": "cbf30c91-cdc2-48cd-ccdc-425f88065c67"
      },
      "source": [
        "#Find total sales by item\n",
        "total_sales_by_item = salestrain_df_combined.groupby('item_id')['item_cnt_day'].sum().reset_index()\n",
        "\n",
        "#Sort descending\n",
        "total_sales_by_item.sort_values(by='item_cnt_day',ascending=False,inplace=True)\n",
        "total_sales_by_item.head()"
      ],
      "execution_count": null,
      "outputs": [
        {
          "output_type": "error",
          "ename": "NameError",
          "evalue": "ignored",
          "traceback": [
            "\u001b[0;31m---------------------------------------------------------------------------\u001b[0m",
            "\u001b[0;31mNameError\u001b[0m                                 Traceback (most recent call last)",
            "\u001b[0;32m<ipython-input-153-4fef239880cc>\u001b[0m in \u001b[0;36m<module>\u001b[0;34m\u001b[0m\n\u001b[1;32m      1\u001b[0m \u001b[0;31m#Find total sales by item\u001b[0m\u001b[0;34m\u001b[0m\u001b[0;34m\u001b[0m\u001b[0;34m\u001b[0m\u001b[0m\n\u001b[0;32m----> 2\u001b[0;31m \u001b[0mtotal_sales_by_item\u001b[0m \u001b[0;34m=\u001b[0m \u001b[0msalestrain_df_combined\u001b[0m\u001b[0;34m.\u001b[0m\u001b[0mgroupby\u001b[0m\u001b[0;34m(\u001b[0m\u001b[0;34m'item_id'\u001b[0m\u001b[0;34m)\u001b[0m\u001b[0;34m[\u001b[0m\u001b[0;34m'item_cnt_day'\u001b[0m\u001b[0;34m]\u001b[0m\u001b[0;34m.\u001b[0m\u001b[0msum\u001b[0m\u001b[0;34m(\u001b[0m\u001b[0;34m)\u001b[0m\u001b[0;34m.\u001b[0m\u001b[0mreset_index\u001b[0m\u001b[0;34m(\u001b[0m\u001b[0;34m)\u001b[0m\u001b[0;34m\u001b[0m\u001b[0;34m\u001b[0m\u001b[0m\n\u001b[0m\u001b[1;32m      3\u001b[0m \u001b[0;34m\u001b[0m\u001b[0m\n\u001b[1;32m      4\u001b[0m \u001b[0;31m#Sort descending\u001b[0m\u001b[0;34m\u001b[0m\u001b[0;34m\u001b[0m\u001b[0;34m\u001b[0m\u001b[0m\n\u001b[1;32m      5\u001b[0m \u001b[0mtotal_sales_by_item\u001b[0m\u001b[0;34m.\u001b[0m\u001b[0msort_values\u001b[0m\u001b[0;34m(\u001b[0m\u001b[0mby\u001b[0m\u001b[0;34m=\u001b[0m\u001b[0;34m'item_cnt_day'\u001b[0m\u001b[0;34m,\u001b[0m\u001b[0mascending\u001b[0m\u001b[0;34m=\u001b[0m\u001b[0;32mFalse\u001b[0m\u001b[0;34m,\u001b[0m\u001b[0minplace\u001b[0m\u001b[0;34m=\u001b[0m\u001b[0;32mTrue\u001b[0m\u001b[0;34m)\u001b[0m\u001b[0;34m\u001b[0m\u001b[0;34m\u001b[0m\u001b[0m\n",
            "\u001b[0;31mNameError\u001b[0m: name 'salestrain_df_combined' is not defined"
          ]
        }
      ]
    },
    {
      "cell_type": "code",
      "metadata": {
        "id": "Z-dOSVpdFWUt"
      },
      "source": [
        "#Merge together so we can get item_name with total sales values\n",
        "total_sales_by_item_with_name = total_sales_by_item.merge(items_df[['item_name','item_id']],on='item_id')\n",
        "total_sales_by_item_with_name.head()"
      ],
      "execution_count": null,
      "outputs": []
    },
    {
      "cell_type": "code",
      "metadata": {
        "id": "RKxEl2U-GWQt"
      },
      "source": [
        "total_sales_by_item['item_cnt_day'].iloc[:10]"
      ],
      "execution_count": null,
      "outputs": []
    },
    {
      "cell_type": "code",
      "metadata": {
        "id": "WIcGTIpVFuba"
      },
      "source": [
        "# updated scatterplot showing top 20 best selling items day to day\n",
        "fig, ax = plt.subplots(figsize=(20,10))\n",
        "plt.scatter(y = total_sales_by_item['item_cnt_day'].iloc[:20], x = total_sales_by_item['item_id'].iloc[:20])\n",
        "plt.xlabel('Item ID')\n",
        "plt.ylabel('Item count per day')\n",
        "plt.show()"
      ],
      "execution_count": null,
      "outputs": []
    },
    {
      "cell_type": "markdown",
      "metadata": {
        "id": "MchAi0wABchP"
      },
      "source": [
        "## Recommendation Engine"
      ]
    },
    {
      "cell_type": "code",
      "metadata": {
        "id": "BiT7a3a6Fwnz"
      },
      "source": [
        "# Get sales by item, by date - again, not very exciting,so I also used fillna()\n",
        "sales_totals_by_day = salestrain_df_combined.pivot_table(index='item_id',columns=['year', 'month', 'day'],values='item_cnt_day').fillna(0)"
      ],
      "execution_count": null,
      "outputs": []
    },
    {
      "cell_type": "code",
      "metadata": {
        "id": "fDvgXPlkF80W"
      },
      "source": [
        "# Clean up the multi-level index\n",
        "sales_totals_by_day.columns = sales_totals_by_day.columns.droplevel().droplevel()"
      ],
      "execution_count": null,
      "outputs": []
    },
    {
      "cell_type": "code",
      "metadata": {
        "id": "aAQ_Imf3GEaq"
      },
      "source": [
        "sales_totals_by_day.head()"
      ],
      "execution_count": null,
      "outputs": []
    },
    {
      "cell_type": "code",
      "metadata": {
        "id": "Z37oDt15GHZ-"
      },
      "source": [
        "# Shape of the resulting DF - items x days\n",
        "sales_totals_by_day.shape"
      ],
      "execution_count": null,
      "outputs": []
    },
    {
      "cell_type": "code",
      "metadata": {
        "id": "EfZEnry-GMEt"
      },
      "source": [
        "#Transpose this\n",
        "sales_totals_by_day_transposed = sales_totals_by_day.transpose()"
      ],
      "execution_count": null,
      "outputs": []
    },
    {
      "cell_type": "code",
      "metadata": {
        "id": "_YhaC0WUGRlS"
      },
      "source": [
        "sales_totals_by_day_transposed.head()"
      ],
      "execution_count": null,
      "outputs": []
    },
    {
      "cell_type": "code",
      "metadata": {
        "id": "SYr1HT2nGXOO"
      },
      "source": [
        "# Recommendation engine - find the closest matches to an item in terms of daily sales\n",
        "# Similar to finding similar movies based on movie rating\n",
        "\n",
        "#Select a popular item\n",
        "selected_item = 2808"
      ],
      "execution_count": null,
      "outputs": []
    },
    {
      "cell_type": "code",
      "metadata": {
        "id": "kp9PZsfWGd6c"
      },
      "source": [
        "#Pull out the column of that day's sales\n",
        "selected_item_sales = sales_totals_by_day_transposed[selected_item]"
      ],
      "execution_count": null,
      "outputs": []
    },
    {
      "cell_type": "code",
      "metadata": {
        "id": "PG2LdGkoGhsE"
      },
      "source": [
        "#Run correlation with every other column to find similar sales patterns\n",
        "similarItems = sales_totals_by_day_transposed.corrwith(selected_item_sales)"
      ],
      "execution_count": null,
      "outputs": []
    },
    {
      "cell_type": "code",
      "metadata": {
        "id": "yK2VKoiAGk9f"
      },
      "source": [
        "#Convert from a series to a DF\n",
        "similarItems_df = pd.DataFrame(similarItems)"
      ],
      "execution_count": null,
      "outputs": []
    },
    {
      "cell_type": "code",
      "metadata": {
        "colab": {
          "base_uri": "https://localhost:8080/",
          "height": 170
        },
        "id": "DRHV_bUZGpID",
        "outputId": "3cc4df48-507f-4851-e3e8-bdad6344162a"
      },
      "source": [
        "similarItems_df.head()"
      ],
      "execution_count": null,
      "outputs": [
        {
          "output_type": "error",
          "ename": "NameError",
          "evalue": "ignored",
          "traceback": [
            "\u001b[0;31m---------------------------------------------------------------------------\u001b[0m",
            "\u001b[0;31mNameError\u001b[0m                                 Traceback (most recent call last)",
            "\u001b[0;32m<ipython-input-154-24e04f910e75>\u001b[0m in \u001b[0;36m<module>\u001b[0;34m\u001b[0m\n\u001b[0;32m----> 1\u001b[0;31m \u001b[0msimilarItems_df\u001b[0m\u001b[0;34m.\u001b[0m\u001b[0mhead\u001b[0m\u001b[0;34m(\u001b[0m\u001b[0;34m)\u001b[0m\u001b[0;34m\u001b[0m\u001b[0;34m\u001b[0m\u001b[0m\n\u001b[0m",
            "\u001b[0;31mNameError\u001b[0m: name 'similarItems_df' is not defined"
          ]
        }
      ]
    },
    {
      "cell_type": "code",
      "metadata": {
        "id": "gnx0ETi9Gsg5"
      },
      "source": [
        "#Rename columns\n",
        "similarItems_df.columns=['similarity']"
      ],
      "execution_count": null,
      "outputs": []
    },
    {
      "cell_type": "code",
      "metadata": {
        "id": "tgPgvfqFGvcE"
      },
      "source": [
        "similarItems_df.head()"
      ],
      "execution_count": null,
      "outputs": []
    },
    {
      "cell_type": "code",
      "metadata": {
        "id": "hKcstmtOGyel"
      },
      "source": [
        "#Merge back item names\n",
        "similarItems_df=similarItems_df.merge(items_df[['item_name','item_id']],left_index=True,right_on='item_id')"
      ],
      "execution_count": null,
      "outputs": []
    },
    {
      "cell_type": "code",
      "metadata": {
        "id": "OsvnieMlG2bR"
      },
      "source": [
        "#Sort\n",
        "similarItems_df_sorted=similarItems_df.sort_values(by='similarity',ascending=False)"
      ],
      "execution_count": null,
      "outputs": []
    },
    {
      "cell_type": "code",
      "metadata": {
        "id": "8HM_oJ7AG5u-"
      },
      "source": [
        "#The top results for item 2808 seem to make some sense (games), but they also include programming books and other things-inconclusive?\n",
        "similarItems_df_sorted.head(20)"
      ],
      "execution_count": null,
      "outputs": []
    },
    {
      "cell_type": "code",
      "metadata": {
        "id": "V6lqZ6_wG9gP"
      },
      "source": [
        "#Function to return the values:\n",
        "\n",
        "def find_similar_based_on_daily_sales(selected_item,sales_totals_by_day_transposed=sales_totals_by_day_transposed):\n",
        "    selected_item_sales=sales_totals_by_day_transposed[selected_item]\n",
        "    similarItems = sales_totals_by_day_transposed.corrwith(selected_item_sales)\n",
        "    similarItems_df=pd.DataFrame(similarItems)\n",
        "    similarItems_df.columns=['similarity']\n",
        "    similarItems_df=similarItems_df.merge(items_df[['item_name','item_id']],left_index=True,right_on='item_id')\n",
        "    similarItems_df_sorted=similarItems_df.sort_values(by='similarity',ascending=False)\n",
        "    print(similarItems_df_sorted.head(20))"
      ],
      "execution_count": null,
      "outputs": []
    },
    {
      "cell_type": "code",
      "metadata": {
        "id": "u_lBhDouHBSe"
      },
      "source": [
        "find_similar_based_on_daily_sales(2808)"
      ],
      "execution_count": null,
      "outputs": []
    },
    {
      "cell_type": "code",
      "metadata": {
        "id": "UFqJ3ofRHEze"
      },
      "source": [
        "#What is similar to those corporate T-shirts?\n",
        "find_similar_based_on_daily_sales(20949)"
      ],
      "execution_count": null,
      "outputs": []
    },
    {
      "cell_type": "code",
      "metadata": {
        "id": "PnVK8ybLHMNA"
      },
      "source": [
        "#What is similar to minecraft?\n",
        "find_similar_based_on_daily_sales(4870)"
      ],
      "execution_count": null,
      "outputs": []
    },
    {
      "cell_type": "code",
      "metadata": {
        "id": "TVhvqxxgHUKd"
      },
      "source": [
        "#This item averaged 5 sales per day, max of 35, so it wasn't distorted by one overwhelmingly high corporate order\n",
        "sales_totals_by_day_transposed[20949].describe()"
      ],
      "execution_count": null,
      "outputs": []
    },
    {
      "cell_type": "markdown",
      "metadata": {
        "id": "jKVDe7cmG5wH"
      },
      "source": [
        "## Rolling window K-fold cross-validation"
      ]
    },
    {
      "cell_type": "code",
      "metadata": {
        "id": "K1PZjrYqLL3H"
      },
      "source": [
        "salestrain_df_combined.columns"
      ],
      "execution_count": null,
      "outputs": []
    },
    {
      "cell_type": "code",
      "metadata": {
        "id": "mI3YIdocOH1e"
      },
      "source": [
        "# setting X as date col and y as revenue col to be split\n",
        "X = salestrain_df_combined['date']\n",
        "y = salestrain_df_combined['revenue']"
      ],
      "execution_count": null,
      "outputs": []
    },
    {
      "cell_type": "code",
      "metadata": {
        "id": "_CiMrixpKjhM"
      },
      "source": [
        "# creating the time series split, one split for every month in the year\n",
        "tscv = TimeSeriesSplit(n_splits = 12)"
      ],
      "execution_count": null,
      "outputs": []
    },
    {
      "cell_type": "code",
      "metadata": {
        "id": "WXSW46VaL7g8"
      },
      "source": [
        "# looping through every time series split \n",
        "for train_index, test_index in tscv.split(X):\n",
        "  print(f'TRAIN SHAPE: {train_index.shape} TEST SHAPE: {test_index.shape}')\n",
        "    \n",
        "  #X_train, X_test = X[train_index], X[test_index]\n",
        "  #y_train, y_test = y[train_index], y[train_index]"
      ],
      "execution_count": null,
      "outputs": []
    },
    {
      "cell_type": "markdown",
      "metadata": {
        "id": "O6TAj7fUryKg"
      },
      "source": [
        "## Removing features with low variance"
      ]
    },
    {
      "cell_type": "code",
      "metadata": {
        "id": "U4ivXmd-2x5T"
      },
      "source": [
        "salestrain_df_combined.columns"
      ],
      "execution_count": null,
      "outputs": []
    },
    {
      "cell_type": "code",
      "metadata": {
        "id": "AsjTfbrl2UIe"
      },
      "source": [
        "train_set = salestrain_df_combined.drop(columns = ['revenue'])"
      ],
      "execution_count": null,
      "outputs": []
    },
    {
      "cell_type": "code",
      "metadata": {
        "id": "D7tGpOca4V3a"
      },
      "source": [
        "# mapping date col to ordinal for use with VarianceThreshold\n",
        "train_set['date'] = train_set['date'].map(dt.datetime.toordinal)"
      ],
      "execution_count": null,
      "outputs": []
    },
    {
      "cell_type": "code",
      "metadata": {
        "id": "cmXty02xZTXk"
      },
      "source": [
        "for col in ['item_name', 'item_category_name', 'shop_name']:\n",
        "   train_set[col] = LabelEncoder().fit_transform(train_set[col])"
      ],
      "execution_count": null,
      "outputs": []
    },
    {
      "cell_type": "code",
      "metadata": {
        "id": "tCA_TBnX28L-"
      },
      "source": [
        "test_set = salestrain_df_combined['revenue']"
      ],
      "execution_count": null,
      "outputs": []
    },
    {
      "cell_type": "code",
      "metadata": {
        "colab": {
          "base_uri": "https://localhost:8080/",
          "height": 170
        },
        "id": "dnKtJvYF3Ick",
        "outputId": "13e9146e-9b30-4b14-f38d-4ec4a8010674"
      },
      "source": [
        "train_set.dtypes"
      ],
      "execution_count": null,
      "outputs": [
        {
          "output_type": "error",
          "ename": "NameError",
          "evalue": "ignored",
          "traceback": [
            "\u001b[0;31m---------------------------------------------------------------------------\u001b[0m",
            "\u001b[0;31mNameError\u001b[0m                                 Traceback (most recent call last)",
            "\u001b[0;32m<ipython-input-155-268c2d979f6e>\u001b[0m in \u001b[0;36m<module>\u001b[0;34m\u001b[0m\n\u001b[0;32m----> 1\u001b[0;31m \u001b[0mtrain_set\u001b[0m\u001b[0;34m.\u001b[0m\u001b[0mdtypes\u001b[0m\u001b[0;34m\u001b[0m\u001b[0;34m\u001b[0m\u001b[0m\n\u001b[0m",
            "\u001b[0;31mNameError\u001b[0m: name 'train_set' is not defined"
          ]
        }
      ]
    },
    {
      "cell_type": "code",
      "metadata": {
        "id": "rcQ81fFb3IpB"
      },
      "source": [
        "test_set.shape"
      ],
      "execution_count": null,
      "outputs": []
    },
    {
      "cell_type": "code",
      "metadata": {
        "id": "4AzdTXaCsUVS"
      },
      "source": [
        "# creating the Variance Threshold and setting variance to 10 -> can mess around with this number\n",
        "threshold = VarianceThreshold(threshold = 10)"
      ],
      "execution_count": null,
      "outputs": []
    },
    {
      "cell_type": "code",
      "metadata": {
        "id": "PiSFnJqHsfKE"
      },
      "source": [
        "# fit transforming variance threshold to train set\n",
        "high_variance = threshold.fit(train_set)"
      ],
      "execution_count": null,
      "outputs": []
    },
    {
      "cell_type": "code",
      "metadata": {
        "id": "qrjzkTlTlJu8"
      },
      "source": [
        "# seeing which cols do not have high variance\n",
        "train_set.columns[high_variance.get_support()]"
      ],
      "execution_count": null,
      "outputs": []
    },
    {
      "cell_type": "code",
      "metadata": {
        "id": "IXytUrgIlIbO"
      },
      "source": [
        "# seeing which cols have low variance\n",
        "constant_cols = [column for column in train_set.columns if column not in train_set.columns[high_variance.get_support()]]\n",
        "print(f'The columns with low(ish) variance is: {constant_cols}')"
      ],
      "execution_count": null,
      "outputs": []
    },
    {
      "cell_type": "markdown",
      "metadata": {
        "id": "MgETveekchhL"
      },
      "source": [
        "All of our features have high variance, therefore they don't have to be removed."
      ]
    },
    {
      "cell_type": "markdown",
      "metadata": {
        "id": "_by84Y8SBuKb"
      },
      "source": [
        "## K-Means clustering"
      ]
    },
    {
      "cell_type": "code",
      "metadata": {
        "id": "ARJFxi8_CWGO"
      },
      "source": [
        "#salestrain_df.head()\n",
        "salestrain_df = salestrain_df.drop('date', axis=1)"
      ],
      "execution_count": null,
      "outputs": []
    },
    {
      "cell_type": "code",
      "metadata": {
        "colab": {
          "base_uri": "https://localhost:8080/",
          "height": 170
        },
        "id": "awK01tfoCYJg",
        "outputId": "73fbcf72-fcc0-49cf-abcd-359f4c215fdf"
      },
      "source": [
        "salestrain_df.head(10)"
      ],
      "execution_count": null,
      "outputs": [
        {
          "output_type": "error",
          "ename": "NameError",
          "evalue": "ignored",
          "traceback": [
            "\u001b[0;31m---------------------------------------------------------------------------\u001b[0m",
            "\u001b[0;31mNameError\u001b[0m                                 Traceback (most recent call last)",
            "\u001b[0;32m<ipython-input-156-3396ee3f6dc0>\u001b[0m in \u001b[0;36m<module>\u001b[0;34m\u001b[0m\n\u001b[0;32m----> 1\u001b[0;31m \u001b[0msalestrain_df\u001b[0m\u001b[0;34m.\u001b[0m\u001b[0mhead\u001b[0m\u001b[0;34m(\u001b[0m\u001b[0;36m10\u001b[0m\u001b[0;34m)\u001b[0m\u001b[0;34m\u001b[0m\u001b[0;34m\u001b[0m\u001b[0m\n\u001b[0m",
            "\u001b[0;31mNameError\u001b[0m: name 'salestrain_df' is not defined"
          ]
        }
      ]
    },
    {
      "cell_type": "code",
      "metadata": {
        "id": "3u3UQVVZCbAP"
      },
      "source": [
        "# Create scaler: scaler\n",
        "scaler = StandardScaler()\n",
        "\n",
        "# Create KMeans instance: kmeans\n",
        "kmeans = KMeans(n_clusters=4)\n",
        "\n",
        "# Create pipeline: pipeline\n",
        "pipeline = make_pipeline(scaler, kmeans)\n",
        "\n",
        "# Fit the pipeline to samples\n",
        "pipeline.fit(np.array(salestrain_df))\n",
        "\n",
        "# Calculate the cluster labels: labels\n",
        "labels = pipeline.predict(salestrain_df)\n",
        "\n",
        "# Create a DataFrame with labels and prices as columns: salestrain_df\n",
        "#salestrain_df = pd.DataFrame({'item_price': item_price, 'item_cnt_day': item_cnt_day})\n",
        "\n",
        "# Create crosstab: ct\n",
        "ct = pd.crosstab(salestrain_df['item_price'], salestrain_df['item_cnt_day'])\n",
        "\n",
        "# Display ct\n",
        "print(ct.sort_values('item_price'))"
      ],
      "execution_count": null,
      "outputs": []
    },
    {
      "cell_type": "code",
      "metadata": {
        "id": "zewAZXosCzvK"
      },
      "source": [
        "# plotting clusters\n",
        "plt.figure(figsize=(20, 10))\n",
        "plt.plot(ct)\n",
        "plt.show()"
      ],
      "execution_count": null,
      "outputs": []
    },
    {
      "cell_type": "code",
      "metadata": {
        "id": "icKqBH3IBzXZ"
      },
      "source": [
        "# reshaping values to workable vector\n",
        "dfx = salestrain_df.values.reshape(1, -1)\n",
        "dfy = salestrain_df.values.reshape(1, -1)"
      ],
      "execution_count": null,
      "outputs": []
    },
    {
      "cell_type": "code",
      "metadata": {
        "id": "GFHmuApiCDoK"
      },
      "source": [
        "# WHY DELETING?\n",
        "\n",
        "# delete part 1\n",
        "#dfx = np.delete(dfx, 0)\n",
        "#dfy = np.delete(dfy, 0)"
      ],
      "execution_count": null,
      "outputs": []
    },
    {
      "cell_type": "code",
      "metadata": {
        "id": "Xe_8QVcoCDvA"
      },
      "source": [
        "# WHY DELETING?\n",
        "\n",
        "# delete part 2\n",
        "#dfx = np.delete(dfx, 1)\n",
        "#dfy = np.delete(dfy, 1)"
      ],
      "execution_count": null,
      "outputs": []
    },
    {
      "cell_type": "code",
      "metadata": {
        "id": "E-h2T_fcC3h7"
      },
      "source": [
        "print(f'dfx shape: {dfx.shape}')\n",
        "print(f'dfy shape: {dfy.shape}')"
      ],
      "execution_count": null,
      "outputs": []
    },
    {
      "cell_type": "code",
      "metadata": {
        "id": "x8ht_Z5PC7lL"
      },
      "source": [
        "# setting variables train test split\n",
        "X = dfx\n",
        "y = dfy\n",
        "\n",
        "# running logistic regression baseline\n",
        "#logreg =  LogisticRegression()\n",
        "#X_train, y_train, X_test, y_test = train_test_split(X, y, test_size=0.3, random_state=42)"
      ],
      "execution_count": null,
      "outputs": []
    },
    {
      "cell_type": "code",
      "metadata": {
        "id": "bLPLECshxVxN"
      },
      "source": [
        "# checking train, test shapes\n",
        "#print(f'X_train shape: {X_train.shape}')\n",
        "#print(f'y_train shape: {y_train.shape}')\n",
        "#print(f'X_test shape: {X_test.shape}')\n",
        "#print(f'y_test shape: {y_test.shape}')"
      ],
      "execution_count": null,
      "outputs": []
    },
    {
      "cell_type": "code",
      "metadata": {
        "id": "FKNqiZsDw9np"
      },
      "source": [
        "#\n",
        "#logreg.fit(X_train, y_train)\n",
        "#y_pred =logreg.predict(X_test)\n",
        "\n",
        "#print(confusion_matrix(y_test, y_pred))\n",
        "#print(classification_report(y_test, y_pred))"
      ],
      "execution_count": null,
      "outputs": []
    },
    {
      "cell_type": "code",
      "metadata": {
        "id": "9Yaxr4kiDGys"
      },
      "source": [
        "#clf = linear_model.Lasso(alpha=0.1)\n",
        "#clf.fit(X_train, y_train)\n",
        "#clf.predict(X_test)\n",
        "#print(confusion_matrix(y_test, y_pred))\n",
        "#print(classification_report(y_test, y_pred))"
      ],
      "execution_count": null,
      "outputs": []
    },
    {
      "cell_type": "markdown",
      "metadata": {
        "id": "LErutUyxRu51"
      },
      "source": [
        "## Categorical features\n",
        "Created different datasets with OHE encoding, mean/target encoding, frequency encoding and hash encoding\n",
        "\n",
        "#### OHE\n",
        "OHE does not work, memory issue due to the fact that there are 22150 unique item names."
      ]
    },
    {
      "cell_type": "code",
      "metadata": {
        "colab": {
          "base_uri": "https://localhost:8080/",
          "height": 242
        },
        "id": "3e7vSuc3R09Q",
        "outputId": "2fd19d00-d6b0-4cd2-d855-1fb23adf4988"
      },
      "source": [
        "# item_name unique 22150 values --> colossal number of columns, not the best option since shape will be (2935846, 21787)\n",
        "cols_to_encode = ['item_category_name', 'shop_name']\n",
        "salestrain_df_ohe = salestrain_df_combined.copy()\n",
        "\n",
        "# change float64 to float16 and int64 to int16 to reduce memory usage\n",
        "salestrain_df_ohe['item_price'] = salestrain_df_ohe['item_price'].astype(np.float16)\n",
        "cols_int = salestrain_df_ohe.select_dtypes('int64').columns\n",
        "for col in cols_int:\n",
        "    salestrain_df_ohe[col] = salestrain_df_ohe[col].astype(np.int16)\n",
        "\n",
        "# OHE\n",
        "salestrain_df_ohe = pd.get_dummies(salestrain_df_ohe, prefix=['item_category_name', 'shop_name'], columns=['item_category_name', 'shop_name'], dtype=np.int16)\n",
        "\n",
        "# renaming\n",
        "item_cat_iter = 0\n",
        "shop_iter = 0\n",
        "for col in salestrain_df_ohe.columns:\n",
        "    if col.startswith('item_category_name_'):\n",
        "        salestrain_df_ohe.rename(columns={col: \"item_category_name_\" + str(item_cat_iter)}, inplace=True)\n",
        "        item_cat_iter += 1\n",
        "    if col.startswith('shop_name_'):\n",
        "        salestrain_df_ohe.rename(columns={col: \"shop_name_\" + str(shop_iter)}, inplace=True)\n",
        "        shop_iter += 1\n",
        "\n",
        "# sounds good doesn't work: too many different categories for item_name\n",
        "# cols_to_encode = ['item_name', 'item_category_name', 'shop_name']\n",
        "# for col in cols_to_encode:\n",
        "#     salestrain_df_ohe = pd.get_dummies(salestrain_df_ohe, prefix=[col], columns=[col])\n",
        "#     ohe_enc = OneHotEncoder()\n",
        "#     ohe_enc = ohe_enc.fit_transform(salestrain_df_ohe[[col]]).astype(np.int16).toarray()\n",
        "#     encoded_cols = pd.DataFrame(ohe_enc)\n",
        "#     salestrain_df_ohe = pd.concat([salestrain_df_ohe, encoded_cols], axis = 1)\n",
        "    \n",
        "salestrain_df_ohe.head()"
      ],
      "execution_count": null,
      "outputs": [
        {
          "output_type": "error",
          "ename": "NameError",
          "evalue": "ignored",
          "traceback": [
            "\u001b[0;31m---------------------------------------------------------------------------\u001b[0m",
            "\u001b[0;31mNameError\u001b[0m                                 Traceback (most recent call last)",
            "\u001b[0;32m<ipython-input-159-cd3440a7adc9>\u001b[0m in \u001b[0;36m<module>\u001b[0;34m\u001b[0m\n\u001b[1;32m      1\u001b[0m \u001b[0;31m# item_name unique 22150 values --> colossal number of columns, not the best option since shape will be (2935846, 21787)\u001b[0m\u001b[0;34m\u001b[0m\u001b[0;34m\u001b[0m\u001b[0;34m\u001b[0m\u001b[0m\n\u001b[1;32m      2\u001b[0m \u001b[0mcols_to_encode\u001b[0m \u001b[0;34m=\u001b[0m \u001b[0;34m[\u001b[0m\u001b[0;34m'item_category_name'\u001b[0m\u001b[0;34m,\u001b[0m \u001b[0;34m'shop_name'\u001b[0m\u001b[0;34m]\u001b[0m\u001b[0;34m\u001b[0m\u001b[0;34m\u001b[0m\u001b[0m\n\u001b[0;32m----> 3\u001b[0;31m \u001b[0msalestrain_df_ohe\u001b[0m \u001b[0;34m=\u001b[0m \u001b[0msalestrain_df_combined\u001b[0m\u001b[0;34m.\u001b[0m\u001b[0mcopy\u001b[0m\u001b[0;34m(\u001b[0m\u001b[0;34m)\u001b[0m\u001b[0;34m\u001b[0m\u001b[0;34m\u001b[0m\u001b[0m\n\u001b[0m\u001b[1;32m      4\u001b[0m \u001b[0;34m\u001b[0m\u001b[0m\n\u001b[1;32m      5\u001b[0m \u001b[0;31m# change float64 to float16 and int64 to int16 to reduce memory usage\u001b[0m\u001b[0;34m\u001b[0m\u001b[0;34m\u001b[0m\u001b[0;34m\u001b[0m\u001b[0m\n",
            "\u001b[0;31mNameError\u001b[0m: name 'salestrain_df_combined' is not defined"
          ]
        }
      ]
    },
    {
      "cell_type": "markdown",
      "metadata": {
        "id": "mrFvvGgZZsYs"
      },
      "source": [
        "#### Frequency encoder\n",
        "Set categorical features to frequency they occur in the dataset"
      ]
    },
    {
      "cell_type": "code",
      "metadata": {
        "id": "mrxlA_oNZsYs"
      },
      "source": [
        "cols_to_encode = ['item_name', 'item_category_name', 'shop_name']\n",
        "salestrain_df_freq = salestrain_df_combined.copy()\n",
        "\n",
        "# grouping by frequency\n",
        "for col in cols_to_encode:\n",
        "    freq = salestrain_df_freq.groupby(col).size()/len(salestrain_df_freq)\n",
        "    salestrain_df_freq.loc[:, \"{}_freq_encode\".format(col)] = salestrain_df_freq[col].map(freq)\n",
        "    \n",
        "salestrain_df_freq.drop(columns=cols_to_encode, inplace=True)\n",
        "salestrain_df_freq.head()"
      ],
      "execution_count": null,
      "outputs": []
    },
    {
      "cell_type": "markdown",
      "metadata": {
        "id": "lT_jhIh7ZsYs"
      },
      "source": [
        "#### Hashing\n",
        "Use hash functions to translate categorical feature to numeric features\n",
        "\n"
      ]
    },
    {
      "cell_type": "markdown",
      "metadata": {
        "id": "Mx9w6TkqdPd8"
      },
      "source": [
        "The values itself don't really say anything tbh, but the combination of the columns are mapped to one value within the original categorical feature\n",
        "So for example, if you would have a categorical feature, the hash function maps this string to an X number of integers"
      ]
    },
    {
      "cell_type": "code",
      "metadata": {
        "id": "iV8yr2fAZsYs"
      },
      "source": [
        "# currently, number of bits used to represent features is a bit random (2^x where the result is bigger than number of unique values)\n",
        "# this takes quite a bit of time to run\n",
        "cols_to_encode = ['item_name', 'item_category_name', 'shop_name']\n",
        "nr_bits = [6, 7, 15]\n",
        "salestrain_df_hash = salestrain_df_combined.copy()\n",
        "\n",
        "for bits, col in zip(nr_bits, cols_to_encode):\n",
        "    print(bits, col)\n",
        "    h = FeatureHasher(n_features=bits, input_type='string') \n",
        "    hashed_col = h.fit_transform(salestrain_df_hash[col].astype(str)).toarray()\n",
        "    salestrain_df_hash = pd.concat([salestrain_df_hash, pd.DataFrame(hashed_col)], axis = 1)\n",
        "    for i in range(bits):\n",
        "        salestrain_df_hash.rename(columns={i: col + \"_\" + str(i)}, inplace=True)\n",
        "    print(col + \" done\")\n",
        "        \n",
        "salestrain_df_hash.head()"
      ],
      "execution_count": null,
      "outputs": []
    },
    {
      "cell_type": "markdown",
      "metadata": {
        "id": "vCFgEZtmZsYt"
      },
      "source": [
        "#### Target/mean encoding\n",
        "Seems to work very well in lots of applications, but can cause overfitting. Maybe use (stratified) KFold?"
      ]
    },
    {
      "cell_type": "code",
      "metadata": {
        "id": "w728H2DkZsYt"
      },
      "source": [
        "cols_to_encode = ['item_name', 'item_category_name', 'shop_name']\n",
        "salestrain_df_mean = salestrain_df_combined.copy()\n",
        "\n",
        "# simple method, probably should do this with item_cnt_month though, should create that feature\n",
        "for col in cols_to_encode:\n",
        "    mean_enc = salestrain_df_mean.groupby(col)['item_cnt_day'].mean()\n",
        "    salestrain_df_mean.loc[:, str(col + \"_mean_encoded\")] = salestrain_df_mean[col].map(mean_enc)\n",
        "    \n",
        "salestrain_df_mean.head()"
      ],
      "execution_count": null,
      "outputs": []
    },
    {
      "cell_type": "markdown",
      "metadata": {
        "id": "kQrjlcP4o3xl"
      },
      "source": [
        "# DBSCAN (and other clustering)\n"
      ]
    },
    {
      "cell_type": "code",
      "metadata": {
        "id": "3Gn9cSWMr2sG"
      },
      "source": [
        "from sklearn.cluster import DBSCAN"
      ],
      "execution_count": null,
      "outputs": []
    },
    {
      "cell_type": "code",
      "metadata": {
        "id": "JHA1jYSYm7Il"
      },
      "source": [
        "# creating DBSCAN data copy\n",
        "salestrain_DBSCAN = salestrain_df_combined.copy()\n",
        "X = salestrain_DBSCAN['date']\n",
        "y = salestrain_DBSCAN['revenue']\n",
        "\n",
        "\n",
        "salestrain_DBSCAN = salestrain_DBSCAN.drop(columns=['date'])"
      ],
      "execution_count": null,
      "outputs": []
    },
    {
      "cell_type": "code",
      "metadata": {
        "id": "VioAuD1fpiTM"
      },
      "source": [
        "# showing sales pre clustering\n",
        "plt.figure(figsize=(20,10))\n",
        "plt.scatter(X, y, s=15, color='grey')\n",
        "plt.show()"
      ],
      "execution_count": null,
      "outputs": []
    },
    {
      "cell_type": "markdown",
      "metadata": {
        "id": "_OSj1nwo5-R3"
      },
      "source": [
        "TRY CLUSTERING PART 2 WITH MITCHELLS CATEGORICAL HASHING "
      ]
    },
    {
      "cell_type": "code",
      "metadata": {
        "id": "UIvSVrXd59Wj"
      },
      "source": [
        "#salestrain_df_hash.head()\n",
        "salestrin_DBSCAN = salestrain_df_hash.drop(columns=['date', 'item_name', 'item_category_name','shop_name'], axis=1)\n",
        "salestrain_DBSCAN.head()"
      ],
      "execution_count": null,
      "outputs": []
    },
    {
      "cell_type": "code",
      "metadata": {
        "id": "su-MVYGDqoVw"
      },
      "source": [
        "from sklearn.cluster import KMeans"
      ],
      "execution_count": null,
      "outputs": []
    },
    {
      "cell_type": "code",
      "metadata": {
        "id": "rKwhIlMUqt02"
      },
      "source": [
        "scaler = StandardScaler()\n",
        "data_scaled = scaler.fit_transform(salestrain_DBSCAN)"
      ],
      "execution_count": null,
      "outputs": []
    },
    {
      "cell_type": "code",
      "metadata": {
        "id": "UaLfPZmz5D3U"
      },
      "source": [
        "k_means = KMeans(n_clusters=4, random_state=42)\n",
        "k_means.fit(salestrain_DBSCAN[0,1])"
      ],
      "execution_count": null,
      "outputs": []
    },
    {
      "cell_type": "markdown",
      "metadata": {
        "id": "BZDYUjm-npLP"
      },
      "source": [
        "need to determine 2 things with DBSCAN, epsilon and minPoints"
      ]
    },
    {
      "cell_type": "markdown",
      "metadata": {
        "id": "ixFAEZbp2stU"
      },
      "source": [
        "RandomSearchCV\n"
      ]
    },
    {
      "cell_type": "code",
      "metadata": {
        "id": "HoDDMxyL38ZV"
      },
      "source": [
        ""
      ],
      "execution_count": null,
      "outputs": []
    },
    {
      "cell_type": "markdown",
      "metadata": {
        "id": "DfTzu7o8S7t1"
      },
      "source": [
        "\n",
        "# good resources"
      ]
    },
    {
      "cell_type": "markdown",
      "metadata": {
        "id": "i-2TE4txy9Th"
      },
      "source": [
        "dbscan!"
      ]
    },
    {
      "cell_type": "markdown",
      "metadata": {
        "id": "1Q1LK9UwxDeQ"
      },
      "source": [
        "https://www.google.com/search?q=dbscan+python&sxsrf=ALeKk01MOpqS6o2Y-gJotJVswEPIS6thPA%3A1616814191706&ei=b6BeYL68KsKHggfYxrfgDw&oq=dbscan&gs_lcp=Cgdnd3Mtd2l6EAMYAjIECCMQJzIECAAQQzIECAAQQzIECAAQQzIECAAQQzIECAAQQzIHCAAQsQMQQzICCAAyBAgAEEMyAggAOgoILhDHARCvARBDOgoILhDHARCjAhBDOggILhCxAxCDAToNCC4QsQMQxwEQowIQQzoKCAAQsQMQgwEQQ1DFalilcmDHiwFoAHACeACAAdYLiAHZFZIBDTAuNC4xLjUtMS4wLjGYAQCgAQGqAQdnd3Mtd2l6wAEB&sclient=gws-wiz"
      ]
    },
    {
      "cell_type": "markdown",
      "metadata": {
        "id": "MsLGfrT8w5V5"
      },
      "source": [
        "https://www.kdnuggets.com/2020/04/dbscan-clustering-algorithm-machine-learning.html"
      ]
    },
    {
      "cell_type": "markdown",
      "metadata": {
        "id": "FNiS2BEHwyNx"
      },
      "source": [
        "https://www.geeksforgeeks.org/implementing-dbscan-algorithm-using-sklearn/"
      ]
    },
    {
      "cell_type": "markdown",
      "metadata": {
        "id": "gLsvtE2dwoKw"
      },
      "source": [
        "https://www.analyticsvidhya.com/blog/2020/09/how-dbscan-clustering-works/"
      ]
    },
    {
      "cell_type": "markdown",
      "metadata": {
        "id": "kV31OltAy2lu"
      },
      "source": [
        "aws colab integration"
      ]
    },
    {
      "cell_type": "markdown",
      "metadata": {
        "id": "i7kYgOBdy716"
      },
      "source": [
        "https://medium.com/@lily_su/accessing-s3-bucket-from-google-colab-16f7ee6c5b51"
      ]
    },
    {
      "cell_type": "markdown",
      "metadata": {
        "id": "kwbyMCwCzIRu"
      },
      "source": [
        "https://python.plainenglish.io/how-to-load-data-from-aws-s3-into-google-colab-7e76fbf534d2"
      ]
    },
    {
      "cell_type": "markdown",
      "metadata": {
        "id": "d_rmetK6znQ2"
      },
      "source": [
        "https://stackoverflow.com/questions/50978361/how-to-load-s3-open-dataset-in-google-colaboratory"
      ]
    },
    {
      "cell_type": "code",
      "metadata": {
        "id": "MXN8lIIPL4x3"
      },
      "source": [
        ""
      ],
      "execution_count": null,
      "outputs": []
    },
    {
      "cell_type": "code",
      "metadata": {
        "id": "jd_9jmSnqBXu"
      },
      "source": [
        ""
      ],
      "execution_count": null,
      "outputs": []
    }
  ]
}